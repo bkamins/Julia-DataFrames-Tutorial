{
 "cells": [
  {
   "cell_type": "markdown",
   "metadata": {},
   "source": [
    "# Introduction to DataFrames\n",
    "**[Bogumił Kamiński](http://bogumilkaminski.pl/about/), October 4, 2018**"
   ]
  },
  {
   "cell_type": "code",
   "execution_count": 1,
   "metadata": {},
   "outputs": [],
   "source": [
    "using DataFrames # load package"
   ]
  },
  {
   "cell_type": "markdown",
   "metadata": {},
   "source": [
    "## Split-apply-combine"
   ]
  },
  {
   "cell_type": "code",
   "execution_count": 2,
   "metadata": {},
   "outputs": [
    {
     "data": {
      "text/html": [
       "<table class=\"data-frame\"><thead><tr><th></th><th>id</th><th>id2</th><th>v</th></tr><tr><th></th><th>Int64</th><th>Int64</th><th>Float64</th></tr></thead><tbody><tr><th>1</th><td>1</td><td>1</td><td>0.53089</td></tr><tr><th>2</th><td>2</td><td>2</td><td>0.150243</td></tr><tr><th>3</th><td>3</td><td>1</td><td>0.469475</td></tr><tr><th>4</th><td>4</td><td>2</td><td>0.866093</td></tr><tr><th>5</th><td>1</td><td>1</td><td>0.226073</td></tr><tr><th>6</th><td>2</td><td>2</td><td>0.161706</td></tr><tr><th>7</th><td>3</td><td>1</td><td>0.496034</td></tr><tr><th>8</th><td>4</td><td>2</td><td>0.201722</td></tr></tbody></table>"
      ],
      "text/plain": [
       "8×3 DataFrame\n",
       "│ Row │ id    │ id2   │ v        │\n",
       "│     │ \u001b[90mInt64\u001b[39m │ \u001b[90mInt64\u001b[39m │ \u001b[90mFloat64\u001b[39m  │\n",
       "├─────┼───────┼───────┼──────────┤\n",
       "│ 1   │ 1     │ 1     │ 0.53089  │\n",
       "│ 2   │ 2     │ 2     │ 0.150243 │\n",
       "│ 3   │ 3     │ 1     │ 0.469475 │\n",
       "│ 4   │ 4     │ 2     │ 0.866093 │\n",
       "│ 5   │ 1     │ 1     │ 0.226073 │\n",
       "│ 6   │ 2     │ 2     │ 0.161706 │\n",
       "│ 7   │ 3     │ 1     │ 0.496034 │\n",
       "│ 8   │ 4     │ 2     │ 0.201722 │"
      ]
     },
     "execution_count": 2,
     "metadata": {},
     "output_type": "execute_result"
    }
   ],
   "source": [
    "x = DataFrame(id=[1,2,3,4,1,2,3,4], id2=[1,2,1,2,1,2,1,2], v=rand(8))"
   ]
  },
  {
   "cell_type": "code",
   "execution_count": 3,
   "metadata": {
    "scrolled": true
   },
   "outputs": [
    {
     "data": {
      "text/plain": [
       "GroupedDataFrame with 4 groups based on key: :id\n",
       "First Group: 2 rows\n",
       "│ Row │ id    │ id2   │ v        │\n",
       "│     │ \u001b[90mInt64\u001b[39m │ \u001b[90mInt64\u001b[39m │ \u001b[90mFloat64\u001b[39m  │\n",
       "├─────┼───────┼───────┼──────────┤\n",
       "│ 1   │ 1     │ 1     │ 0.53089  │\n",
       "│ 2   │ 1     │ 1     │ 0.226073 │\n",
       "⋮\n",
       "Last Group: 2 rows\n",
       "│ Row │ id    │ id2   │ v        │\n",
       "│     │ \u001b[90mInt64\u001b[39m │ \u001b[90mInt64\u001b[39m │ \u001b[90mFloat64\u001b[39m  │\n",
       "├─────┼───────┼───────┼──────────┤\n",
       "│ 1   │ 4     │ 2     │ 0.866093 │\n",
       "│ 2   │ 4     │ 2     │ 0.201722 │"
      ]
     },
     "execution_count": 3,
     "metadata": {},
     "output_type": "execute_result"
    }
   ],
   "source": [
    "gx1 = groupby(x, :id)"
   ]
  },
  {
   "cell_type": "code",
   "execution_count": 4,
   "metadata": {},
   "outputs": [
    {
     "data": {
      "text/plain": [
       "GroupedDataFrame with 4 groups based on keys: :id, :id2\n",
       "First Group: 2 rows\n",
       "│ Row │ id    │ id2   │ v        │\n",
       "│     │ \u001b[90mInt64\u001b[39m │ \u001b[90mInt64\u001b[39m │ \u001b[90mFloat64\u001b[39m  │\n",
       "├─────┼───────┼───────┼──────────┤\n",
       "│ 1   │ 1     │ 1     │ 0.53089  │\n",
       "│ 2   │ 1     │ 1     │ 0.226073 │\n",
       "⋮\n",
       "Last Group: 2 rows\n",
       "│ Row │ id    │ id2   │ v        │\n",
       "│     │ \u001b[90mInt64\u001b[39m │ \u001b[90mInt64\u001b[39m │ \u001b[90mFloat64\u001b[39m  │\n",
       "├─────┼───────┼───────┼──────────┤\n",
       "│ 1   │ 4     │ 2     │ 0.866093 │\n",
       "│ 2   │ 4     │ 2     │ 0.201722 │"
      ]
     },
     "execution_count": 4,
     "metadata": {},
     "output_type": "execute_result"
    }
   ],
   "source": [
    "gx2 = groupby(x, [:id, :id2])"
   ]
  },
  {
   "cell_type": "code",
   "execution_count": 5,
   "metadata": {},
   "outputs": [
    {
     "data": {
      "text/html": [
       "<table class=\"data-frame\"><thead><tr><th></th><th>id</th><th>id2</th><th>v</th></tr><tr><th></th><th>Int64</th><th>Int64</th><th>Float64</th></tr></thead><tbody><tr><th>1</th><td>1</td><td>1</td><td>0.53089</td></tr><tr><th>2</th><td>1</td><td>1</td><td>0.226073</td></tr><tr><th>3</th><td>2</td><td>2</td><td>0.150243</td></tr><tr><th>4</th><td>2</td><td>2</td><td>0.161706</td></tr><tr><th>5</th><td>3</td><td>1</td><td>0.469475</td></tr><tr><th>6</th><td>3</td><td>1</td><td>0.496034</td></tr><tr><th>7</th><td>4</td><td>2</td><td>0.866093</td></tr><tr><th>8</th><td>4</td><td>2</td><td>0.201722</td></tr></tbody></table>"
      ],
      "text/plain": [
       "8×3 DataFrame\n",
       "│ Row │ id    │ id2   │ v        │\n",
       "│     │ \u001b[90mInt64\u001b[39m │ \u001b[90mInt64\u001b[39m │ \u001b[90mFloat64\u001b[39m  │\n",
       "├─────┼───────┼───────┼──────────┤\n",
       "│ 1   │ 1     │ 1     │ 0.53089  │\n",
       "│ 2   │ 1     │ 1     │ 0.226073 │\n",
       "│ 3   │ 2     │ 2     │ 0.150243 │\n",
       "│ 4   │ 2     │ 2     │ 0.161706 │\n",
       "│ 5   │ 3     │ 1     │ 0.469475 │\n",
       "│ 6   │ 3     │ 1     │ 0.496034 │\n",
       "│ 7   │ 4     │ 2     │ 0.866093 │\n",
       "│ 8   │ 4     │ 2     │ 0.201722 │"
      ]
     },
     "execution_count": 5,
     "metadata": {},
     "output_type": "execute_result"
    }
   ],
   "source": [
    "vcat(gx2...) # back to the original DataFrame"
   ]
  },
  {
   "cell_type": "code",
   "execution_count": 6,
   "metadata": {},
   "outputs": [
    {
     "data": {
      "text/html": [
       "<table class=\"data-frame\"><thead><tr><th></th><th>id</th><th>x</th></tr><tr><th></th><th>Int64⍰</th><th>Int64</th></tr></thead><tbody><tr><th>1</th><td>missing</td><td>1</td></tr><tr><th>2</th><td>5</td><td>2</td></tr><tr><th>3</th><td>1</td><td>3</td></tr><tr><th>4</th><td>3</td><td>4</td></tr><tr><th>5</th><td>missing</td><td>5</td></tr></tbody></table>"
      ],
      "text/plain": [
       "5×2 DataFrame\n",
       "│ Row │ id      │ x     │\n",
       "│     │ \u001b[90mInt64⍰\u001b[39m  │ \u001b[90mInt64\u001b[39m │\n",
       "├─────┼─────────┼───────┤\n",
       "│ 1   │ \u001b[90mmissing\u001b[39m │ 1     │\n",
       "│ 2   │ 5       │ 2     │\n",
       "│ 3   │ 1       │ 3     │\n",
       "│ 4   │ 3       │ 4     │\n",
       "│ 5   │ \u001b[90mmissing\u001b[39m │ 5     │"
      ]
     },
     "execution_count": 6,
     "metadata": {},
     "output_type": "execute_result"
    }
   ],
   "source": [
    "x = DataFrame(id = [missing, 5, 1, 3, missing], x = 1:5)"
   ]
  },
  {
   "cell_type": "code",
   "execution_count": 7,
   "metadata": {},
   "outputs": [
    {
     "data": {
      "text/plain": [
       "GroupedDataFrame with 4 groups based on key: :id\n",
       "First Group: 2 rows\n",
       "│ Row │ id      │ x     │\n",
       "│     │ \u001b[90mInt64⍰\u001b[39m  │ \u001b[90mInt64\u001b[39m │\n",
       "├─────┼─────────┼───────┤\n",
       "│ 1   │ \u001b[90mmissing\u001b[39m │ 1     │\n",
       "│ 2   │ \u001b[90mmissing\u001b[39m │ 5     │\n",
       "⋮\n",
       "Last Group: 2 rows\n",
       "│ Row │ id     │ x     │\n",
       "│     │ \u001b[90mInt64⍰\u001b[39m │ \u001b[90mInt64\u001b[39m │\n",
       "├─────┼────────┼───────┤\n",
       "│ 1   │ 3      │ 4     │"
      ]
     },
     "execution_count": 7,
     "metadata": {},
     "output_type": "execute_result"
    }
   ],
   "source": [
    "groupby(x, :id) # by default groups include mising values and are not sorted"
   ]
  },
  {
   "cell_type": "code",
   "execution_count": 8,
   "metadata": {},
   "outputs": [
    {
     "data": {
      "text/plain": [
       "GroupedDataFrame with 3 groups based on key: :id\n",
       "First Group: 1 row\n",
       "│ Row │ id     │ x     │\n",
       "│     │ \u001b[90mInt64⍰\u001b[39m │ \u001b[90mInt64\u001b[39m │\n",
       "├─────┼────────┼───────┤\n",
       "│ 1   │ 1      │ 3     │\n",
       "⋮\n",
       "Last Group: 1 row\n",
       "│ Row │ id     │ x     │\n",
       "│     │ \u001b[90mInt64⍰\u001b[39m │ \u001b[90mInt64\u001b[39m │\n",
       "├─────┼────────┼───────┤\n",
       "│ 1   │ 5      │ 2     │"
      ]
     },
     "execution_count": 8,
     "metadata": {},
     "output_type": "execute_result"
    }
   ],
   "source": [
    "groupby(x, :id, sort=true, skipmissing=true) # but we can change it :)"
   ]
  },
  {
   "cell_type": "code",
   "execution_count": 9,
   "metadata": {},
   "outputs": [
    {
     "data": {
      "text/html": [
       "<table class=\"data-frame\"><thead><tr><th></th><th>id</th><th>x1</th></tr><tr><th></th><th>Char</th><th>Float64</th></tr></thead><tbody><tr><th>1</th><td>'a'</td><td>0.546522</td></tr><tr><th>2</th><td>'b'</td><td>0.443424</td></tr><tr><th>3</th><td>'c'</td><td>0.498177</td></tr><tr><th>4</th><td>'d'</td><td>0.590717</td></tr></tbody></table>"
      ],
      "text/plain": [
       "4×2 DataFrame\n",
       "│ Row │ id   │ x1       │\n",
       "│     │ \u001b[90mChar\u001b[39m │ \u001b[90mFloat64\u001b[39m  │\n",
       "├─────┼──────┼──────────┤\n",
       "│ 1   │ 'a'  │ 0.546522 │\n",
       "│ 2   │ 'b'  │ 0.443424 │\n",
       "│ 3   │ 'c'  │ 0.498177 │\n",
       "│ 4   │ 'd'  │ 0.590717 │"
      ]
     },
     "execution_count": 9,
     "metadata": {},
     "output_type": "execute_result"
    }
   ],
   "source": [
    "using Statistics\n",
    "x = DataFrame(id=rand('a':'d', 100), v=rand(100));\n",
    "by(x, :id, y->mean(y.v)) # apply a function to each group of a data frame"
   ]
  },
  {
   "cell_type": "code",
   "execution_count": 10,
   "metadata": {},
   "outputs": [
    {
     "data": {
      "text/html": [
       "<table class=\"data-frame\"><thead><tr><th></th><th>id</th><th>x1</th></tr><tr><th></th><th>Char</th><th>Float64</th></tr></thead><tbody><tr><th>1</th><td>'a'</td><td>0.546522</td></tr><tr><th>2</th><td>'b'</td><td>0.443424</td></tr><tr><th>3</th><td>'c'</td><td>0.498177</td></tr><tr><th>4</th><td>'d'</td><td>0.590717</td></tr></tbody></table>"
      ],
      "text/plain": [
       "4×2 DataFrame\n",
       "│ Row │ id   │ x1       │\n",
       "│     │ \u001b[90mChar\u001b[39m │ \u001b[90mFloat64\u001b[39m  │\n",
       "├─────┼──────┼──────────┤\n",
       "│ 1   │ 'a'  │ 0.546522 │\n",
       "│ 2   │ 'b'  │ 0.443424 │\n",
       "│ 3   │ 'c'  │ 0.498177 │\n",
       "│ 4   │ 'd'  │ 0.590717 │"
      ]
     },
     "execution_count": 10,
     "metadata": {},
     "output_type": "execute_result"
    }
   ],
   "source": [
    "by(x, :id, y->mean(y.v), sort=true) # we can sort the output"
   ]
  },
  {
   "cell_type": "code",
   "execution_count": 11,
   "metadata": {},
   "outputs": [
    {
     "data": {
      "text/html": [
       "<table class=\"data-frame\"><thead><tr><th></th><th>id</th><th>res</th></tr><tr><th></th><th>Char</th><th>Float64</th></tr></thead><tbody><tr><th>1</th><td>'a'</td><td>0.546522</td></tr><tr><th>2</th><td>'b'</td><td>0.443424</td></tr><tr><th>3</th><td>'c'</td><td>0.498177</td></tr><tr><th>4</th><td>'d'</td><td>0.590717</td></tr></tbody></table>"
      ],
      "text/plain": [
       "4×2 DataFrame\n",
       "│ Row │ id   │ res      │\n",
       "│     │ \u001b[90mChar\u001b[39m │ \u001b[90mFloat64\u001b[39m  │\n",
       "├─────┼──────┼──────────┤\n",
       "│ 1   │ 'a'  │ 0.546522 │\n",
       "│ 2   │ 'b'  │ 0.443424 │\n",
       "│ 3   │ 'c'  │ 0.498177 │\n",
       "│ 4   │ 'd'  │ 0.590717 │"
      ]
     },
     "execution_count": 11,
     "metadata": {},
     "output_type": "execute_result"
    }
   ],
   "source": [
    "by(x, :id, y->DataFrame(res=mean(y.v))) # this way we can set a name for a column - DataFramesMeta @by is better"
   ]
  },
  {
   "cell_type": "code",
   "execution_count": 12,
   "metadata": {},
   "outputs": [
    {
     "data": {
      "text/html": [
       "<table class=\"data-frame\"><thead><tr><th></th><th>id</th><th>x1_sum</th><th>x2_sum</th></tr><tr><th></th><th>Char</th><th>Float64</th><th>Float64</th></tr></thead><tbody><tr><th>1</th><td>'b'</td><td>18.4343</td><td>17.8376</td></tr><tr><th>2</th><td>'d'</td><td>10.0399</td><td>12.7715</td></tr><tr><th>3</th><td>'c'</td><td>14.6458</td><td>13.6437</td></tr><tr><th>4</th><td>'a'</td><td>9.27069</td><td>10.4313</td></tr></tbody></table>"
      ],
      "text/plain": [
       "4×3 DataFrame\n",
       "│ Row │ id   │ x1_sum  │ x2_sum  │\n",
       "│     │ \u001b[90mChar\u001b[39m │ \u001b[90mFloat64\u001b[39m │ \u001b[90mFloat64\u001b[39m │\n",
       "├─────┼──────┼─────────┼─────────┤\n",
       "│ 1   │ 'b'  │ 18.4343 │ 17.8376 │\n",
       "│ 2   │ 'd'  │ 10.0399 │ 12.7715 │\n",
       "│ 3   │ 'c'  │ 14.6458 │ 13.6437 │\n",
       "│ 4   │ 'a'  │ 9.27069 │ 10.4313 │"
      ]
     },
     "execution_count": 12,
     "metadata": {},
     "output_type": "execute_result"
    }
   ],
   "source": [
    "x = DataFrame(id=rand('a':'d', 100), x1=rand(100), x2=rand(100))\n",
    "aggregate(x, :id, sum) # apply a function over all columns of a data frame in groups given by id"
   ]
  },
  {
   "cell_type": "code",
   "execution_count": 13,
   "metadata": {},
   "outputs": [
    {
     "data": {
      "text/html": [
       "<table class=\"data-frame\"><thead><tr><th></th><th>id</th><th>x1_sum</th><th>x2_sum</th></tr><tr><th></th><th>Char</th><th>Float64</th><th>Float64</th></tr></thead><tbody><tr><th>1</th><td>'a'</td><td>9.27069</td><td>10.4313</td></tr><tr><th>2</th><td>'b'</td><td>18.4343</td><td>17.8376</td></tr><tr><th>3</th><td>'c'</td><td>14.6458</td><td>13.6437</td></tr><tr><th>4</th><td>'d'</td><td>10.0399</td><td>12.7715</td></tr></tbody></table>"
      ],
      "text/plain": [
       "4×3 DataFrame\n",
       "│ Row │ id   │ x1_sum  │ x2_sum  │\n",
       "│     │ \u001b[90mChar\u001b[39m │ \u001b[90mFloat64\u001b[39m │ \u001b[90mFloat64\u001b[39m │\n",
       "├─────┼──────┼─────────┼─────────┤\n",
       "│ 1   │ 'a'  │ 9.27069 │ 10.4313 │\n",
       "│ 2   │ 'b'  │ 18.4343 │ 17.8376 │\n",
       "│ 3   │ 'c'  │ 14.6458 │ 13.6437 │\n",
       "│ 4   │ 'd'  │ 10.0399 │ 12.7715 │"
      ]
     },
     "execution_count": 13,
     "metadata": {},
     "output_type": "execute_result"
    }
   ],
   "source": [
    "aggregate(x, :id, sum, sort=true) # also can be sorted"
   ]
  },
  {
   "cell_type": "markdown",
   "metadata": {},
   "source": [
    "*We omit the discussion of of map/combine as I do not find them very useful (better to use by)*"
   ]
  },
  {
   "cell_type": "code",
   "execution_count": 14,
   "metadata": {},
   "outputs": [
    {
     "data": {
      "text/html": [
       "<table class=\"data-frame\"><thead><tr><th></th><th>x1</th><th>x2</th><th>x3</th><th>x4</th><th>x5</th></tr><tr><th></th><th>Float64</th><th>Float64</th><th>Float64</th><th>Float64</th><th>Float64</th></tr></thead><tbody><tr><th>1</th><td>0.628616</td><td>0.00252019</td><td>0.0208436</td><td>0.406712</td><td>0.024379</td></tr><tr><th>2</th><td>0.307763</td><td>0.0658312</td><td>0.57809</td><td>0.907233</td><td>0.511468</td></tr><tr><th>3</th><td>0.495582</td><td>0.60685</td><td>0.431621</td><td>0.813413</td><td>0.479125</td></tr></tbody></table>"
      ],
      "text/plain": [
       "3×5 DataFrame\n",
       "│ Row │ x1       │ x2         │ x3        │ x4       │ x5       │\n",
       "│     │ \u001b[90mFloat64\u001b[39m  │ \u001b[90mFloat64\u001b[39m    │ \u001b[90mFloat64\u001b[39m   │ \u001b[90mFloat64\u001b[39m  │ \u001b[90mFloat64\u001b[39m  │\n",
       "├─────┼──────────┼────────────┼───────────┼──────────┼──────────┤\n",
       "│ 1   │ 0.628616 │ 0.00252019 │ 0.0208436 │ 0.406712 │ 0.024379 │\n",
       "│ 2   │ 0.307763 │ 0.0658312  │ 0.57809   │ 0.907233 │ 0.511468 │\n",
       "│ 3   │ 0.495582 │ 0.60685    │ 0.431621  │ 0.813413 │ 0.479125 │"
      ]
     },
     "execution_count": 14,
     "metadata": {},
     "output_type": "execute_result"
    }
   ],
   "source": [
    "x = DataFrame(rand(3, 5))"
   ]
  },
  {
   "cell_type": "code",
   "execution_count": 15,
   "metadata": {},
   "outputs": [
    {
     "data": {
      "text/html": [
       "<table class=\"data-frame\"><thead><tr><th></th><th>x1</th><th>x2</th><th>x3</th><th>x4</th><th>x5</th></tr><tr><th></th><th>Float64</th><th>Float64</th><th>Float64</th><th>Float64</th><th>Float64</th></tr></thead><tbody><tr><th>1</th><td>0.47732</td><td>0.225067</td><td>0.343518</td><td>0.709119</td><td>0.338324</td></tr></tbody></table>"
      ],
      "text/plain": [
       "1×5 DataFrame\n",
       "│ Row │ x1      │ x2       │ x3       │ x4       │ x5       │\n",
       "│     │ \u001b[90mFloat64\u001b[39m │ \u001b[90mFloat64\u001b[39m  │ \u001b[90mFloat64\u001b[39m  │ \u001b[90mFloat64\u001b[39m  │ \u001b[90mFloat64\u001b[39m  │\n",
       "├─────┼─────────┼──────────┼──────────┼──────────┼──────────┤\n",
       "│ 1   │ 0.47732 │ 0.225067 │ 0.343518 │ 0.709119 │ 0.338324 │"
      ]
     },
     "execution_count": 15,
     "metadata": {},
     "output_type": "execute_result"
    }
   ],
   "source": [
    "map(mean, eachcol(x)) # map a function over each column and return a data frame"
   ]
  },
  {
   "cell_type": "code",
   "execution_count": 16,
   "metadata": {},
   "outputs": [
    {
     "name": "stdout",
     "output_type": "stream",
     "text": [
      "x1: 0.47732014369939896\n",
      "x2: 0.22506714040185338\n",
      "x3: 0.34351831689019646\n",
      "x4: 0.7091193138045853\n",
      "x5: 0.33832394224539314\n"
     ]
    }
   ],
   "source": [
    "foreach(c -> println(c[1], \": \", mean(c[2])), eachcol(x)) # a raw iteration returns a tuple with column name and values"
   ]
  },
  {
   "cell_type": "code",
   "execution_count": 17,
   "metadata": {},
   "outputs": [
    {
     "data": {
      "text/plain": [
       "5-element Array{Float64,1}:\n",
       " 0.47732014369939896\n",
       " 0.22506714040185338\n",
       " 0.34351831689019646\n",
       " 0.7091193138045853 \n",
       " 0.33832394224539314"
      ]
     },
     "execution_count": 17,
     "metadata": {},
     "output_type": "execute_result"
    }
   ],
   "source": [
    "colwise(mean, x) # colwise is similar, but produces a vector"
   ]
  },
  {
   "cell_type": "code",
   "execution_count": 18,
   "metadata": {},
   "outputs": [
    {
     "data": {
      "text/plain": [
       "2-element Array{Array{Float64,1},1}:\n",
       " [0.468189, 0.0341757, 0.299467, 0.656972, 0.267923, 1.0]\n",
       " [0.495582, 0.60685, 0.431621, 0.813413, 0.479125, 2.0]  "
      ]
     },
     "execution_count": 18,
     "metadata": {},
     "output_type": "execute_result"
    }
   ],
   "source": [
    "x[:id] = [1,1,2]\n",
    "colwise(mean,groupby(x, :id)) # and works on GroupedDataFrame"
   ]
  },
  {
   "cell_type": "code",
   "execution_count": 19,
   "metadata": {},
   "outputs": [
    {
     "data": {
      "text/plain": [
       "3-element Array{Float64,1}:\n",
       " 249.43202238315632  \n",
       "   4.6750281270874785\n",
       "   0.8166463771784174"
      ]
     },
     "execution_count": 19,
     "metadata": {},
     "output_type": "execute_result"
    }
   ],
   "source": [
    "map(r -> r.x1/r.x2, eachrow(x)) # now the returned value is DataFrameRow which works similarly to a one-row DataFrame"
   ]
  }
 ],
 "metadata": {
  "kernelspec": {
   "display_name": "Julia 1.0.1",
   "language": "julia",
   "name": "julia-1.0"
  },
  "language_info": {
   "file_extension": ".jl",
   "mimetype": "application/julia",
   "name": "julia",
   "version": "1.0.1"
  }
 },
 "nbformat": 4,
 "nbformat_minor": 1
}
