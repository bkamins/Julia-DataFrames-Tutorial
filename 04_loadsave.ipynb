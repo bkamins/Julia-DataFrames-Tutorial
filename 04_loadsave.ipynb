{
 "cells": [
  {
   "cell_type": "markdown",
   "metadata": {},
   "source": [
    "# Introduction to DataFrames\n",
    "**[Bogumił Kamiński](http://bogumilkaminski.pl/about/), August 30, 2019**"
   ]
  },
  {
   "cell_type": "code",
   "execution_count": 1,
   "metadata": {},
   "outputs": [
    {
     "name": "stdout",
     "output_type": "stream",
     "text": [
      "\u001b[32m\u001b[1mActivating\u001b[22m\u001b[39m environment at `D:\\Dev\\Julia\\DataFrames_Tutorial\\Project.toml`\n"
     ]
    }
   ],
   "source": [
    "using Pkg\n",
    "Pkg.activate(\".\")"
   ]
  },
  {
   "cell_type": "code",
   "execution_count": 2,
   "metadata": {},
   "outputs": [],
   "source": [
    "using DataFrames"
   ]
  },
  {
   "cell_type": "markdown",
   "metadata": {},
   "source": [
    "## Load and save DataFrames\n",
    "We do not cover all features of the packages. Please refer to their documentation to learn them.\n",
    "\n",
    "Here we'll load `CSV` and `CSVFiles` to read and write CSV files and `Feather`, `JLSO`, and serialization, which allow us to work with a binary format and `JSONTables` for JSON interaction."
   ]
  },
  {
   "cell_type": "code",
   "execution_count": 3,
   "metadata": {},
   "outputs": [],
   "source": [
    "using CSV\n",
    "using CSVFiles\n",
    "using Serialization\n",
    "using JLSO\n",
    "using Feather\n",
    "using JSONTables\n",
    "using CodecZlib\n",
    "using ZipFile\n",
    "using JDF\n",
    "using StatsPlots # for charts"
   ]
  },
  {
   "cell_type": "markdown",
   "metadata": {},
   "source": [
    "Let's create a simple `DataFrame` for testing purposes,"
   ]
  },
  {
   "cell_type": "code",
   "execution_count": 4,
   "metadata": {},
   "outputs": [
    {
     "data": {
      "text/html": [
       "<table class=\"data-frame\"><thead><tr><th></th><th>A</th><th>B</th><th>C</th><th>D</th></tr><tr><th></th><th>Bool</th><th>Int64⍰</th><th>String⍰</th><th>Char⍰</th></tr></thead><tbody><p>3 rows × 4 columns</p><tr><th>1</th><td>1</td><td>1</td><td>missing</td><td>'a'</td></tr><tr><th>2</th><td>0</td><td>2</td><td>b</td><td>missing</td></tr><tr><th>3</th><td>1</td><td>missing</td><td>c</td><td>'c'</td></tr></tbody></table>"
      ],
      "text/latex": [
       "\\begin{tabular}{r|cccc}\n",
       "\t& A & B & C & D\\\\\n",
       "\t\\hline\n",
       "\t& Bool & Int64⍰ & String⍰ & Char⍰\\\\\n",
       "\t\\hline\n",
       "\t1 & 1 & 1 &  & 'a' \\\\\n",
       "\t2 & 0 & 2 & b &  \\\\\n",
       "\t3 & 1 &  & c & 'c' \\\\\n",
       "\\end{tabular}\n"
      ],
      "text/plain": [
       "3×4 DataFrame\n",
       "│ Row │ A    │ B       │ C       │ D       │\n",
       "│     │ \u001b[90mBool\u001b[39m │ \u001b[90mInt64⍰\u001b[39m  │ \u001b[90mString⍰\u001b[39m │ \u001b[90mChar⍰\u001b[39m   │\n",
       "├─────┼──────┼─────────┼─────────┼─────────┤\n",
       "│ 1   │ 1    │ 1       │ \u001b[90mmissing\u001b[39m │ 'a'     │\n",
       "│ 2   │ 0    │ 2       │ b       │ \u001b[90mmissing\u001b[39m │\n",
       "│ 3   │ 1    │ \u001b[90mmissing\u001b[39m │ c       │ 'c'     │"
      ]
     },
     "execution_count": 4,
     "metadata": {},
     "output_type": "execute_result"
    },
    {
     "name": "stderr",
     "output_type": "stream",
     "text": [
      "┌ Warning: `T` is deprecated, use `nonmissingtype` instead.\n",
      "│   caller = compacttype(::Type, ::Int64) at show.jl:39\n",
      "└ @ DataFrames D:\\AppData\\.julia\\packages\\DataFrames\\XuYBH\\src\\abstractdataframe\\show.jl:39\n"
     ]
    }
   ],
   "source": [
    "x = DataFrame(A=[true, false, true], B=[1, 2, missing],\n",
    "              C=[missing, \"b\", \"c\"], D=['a', missing, 'c'])\n"
   ]
  },
  {
   "cell_type": "markdown",
   "metadata": {},
   "source": [
    "and use `eltypes` to look at the columnwise types."
   ]
  },
  {
   "cell_type": "code",
   "execution_count": 5,
   "metadata": {},
   "outputs": [
    {
     "data": {
      "text/plain": [
       "4-element Array{Type,1}:\n",
       " Bool                  \n",
       " Union{Missing, Int64} \n",
       " Union{Missing, String}\n",
       " Union{Missing, Char}  "
      ]
     },
     "execution_count": 5,
     "metadata": {},
     "output_type": "execute_result"
    }
   ],
   "source": [
    "eltypes(x)"
   ]
  },
  {
   "cell_type": "markdown",
   "metadata": {},
   "source": [
    "### CSV.jl"
   ]
  },
  {
   "cell_type": "markdown",
   "metadata": {},
   "source": [
    "Let's use `CSV` to save `x` to disk; make sure `x1.csv` does not conflict with some file in your working directory."
   ]
  },
  {
   "cell_type": "code",
   "execution_count": 6,
   "metadata": {},
   "outputs": [
    {
     "data": {
      "text/plain": [
       "\"x1.csv\""
      ]
     },
     "execution_count": 6,
     "metadata": {},
     "output_type": "execute_result"
    }
   ],
   "source": [
    "CSV.write(\"x1.csv\", x)"
   ]
  },
  {
   "cell_type": "markdown",
   "metadata": {},
   "source": [
    "Now we can see how it was saved by reading `x.csv`."
   ]
  },
  {
   "cell_type": "code",
   "execution_count": 7,
   "metadata": {},
   "outputs": [
    {
     "name": "stdout",
     "output_type": "stream",
     "text": [
      "A,B,C,D\n",
      "true,1,,a\n",
      "false,2,b,\n",
      "true,,c,c\n"
     ]
    }
   ],
   "source": [
    "print(read(\"x1.csv\", String))"
   ]
  },
  {
   "cell_type": "markdown",
   "metadata": {},
   "source": [
    "We can also load it back (`use_mmap=false` disables memory mapping so that on Windows the file can be deleted in the same session, on other OSs it is not needed)."
   ]
  },
  {
   "cell_type": "code",
   "execution_count": 8,
   "metadata": {},
   "outputs": [
    {
     "data": {
      "text/html": [
       "<table class=\"data-frame\"><thead><tr><th></th><th>A</th><th>B</th><th>C</th><th>D</th></tr><tr><th></th><th>Bool</th><th>Int64⍰</th><th>String⍰</th><th>String⍰</th></tr></thead><tbody><p>3 rows × 4 columns</p><tr><th>1</th><td>1</td><td>1</td><td>missing</td><td>a</td></tr><tr><th>2</th><td>0</td><td>2</td><td>b</td><td>missing</td></tr><tr><th>3</th><td>1</td><td>missing</td><td>c</td><td>c</td></tr></tbody></table>"
      ],
      "text/latex": [
       "\\begin{tabular}{r|cccc}\n",
       "\t& A & B & C & D\\\\\n",
       "\t\\hline\n",
       "\t& Bool & Int64⍰ & String⍰ & String⍰\\\\\n",
       "\t\\hline\n",
       "\t1 & 1 & 1 &  & a \\\\\n",
       "\t2 & 0 & 2 & b &  \\\\\n",
       "\t3 & 1 &  & c & c \\\\\n",
       "\\end{tabular}\n"
      ],
      "text/plain": [
       "3×4 DataFrame\n",
       "│ Row │ A    │ B       │ C       │ D       │\n",
       "│     │ \u001b[90mBool\u001b[39m │ \u001b[90mInt64⍰\u001b[39m  │ \u001b[90mString⍰\u001b[39m │ \u001b[90mString⍰\u001b[39m │\n",
       "├─────┼──────┼─────────┼─────────┼─────────┤\n",
       "│ 1   │ 1    │ 1       │ \u001b[90mmissing\u001b[39m │ a       │\n",
       "│ 2   │ 0    │ 2       │ b       │ \u001b[90mmissing\u001b[39m │\n",
       "│ 3   │ 1    │ \u001b[90mmissing\u001b[39m │ c       │ c       │"
      ]
     },
     "execution_count": 8,
     "metadata": {},
     "output_type": "execute_result"
    }
   ],
   "source": [
    "y = CSV.read(\"x1.csv\", use_mmap=false)"
   ]
  },
  {
   "cell_type": "markdown",
   "metadata": {},
   "source": [
    "When loading in a `DataFrame` from a `CSV`, all columns allow `Missing` by default. Note that the column types have changed!"
   ]
  },
  {
   "cell_type": "code",
   "execution_count": 9,
   "metadata": {},
   "outputs": [
    {
     "data": {
      "text/plain": [
       "4-element Array{Type,1}:\n",
       " Bool                  \n",
       " Union{Missing, Int64} \n",
       " Union{Missing, String}\n",
       " Union{Missing, String}"
      ]
     },
     "execution_count": 9,
     "metadata": {},
     "output_type": "execute_result"
    }
   ],
   "source": [
    "eltypes(y)"
   ]
  },
  {
   "cell_type": "markdown",
   "metadata": {},
   "source": [
    "### CSVFiles.jl"
   ]
  },
  {
   "cell_type": "markdown",
   "metadata": {},
   "source": [
    "Now we will use `CSVFiles` to achieve the same. First we save the file. Notice that we override default `nastring` that is `\"NA\"` because we have missings in non-numeric columns."
   ]
  },
  {
   "cell_type": "code",
   "execution_count": 10,
   "metadata": {},
   "outputs": [],
   "source": [
    "x |> save(\"x2.csv\", nastring=\"\")"
   ]
  },
  {
   "cell_type": "markdown",
   "metadata": {},
   "source": [
    "and peek the saved file:"
   ]
  },
  {
   "cell_type": "code",
   "execution_count": 11,
   "metadata": {},
   "outputs": [
    {
     "name": "stdout",
     "output_type": "stream",
     "text": [
      "\"A\",\"B\",\"C\",\"D\"\n",
      "true,1,,a\n",
      "false,2,\"b\",\n",
      "true,,\"c\",c\n"
     ]
    }
   ],
   "source": [
    "print(read(\"x2.csv\", String))"
   ]
  },
  {
   "cell_type": "markdown",
   "metadata": {},
   "source": [
    "We can load it back using `load`:"
   ]
  },
  {
   "cell_type": "code",
   "execution_count": 12,
   "metadata": {},
   "outputs": [
    {
     "data": {
      "text/html": [
       "<table class=\"data-frame\"><thead><tr><th></th><th>A</th><th>B</th><th>C</th><th>D</th></tr><tr><th></th><th>String</th><th>Int64⍰</th><th>String</th><th>String</th></tr></thead><tbody><p>3 rows × 4 columns</p><tr><th>1</th><td>true</td><td>1</td><td></td><td>a</td></tr><tr><th>2</th><td>false</td><td>2</td><td>b</td><td></td></tr><tr><th>3</th><td>true</td><td>missing</td><td>c</td><td>c</td></tr></tbody></table>"
      ],
      "text/latex": [
       "\\begin{tabular}{r|cccc}\n",
       "\t& A & B & C & D\\\\\n",
       "\t\\hline\n",
       "\t& String & Int64⍰ & String & String\\\\\n",
       "\t\\hline\n",
       "\t1 & true & 1 &  & a \\\\\n",
       "\t2 & false & 2 & b &  \\\\\n",
       "\t3 & true &  & c & c \\\\\n",
       "\\end{tabular}\n"
      ],
      "text/plain": [
       "3×4 DataFrame\n",
       "│ Row │ A      │ B       │ C      │ D      │\n",
       "│     │ \u001b[90mString\u001b[39m │ \u001b[90mInt64⍰\u001b[39m  │ \u001b[90mString\u001b[39m │ \u001b[90mString\u001b[39m │\n",
       "├─────┼────────┼─────────┼────────┼────────┤\n",
       "│ 1   │ true   │ 1       │        │ a      │\n",
       "│ 2   │ false  │ 2       │ b      │        │\n",
       "│ 3   │ true   │ \u001b[90mmissing\u001b[39m │ c      │ c      │"
      ]
     },
     "execution_count": 12,
     "metadata": {},
     "output_type": "execute_result"
    }
   ],
   "source": [
    "y = load(\"x2.csv\") |> DataFrame"
   ]
  },
  {
   "cell_type": "markdown",
   "metadata": {},
   "source": [
    "Let us check element types again:"
   ]
  },
  {
   "cell_type": "code",
   "execution_count": 13,
   "metadata": {},
   "outputs": [
    {
     "data": {
      "text/plain": [
       "4-element Array{Type,1}:\n",
       " String               \n",
       " Union{Missing, Int64}\n",
       " String               \n",
       " String               "
      ]
     },
     "execution_count": 13,
     "metadata": {},
     "output_type": "execute_result"
    }
   ],
   "source": [
    "eltypes(y)"
   ]
  },
  {
   "cell_type": "markdown",
   "metadata": {},
   "source": [
    "Observe that in columns `:C` and `:D` missings were read back as empty strings"
   ]
  },
  {
   "cell_type": "markdown",
   "metadata": {},
   "source": [
    "### Serialization, JDF.jl, and JLSO.jl\n",
    "\n",
    "#### Serialization"
   ]
  },
  {
   "cell_type": "markdown",
   "metadata": {},
   "source": [
    "Now we use serialization to save `x`.\n",
    "\n",
    "There are two ways to perform serialization. The first way is to use the `Serialization.serialize` as below:"
   ]
  },
  {
   "cell_type": "markdown",
   "metadata": {},
   "source": [
    "Note that in general, this process will not work if the reading and writing are done by different versions of Julia, or an instance of Julia with a different system image."
   ]
  },
  {
   "cell_type": "code",
   "execution_count": 14,
   "metadata": {},
   "outputs": [],
   "source": [
    "open(\"x.bin\", \"w\") do io\n",
    "    serialize(io, x)\n",
    "end"
   ]
  },
  {
   "cell_type": "markdown",
   "metadata": {},
   "source": [
    "Now we load back the saved file to `y` variable. Again `y` is identical to `x`. However, please beware that if you session does not have DataFrames.jl loaded, then it may not recognise the content as DataFrames.jl"
   ]
  },
  {
   "cell_type": "code",
   "execution_count": 15,
   "metadata": {},
   "outputs": [
    {
     "data": {
      "text/html": [
       "<table class=\"data-frame\"><thead><tr><th></th><th>A</th><th>B</th><th>C</th><th>D</th></tr><tr><th></th><th>Bool</th><th>Int64⍰</th><th>String⍰</th><th>Char⍰</th></tr></thead><tbody><p>3 rows × 4 columns</p><tr><th>1</th><td>1</td><td>1</td><td>missing</td><td>'a'</td></tr><tr><th>2</th><td>0</td><td>2</td><td>b</td><td>missing</td></tr><tr><th>3</th><td>1</td><td>missing</td><td>c</td><td>'c'</td></tr></tbody></table>"
      ],
      "text/latex": [
       "\\begin{tabular}{r|cccc}\n",
       "\t& A & B & C & D\\\\\n",
       "\t\\hline\n",
       "\t& Bool & Int64⍰ & String⍰ & Char⍰\\\\\n",
       "\t\\hline\n",
       "\t1 & 1 & 1 &  & 'a' \\\\\n",
       "\t2 & 0 & 2 & b &  \\\\\n",
       "\t3 & 1 &  & c & 'c' \\\\\n",
       "\\end{tabular}\n"
      ],
      "text/plain": [
       "3×4 DataFrame\n",
       "│ Row │ A    │ B       │ C       │ D       │\n",
       "│     │ \u001b[90mBool\u001b[39m │ \u001b[90mInt64⍰\u001b[39m  │ \u001b[90mString⍰\u001b[39m │ \u001b[90mChar⍰\u001b[39m   │\n",
       "├─────┼──────┼─────────┼─────────┼─────────┤\n",
       "│ 1   │ 1    │ 1       │ \u001b[90mmissing\u001b[39m │ 'a'     │\n",
       "│ 2   │ 0    │ 2       │ b       │ \u001b[90mmissing\u001b[39m │\n",
       "│ 3   │ 1    │ \u001b[90mmissing\u001b[39m │ c       │ 'c'     │"
      ]
     },
     "execution_count": 15,
     "metadata": {},
     "output_type": "execute_result"
    }
   ],
   "source": [
    "y = open(deserialize, \"x.bin\")"
   ]
  },
  {
   "cell_type": "code",
   "execution_count": 16,
   "metadata": {},
   "outputs": [
    {
     "data": {
      "text/plain": [
       "4-element Array{Type,1}:\n",
       " Bool                  \n",
       " Union{Missing, Int64} \n",
       " Union{Missing, String}\n",
       " Union{Missing, Char}  "
      ]
     },
     "execution_count": 16,
     "metadata": {},
     "output_type": "execute_result"
    }
   ],
   "source": [
    "eltypes(y)"
   ]
  },
  {
   "cell_type": "markdown",
   "metadata": {},
   "source": [
    "#### JDF.jl\n",
    "\n",
    "[JDF.jl](https://github.com/xiaodaigh/JDF) is a relatively new package designed to serialize DataFrames. You can save a DataFrame with the `savejdf` function."
   ]
  },
  {
   "cell_type": "code",
   "execution_count": 17,
   "metadata": {},
   "outputs": [],
   "source": [
    "savejdf(\"x.jdf\", x);"
   ]
  },
  {
   "cell_type": "markdown",
   "metadata": {},
   "source": [
    "To load the saved JDF file, one can use the `loadjdf` function"
   ]
  },
  {
   "cell_type": "code",
   "execution_count": 18,
   "metadata": {},
   "outputs": [
    {
     "data": {
      "text/html": [
       "<table class=\"data-frame\"><thead><tr><th></th><th>A</th><th>B</th><th>C</th><th>D</th></tr><tr><th></th><th>Bool</th><th>Int64⍰</th><th>String⍰</th><th>Char⍰</th></tr></thead><tbody><p>3 rows × 4 columns</p><tr><th>1</th><td>1</td><td>1</td><td>missing</td><td>'a'</td></tr><tr><th>2</th><td>0</td><td>2</td><td>b</td><td>missing</td></tr><tr><th>3</th><td>1</td><td>missing</td><td>c</td><td>'c'</td></tr></tbody></table>"
      ],
      "text/latex": [
       "\\begin{tabular}{r|cccc}\n",
       "\t& A & B & C & D\\\\\n",
       "\t\\hline\n",
       "\t& Bool & Int64⍰ & String⍰ & Char⍰\\\\\n",
       "\t\\hline\n",
       "\t1 & 1 & 1 &  & 'a' \\\\\n",
       "\t2 & 0 & 2 & b &  \\\\\n",
       "\t3 & 1 &  & c & 'c' \\\\\n",
       "\\end{tabular}\n"
      ],
      "text/plain": [
       "3×4 DataFrame\n",
       "│ Row │ A    │ B       │ C       │ D       │\n",
       "│     │ \u001b[90mBool\u001b[39m │ \u001b[90mInt64⍰\u001b[39m  │ \u001b[90mString⍰\u001b[39m │ \u001b[90mChar⍰\u001b[39m   │\n",
       "├─────┼──────┼─────────┼─────────┼─────────┤\n",
       "│ 1   │ 1    │ 1       │ \u001b[90mmissing\u001b[39m │ 'a'     │\n",
       "│ 2   │ 0    │ 2       │ b       │ \u001b[90mmissing\u001b[39m │\n",
       "│ 3   │ 1    │ \u001b[90mmissing\u001b[39m │ c       │ 'c'     │"
      ]
     },
     "execution_count": 18,
     "metadata": {},
     "output_type": "execute_result"
    }
   ],
   "source": [
    "x_loaded = loadjdf(\"x.jdf\")"
   ]
  },
  {
   "cell_type": "markdown",
   "metadata": {},
   "source": [
    "You can see that they are the same"
   ]
  },
  {
   "cell_type": "code",
   "execution_count": 19,
   "metadata": {},
   "outputs": [
    {
     "data": {
      "text/plain": [
       "true"
      ]
     },
     "execution_count": 19,
     "metadata": {},
     "output_type": "execute_result"
    }
   ],
   "source": [
    "isequal(x_loaded, x)"
   ]
  },
  {
   "cell_type": "markdown",
   "metadata": {},
   "source": [
    "JDF.jl offers the ability to load only certain columns from disk to help with working with large files"
   ]
  },
  {
   "cell_type": "code",
   "execution_count": 20,
   "metadata": {},
   "outputs": [
    {
     "data": {
      "text/plain": [
       "JDFFile{String}(\"x.jdf\")"
      ]
     },
     "execution_count": 20,
     "metadata": {},
     "output_type": "execute_result"
    }
   ],
   "source": [
    "# set up a JDFFile which is a on disk representation of `x` backed by JDF.jl\n",
    "x_ondisk = jdf\"x.jdf\""
   ]
  },
  {
   "cell_type": "markdown",
   "metadata": {},
   "source": [
    "We can see all the names of `x` without loading it into memory"
   ]
  },
  {
   "cell_type": "code",
   "execution_count": 21,
   "metadata": {},
   "outputs": [
    {
     "data": {
      "text/plain": [
       "4-element Array{Symbol,1}:\n",
       " :A\n",
       " :B\n",
       " :C\n",
       " :D"
      ]
     },
     "execution_count": 21,
     "metadata": {},
     "output_type": "execute_result"
    }
   ],
   "source": [
    "names(x_ondisk)"
   ]
  },
  {
   "cell_type": "markdown",
   "metadata": {},
   "source": [
    "The below is an example of how to load only columns `:A` and `:D` "
   ]
  },
  {
   "cell_type": "code",
   "execution_count": 22,
   "metadata": {},
   "outputs": [
    {
     "data": {
      "text/html": [
       "<table class=\"data-frame\"><thead><tr><th></th><th>A</th><th>D</th></tr><tr><th></th><th>Bool</th><th>Char⍰</th></tr></thead><tbody><p>3 rows × 2 columns</p><tr><th>1</th><td>1</td><td>'a'</td></tr><tr><th>2</th><td>0</td><td>missing</td></tr><tr><th>3</th><td>1</td><td>'c'</td></tr></tbody></table>"
      ],
      "text/latex": [
       "\\begin{tabular}{r|cc}\n",
       "\t& A & D\\\\\n",
       "\t\\hline\n",
       "\t& Bool & Char⍰\\\\\n",
       "\t\\hline\n",
       "\t1 & 1 & 'a' \\\\\n",
       "\t2 & 0 &  \\\\\n",
       "\t3 & 1 & 'c' \\\\\n",
       "\\end{tabular}\n"
      ],
      "text/plain": [
       "3×2 DataFrame\n",
       "│ Row │ A    │ D       │\n",
       "│     │ \u001b[90mBool\u001b[39m │ \u001b[90mChar⍰\u001b[39m   │\n",
       "├─────┼──────┼─────────┤\n",
       "│ 1   │ 1    │ 'a'     │\n",
       "│ 2   │ 0    │ \u001b[90mmissing\u001b[39m │\n",
       "│ 3   │ 1    │ 'c'     │"
      ]
     },
     "execution_count": 22,
     "metadata": {},
     "output_type": "execute_result"
    }
   ],
   "source": [
    "xd = sloadjdf(x_ondisk; cols = [:A, :D])"
   ]
  },
  {
   "cell_type": "markdown",
   "metadata": {},
   "source": [
    "##### JDF.jl vs others\n",
    "\n",
    "JDF.jl is specialized to DataFrames and only supports a restricted list of columns, so it can not save DataFrames with arbitrary column types. However, this also means that JDF.jl has specialised algorithms to serailize the type it supports to optimize speed, minimize disk usage, and reduce the chance of errors\n",
    "\n",
    "The list support columns for JDF include\n",
    "\n",
    "```julia\n",
    "WeakRefStrings.StringVector\n",
    "Vector{T}, Vector{Union{Mising, T}}, Vector{Union{Nothing, T}}\n",
    "CategoricalArrays.CategoricalVetors{T}\n",
    "```\n",
    "\n",
    "where `T` can be `String`, `Bool`, `Symbol`, `Char`, `TimeZones.ZonedDateTime` (experimental) and `isbit`s types i.e. `UInt*`, `Int*`, `Float*`, and `Date*` types etc."
   ]
  },
  {
   "cell_type": "markdown",
   "metadata": {},
   "source": [
    "#### JLSO.jl\n",
    "\n",
    "Another way to perform serialization is by using the [JLSO.jl](https://github.com/invenia/JLSO.jl) library:"
   ]
  },
  {
   "cell_type": "code",
   "execution_count": 23,
   "metadata": {},
   "outputs": [],
   "source": [
    "JLSO.save(\"x.jlso\", x)"
   ]
  },
  {
   "cell_type": "markdown",
   "metadata": {},
   "source": [
    "Now we can laod back the file to `y`"
   ]
  },
  {
   "cell_type": "code",
   "execution_count": 24,
   "metadata": {},
   "outputs": [
    {
     "data": {
      "text/html": [
       "<table class=\"data-frame\"><thead><tr><th></th><th>A</th><th>B</th><th>C</th><th>D</th></tr><tr><th></th><th>Bool</th><th>Int64⍰</th><th>String⍰</th><th>Char⍰</th></tr></thead><tbody><p>3 rows × 4 columns</p><tr><th>1</th><td>1</td><td>1</td><td>missing</td><td>'a'</td></tr><tr><th>2</th><td>0</td><td>2</td><td>b</td><td>missing</td></tr><tr><th>3</th><td>1</td><td>missing</td><td>c</td><td>'c'</td></tr></tbody></table>"
      ],
      "text/latex": [
       "\\begin{tabular}{r|cccc}\n",
       "\t& A & B & C & D\\\\\n",
       "\t\\hline\n",
       "\t& Bool & Int64⍰ & String⍰ & Char⍰\\\\\n",
       "\t\\hline\n",
       "\t1 & 1 & 1 &  & 'a' \\\\\n",
       "\t2 & 0 & 2 & b &  \\\\\n",
       "\t3 & 1 &  & c & 'c' \\\\\n",
       "\\end{tabular}\n"
      ],
      "text/plain": [
       "3×4 DataFrame\n",
       "│ Row │ A    │ B       │ C       │ D       │\n",
       "│     │ \u001b[90mBool\u001b[39m │ \u001b[90mInt64⍰\u001b[39m  │ \u001b[90mString⍰\u001b[39m │ \u001b[90mChar⍰\u001b[39m   │\n",
       "├─────┼──────┼─────────┼─────────┼─────────┤\n",
       "│ 1   │ 1    │ 1       │ \u001b[90mmissing\u001b[39m │ 'a'     │\n",
       "│ 2   │ 0    │ 2       │ b       │ \u001b[90mmissing\u001b[39m │\n",
       "│ 3   │ 1    │ \u001b[90mmissing\u001b[39m │ c       │ 'c'     │"
      ]
     },
     "execution_count": 24,
     "metadata": {},
     "output_type": "execute_result"
    }
   ],
   "source": [
    "y = JLSO.load(\"x.jlso\")[\"data\"]"
   ]
  },
  {
   "cell_type": "code",
   "execution_count": 25,
   "metadata": {},
   "outputs": [
    {
     "data": {
      "text/plain": [
       "4-element Array{Type,1}:\n",
       " Bool                  \n",
       " Union{Missing, Int64} \n",
       " Union{Missing, String}\n",
       " Union{Missing, Char}  "
      ]
     },
     "execution_count": 25,
     "metadata": {},
     "output_type": "execute_result"
    }
   ],
   "source": [
    "eltypes(y)"
   ]
  },
  {
   "cell_type": "markdown",
   "metadata": {},
   "source": [
    "### JSONTables.jl"
   ]
  },
  {
   "cell_type": "markdown",
   "metadata": {},
   "source": [
    "Often you might need to read and write data stored in JSON format. JSONTables.jl provides a way to process them in row-oriented or column-oriented layout. We present both options below."
   ]
  },
  {
   "cell_type": "code",
   "execution_count": 26,
   "metadata": {},
   "outputs": [
    {
     "data": {
      "text/plain": [
       "106"
      ]
     },
     "execution_count": 26,
     "metadata": {},
     "output_type": "execute_result"
    }
   ],
   "source": [
    "open(io -> arraytable(io, x), \"x1.json\", \"w\")"
   ]
  },
  {
   "cell_type": "code",
   "execution_count": 27,
   "metadata": {},
   "outputs": [
    {
     "data": {
      "text/plain": [
       "76"
      ]
     },
     "execution_count": 27,
     "metadata": {},
     "output_type": "execute_result"
    }
   ],
   "source": [
    "open(io -> objecttable(io, x), \"x2.json\", \"w\")"
   ]
  },
  {
   "cell_type": "code",
   "execution_count": 28,
   "metadata": {},
   "outputs": [
    {
     "name": "stdout",
     "output_type": "stream",
     "text": [
      "[{\"A\":true,\"B\":1,\"C\":null,\"D\":\"a\"},{\"A\":false,\"B\":2,\"C\":\"b\",\"D\":null},{\"A\":true,\"B\":null,\"C\":\"c\",\"D\":\"c\"}]"
     ]
    }
   ],
   "source": [
    "print(read(\"x1.json\", String))"
   ]
  },
  {
   "cell_type": "code",
   "execution_count": 29,
   "metadata": {},
   "outputs": [
    {
     "name": "stdout",
     "output_type": "stream",
     "text": [
      "{\"A\":[true,false,true],\"B\":[1,2,null],\"C\":[null,\"b\",\"c\"],\"D\":[\"a\",null,\"c\"]}"
     ]
    }
   ],
   "source": [
    "print(read(\"x2.json\", String))"
   ]
  },
  {
   "cell_type": "code",
   "execution_count": 30,
   "metadata": {},
   "outputs": [
    {
     "data": {
      "text/html": [
       "<table class=\"data-frame\"><thead><tr><th></th><th>A</th><th>B</th><th>C</th><th>D</th></tr><tr><th></th><th>Bool</th><th>Int64⍰</th><th>String⍰</th><th>String⍰</th></tr></thead><tbody><p>3 rows × 4 columns</p><tr><th>1</th><td>1</td><td>1</td><td>missing</td><td>a</td></tr><tr><th>2</th><td>0</td><td>2</td><td>b</td><td>missing</td></tr><tr><th>3</th><td>1</td><td>missing</td><td>c</td><td>c</td></tr></tbody></table>"
      ],
      "text/latex": [
       "\\begin{tabular}{r|cccc}\n",
       "\t& A & B & C & D\\\\\n",
       "\t\\hline\n",
       "\t& Bool & Int64⍰ & String⍰ & String⍰\\\\\n",
       "\t\\hline\n",
       "\t1 & 1 & 1 &  & a \\\\\n",
       "\t2 & 0 & 2 & b &  \\\\\n",
       "\t3 & 1 &  & c & c \\\\\n",
       "\\end{tabular}\n"
      ],
      "text/plain": [
       "3×4 DataFrame\n",
       "│ Row │ A    │ B       │ C       │ D       │\n",
       "│     │ \u001b[90mBool\u001b[39m │ \u001b[90mInt64⍰\u001b[39m  │ \u001b[90mString⍰\u001b[39m │ \u001b[90mString⍰\u001b[39m │\n",
       "├─────┼──────┼─────────┼─────────┼─────────┤\n",
       "│ 1   │ 1    │ 1       │ \u001b[90mmissing\u001b[39m │ a       │\n",
       "│ 2   │ 0    │ 2       │ b       │ \u001b[90mmissing\u001b[39m │\n",
       "│ 3   │ 1    │ \u001b[90mmissing\u001b[39m │ c       │ c       │"
      ]
     },
     "execution_count": 30,
     "metadata": {},
     "output_type": "execute_result"
    }
   ],
   "source": [
    "y1 = open(jsontable, \"x1.json\") |> DataFrame"
   ]
  },
  {
   "cell_type": "code",
   "execution_count": 31,
   "metadata": {},
   "outputs": [
    {
     "data": {
      "text/plain": [
       "4-element Array{Type,1}:\n",
       " Bool                  \n",
       " Union{Missing, Int64} \n",
       " Union{Missing, String}\n",
       " Union{Missing, String}"
      ]
     },
     "execution_count": 31,
     "metadata": {},
     "output_type": "execute_result"
    }
   ],
   "source": [
    "eltypes(y1)"
   ]
  },
  {
   "cell_type": "code",
   "execution_count": 32,
   "metadata": {},
   "outputs": [
    {
     "data": {
      "text/html": [
       "<table class=\"data-frame\"><thead><tr><th></th><th>A</th><th>B</th><th>C</th><th>D</th></tr><tr><th></th><th>Bool</th><th>Int64⍰</th><th>String⍰</th><th>String⍰</th></tr></thead><tbody><p>3 rows × 4 columns</p><tr><th>1</th><td>1</td><td>1</td><td>missing</td><td>a</td></tr><tr><th>2</th><td>0</td><td>2</td><td>b</td><td>missing</td></tr><tr><th>3</th><td>1</td><td>missing</td><td>c</td><td>c</td></tr></tbody></table>"
      ],
      "text/latex": [
       "\\begin{tabular}{r|cccc}\n",
       "\t& A & B & C & D\\\\\n",
       "\t\\hline\n",
       "\t& Bool & Int64⍰ & String⍰ & String⍰\\\\\n",
       "\t\\hline\n",
       "\t1 & 1 & 1 &  & a \\\\\n",
       "\t2 & 0 & 2 & b &  \\\\\n",
       "\t3 & 1 &  & c & c \\\\\n",
       "\\end{tabular}\n"
      ],
      "text/plain": [
       "3×4 DataFrame\n",
       "│ Row │ A    │ B       │ C       │ D       │\n",
       "│     │ \u001b[90mBool\u001b[39m │ \u001b[90mInt64⍰\u001b[39m  │ \u001b[90mString⍰\u001b[39m │ \u001b[90mString⍰\u001b[39m │\n",
       "├─────┼──────┼─────────┼─────────┼─────────┤\n",
       "│ 1   │ 1    │ 1       │ \u001b[90mmissing\u001b[39m │ a       │\n",
       "│ 2   │ 0    │ 2       │ b       │ \u001b[90mmissing\u001b[39m │\n",
       "│ 3   │ 1    │ \u001b[90mmissing\u001b[39m │ c       │ c       │"
      ]
     },
     "execution_count": 32,
     "metadata": {},
     "output_type": "execute_result"
    }
   ],
   "source": [
    "y2 = open(jsontable, \"x2.json\") |> DataFrame"
   ]
  },
  {
   "cell_type": "code",
   "execution_count": 33,
   "metadata": {},
   "outputs": [
    {
     "data": {
      "text/plain": [
       "4-element Array{Type,1}:\n",
       " Bool                  \n",
       " Union{Missing, Int64} \n",
       " Union{Missing, String}\n",
       " Union{Missing, String}"
      ]
     },
     "execution_count": 33,
     "metadata": {},
     "output_type": "execute_result"
    }
   ],
   "source": [
    "eltypes(y2)"
   ]
  },
  {
   "cell_type": "markdown",
   "metadata": {},
   "source": [
    "### Feather.jl"
   ]
  },
  {
   "cell_type": "markdown",
   "metadata": {},
   "source": [
    "Finally we use Feather format that allows, in particular, for data interchange with R or Python."
   ]
  },
  {
   "cell_type": "code",
   "execution_count": 34,
   "metadata": {},
   "outputs": [
    {
     "data": {
      "text/plain": [
       "3-element Array{Union{Missing, String},1}:\n",
       " \"a\"    \n",
       " missing\n",
       " \"c\"    "
      ]
     },
     "execution_count": 34,
     "metadata": {},
     "output_type": "execute_result"
    }
   ],
   "source": [
    "x.D = passmissing(string).(x.D) # Feather format does not support Char type"
   ]
  },
  {
   "cell_type": "code",
   "execution_count": 35,
   "metadata": {},
   "outputs": [
    {
     "data": {
      "text/plain": [
       "\"x.feather\""
      ]
     },
     "execution_count": 35,
     "metadata": {},
     "output_type": "execute_result"
    }
   ],
   "source": [
    "Feather.write(\"x.feather\", x)"
   ]
  },
  {
   "cell_type": "code",
   "execution_count": 36,
   "metadata": {},
   "outputs": [
    {
     "data": {
      "text/html": [
       "<table class=\"data-frame\"><thead><tr><th></th><th>A</th><th>B</th><th>C</th><th>D</th></tr><tr><th></th><th>Bool</th><th>Int64⍰</th><th>String⍰</th><th>String⍰</th></tr></thead><tbody><p>3 rows × 4 columns</p><tr><th>1</th><td>1</td><td>1</td><td>missing</td><td>a</td></tr><tr><th>2</th><td>0</td><td>2</td><td>b</td><td>missing</td></tr><tr><th>3</th><td>1</td><td>missing</td><td>c</td><td>c</td></tr></tbody></table>"
      ],
      "text/latex": [
       "\\begin{tabular}{r|cccc}\n",
       "\t& A & B & C & D\\\\\n",
       "\t\\hline\n",
       "\t& Bool & Int64⍰ & String⍰ & String⍰\\\\\n",
       "\t\\hline\n",
       "\t1 & 1 & 1 &  & a \\\\\n",
       "\t2 & 0 & 2 & b &  \\\\\n",
       "\t3 & 1 &  & c & c \\\\\n",
       "\\end{tabular}\n"
      ],
      "text/plain": [
       "3×4 DataFrame\n",
       "│ Row │ A    │ B       │ C       │ D       │\n",
       "│     │ \u001b[90mBool\u001b[39m │ \u001b[90mInt64⍰\u001b[39m  │ \u001b[90mString⍰\u001b[39m │ \u001b[90mString⍰\u001b[39m │\n",
       "├─────┼──────┼─────────┼─────────┼─────────┤\n",
       "│ 1   │ 1    │ 1       │ \u001b[90mmissing\u001b[39m │ a       │\n",
       "│ 2   │ 0    │ 2       │ b       │ \u001b[90mmissing\u001b[39m │\n",
       "│ 3   │ 1    │ \u001b[90mmissing\u001b[39m │ c       │ c       │"
      ]
     },
     "execution_count": 36,
     "metadata": {},
     "output_type": "execute_result"
    }
   ],
   "source": [
    "y = Feather.materialize(\"x.feather\") # Feather.read is a lazy alternative"
   ]
  },
  {
   "cell_type": "code",
   "execution_count": 37,
   "metadata": {},
   "outputs": [
    {
     "data": {
      "text/plain": [
       "4-element Array{Type,1}:\n",
       " Bool                  \n",
       " Union{Missing, Int64} \n",
       " Union{Missing, String}\n",
       " Union{Missing, String}"
      ]
     },
     "execution_count": 37,
     "metadata": {},
     "output_type": "execute_result"
    }
   ],
   "source": [
    "eltypes(y)"
   ]
  },
  {
   "cell_type": "markdown",
   "metadata": {},
   "source": [
    "### Basic bechmarking"
   ]
  },
  {
   "cell_type": "markdown",
   "metadata": {},
   "source": [
    "Next, we'll create some files, so be careful that you don't already have these files in your working directory!\n",
    "\n",
    "In particular, we'll time how long it takes us to write a `DataFrame` with 10^3 rows and 10^5 columns."
   ]
  },
  {
   "cell_type": "code",
   "execution_count": 38,
   "metadata": {},
   "outputs": [
    {
     "name": "stdout",
     "output_type": "stream",
     "text": [
      "First run\n",
      "CSV.jl\n",
      "  6.940504 seconds (52.09 M allocations: 887.504 MiB, 2.58% gc time)\n",
      "CSVFiles.jl\n",
      "  6.933183 seconds (3.36 M allocations: 213.178 MiB, 1.05% gc time)\n",
      "Serialization\n",
      "  0.491245 seconds (419.88 k allocations: 21.589 MiB, 1.11% gc time)\n",
      "JDF.jl\n",
      "  0.523319 seconds (101.43 k allocations: 169.044 MiB, 4.39% gc time)\n",
      "JLSO.jl\n",
      "  7.573698 seconds (389.51 k allocations: 183.972 MiB, 0.59% gc time)\n",
      "Feather.jl\n",
      "  0.323371 seconds (501.27 k allocations: 50.084 MiB, 34.69% gc time)\n",
      "JSONTables.jl arraytable\n",
      " 83.369164 seconds (1.05 G allocations: 27.823 GiB, 7.19% gc time)\n",
      "JSONTables.jl objecttable\n",
      "  1.725698 seconds (433.86 k allocations: 1.402 GiB, 19.17% gc time)\n",
      "Second run\n",
      "CSV.jl\n",
      "  5.372882 seconds (50.25 M allocations: 788.983 MiB, 1.88% gc time)\n",
      "CSVFiles.jl\n",
      "  3.035051 seconds (406.63 k allocations: 64.416 MiB, 0.17% gc time)\n",
      "Serialization\n",
      "  0.402675 seconds (5.39 k allocations: 760.513 KiB)\n",
      "JDF.jl\n",
      "  0.527185 seconds (22.51 k allocations: 165.052 MiB, 3.66% gc time)\n",
      "JLSO.jl\n",
      "  8.113566 seconds (23.49 k allocations: 166.007 MiB, 0.49% gc time)\n",
      "Feather.jl\n",
      "  0.107042 seconds (158.85 k allocations: 32.764 MiB)\n",
      "JSONTables.jl arraytable\n",
      " 82.277402 seconds (1.05 G allocations: 27.742 GiB, 7.11% gc time)\n",
      "JSONTables.jl objecttable\n",
      "  1.589340 seconds (112.11 k allocations: 1.387 GiB, 16.48% gc time)\n"
     ]
    },
    {
     "data": {
      "text/plain": [
       "1.612961399"
      ]
     },
     "execution_count": 38,
     "metadata": {},
     "output_type": "execute_result"
    }
   ],
   "source": [
    "bigdf = DataFrame(rand(Bool, 10^5, 500))\n",
    "bigdf[!, 1] = Int.(bigdf[!, 1])\n",
    "bigdf[!, 2] = bigdf[!, 2] .+ 0.5\n",
    "bigdf[!, 3] = string.(bigdf[!, 3], \", as string\")\n",
    "println(\"First run\")\n",
    "println(\"CSV.jl\")\n",
    "csvwrite1 = @elapsed @time CSV.write(\"bigdf1.csv\", bigdf)\n",
    "println(\"CSVFiles.jl\")\n",
    "csvfileswrite1 = @elapsed @time bigdf |> save(\"bigdf2.csv\")\n",
    "println(\"Serialization\")\n",
    "serializewrite1 = @elapsed @time open(io -> serialize(io, bigdf), \"bigdf.bin\", \"w\")\n",
    "println(\"JDF.jl\")\n",
    "jdfwrite1 = @elapsed @time savejdf(\"bigdf.jdf\", bigdf)\n",
    "println(\"JLSO.jl\")\n",
    "jlsowrite1 = @elapsed @time JLSO.save(\"bigdf.jlso\", bigdf)\n",
    "println(\"Feather.jl\")\n",
    "featherwrite1 = @elapsed @time Feather.write(\"bigdf.feather\", bigdf)\n",
    "println(\"JSONTables.jl arraytable\")\n",
    "jsontablesawrite1 = @elapsed @time open(io -> arraytable(io, bigdf), \"bigdf1.json\", \"w\")\n",
    "println(\"JSONTables.jl objecttable\")\n",
    "jsontablesowrite1 = @elapsed @time open(io -> objecttable(io, bigdf), \"bigdf2.json\", \"w\")\n",
    "println(\"Second run\")\n",
    "println(\"CSV.jl\")\n",
    "csvwrite2 = @elapsed @time CSV.write(\"bigdf1.csv\", bigdf)\n",
    "println(\"CSVFiles.jl\")\n",
    "csvfileswrite2 = @elapsed @time bigdf |> save(\"bigdf2.csv\")\n",
    "println(\"Serialization\")\n",
    "serializewrite2 = @elapsed @time open(io -> serialize(io, bigdf), \"bigdf.bin\", \"w\")\n",
    "println(\"JDF.jl\")\n",
    "jdfwrite2 = @elapsed @time savejdf(\"bigdf.jdf\", bigdf)\n",
    "println(\"JLSO.jl\")\n",
    "jlsowrite2 = @elapsed @time JLSO.save(\"bigdf.jlso\", bigdf)\n",
    "println(\"Feather.jl\")\n",
    "featherwrite2 = @elapsed @time Feather.write(\"bigdf.feather\", bigdf)\n",
    "println(\"JSONTables.jl arraytable\")\n",
    "jsontablesawrite2 = @elapsed @time open(io -> arraytable(io, bigdf), \"bigdf1.json\", \"w\")\n",
    "println(\"JSONTables.jl objecttable\")\n",
    "jsontablesowrite2 = @elapsed @time open(io -> objecttable(io, bigdf), \"bigdf2.json\", \"w\")"
   ]
  },
  {
   "cell_type": "code",
   "execution_count": 39,
   "metadata": {},
   "outputs": [
    {
     "data": {
      "image/svg+xml": [
       "<?xml version=\"1.0\" encoding=\"utf-8\"?>\n",
       "<svg xmlns=\"http://www.w3.org/2000/svg\" xmlns:xlink=\"http://www.w3.org/1999/xlink\" width=\"600\" height=\"400\" viewBox=\"0 0 2400 1600\">\n",
       "<defs>\n",
       "  <clipPath id=\"clip2900\">\n",
       "    <rect x=\"0\" y=\"0\" width=\"2400\" height=\"1600\"/>\n",
       "  </clipPath>\n",
       "</defs>\n",
       "<path clip-path=\"url(#clip2900)\" d=\"\n",
       "M0 1600 L2400 1600 L2400 0 L0 0  Z\n",
       "  \" fill=\"#ffffff\" fill-rule=\"evenodd\" fill-opacity=\"1\"/>\n",
       "<defs>\n",
       "  <clipPath id=\"clip2901\">\n",
       "    <rect x=\"480\" y=\"0\" width=\"1681\" height=\"1600\"/>\n",
       "  </clipPath>\n",
       "</defs>\n",
       "<path clip-path=\"url(#clip2900)\" d=\"\n",
       "M175.611 1451.89 L2352.76 1451.89 L2352.76 244.432 L175.611 244.432  Z\n",
       "  \" fill=\"#ffffff\" fill-rule=\"evenodd\" fill-opacity=\"1\"/>\n",
       "<defs>\n",
       "  <clipPath id=\"clip2902\">\n",
       "    <rect x=\"175\" y=\"244\" width=\"2178\" height=\"1208\"/>\n",
       "  </clipPath>\n",
       "</defs>\n",
       "<polyline clip-path=\"url(#clip2902)\" style=\"stroke:#000000; stroke-width:2; stroke-opacity:0.1; fill:none\" points=\"\n",
       "  406.481,1451.89 406.481,244.432 \n",
       "  \"/>\n",
       "<polyline clip-path=\"url(#clip2902)\" style=\"stroke:#000000; stroke-width:2; stroke-opacity:0.1; fill:none\" points=\"\n",
       "  692.382,1451.89 692.382,244.432 \n",
       "  \"/>\n",
       "<polyline clip-path=\"url(#clip2902)\" style=\"stroke:#000000; stroke-width:2; stroke-opacity:0.1; fill:none\" points=\"\n",
       "  978.283,1451.89 978.283,244.432 \n",
       "  \"/>\n",
       "<polyline clip-path=\"url(#clip2902)\" style=\"stroke:#000000; stroke-width:2; stroke-opacity:0.1; fill:none\" points=\"\n",
       "  1264.18,1451.89 1264.18,244.432 \n",
       "  \"/>\n",
       "<polyline clip-path=\"url(#clip2902)\" style=\"stroke:#000000; stroke-width:2; stroke-opacity:0.1; fill:none\" points=\"\n",
       "  1550.08,1451.89 1550.08,244.432 \n",
       "  \"/>\n",
       "<polyline clip-path=\"url(#clip2902)\" style=\"stroke:#000000; stroke-width:2; stroke-opacity:0.1; fill:none\" points=\"\n",
       "  1835.98,1451.89 1835.98,244.432 \n",
       "  \"/>\n",
       "<polyline clip-path=\"url(#clip2902)\" style=\"stroke:#000000; stroke-width:2; stroke-opacity:0.1; fill:none\" points=\"\n",
       "  2121.89,1451.89 2121.89,244.432 \n",
       "  \"/>\n",
       "<polyline clip-path=\"url(#clip2902)\" style=\"stroke:#000000; stroke-width:2; stroke-opacity:0.1; fill:none\" points=\"\n",
       "  175.611,1417.71 2352.76,1417.71 \n",
       "  \"/>\n",
       "<polyline clip-path=\"url(#clip2902)\" style=\"stroke:#000000; stroke-width:2; stroke-opacity:0.1; fill:none\" points=\"\n",
       "  175.611,1137.34 2352.76,1137.34 \n",
       "  \"/>\n",
       "<polyline clip-path=\"url(#clip2902)\" style=\"stroke:#000000; stroke-width:2; stroke-opacity:0.1; fill:none\" points=\"\n",
       "  175.611,856.961 2352.76,856.961 \n",
       "  \"/>\n",
       "<polyline clip-path=\"url(#clip2902)\" style=\"stroke:#000000; stroke-width:2; stroke-opacity:0.1; fill:none\" points=\"\n",
       "  175.611,576.584 2352.76,576.584 \n",
       "  \"/>\n",
       "<polyline clip-path=\"url(#clip2902)\" style=\"stroke:#000000; stroke-width:2; stroke-opacity:0.1; fill:none\" points=\"\n",
       "  175.611,296.207 2352.76,296.207 \n",
       "  \"/>\n",
       "<polyline clip-path=\"url(#clip2900)\" style=\"stroke:#000000; stroke-width:4; stroke-opacity:1; fill:none\" points=\"\n",
       "  175.611,1451.89 2352.76,1451.89 \n",
       "  \"/>\n",
       "<polyline clip-path=\"url(#clip2900)\" style=\"stroke:#000000; stroke-width:4; stroke-opacity:1; fill:none\" points=\"\n",
       "  175.611,1451.89 175.611,244.432 \n",
       "  \"/>\n",
       "<polyline clip-path=\"url(#clip2900)\" style=\"stroke:#000000; stroke-width:4; stroke-opacity:1; fill:none\" points=\"\n",
       "  406.481,1451.89 406.481,1433.78 \n",
       "  \"/>\n",
       "<polyline clip-path=\"url(#clip2900)\" style=\"stroke:#000000; stroke-width:4; stroke-opacity:1; fill:none\" points=\"\n",
       "  692.382,1451.89 692.382,1433.78 \n",
       "  \"/>\n",
       "<polyline clip-path=\"url(#clip2900)\" style=\"stroke:#000000; stroke-width:4; stroke-opacity:1; fill:none\" points=\"\n",
       "  978.283,1451.89 978.283,1433.78 \n",
       "  \"/>\n",
       "<polyline clip-path=\"url(#clip2900)\" style=\"stroke:#000000; stroke-width:4; stroke-opacity:1; fill:none\" points=\"\n",
       "  1264.18,1451.89 1264.18,1433.78 \n",
       "  \"/>\n",
       "<polyline clip-path=\"url(#clip2900)\" style=\"stroke:#000000; stroke-width:4; stroke-opacity:1; fill:none\" points=\"\n",
       "  1550.08,1451.89 1550.08,1433.78 \n",
       "  \"/>\n",
       "<polyline clip-path=\"url(#clip2900)\" style=\"stroke:#000000; stroke-width:4; stroke-opacity:1; fill:none\" points=\"\n",
       "  1835.98,1451.89 1835.98,1433.78 \n",
       "  \"/>\n",
       "<polyline clip-path=\"url(#clip2900)\" style=\"stroke:#000000; stroke-width:4; stroke-opacity:1; fill:none\" points=\"\n",
       "  2121.89,1451.89 2121.89,1433.78 \n",
       "  \"/>\n",
       "<polyline clip-path=\"url(#clip2900)\" style=\"stroke:#000000; stroke-width:4; stroke-opacity:1; fill:none\" points=\"\n",
       "  175.611,1417.71 208.268,1417.71 \n",
       "  \"/>\n",
       "<polyline clip-path=\"url(#clip2900)\" style=\"stroke:#000000; stroke-width:4; stroke-opacity:1; fill:none\" points=\"\n",
       "  175.611,1137.34 208.268,1137.34 \n",
       "  \"/>\n",
       "<polyline clip-path=\"url(#clip2900)\" style=\"stroke:#000000; stroke-width:4; stroke-opacity:1; fill:none\" points=\"\n",
       "  175.611,856.961 208.268,856.961 \n",
       "  \"/>\n",
       "<polyline clip-path=\"url(#clip2900)\" style=\"stroke:#000000; stroke-width:4; stroke-opacity:1; fill:none\" points=\"\n",
       "  175.611,576.584 208.268,576.584 \n",
       "  \"/>\n",
       "<polyline clip-path=\"url(#clip2900)\" style=\"stroke:#000000; stroke-width:4; stroke-opacity:1; fill:none\" points=\"\n",
       "  175.611,296.207 208.268,296.207 \n",
       "  \"/>\n",
       "<g clip-path=\"url(#clip2900)\">\n",
       "<text style=\"fill:#000000; fill-opacity:1; font-family:Arial,Helvetica Neue,Helvetica,sans-serif; font-size:48px; text-anchor:middle;\" transform=\"rotate(0, 406.481, 1505.89)\" x=\"406.481\" y=\"1505.89\">CSV.jl</text>\n",
       "</g>\n",
       "<g clip-path=\"url(#clip2900)\">\n",
       "<text style=\"fill:#000000; fill-opacity:1; font-family:Arial,Helvetica Neue,Helvetica,sans-serif; font-size:48px; text-anchor:middle;\" transform=\"rotate(0, 692.382, 1505.89)\" x=\"692.382\" y=\"1505.89\">CSVFiles.jl</text>\n",
       "</g>\n",
       "<g clip-path=\"url(#clip2900)\">\n",
       "<text style=\"fill:#000000; fill-opacity:1; font-family:Arial,Helvetica Neue,Helvetica,sans-serif; font-size:48px; text-anchor:middle;\" transform=\"rotate(0, 978.283, 1505.89)\" x=\"978.283\" y=\"1505.89\">Feather.jl</text>\n",
       "</g>\n",
       "<g clip-path=\"url(#clip2900)\">\n",
       "<text style=\"fill:#000000; fill-opacity:1; font-family:Arial,Helvetica Neue,Helvetica,sans-serif; font-size:48px; text-anchor:middle;\" transform=\"rotate(0, 1264.18, 1505.89)\" x=\"1264.18\" y=\"1505.89\">JDF.jl</text>\n",
       "</g>\n",
       "<g clip-path=\"url(#clip2900)\">\n",
       "<text style=\"fill:#000000; fill-opacity:1; font-family:Arial,Helvetica Neue,Helvetica,sans-serif; font-size:48px; text-anchor:middle;\" transform=\"rotate(0, 1550.08, 1505.89)\" x=\"1550.08\" y=\"1505.89\">JLSO.jl</text>\n",
       "</g>\n",
       "<g clip-path=\"url(#clip2900)\">\n",
       "<text style=\"fill:#000000; fill-opacity:1; font-family:Arial,Helvetica Neue,Helvetica,sans-serif; font-size:48px; text-anchor:middle;\" transform=\"rotate(0, 1835.98, 1505.89)\" x=\"1835.98\" y=\"1505.89\">JSONTables.jl</text>\n",
       "</g>\n",
       "<g clip-path=\"url(#clip2900)\">\n",
       "<text style=\"fill:#000000; fill-opacity:1; font-family:Arial,Helvetica Neue,Helvetica,sans-serif; font-size:48px; text-anchor:middle;\" transform=\"rotate(0, 1835.98, 1557.73)\" x=\"1835.98\" y=\"1557.73\">objecttable</text>\n",
       "</g>\n",
       "<g clip-path=\"url(#clip2900)\">\n",
       "<text style=\"fill:#000000; fill-opacity:1; font-family:Arial,Helvetica Neue,Helvetica,sans-serif; font-size:48px; text-anchor:middle;\" transform=\"rotate(0, 2121.89, 1505.89)\" x=\"2121.89\" y=\"1505.89\">Serialization</text>\n",
       "</g>\n",
       "<g clip-path=\"url(#clip2900)\">\n",
       "<text style=\"fill:#000000; fill-opacity:1; font-family:Arial,Helvetica Neue,Helvetica,sans-serif; font-size:48px; text-anchor:end;\" transform=\"rotate(0, 151.611, 1435.21)\" x=\"151.611\" y=\"1435.21\">0</text>\n",
       "</g>\n",
       "<g clip-path=\"url(#clip2900)\">\n",
       "<text style=\"fill:#000000; fill-opacity:1; font-family:Arial,Helvetica Neue,Helvetica,sans-serif; font-size:48px; text-anchor:end;\" transform=\"rotate(0, 151.611, 1154.84)\" x=\"151.611\" y=\"1154.84\">2</text>\n",
       "</g>\n",
       "<g clip-path=\"url(#clip2900)\">\n",
       "<text style=\"fill:#000000; fill-opacity:1; font-family:Arial,Helvetica Neue,Helvetica,sans-serif; font-size:48px; text-anchor:end;\" transform=\"rotate(0, 151.611, 874.461)\" x=\"151.611\" y=\"874.461\">4</text>\n",
       "</g>\n",
       "<g clip-path=\"url(#clip2900)\">\n",
       "<text style=\"fill:#000000; fill-opacity:1; font-family:Arial,Helvetica Neue,Helvetica,sans-serif; font-size:48px; text-anchor:end;\" transform=\"rotate(0, 151.611, 594.084)\" x=\"151.611\" y=\"594.084\">6</text>\n",
       "</g>\n",
       "<g clip-path=\"url(#clip2900)\">\n",
       "<text style=\"fill:#000000; fill-opacity:1; font-family:Arial,Helvetica Neue,Helvetica,sans-serif; font-size:48px; text-anchor:end;\" transform=\"rotate(0, 151.611, 313.707)\" x=\"151.611\" y=\"313.707\">8</text>\n",
       "</g>\n",
       "<g clip-path=\"url(#clip2900)\">\n",
       "<text style=\"fill:#000000; fill-opacity:1; font-family:Arial,Helvetica Neue,Helvetica,sans-serif; font-size:84px; text-anchor:middle;\" transform=\"rotate(0, 1264.18, 73.2)\" x=\"1264.18\" y=\"73.2\">Write Performance</text>\n",
       "</g>\n",
       "<g clip-path=\"url(#clip2900)\">\n",
       "<text style=\"fill:#000000; fill-opacity:1; font-family:Arial,Helvetica Neue,Helvetica,sans-serif; font-size:84px; text-anchor:middle;\" transform=\"rotate(0, 1264.18, 163.92)\" x=\"1264.18\" y=\"163.92\">DataFrame: bigdf</text>\n",
       "</g>\n",
       "<g clip-path=\"url(#clip2900)\">\n",
       "<text style=\"fill:#000000; fill-opacity:1; font-family:Arial,Helvetica Neue,Helvetica,sans-serif; font-size:84px; text-anchor:middle;\" transform=\"rotate(0, 1264.18, 254.64)\" x=\"1264.18\" y=\"254.64\">Size: (100000, 500)</text>\n",
       "</g>\n",
       "<g clip-path=\"url(#clip2900)\">\n",
       "<text style=\"fill:#000000; fill-opacity:1; font-family:Arial,Helvetica Neue,Helvetica,sans-serif; font-size:66px; text-anchor:middle;\" transform=\"rotate(-90, 89.2861, 848.16)\" x=\"89.2861\" y=\"848.16\">Second</text>\n",
       "</g>\n",
       "<path clip-path=\"url(#clip2902)\" d=\"\n",
       "M292.121 424.612 L292.121 1417.71 L406.481 1417.71 L406.481 424.612 L292.121 424.612 L292.121 424.612  Z\n",
       "  \" fill=\"#009af9\" fill-rule=\"evenodd\" fill-opacity=\"1\"/>\n",
       "<polyline clip-path=\"url(#clip2902)\" style=\"stroke:#000000; stroke-width:4; stroke-opacity:1; fill:none\" points=\"\n",
       "  292.121,424.612 292.121,1417.71 406.481,1417.71 406.481,424.612 292.121,424.612 \n",
       "  \"/>\n",
       "<path clip-path=\"url(#clip2902)\" d=\"\n",
       "M578.022 442.387 L578.022 1417.71 L692.382 1417.71 L692.382 442.387 L578.022 442.387 L578.022 442.387  Z\n",
       "  \" fill=\"#009af9\" fill-rule=\"evenodd\" fill-opacity=\"1\"/>\n",
       "<polyline clip-path=\"url(#clip2902)\" style=\"stroke:#000000; stroke-width:4; stroke-opacity:1; fill:none\" points=\"\n",
       "  578.022,442.387 578.022,1417.71 692.382,1417.71 692.382,442.387 578.022,442.387 \n",
       "  \"/>\n",
       "<path clip-path=\"url(#clip2902)\" d=\"\n",
       "M863.922 1370.73 L863.922 1417.71 L978.283 1417.71 L978.283 1370.73 L863.922 1370.73 L863.922 1370.73  Z\n",
       "  \" fill=\"#009af9\" fill-rule=\"evenodd\" fill-opacity=\"1\"/>\n",
       "<polyline clip-path=\"url(#clip2902)\" style=\"stroke:#000000; stroke-width:4; stroke-opacity:1; fill:none\" points=\"\n",
       "  863.922,1370.73 863.922,1417.71 978.283,1417.71 978.283,1370.73 863.922,1370.73 \n",
       "  \"/>\n",
       "<path clip-path=\"url(#clip2902)\" d=\"\n",
       "M1149.82 1344.12 L1149.82 1417.71 L1264.18 1417.71 L1264.18 1344.12 L1149.82 1344.12 L1149.82 1344.12  Z\n",
       "  \" fill=\"#009af9\" fill-rule=\"evenodd\" fill-opacity=\"1\"/>\n",
       "<polyline clip-path=\"url(#clip2902)\" style=\"stroke:#000000; stroke-width:4; stroke-opacity:1; fill:none\" points=\"\n",
       "  1149.82,1344.12 1149.82,1417.71 1264.18,1417.71 1264.18,1344.12 1149.82,1344.12 \n",
       "  \"/>\n",
       "<path clip-path=\"url(#clip2902)\" d=\"\n",
       "M1435.72 354.209 L1435.72 1417.71 L1550.08 1417.71 L1550.08 354.209 L1435.72 354.209 L1435.72 354.209  Z\n",
       "  \" fill=\"#009af9\" fill-rule=\"evenodd\" fill-opacity=\"1\"/>\n",
       "<polyline clip-path=\"url(#clip2902)\" style=\"stroke:#000000; stroke-width:4; stroke-opacity:1; fill:none\" points=\"\n",
       "  1435.72,354.209 1435.72,1417.71 1550.08,1417.71 1550.08,354.209 1435.72,354.209 \n",
       "  \"/>\n",
       "<path clip-path=\"url(#clip2902)\" d=\"\n",
       "M1721.62 1191.6 L1721.62 1417.71 L1835.98 1417.71 L1835.98 1191.6 L1721.62 1191.6 L1721.62 1191.6  Z\n",
       "  \" fill=\"#009af9\" fill-rule=\"evenodd\" fill-opacity=\"1\"/>\n",
       "<polyline clip-path=\"url(#clip2902)\" style=\"stroke:#000000; stroke-width:4; stroke-opacity:1; fill:none\" points=\"\n",
       "  1721.62,1191.6 1721.62,1417.71 1835.98,1417.71 1835.98,1191.6 1721.62,1191.6 \n",
       "  \"/>\n",
       "<path clip-path=\"url(#clip2902)\" d=\"\n",
       "M2007.53 1347.01 L2007.53 1417.71 L2121.89 1417.71 L2121.89 1347.01 L2007.53 1347.01 L2007.53 1347.01  Z\n",
       "  \" fill=\"#009af9\" fill-rule=\"evenodd\" fill-opacity=\"1\"/>\n",
       "<polyline clip-path=\"url(#clip2902)\" style=\"stroke:#000000; stroke-width:4; stroke-opacity:1; fill:none\" points=\"\n",
       "  2007.53,1347.01 2007.53,1417.71 2121.89,1417.71 2121.89,1347.01 2007.53,1347.01 \n",
       "  \"/>\n",
       "<path clip-path=\"url(#clip2902)\" d=\"\n",
       "M406.481 662.815 L406.481 1417.71 L520.841 1417.71 L520.841 662.815 L406.481 662.815 L406.481 662.815  Z\n",
       "  \" fill=\"#e26f46\" fill-rule=\"evenodd\" fill-opacity=\"1\"/>\n",
       "<polyline clip-path=\"url(#clip2902)\" style=\"stroke:#000000; stroke-width:4; stroke-opacity:1; fill:none\" points=\"\n",
       "  406.481,662.815 406.481,1417.71 520.841,1417.71 520.841,662.815 406.481,662.815 \n",
       "  \"/>\n",
       "<path clip-path=\"url(#clip2902)\" d=\"\n",
       "M692.382 990.523 L692.382 1417.71 L806.742 1417.71 L806.742 990.523 L692.382 990.523 L692.382 990.523  Z\n",
       "  \" fill=\"#e26f46\" fill-rule=\"evenodd\" fill-opacity=\"1\"/>\n",
       "<polyline clip-path=\"url(#clip2902)\" style=\"stroke:#000000; stroke-width:4; stroke-opacity:1; fill:none\" points=\"\n",
       "  692.382,990.523 692.382,1417.71 806.742,1417.71 806.742,990.523 692.382,990.523 \n",
       "  \"/>\n",
       "<path clip-path=\"url(#clip2902)\" d=\"\n",
       "M978.283 1401 L978.283 1417.71 L1092.64 1417.71 L1092.64 1401 L978.283 1401 L978.283 1401  Z\n",
       "  \" fill=\"#e26f46\" fill-rule=\"evenodd\" fill-opacity=\"1\"/>\n",
       "<polyline clip-path=\"url(#clip2902)\" style=\"stroke:#000000; stroke-width:4; stroke-opacity:1; fill:none\" points=\"\n",
       "  978.283,1401 978.283,1417.71 1092.64,1417.71 1092.64,1401 978.283,1401 \n",
       "  \"/>\n",
       "<path clip-path=\"url(#clip2902)\" d=\"\n",
       "M1264.18 1342.17 L1264.18 1417.71 L1378.54 1417.71 L1378.54 1342.17 L1264.18 1342.17 L1264.18 1342.17  Z\n",
       "  \" fill=\"#e26f46\" fill-rule=\"evenodd\" fill-opacity=\"1\"/>\n",
       "<polyline clip-path=\"url(#clip2902)\" style=\"stroke:#000000; stroke-width:4; stroke-opacity:1; fill:none\" points=\"\n",
       "  1264.18,1342.17 1264.18,1417.71 1378.54,1417.71 1378.54,1342.17 1264.18,1342.17 \n",
       "  \"/>\n",
       "<path clip-path=\"url(#clip2902)\" d=\"\n",
       "M1550.08 278.605 L1550.08 1417.71 L1664.44 1417.71 L1664.44 278.605 L1550.08 278.605 L1550.08 278.605  Z\n",
       "  \" fill=\"#e26f46\" fill-rule=\"evenodd\" fill-opacity=\"1\"/>\n",
       "<polyline clip-path=\"url(#clip2902)\" style=\"stroke:#000000; stroke-width:4; stroke-opacity:1; fill:none\" points=\"\n",
       "  1550.08,278.605 1550.08,1417.71 1664.44,1417.71 1664.44,278.605 1550.08,278.605 \n",
       "  \"/>\n",
       "<path clip-path=\"url(#clip2902)\" d=\"\n",
       "M1835.98 1191.6 L1835.98 1417.71 L1950.34 1417.71 L1950.34 1191.6 L1835.98 1191.6 L1835.98 1191.6  Z\n",
       "  \" fill=\"#e26f46\" fill-rule=\"evenodd\" fill-opacity=\"1\"/>\n",
       "<polyline clip-path=\"url(#clip2902)\" style=\"stroke:#000000; stroke-width:4; stroke-opacity:1; fill:none\" points=\"\n",
       "  1835.98,1191.6 1835.98,1417.71 1950.34,1417.71 1950.34,1191.6 1835.98,1191.6 \n",
       "  \"/>\n",
       "<path clip-path=\"url(#clip2902)\" d=\"\n",
       "M2121.89 1347.01 L2121.89 1417.71 L2236.25 1417.71 L2236.25 1347.01 L2121.89 1347.01 L2121.89 1347.01  Z\n",
       "  \" fill=\"#e26f46\" fill-rule=\"evenodd\" fill-opacity=\"1\"/>\n",
       "<polyline clip-path=\"url(#clip2902)\" style=\"stroke:#000000; stroke-width:4; stroke-opacity:1; fill:none\" points=\"\n",
       "  2121.89,1347.01 2121.89,1417.71 2236.25,1417.71 2236.25,1347.01 2121.89,1347.01 \n",
       "  \"/>\n",
       "<path clip-path=\"url(#clip2900)\" d=\"\n",
       "M1960.47 509.392 L2280.76 509.392 L2280.76 327.952 L1960.47 327.952  Z\n",
       "  \" fill=\"#ffffff\" fill-rule=\"evenodd\" fill-opacity=\"1\"/>\n",
       "<polyline clip-path=\"url(#clip2900)\" style=\"stroke:#000000; stroke-width:4; stroke-opacity:1; fill:none\" points=\"\n",
       "  1960.47,509.392 2280.76,509.392 2280.76,327.952 1960.47,327.952 1960.47,509.392 \n",
       "  \"/>\n",
       "<path clip-path=\"url(#clip2900)\" d=\"\n",
       "M1984.47 412.624 L2128.47 412.624 L2128.47 364.24 L1984.47 364.24 L1984.47 412.624  Z\n",
       "  \" fill=\"#009af9\" fill-rule=\"evenodd\" fill-opacity=\"1\"/>\n",
       "<polyline clip-path=\"url(#clip2900)\" style=\"stroke:#000000; stroke-width:4; stroke-opacity:1; fill:none\" points=\"\n",
       "  1984.47,412.624 2128.47,412.624 2128.47,364.24 1984.47,364.24 1984.47,412.624 \n",
       "  \"/>\n",
       "<g clip-path=\"url(#clip2900)\">\n",
       "<text style=\"fill:#000000; fill-opacity:1; font-family:Arial,Helvetica Neue,Helvetica,sans-serif; font-size:48px; text-anchor:start;\" transform=\"rotate(0, 2152.47, 405.932)\" x=\"2152.47\" y=\"405.932\">1st</text>\n",
       "</g>\n",
       "<path clip-path=\"url(#clip2900)\" d=\"\n",
       "M1984.47 473.104 L2128.47 473.104 L2128.47 424.72 L1984.47 424.72 L1984.47 473.104  Z\n",
       "  \" fill=\"#e26f46\" fill-rule=\"evenodd\" fill-opacity=\"1\"/>\n",
       "<polyline clip-path=\"url(#clip2900)\" style=\"stroke:#000000; stroke-width:4; stroke-opacity:1; fill:none\" points=\"\n",
       "  1984.47,473.104 2128.47,473.104 2128.47,424.72 1984.47,424.72 1984.47,473.104 \n",
       "  \"/>\n",
       "<g clip-path=\"url(#clip2900)\">\n",
       "<text style=\"fill:#000000; fill-opacity:1; font-family:Arial,Helvetica Neue,Helvetica,sans-serif; font-size:48px; text-anchor:start;\" transform=\"rotate(0, 2152.47, 466.412)\" x=\"2152.47\" y=\"466.412\">2nd</text>\n",
       "</g>\n",
       "</svg>\n"
      ]
     },
     "execution_count": 39,
     "metadata": {},
     "output_type": "execute_result"
    }
   ],
   "source": [
    "groupedbar(\n",
    "    #repeat([\"CSV.jl\", \"CSVFiles.jl\", \"Serialization\", \"JDF.jl\", \"JLSO.jl\", \"Feather.jl\", \"JSONTables.jl\\narraytable\", \"JSONTables.jl\\nobjecttable\"], inner = 2),\n",
    "    #[csvwrite1, csvwrite2, csvfileswrite1, csvfileswrite2, serializewrite1, serializewrite1, jdfwrite1, jdfwrite2, jlsowrite1, jlsowrite2, featherwrite1, featherwrite2, jsontablesawrite1, jsontablesawrite2, jsontablesowrite2, jsontablesowrite2],\n",
    "    # Exclude JSONTables.jl arraytable due to timing\n",
    "    repeat([\"CSV.jl\", \"CSVFiles.jl\", \"Serialization\", \"JDF.jl\", \"JLSO.jl\", \"Feather.jl\", \"JSONTables.jl\\nobjecttable\"], inner = 2),\n",
    "    [csvwrite1, csvwrite2, csvfileswrite1, csvfileswrite2, serializewrite1, serializewrite1, jdfwrite1, jdfwrite2, jlsowrite1, jlsowrite2, featherwrite1, featherwrite2, jsontablesowrite2, jsontablesowrite2],\n",
    "    group = repeat([\"1st\", \"2nd\"], outer = 7),\n",
    "    ylab = \"Second\",\n",
    "    title = \"Write Performance\\nDataFrame: bigdf\\nSize: $(size(bigdf))\"\n",
    ")"
   ]
  },
  {
   "cell_type": "code",
   "execution_count": 40,
   "metadata": {},
   "outputs": [
    {
     "data": {
      "text/html": [
       "<table class=\"data-frame\"><thead><tr><th></th><th>file</th><th>size</th></tr><tr><th></th><th>String</th><th>Int64</th></tr></thead><tbody><p>7 rows × 2 columns</p><tr><th>1</th><td>bigdf1.csv</td><td>275804589</td></tr><tr><th>2</th><td>bigdf2.csv</td><td>275805589</td></tr><tr><th>3</th><td>bigdf.bin</td><td>28208794</td></tr><tr><th>4</th><td>bigdf.feather</td><td>9798144</td></tr><tr><th>5</th><td>bigdf1.json</td><td>615202198</td></tr><tr><th>6</th><td>bigdf2.json</td><td>275806590</td></tr><tr><th>7</th><td>bigdf.jdf</td><td>26017099</td></tr></tbody></table>"
      ],
      "text/latex": [
       "\\begin{tabular}{r|cc}\n",
       "\t& file & size\\\\\n",
       "\t\\hline\n",
       "\t& String & Int64\\\\\n",
       "\t\\hline\n",
       "\t1 & bigdf1.csv & 275804589 \\\\\n",
       "\t2 & bigdf2.csv & 275805589 \\\\\n",
       "\t3 & bigdf.bin & 28208794 \\\\\n",
       "\t4 & bigdf.feather & 9798144 \\\\\n",
       "\t5 & bigdf1.json & 615202198 \\\\\n",
       "\t6 & bigdf2.json & 275806590 \\\\\n",
       "\t7 & bigdf.jdf & 26017099 \\\\\n",
       "\\end{tabular}\n"
      ],
      "text/plain": [
       "7×2 DataFrame\n",
       "│ Row │ file          │ size      │\n",
       "│     │ \u001b[90mString\u001b[39m        │ \u001b[90mInt64\u001b[39m     │\n",
       "├─────┼───────────────┼───────────┤\n",
       "│ 1   │ bigdf1.csv    │ 275804589 │\n",
       "│ 2   │ bigdf2.csv    │ 275805589 │\n",
       "│ 3   │ bigdf.bin     │ 28208794  │\n",
       "│ 4   │ bigdf.feather │ 9798144   │\n",
       "│ 5   │ bigdf1.json   │ 615202198 │\n",
       "│ 6   │ bigdf2.json   │ 275806590 │\n",
       "│ 7   │ bigdf.jdf     │ 26017099  │"
      ]
     },
     "execution_count": 40,
     "metadata": {},
     "output_type": "execute_result"
    }
   ],
   "source": [
    "data_files = [\"bigdf1.csv\", \"bigdf2.csv\", \"bigdf.bin\", \"bigdf.feather\", \"bigdf1.json\", \"bigdf2.json\"]\n",
    "df = DataFrame(file = data_files,\n",
    "          size = getfield.(stat.(data_files), :size))\n",
    "\n",
    "\n",
    "append!(df, DataFrame(file = \"bigdf.jdf\", size=reduce((x,y)->x+y.size, stat.(joinpath.(\"bigdf.jdf\", readdir(\"bigdf.jdf\"))), init=0)))"
   ]
  },
  {
   "cell_type": "code",
   "execution_count": 41,
   "metadata": {},
   "outputs": [
    {
     "data": {
      "image/svg+xml": [
       "<?xml version=\"1.0\" encoding=\"utf-8\"?>\n",
       "<svg xmlns=\"http://www.w3.org/2000/svg\" xmlns:xlink=\"http://www.w3.org/1999/xlink\" width=\"600\" height=\"400\" viewBox=\"0 0 2400 1600\">\n",
       "<defs>\n",
       "  <clipPath id=\"clip3300\">\n",
       "    <rect x=\"0\" y=\"0\" width=\"2400\" height=\"1600\"/>\n",
       "  </clipPath>\n",
       "</defs>\n",
       "<path clip-path=\"url(#clip3300)\" d=\"\n",
       "M0 1600 L2400 1600 L2400 0 L0 0  Z\n",
       "  \" fill=\"#ffffff\" fill-rule=\"evenodd\" fill-opacity=\"1\"/>\n",
       "<defs>\n",
       "  <clipPath id=\"clip3301\">\n",
       "    <rect x=\"480\" y=\"0\" width=\"1681\" height=\"1600\"/>\n",
       "  </clipPath>\n",
       "</defs>\n",
       "<path clip-path=\"url(#clip3300)\" d=\"\n",
       "M229.135 1487.47 L2352.76 1487.47 L2352.76 121.675 L229.135 121.675  Z\n",
       "  \" fill=\"#ffffff\" fill-rule=\"evenodd\" fill-opacity=\"1\"/>\n",
       "<defs>\n",
       "  <clipPath id=\"clip3302\">\n",
       "    <rect x=\"229\" y=\"121\" width=\"2125\" height=\"1367\"/>\n",
       "  </clipPath>\n",
       "</defs>\n",
       "<polyline clip-path=\"url(#clip3302)\" style=\"stroke:#000000; stroke-width:2; stroke-opacity:0.1; fill:none\" points=\"\n",
       "  457.116,1487.47 457.116,121.675 \n",
       "  \"/>\n",
       "<polyline clip-path=\"url(#clip3302)\" style=\"stroke:#000000; stroke-width:2; stroke-opacity:0.1; fill:none\" points=\"\n",
       "  735.059,1487.47 735.059,121.675 \n",
       "  \"/>\n",
       "<polyline clip-path=\"url(#clip3302)\" style=\"stroke:#000000; stroke-width:2; stroke-opacity:0.1; fill:none\" points=\"\n",
       "  1013,1487.47 1013,121.675 \n",
       "  \"/>\n",
       "<polyline clip-path=\"url(#clip3302)\" style=\"stroke:#000000; stroke-width:2; stroke-opacity:0.1; fill:none\" points=\"\n",
       "  1290.95,1487.47 1290.95,121.675 \n",
       "  \"/>\n",
       "<polyline clip-path=\"url(#clip3302)\" style=\"stroke:#000000; stroke-width:2; stroke-opacity:0.1; fill:none\" points=\"\n",
       "  1568.89,1487.47 1568.89,121.675 \n",
       "  \"/>\n",
       "<polyline clip-path=\"url(#clip3302)\" style=\"stroke:#000000; stroke-width:2; stroke-opacity:0.1; fill:none\" points=\"\n",
       "  1846.83,1487.47 1846.83,121.675 \n",
       "  \"/>\n",
       "<polyline clip-path=\"url(#clip3302)\" style=\"stroke:#000000; stroke-width:2; stroke-opacity:0.1; fill:none\" points=\"\n",
       "  2124.78,1487.47 2124.78,121.675 \n",
       "  \"/>\n",
       "<polyline clip-path=\"url(#clip3302)\" style=\"stroke:#000000; stroke-width:2; stroke-opacity:0.1; fill:none\" points=\"\n",
       "  229.135,1448.82 2352.76,1448.82 \n",
       "  \"/>\n",
       "<polyline clip-path=\"url(#clip3302)\" style=\"stroke:#000000; stroke-width:2; stroke-opacity:0.1; fill:none\" points=\"\n",
       "  229.135,1229.2 2352.76,1229.2 \n",
       "  \"/>\n",
       "<polyline clip-path=\"url(#clip3302)\" style=\"stroke:#000000; stroke-width:2; stroke-opacity:0.1; fill:none\" points=\"\n",
       "  229.135,1009.59 2352.76,1009.59 \n",
       "  \"/>\n",
       "<polyline clip-path=\"url(#clip3302)\" style=\"stroke:#000000; stroke-width:2; stroke-opacity:0.1; fill:none\" points=\"\n",
       "  229.135,789.973 2352.76,789.973 \n",
       "  \"/>\n",
       "<polyline clip-path=\"url(#clip3302)\" style=\"stroke:#000000; stroke-width:2; stroke-opacity:0.1; fill:none\" points=\"\n",
       "  229.135,570.358 2352.76,570.358 \n",
       "  \"/>\n",
       "<polyline clip-path=\"url(#clip3302)\" style=\"stroke:#000000; stroke-width:2; stroke-opacity:0.1; fill:none\" points=\"\n",
       "  229.135,350.742 2352.76,350.742 \n",
       "  \"/>\n",
       "<polyline clip-path=\"url(#clip3302)\" style=\"stroke:#000000; stroke-width:2; stroke-opacity:0.1; fill:none\" points=\"\n",
       "  229.135,131.127 2352.76,131.127 \n",
       "  \"/>\n",
       "<polyline clip-path=\"url(#clip3300)\" style=\"stroke:#000000; stroke-width:4; stroke-opacity:1; fill:none\" points=\"\n",
       "  229.135,1487.47 2352.76,1487.47 \n",
       "  \"/>\n",
       "<polyline clip-path=\"url(#clip3300)\" style=\"stroke:#000000; stroke-width:4; stroke-opacity:1; fill:none\" points=\"\n",
       "  229.135,1487.47 229.135,121.675 \n",
       "  \"/>\n",
       "<polyline clip-path=\"url(#clip3300)\" style=\"stroke:#000000; stroke-width:4; stroke-opacity:1; fill:none\" points=\"\n",
       "  457.116,1487.47 457.116,1466.99 \n",
       "  \"/>\n",
       "<polyline clip-path=\"url(#clip3300)\" style=\"stroke:#000000; stroke-width:4; stroke-opacity:1; fill:none\" points=\"\n",
       "  735.059,1487.47 735.059,1466.99 \n",
       "  \"/>\n",
       "<polyline clip-path=\"url(#clip3300)\" style=\"stroke:#000000; stroke-width:4; stroke-opacity:1; fill:none\" points=\"\n",
       "  1013,1487.47 1013,1466.99 \n",
       "  \"/>\n",
       "<polyline clip-path=\"url(#clip3300)\" style=\"stroke:#000000; stroke-width:4; stroke-opacity:1; fill:none\" points=\"\n",
       "  1290.95,1487.47 1290.95,1466.99 \n",
       "  \"/>\n",
       "<polyline clip-path=\"url(#clip3300)\" style=\"stroke:#000000; stroke-width:4; stroke-opacity:1; fill:none\" points=\"\n",
       "  1568.89,1487.47 1568.89,1466.99 \n",
       "  \"/>\n",
       "<polyline clip-path=\"url(#clip3300)\" style=\"stroke:#000000; stroke-width:4; stroke-opacity:1; fill:none\" points=\"\n",
       "  1846.83,1487.47 1846.83,1466.99 \n",
       "  \"/>\n",
       "<polyline clip-path=\"url(#clip3300)\" style=\"stroke:#000000; stroke-width:4; stroke-opacity:1; fill:none\" points=\"\n",
       "  2124.78,1487.47 2124.78,1466.99 \n",
       "  \"/>\n",
       "<polyline clip-path=\"url(#clip3300)\" style=\"stroke:#000000; stroke-width:4; stroke-opacity:1; fill:none\" points=\"\n",
       "  229.135,1448.82 260.99,1448.82 \n",
       "  \"/>\n",
       "<polyline clip-path=\"url(#clip3300)\" style=\"stroke:#000000; stroke-width:4; stroke-opacity:1; fill:none\" points=\"\n",
       "  229.135,1229.2 260.99,1229.2 \n",
       "  \"/>\n",
       "<polyline clip-path=\"url(#clip3300)\" style=\"stroke:#000000; stroke-width:4; stroke-opacity:1; fill:none\" points=\"\n",
       "  229.135,1009.59 260.99,1009.59 \n",
       "  \"/>\n",
       "<polyline clip-path=\"url(#clip3300)\" style=\"stroke:#000000; stroke-width:4; stroke-opacity:1; fill:none\" points=\"\n",
       "  229.135,789.973 260.99,789.973 \n",
       "  \"/>\n",
       "<polyline clip-path=\"url(#clip3300)\" style=\"stroke:#000000; stroke-width:4; stroke-opacity:1; fill:none\" points=\"\n",
       "  229.135,570.358 260.99,570.358 \n",
       "  \"/>\n",
       "<polyline clip-path=\"url(#clip3300)\" style=\"stroke:#000000; stroke-width:4; stroke-opacity:1; fill:none\" points=\"\n",
       "  229.135,350.742 260.99,350.742 \n",
       "  \"/>\n",
       "<polyline clip-path=\"url(#clip3300)\" style=\"stroke:#000000; stroke-width:4; stroke-opacity:1; fill:none\" points=\"\n",
       "  229.135,131.127 260.99,131.127 \n",
       "  \"/>\n",
       "<g clip-path=\"url(#clip3300)\">\n",
       "<text style=\"fill:#000000; fill-opacity:1; font-family:Arial,Helvetica Neue,Helvetica,sans-serif; font-size:48px; text-anchor:middle;\" transform=\"rotate(0, 457.116, 1541.47)\" x=\"457.116\" y=\"1541.47\">bigdf1.csv</text>\n",
       "</g>\n",
       "<g clip-path=\"url(#clip3300)\">\n",
       "<text style=\"fill:#000000; fill-opacity:1; font-family:Arial,Helvetica Neue,Helvetica,sans-serif; font-size:48px; text-anchor:middle;\" transform=\"rotate(0, 735.059, 1541.47)\" x=\"735.059\" y=\"1541.47\">bigdf2.csv</text>\n",
       "</g>\n",
       "<g clip-path=\"url(#clip3300)\">\n",
       "<text style=\"fill:#000000; fill-opacity:1; font-family:Arial,Helvetica Neue,Helvetica,sans-serif; font-size:48px; text-anchor:middle;\" transform=\"rotate(0, 1013, 1541.47)\" x=\"1013\" y=\"1541.47\">bigdf.bin</text>\n",
       "</g>\n",
       "<g clip-path=\"url(#clip3300)\">\n",
       "<text style=\"fill:#000000; fill-opacity:1; font-family:Arial,Helvetica Neue,Helvetica,sans-serif; font-size:48px; text-anchor:middle;\" transform=\"rotate(0, 1290.95, 1541.47)\" x=\"1290.95\" y=\"1541.47\">bigdf.feather</text>\n",
       "</g>\n",
       "<g clip-path=\"url(#clip3300)\">\n",
       "<text style=\"fill:#000000; fill-opacity:1; font-family:Arial,Helvetica Neue,Helvetica,sans-serif; font-size:48px; text-anchor:middle;\" transform=\"rotate(0, 1568.89, 1541.47)\" x=\"1568.89\" y=\"1541.47\">bigdf1.json</text>\n",
       "</g>\n",
       "<g clip-path=\"url(#clip3300)\">\n",
       "<text style=\"fill:#000000; fill-opacity:1; font-family:Arial,Helvetica Neue,Helvetica,sans-serif; font-size:48px; text-anchor:middle;\" transform=\"rotate(0, 1846.83, 1541.47)\" x=\"1846.83\" y=\"1541.47\">bigdf2.json</text>\n",
       "</g>\n",
       "<g clip-path=\"url(#clip3300)\">\n",
       "<text style=\"fill:#000000; fill-opacity:1; font-family:Arial,Helvetica Neue,Helvetica,sans-serif; font-size:48px; text-anchor:middle;\" transform=\"rotate(0, 2124.78, 1541.47)\" x=\"2124.78\" y=\"1541.47\">bigdf.jdf</text>\n",
       "</g>\n",
       "<g clip-path=\"url(#clip3300)\">\n",
       "<text style=\"fill:#000000; fill-opacity:1; font-family:Arial,Helvetica Neue,Helvetica,sans-serif; font-size:48px; text-anchor:end;\" transform=\"rotate(0, 205.135, 1466.32)\" x=\"205.135\" y=\"1466.32\">0</text>\n",
       "</g>\n",
       "<g clip-path=\"url(#clip3300)\">\n",
       "<text style=\"fill:#000000; fill-opacity:1; font-family:Arial,Helvetica Neue,Helvetica,sans-serif; font-size:48px; text-anchor:end;\" transform=\"rotate(0, 205.135, 1246.7)\" x=\"205.135\" y=\"1246.7\">100</text>\n",
       "</g>\n",
       "<g clip-path=\"url(#clip3300)\">\n",
       "<text style=\"fill:#000000; fill-opacity:1; font-family:Arial,Helvetica Neue,Helvetica,sans-serif; font-size:48px; text-anchor:end;\" transform=\"rotate(0, 205.135, 1027.09)\" x=\"205.135\" y=\"1027.09\">200</text>\n",
       "</g>\n",
       "<g clip-path=\"url(#clip3300)\">\n",
       "<text style=\"fill:#000000; fill-opacity:1; font-family:Arial,Helvetica Neue,Helvetica,sans-serif; font-size:48px; text-anchor:end;\" transform=\"rotate(0, 205.135, 807.473)\" x=\"205.135\" y=\"807.473\">300</text>\n",
       "</g>\n",
       "<g clip-path=\"url(#clip3300)\">\n",
       "<text style=\"fill:#000000; fill-opacity:1; font-family:Arial,Helvetica Neue,Helvetica,sans-serif; font-size:48px; text-anchor:end;\" transform=\"rotate(0, 205.135, 587.858)\" x=\"205.135\" y=\"587.858\">400</text>\n",
       "</g>\n",
       "<g clip-path=\"url(#clip3300)\">\n",
       "<text style=\"fill:#000000; fill-opacity:1; font-family:Arial,Helvetica Neue,Helvetica,sans-serif; font-size:48px; text-anchor:end;\" transform=\"rotate(0, 205.135, 368.242)\" x=\"205.135\" y=\"368.242\">500</text>\n",
       "</g>\n",
       "<g clip-path=\"url(#clip3300)\">\n",
       "<text style=\"fill:#000000; fill-opacity:1; font-family:Arial,Helvetica Neue,Helvetica,sans-serif; font-size:48px; text-anchor:end;\" transform=\"rotate(0, 205.135, 148.627)\" x=\"205.135\" y=\"148.627\">600</text>\n",
       "</g>\n",
       "<g clip-path=\"url(#clip3300)\">\n",
       "<text style=\"fill:#000000; fill-opacity:1; font-family:Arial,Helvetica Neue,Helvetica,sans-serif; font-size:84px; text-anchor:middle;\" transform=\"rotate(0, 1290.95, 73.2)\" x=\"1290.95\" y=\"73.2\">Format File Size (MB)</text>\n",
       "</g>\n",
       "<g clip-path=\"url(#clip3300)\">\n",
       "<text style=\"fill:#000000; fill-opacity:1; font-family:Arial,Helvetica Neue,Helvetica,sans-serif; font-size:66px; text-anchor:middle;\" transform=\"rotate(-90, 89.2861, 804.575)\" x=\"89.2861\" y=\"804.575\">MB</text>\n",
       "</g>\n",
       "<path clip-path=\"url(#clip3302)\" d=\"\n",
       "M345.938 871.17 L345.938 1448.82 L568.293 1448.82 L568.293 871.17 L345.938 871.17 L345.938 871.17  Z\n",
       "  \" fill=\"#009af9\" fill-rule=\"evenodd\" fill-opacity=\"1\"/>\n",
       "<polyline clip-path=\"url(#clip3302)\" style=\"stroke:#000000; stroke-width:4; stroke-opacity:1; fill:none\" points=\"\n",
       "  345.938,871.17 345.938,1448.82 568.293,1448.82 568.293,871.17 345.938,871.17 \n",
       "  \"/>\n",
       "<path clip-path=\"url(#clip3302)\" d=\"\n",
       "M623.882 871.168 L623.882 1448.82 L846.236 1448.82 L846.236 871.168 L623.882 871.168 L623.882 871.168  Z\n",
       "  \" fill=\"#009af9\" fill-rule=\"evenodd\" fill-opacity=\"1\"/>\n",
       "<polyline clip-path=\"url(#clip3302)\" style=\"stroke:#000000; stroke-width:4; stroke-opacity:1; fill:none\" points=\"\n",
       "  623.882,871.168 623.882,1448.82 846.236,1448.82 846.236,871.168 623.882,871.168 \n",
       "  \"/>\n",
       "<path clip-path=\"url(#clip3302)\" d=\"\n",
       "M901.825 1389.74 L901.825 1448.82 L1124.18 1448.82 L1124.18 1389.74 L901.825 1389.74 L901.825 1389.74  Z\n",
       "  \" fill=\"#009af9\" fill-rule=\"evenodd\" fill-opacity=\"1\"/>\n",
       "<polyline clip-path=\"url(#clip3302)\" style=\"stroke:#000000; stroke-width:4; stroke-opacity:1; fill:none\" points=\"\n",
       "  901.825,1389.74 901.825,1448.82 1124.18,1448.82 1124.18,1389.74 901.825,1389.74 \n",
       "  \"/>\n",
       "<path clip-path=\"url(#clip3302)\" d=\"\n",
       "M1179.77 1428.3 L1179.77 1448.82 L1402.12 1448.82 L1402.12 1428.3 L1179.77 1428.3 L1179.77 1428.3  Z\n",
       "  \" fill=\"#009af9\" fill-rule=\"evenodd\" fill-opacity=\"1\"/>\n",
       "<polyline clip-path=\"url(#clip3302)\" style=\"stroke:#000000; stroke-width:4; stroke-opacity:1; fill:none\" points=\"\n",
       "  1179.77,1428.3 1179.77,1448.82 1402.12,1448.82 1402.12,1428.3 1179.77,1428.3 \n",
       "  \"/>\n",
       "<path clip-path=\"url(#clip3302)\" d=\"\n",
       "M1457.71 160.33 L1457.71 1448.82 L1680.07 1448.82 L1680.07 160.33 L1457.71 160.33 L1457.71 160.33  Z\n",
       "  \" fill=\"#009af9\" fill-rule=\"evenodd\" fill-opacity=\"1\"/>\n",
       "<polyline clip-path=\"url(#clip3302)\" style=\"stroke:#000000; stroke-width:4; stroke-opacity:1; fill:none\" points=\"\n",
       "  1457.71,160.33 1457.71,1448.82 1680.07,1448.82 1680.07,160.33 1457.71,160.33 \n",
       "  \"/>\n",
       "<path clip-path=\"url(#clip3302)\" d=\"\n",
       "M1735.65 871.166 L1735.65 1448.82 L1958.01 1448.82 L1958.01 871.166 L1735.65 871.166 L1735.65 871.166  Z\n",
       "  \" fill=\"#009af9\" fill-rule=\"evenodd\" fill-opacity=\"1\"/>\n",
       "<polyline clip-path=\"url(#clip3302)\" style=\"stroke:#000000; stroke-width:4; stroke-opacity:1; fill:none\" points=\"\n",
       "  1735.65,871.166 1735.65,1448.82 1958.01,1448.82 1958.01,871.166 1735.65,871.166 \n",
       "  \"/>\n",
       "<path clip-path=\"url(#clip3302)\" d=\"\n",
       "M2013.6 1394.33 L2013.6 1448.82 L2235.95 1448.82 L2235.95 1394.33 L2013.6 1394.33 L2013.6 1394.33  Z\n",
       "  \" fill=\"#009af9\" fill-rule=\"evenodd\" fill-opacity=\"1\"/>\n",
       "<polyline clip-path=\"url(#clip3302)\" style=\"stroke:#000000; stroke-width:4; stroke-opacity:1; fill:none\" points=\"\n",
       "  2013.6,1394.33 2013.6,1448.82 2235.95,1448.82 2235.95,1394.33 2013.6,1394.33 \n",
       "  \"/>\n",
       "<path clip-path=\"url(#clip3300)\" d=\"\n",
       "M1947.14 326.155 L2280.76 326.155 L2280.76 205.195 L1947.14 205.195  Z\n",
       "  \" fill=\"#ffffff\" fill-rule=\"evenodd\" fill-opacity=\"1\"/>\n",
       "<polyline clip-path=\"url(#clip3300)\" style=\"stroke:#000000; stroke-width:4; stroke-opacity:1; fill:none\" points=\"\n",
       "  1947.14,326.155 2280.76,326.155 2280.76,205.195 1947.14,205.195 1947.14,326.155 \n",
       "  \"/>\n",
       "<path clip-path=\"url(#clip3300)\" d=\"\n",
       "M1971.14 289.867 L2115.14 289.867 L2115.14 241.483 L1971.14 241.483 L1971.14 289.867  Z\n",
       "  \" fill=\"#009af9\" fill-rule=\"evenodd\" fill-opacity=\"1\"/>\n",
       "<polyline clip-path=\"url(#clip3300)\" style=\"stroke:#000000; stroke-width:4; stroke-opacity:1; fill:none\" points=\"\n",
       "  1971.14,289.867 2115.14,289.867 2115.14,241.483 1971.14,241.483 1971.14,289.867 \n",
       "  \"/>\n",
       "<g clip-path=\"url(#clip3300)\">\n",
       "<text style=\"fill:#000000; fill-opacity:1; font-family:Arial,Helvetica Neue,Helvetica,sans-serif; font-size:48px; text-anchor:start;\" transform=\"rotate(0, 2139.14, 283.175)\" x=\"2139.14\" y=\"283.175\">Size</text>\n",
       "</g>\n",
       "</svg>\n"
      ]
     },
     "execution_count": 41,
     "metadata": {},
     "output_type": "execute_result"
    }
   ],
   "source": [
    "@df df plot(:file, :size/1024^2, seriestype=:bar, title = \"Format File Size (MB)\", label=\"Size\", ylab=\"MB\")"
   ]
  },
  {
   "cell_type": "code",
   "execution_count": 42,
   "metadata": {},
   "outputs": [
    {
     "name": "stdout",
     "output_type": "stream",
     "text": [
      "First run\n",
      "CSV.jl\n",
      "  1.802067 seconds (66.70 k allocations: 3.724 MiB, 0.68% gc time)\n",
      "CSVFiles.jl\n",
      "  disabled due to time-out\n",
      "Serialization\n",
      "  1.552420 seconds (49.69 M allocations: 812.160 MiB, 12.83% gc time)\n",
      "JDF.jl\n",
      "  0.656944 seconds (194.73 k allocations: 156.398 MiB, 3.48% gc time)\n",
      "JLSO.jl\n",
      "  1.714849 seconds (49.68 M allocations: 819.835 MiB, 10.71% gc time)\n",
      "Feather.jl\n",
      "  0.633100 seconds (762.13 k allocations: 144.927 MiB, 27.01% gc time)\n",
      "JSONTables.jl arraytable\n",
      "  2.941522 seconds (31 allocations: 586.704 MiB, 5.07% gc time)\n",
      "JSONTables.jl objecttable\n",
      "  1.995607 seconds (26 allocations: 263.031 MiB, 9.35% gc time)\n",
      "Second run\n",
      "  2.158438 seconds (5.13 k allocations: 292.148 KiB)\n",
      "CSVFiles.jl\n",
      "  disabled due to time-out\n",
      "Serialization\n",
      "  2.062672 seconds (49.65 M allocations: 810.176 MiB, 10.66% gc time)\n",
      "JDF.jl\n",
      "  0.679759 seconds (27.59 k allocations: 148.272 MiB, 2.84% gc time)\n",
      "JLSO.jl\n",
      "  2.540171 seconds (49.66 M allocations: 819.178 MiB, 10.10% gc time)\n",
      "Feather.jl\n",
      "  0.484136 seconds (230.36 k allocations: 116.969 MiB, 41.63% gc time)\n",
      "JSONTables.jl arraytable\n",
      "  2.921748 seconds (31 allocations: 586.704 MiB, 1.16% gc time)\n",
      "JSONTables.jl objecttable\n",
      "  1.898521 seconds (26 allocations: 263.031 MiB, 8.47% gc time)\n"
     ]
    }
   ],
   "source": [
    "println(\"First run\")\n",
    "println(\"CSV.jl\")\n",
    "csvread1 = @elapsed @time CSV.read(\"bigdf1.csv\")\n",
    "println(\"CSVFiles.jl\")\n",
    "println(\"  disabled due to time-out\")\n",
    "# @time load(\"bigdf2.csv\") |> DataFrame\n",
    "println(\"Serialization\")\n",
    "serializeread1 = @elapsed @time open(deserialize, \"bigdf.bin\")\n",
    "println(\"JDF.jl\")\n",
    "jdfread1 = @elapsed @time loadjdf(\"bigdf.jdf\")\n",
    "println(\"JLSO.jl\")\n",
    "jlsoread1 = @elapsed @time JLSO.load(\"bigdf.jlso\")\n",
    "println(\"Feather.jl\")\n",
    "featherread1 = @elapsed @time Feather.materialize(\"bigdf.feather\")\n",
    "println(\"JSONTables.jl arraytable\")\n",
    "jsontablesaread1 = @elapsed @time open(jsontable, \"bigdf1.json\")\n",
    "println(\"JSONTables.jl objecttable\")\n",
    "jsontablesoread1 = @elapsed @time open(jsontable, \"bigdf2.json\")\n",
    "println(\"Second run\")\n",
    "csvread2 = @elapsed @time CSV.read(\"bigdf1.csv\")\n",
    "println(\"CSVFiles.jl\")\n",
    "println(\"  disabled due to time-out\")\n",
    "# @time load(\"bigdf2.csv\") |> DataFrame\n",
    "println(\"Serialization\")\n",
    "serializeread2 = @elapsed @time open(deserialize, \"bigdf.bin\")\n",
    "println(\"JDF.jl\")\n",
    "jdfread2 = @elapsed @time loadjdf(\"bigdf.jdf\")\n",
    "println(\"JLSO.jl\")\n",
    "jlsoread2 = @elapsed @time JLSO.load(\"bigdf.jlso\")\n",
    "println(\"Feather.jl\")\n",
    "featherread2 = @elapsed @time Feather.materialize(\"bigdf.feather\")\n",
    "println(\"JSONTables.jl arraytable\")\n",
    "jsontablesaread2 = @elapsed @time open(jsontable, \"bigdf1.json\")\n",
    "println(\"JSONTables.jl objecttable\")\n",
    "jsontablesoread2 = @elapsed @time open(jsontable, \"bigdf2.json\");"
   ]
  },
  {
   "cell_type": "code",
   "execution_count": 43,
   "metadata": {},
   "outputs": [
    {
     "data": {
      "image/svg+xml": [
       "<?xml version=\"1.0\" encoding=\"utf-8\"?>\n",
       "<svg xmlns=\"http://www.w3.org/2000/svg\" xmlns:xlink=\"http://www.w3.org/1999/xlink\" width=\"600\" height=\"400\" viewBox=\"0 0 2400 1600\">\n",
       "<defs>\n",
       "  <clipPath id=\"clip3700\">\n",
       "    <rect x=\"0\" y=\"0\" width=\"2400\" height=\"1600\"/>\n",
       "  </clipPath>\n",
       "</defs>\n",
       "<path clip-path=\"url(#clip3700)\" d=\"\n",
       "M0 1600 L2400 1600 L2400 0 L0 0  Z\n",
       "  \" fill=\"#ffffff\" fill-rule=\"evenodd\" fill-opacity=\"1\"/>\n",
       "<defs>\n",
       "  <clipPath id=\"clip3701\">\n",
       "    <rect x=\"480\" y=\"0\" width=\"1681\" height=\"1600\"/>\n",
       "  </clipPath>\n",
       "</defs>\n",
       "<path clip-path=\"url(#clip3700)\" d=\"\n",
       "M175.611 1451.89 L2352.76 1451.89 L2352.76 244.432 L175.611 244.432  Z\n",
       "  \" fill=\"#ffffff\" fill-rule=\"evenodd\" fill-opacity=\"1\"/>\n",
       "<defs>\n",
       "  <clipPath id=\"clip3702\">\n",
       "    <rect x=\"175\" y=\"244\" width=\"2178\" height=\"1208\"/>\n",
       "  </clipPath>\n",
       "</defs>\n",
       "<polyline clip-path=\"url(#clip3702)\" style=\"stroke:#000000; stroke-width:2; stroke-opacity:0.1; fill:none\" points=\"\n",
       "  406.481,1451.89 406.481,244.432 \n",
       "  \"/>\n",
       "<polyline clip-path=\"url(#clip3702)\" style=\"stroke:#000000; stroke-width:2; stroke-opacity:0.1; fill:none\" points=\"\n",
       "  692.382,1451.89 692.382,244.432 \n",
       "  \"/>\n",
       "<polyline clip-path=\"url(#clip3702)\" style=\"stroke:#000000; stroke-width:2; stroke-opacity:0.1; fill:none\" points=\"\n",
       "  978.283,1451.89 978.283,244.432 \n",
       "  \"/>\n",
       "<polyline clip-path=\"url(#clip3702)\" style=\"stroke:#000000; stroke-width:2; stroke-opacity:0.1; fill:none\" points=\"\n",
       "  1264.18,1451.89 1264.18,244.432 \n",
       "  \"/>\n",
       "<polyline clip-path=\"url(#clip3702)\" style=\"stroke:#000000; stroke-width:2; stroke-opacity:0.1; fill:none\" points=\"\n",
       "  1550.08,1451.89 1550.08,244.432 \n",
       "  \"/>\n",
       "<polyline clip-path=\"url(#clip3702)\" style=\"stroke:#000000; stroke-width:2; stroke-opacity:0.1; fill:none\" points=\"\n",
       "  1835.98,1451.89 1835.98,244.432 \n",
       "  \"/>\n",
       "<polyline clip-path=\"url(#clip3702)\" style=\"stroke:#000000; stroke-width:2; stroke-opacity:0.1; fill:none\" points=\"\n",
       "  2121.89,1451.89 2121.89,244.432 \n",
       "  \"/>\n",
       "<polyline clip-path=\"url(#clip3702)\" style=\"stroke:#000000; stroke-width:2; stroke-opacity:0.1; fill:none\" points=\"\n",
       "  175.611,1417.71 2352.76,1417.71 \n",
       "  \"/>\n",
       "<polyline clip-path=\"url(#clip3702)\" style=\"stroke:#000000; stroke-width:2; stroke-opacity:0.1; fill:none\" points=\"\n",
       "  175.611,1033.13 2352.76,1033.13 \n",
       "  \"/>\n",
       "<polyline clip-path=\"url(#clip3702)\" style=\"stroke:#000000; stroke-width:2; stroke-opacity:0.1; fill:none\" points=\"\n",
       "  175.611,648.549 2352.76,648.549 \n",
       "  \"/>\n",
       "<polyline clip-path=\"url(#clip3702)\" style=\"stroke:#000000; stroke-width:2; stroke-opacity:0.1; fill:none\" points=\"\n",
       "  175.611,263.966 2352.76,263.966 \n",
       "  \"/>\n",
       "<polyline clip-path=\"url(#clip3700)\" style=\"stroke:#000000; stroke-width:4; stroke-opacity:1; fill:none\" points=\"\n",
       "  175.611,1451.89 2352.76,1451.89 \n",
       "  \"/>\n",
       "<polyline clip-path=\"url(#clip3700)\" style=\"stroke:#000000; stroke-width:4; stroke-opacity:1; fill:none\" points=\"\n",
       "  175.611,1451.89 175.611,244.432 \n",
       "  \"/>\n",
       "<polyline clip-path=\"url(#clip3700)\" style=\"stroke:#000000; stroke-width:4; stroke-opacity:1; fill:none\" points=\"\n",
       "  406.481,1451.89 406.481,1433.78 \n",
       "  \"/>\n",
       "<polyline clip-path=\"url(#clip3700)\" style=\"stroke:#000000; stroke-width:4; stroke-opacity:1; fill:none\" points=\"\n",
       "  692.382,1451.89 692.382,1433.78 \n",
       "  \"/>\n",
       "<polyline clip-path=\"url(#clip3700)\" style=\"stroke:#000000; stroke-width:4; stroke-opacity:1; fill:none\" points=\"\n",
       "  978.283,1451.89 978.283,1433.78 \n",
       "  \"/>\n",
       "<polyline clip-path=\"url(#clip3700)\" style=\"stroke:#000000; stroke-width:4; stroke-opacity:1; fill:none\" points=\"\n",
       "  1264.18,1451.89 1264.18,1433.78 \n",
       "  \"/>\n",
       "<polyline clip-path=\"url(#clip3700)\" style=\"stroke:#000000; stroke-width:4; stroke-opacity:1; fill:none\" points=\"\n",
       "  1550.08,1451.89 1550.08,1433.78 \n",
       "  \"/>\n",
       "<polyline clip-path=\"url(#clip3700)\" style=\"stroke:#000000; stroke-width:4; stroke-opacity:1; fill:none\" points=\"\n",
       "  1835.98,1451.89 1835.98,1433.78 \n",
       "  \"/>\n",
       "<polyline clip-path=\"url(#clip3700)\" style=\"stroke:#000000; stroke-width:4; stroke-opacity:1; fill:none\" points=\"\n",
       "  2121.89,1451.89 2121.89,1433.78 \n",
       "  \"/>\n",
       "<polyline clip-path=\"url(#clip3700)\" style=\"stroke:#000000; stroke-width:4; stroke-opacity:1; fill:none\" points=\"\n",
       "  175.611,1417.71 208.268,1417.71 \n",
       "  \"/>\n",
       "<polyline clip-path=\"url(#clip3700)\" style=\"stroke:#000000; stroke-width:4; stroke-opacity:1; fill:none\" points=\"\n",
       "  175.611,1033.13 208.268,1033.13 \n",
       "  \"/>\n",
       "<polyline clip-path=\"url(#clip3700)\" style=\"stroke:#000000; stroke-width:4; stroke-opacity:1; fill:none\" points=\"\n",
       "  175.611,648.549 208.268,648.549 \n",
       "  \"/>\n",
       "<polyline clip-path=\"url(#clip3700)\" style=\"stroke:#000000; stroke-width:4; stroke-opacity:1; fill:none\" points=\"\n",
       "  175.611,263.966 208.268,263.966 \n",
       "  \"/>\n",
       "<g clip-path=\"url(#clip3700)\">\n",
       "<text style=\"fill:#000000; fill-opacity:1; font-family:Arial,Helvetica Neue,Helvetica,sans-serif; font-size:48px; text-anchor:middle;\" transform=\"rotate(0, 406.481, 1505.89)\" x=\"406.481\" y=\"1505.89\">CSV.jl</text>\n",
       "</g>\n",
       "<g clip-path=\"url(#clip3700)\">\n",
       "<text style=\"fill:#000000; fill-opacity:1; font-family:Arial,Helvetica Neue,Helvetica,sans-serif; font-size:48px; text-anchor:middle;\" transform=\"rotate(0, 692.382, 1505.89)\" x=\"692.382\" y=\"1505.89\">Feather.jl</text>\n",
       "</g>\n",
       "<g clip-path=\"url(#clip3700)\">\n",
       "<text style=\"fill:#000000; fill-opacity:1; font-family:Arial,Helvetica Neue,Helvetica,sans-serif; font-size:48px; text-anchor:middle;\" transform=\"rotate(0, 978.283, 1505.89)\" x=\"978.283\" y=\"1505.89\">JDF.jl</text>\n",
       "</g>\n",
       "<g clip-path=\"url(#clip3700)\">\n",
       "<text style=\"fill:#000000; fill-opacity:1; font-family:Arial,Helvetica Neue,Helvetica,sans-serif; font-size:48px; text-anchor:middle;\" transform=\"rotate(0, 1264.18, 1505.89)\" x=\"1264.18\" y=\"1505.89\">JLSO.jl</text>\n",
       "</g>\n",
       "<g clip-path=\"url(#clip3700)\">\n",
       "<text style=\"fill:#000000; fill-opacity:1; font-family:Arial,Helvetica Neue,Helvetica,sans-serif; font-size:48px; text-anchor:middle;\" transform=\"rotate(0, 1550.08, 1505.89)\" x=\"1550.08\" y=\"1505.89\">JSONTables.jl</text>\n",
       "</g>\n",
       "<g clip-path=\"url(#clip3700)\">\n",
       "<text style=\"fill:#000000; fill-opacity:1; font-family:Arial,Helvetica Neue,Helvetica,sans-serif; font-size:48px; text-anchor:middle;\" transform=\"rotate(0, 1550.08, 1557.73)\" x=\"1550.08\" y=\"1557.73\">arraytable</text>\n",
       "</g>\n",
       "<g clip-path=\"url(#clip3700)\">\n",
       "<text style=\"fill:#000000; fill-opacity:1; font-family:Arial,Helvetica Neue,Helvetica,sans-serif; font-size:48px; text-anchor:middle;\" transform=\"rotate(0, 1835.98, 1505.89)\" x=\"1835.98\" y=\"1505.89\">JSONTables.jl</text>\n",
       "</g>\n",
       "<g clip-path=\"url(#clip3700)\">\n",
       "<text style=\"fill:#000000; fill-opacity:1; font-family:Arial,Helvetica Neue,Helvetica,sans-serif; font-size:48px; text-anchor:middle;\" transform=\"rotate(0, 1835.98, 1557.73)\" x=\"1835.98\" y=\"1557.73\">objecttable</text>\n",
       "</g>\n",
       "<g clip-path=\"url(#clip3700)\">\n",
       "<text style=\"fill:#000000; fill-opacity:1; font-family:Arial,Helvetica Neue,Helvetica,sans-serif; font-size:48px; text-anchor:middle;\" transform=\"rotate(0, 2121.89, 1505.89)\" x=\"2121.89\" y=\"1505.89\">Serialization</text>\n",
       "</g>\n",
       "<g clip-path=\"url(#clip3700)\">\n",
       "<text style=\"fill:#000000; fill-opacity:1; font-family:Arial,Helvetica Neue,Helvetica,sans-serif; font-size:48px; text-anchor:end;\" transform=\"rotate(0, 151.611, 1435.21)\" x=\"151.611\" y=\"1435.21\">0</text>\n",
       "</g>\n",
       "<g clip-path=\"url(#clip3700)\">\n",
       "<text style=\"fill:#000000; fill-opacity:1; font-family:Arial,Helvetica Neue,Helvetica,sans-serif; font-size:48px; text-anchor:end;\" transform=\"rotate(0, 151.611, 1050.63)\" x=\"151.611\" y=\"1050.63\">1</text>\n",
       "</g>\n",
       "<g clip-path=\"url(#clip3700)\">\n",
       "<text style=\"fill:#000000; fill-opacity:1; font-family:Arial,Helvetica Neue,Helvetica,sans-serif; font-size:48px; text-anchor:end;\" transform=\"rotate(0, 151.611, 666.049)\" x=\"151.611\" y=\"666.049\">2</text>\n",
       "</g>\n",
       "<g clip-path=\"url(#clip3700)\">\n",
       "<text style=\"fill:#000000; fill-opacity:1; font-family:Arial,Helvetica Neue,Helvetica,sans-serif; font-size:48px; text-anchor:end;\" transform=\"rotate(0, 151.611, 281.466)\" x=\"151.611\" y=\"281.466\">3</text>\n",
       "</g>\n",
       "<g clip-path=\"url(#clip3700)\">\n",
       "<text style=\"fill:#000000; fill-opacity:1; font-family:Arial,Helvetica Neue,Helvetica,sans-serif; font-size:84px; text-anchor:middle;\" transform=\"rotate(0, 1264.18, 73.2)\" x=\"1264.18\" y=\"73.2\">Read Performance</text>\n",
       "</g>\n",
       "<g clip-path=\"url(#clip3700)\">\n",
       "<text style=\"fill:#000000; fill-opacity:1; font-family:Arial,Helvetica Neue,Helvetica,sans-serif; font-size:84px; text-anchor:middle;\" transform=\"rotate(0, 1264.18, 163.92)\" x=\"1264.18\" y=\"163.92\">DataFrame: bigdf</text>\n",
       "</g>\n",
       "<g clip-path=\"url(#clip3700)\">\n",
       "<text style=\"fill:#000000; fill-opacity:1; font-family:Arial,Helvetica Neue,Helvetica,sans-serif; font-size:84px; text-anchor:middle;\" transform=\"rotate(0, 1264.18, 254.64)\" x=\"1264.18\" y=\"254.64\">Size: (100000, 500)</text>\n",
       "</g>\n",
       "<g clip-path=\"url(#clip3700)\">\n",
       "<text style=\"fill:#000000; fill-opacity:1; font-family:Arial,Helvetica Neue,Helvetica,sans-serif; font-size:66px; text-anchor:middle;\" transform=\"rotate(-90, 89.2861, 848.16)\" x=\"89.2861\" y=\"848.16\">Second</text>\n",
       "</g>\n",
       "<path clip-path=\"url(#clip3702)\" d=\"\n",
       "M292.121 715.368 L292.121 1417.71 L406.481 1417.71 L406.481 715.368 L292.121 715.368 L292.121 715.368  Z\n",
       "  \" fill=\"#009af9\" fill-rule=\"evenodd\" fill-opacity=\"1\"/>\n",
       "<polyline clip-path=\"url(#clip3702)\" style=\"stroke:#000000; stroke-width:4; stroke-opacity:1; fill:none\" points=\"\n",
       "  292.121,715.368 292.121,1417.71 406.481,1417.71 406.481,715.368 292.121,715.368 \n",
       "  \"/>\n",
       "<path clip-path=\"url(#clip3702)\" d=\"\n",
       "M578.022 1173.61 L578.022 1417.71 L692.382 1417.71 L692.382 1173.61 L578.022 1173.61 L578.022 1173.61  Z\n",
       "  \" fill=\"#009af9\" fill-rule=\"evenodd\" fill-opacity=\"1\"/>\n",
       "<polyline clip-path=\"url(#clip3702)\" style=\"stroke:#000000; stroke-width:4; stroke-opacity:1; fill:none\" points=\"\n",
       "  578.022,1173.61 578.022,1417.71 692.382,1417.71 692.382,1173.61 578.022,1173.61 \n",
       "  \"/>\n",
       "<path clip-path=\"url(#clip3702)\" d=\"\n",
       "M863.922 1160.76 L863.922 1417.71 L978.283 1417.71 L978.283 1160.76 L863.922 1160.76 L863.922 1160.76  Z\n",
       "  \" fill=\"#009af9\" fill-rule=\"evenodd\" fill-opacity=\"1\"/>\n",
       "<polyline clip-path=\"url(#clip3702)\" style=\"stroke:#000000; stroke-width:4; stroke-opacity:1; fill:none\" points=\"\n",
       "  863.922,1160.76 863.922,1417.71 978.283,1417.71 978.283,1160.76 863.922,1160.76 \n",
       "  \"/>\n",
       "<path clip-path=\"url(#clip3702)\" d=\"\n",
       "M1149.82 757.569 L1149.82 1417.71 L1264.18 1417.71 L1264.18 757.569 L1149.82 757.569 L1149.82 757.569  Z\n",
       "  \" fill=\"#009af9\" fill-rule=\"evenodd\" fill-opacity=\"1\"/>\n",
       "<polyline clip-path=\"url(#clip3702)\" style=\"stroke:#000000; stroke-width:4; stroke-opacity:1; fill:none\" points=\"\n",
       "  1149.82,757.569 1149.82,1417.71 1264.18,1417.71 1264.18,757.569 1149.82,757.569 \n",
       "  \"/>\n",
       "<path clip-path=\"url(#clip3702)\" d=\"\n",
       "M1435.72 278.605 L1435.72 1417.71 L1550.08 1417.71 L1550.08 278.605 L1435.72 278.605 L1435.72 278.605  Z\n",
       "  \" fill=\"#009af9\" fill-rule=\"evenodd\" fill-opacity=\"1\"/>\n",
       "<polyline clip-path=\"url(#clip3702)\" style=\"stroke:#000000; stroke-width:4; stroke-opacity:1; fill:none\" points=\"\n",
       "  1435.72,278.605 1435.72,1417.71 1550.08,1417.71 1550.08,278.605 1435.72,278.605 \n",
       "  \"/>\n",
       "<path clip-path=\"url(#clip3702)\" d=\"\n",
       "M1721.62 675.258 L1721.62 1417.71 L1835.98 1417.71 L1835.98 675.258 L1721.62 675.258 L1721.62 675.258  Z\n",
       "  \" fill=\"#009af9\" fill-rule=\"evenodd\" fill-opacity=\"1\"/>\n",
       "<polyline clip-path=\"url(#clip3702)\" style=\"stroke:#000000; stroke-width:4; stroke-opacity:1; fill:none\" points=\"\n",
       "  1721.62,675.258 1721.62,1417.71 1835.98,1417.71 1835.98,675.258 1721.62,675.258 \n",
       "  \"/>\n",
       "<path clip-path=\"url(#clip3702)\" d=\"\n",
       "M2007.53 819.908 L2007.53 1417.71 L2121.89 1417.71 L2121.89 819.908 L2007.53 819.908 L2007.53 819.908  Z\n",
       "  \" fill=\"#009af9\" fill-rule=\"evenodd\" fill-opacity=\"1\"/>\n",
       "<polyline clip-path=\"url(#clip3702)\" style=\"stroke:#000000; stroke-width:4; stroke-opacity:1; fill:none\" points=\"\n",
       "  2007.53,819.908 2007.53,1417.71 2121.89,1417.71 2121.89,819.908 2007.53,819.908 \n",
       "  \"/>\n",
       "<path clip-path=\"url(#clip3702)\" d=\"\n",
       "M406.481 582.899 L406.481 1417.71 L520.841 1417.71 L520.841 582.899 L406.481 582.899 L406.481 582.899  Z\n",
       "  \" fill=\"#e26f46\" fill-rule=\"evenodd\" fill-opacity=\"1\"/>\n",
       "<polyline clip-path=\"url(#clip3702)\" style=\"stroke:#000000; stroke-width:4; stroke-opacity:1; fill:none\" points=\"\n",
       "  406.481,582.899 406.481,1417.71 520.841,1417.71 520.841,582.899 406.481,582.899 \n",
       "  \"/>\n",
       "<path clip-path=\"url(#clip3702)\" d=\"\n",
       "M692.382 1217.83 L692.382 1417.71 L806.742 1417.71 L806.742 1217.83 L692.382 1217.83 L692.382 1217.83  Z\n",
       "  \" fill=\"#e26f46\" fill-rule=\"evenodd\" fill-opacity=\"1\"/>\n",
       "<polyline clip-path=\"url(#clip3702)\" style=\"stroke:#000000; stroke-width:4; stroke-opacity:1; fill:none\" points=\"\n",
       "  692.382,1217.83 692.382,1417.71 806.742,1417.71 806.742,1217.83 692.382,1217.83 \n",
       "  \"/>\n",
       "<path clip-path=\"url(#clip3702)\" d=\"\n",
       "M978.283 1155.65 L978.283 1417.71 L1092.64 1417.71 L1092.64 1155.65 L978.283 1155.65 L978.283 1155.65  Z\n",
       "  \" fill=\"#e26f46\" fill-rule=\"evenodd\" fill-opacity=\"1\"/>\n",
       "<polyline clip-path=\"url(#clip3702)\" style=\"stroke:#000000; stroke-width:4; stroke-opacity:1; fill:none\" points=\"\n",
       "  978.283,1155.65 978.283,1417.71 1092.64,1417.71 1092.64,1155.65 978.283,1155.65 \n",
       "  \"/>\n",
       "<path clip-path=\"url(#clip3702)\" d=\"\n",
       "M1264.18 435.94 L1264.18 1417.71 L1378.54 1417.71 L1378.54 435.94 L1264.18 435.94 L1264.18 435.94  Z\n",
       "  \" fill=\"#e26f46\" fill-rule=\"evenodd\" fill-opacity=\"1\"/>\n",
       "<polyline clip-path=\"url(#clip3702)\" style=\"stroke:#000000; stroke-width:4; stroke-opacity:1; fill:none\" points=\"\n",
       "  1264.18,435.94 1264.18,1417.71 1378.54,1417.71 1378.54,435.94 1264.18,435.94 \n",
       "  \"/>\n",
       "<path clip-path=\"url(#clip3702)\" d=\"\n",
       "M1550.08 289.375 L1550.08 1417.71 L1664.44 1417.71 L1664.44 289.375 L1550.08 289.375 L1550.08 289.375  Z\n",
       "  \" fill=\"#e26f46\" fill-rule=\"evenodd\" fill-opacity=\"1\"/>\n",
       "<polyline clip-path=\"url(#clip3702)\" style=\"stroke:#000000; stroke-width:4; stroke-opacity:1; fill:none\" points=\"\n",
       "  1550.08,289.375 1550.08,1417.71 1664.44,1417.71 1664.44,289.375 1550.08,289.375 \n",
       "  \"/>\n",
       "<path clip-path=\"url(#clip3702)\" d=\"\n",
       "M1835.98 675.258 L1835.98 1417.71 L1950.34 1417.71 L1950.34 675.258 L1835.98 675.258 L1835.98 675.258  Z\n",
       "  \" fill=\"#e26f46\" fill-rule=\"evenodd\" fill-opacity=\"1\"/>\n",
       "<polyline clip-path=\"url(#clip3702)\" style=\"stroke:#000000; stroke-width:4; stroke-opacity:1; fill:none\" points=\"\n",
       "  1835.98,675.258 1835.98,1417.71 1950.34,1417.71 1950.34,675.258 1835.98,675.258 \n",
       "  \"/>\n",
       "<path clip-path=\"url(#clip3702)\" d=\"\n",
       "M2121.89 819.908 L2121.89 1417.71 L2236.25 1417.71 L2236.25 819.908 L2121.89 819.908 L2121.89 819.908  Z\n",
       "  \" fill=\"#e26f46\" fill-rule=\"evenodd\" fill-opacity=\"1\"/>\n",
       "<polyline clip-path=\"url(#clip3702)\" style=\"stroke:#000000; stroke-width:4; stroke-opacity:1; fill:none\" points=\"\n",
       "  2121.89,819.908 2121.89,1417.71 2236.25,1417.71 2236.25,819.908 2121.89,819.908 \n",
       "  \"/>\n",
       "<path clip-path=\"url(#clip3700)\" d=\"\n",
       "M1960.47 509.392 L2280.76 509.392 L2280.76 327.952 L1960.47 327.952  Z\n",
       "  \" fill=\"#ffffff\" fill-rule=\"evenodd\" fill-opacity=\"1\"/>\n",
       "<polyline clip-path=\"url(#clip3700)\" style=\"stroke:#000000; stroke-width:4; stroke-opacity:1; fill:none\" points=\"\n",
       "  1960.47,509.392 2280.76,509.392 2280.76,327.952 1960.47,327.952 1960.47,509.392 \n",
       "  \"/>\n",
       "<path clip-path=\"url(#clip3700)\" d=\"\n",
       "M1984.47 412.624 L2128.47 412.624 L2128.47 364.24 L1984.47 364.24 L1984.47 412.624  Z\n",
       "  \" fill=\"#009af9\" fill-rule=\"evenodd\" fill-opacity=\"1\"/>\n",
       "<polyline clip-path=\"url(#clip3700)\" style=\"stroke:#000000; stroke-width:4; stroke-opacity:1; fill:none\" points=\"\n",
       "  1984.47,412.624 2128.47,412.624 2128.47,364.24 1984.47,364.24 1984.47,412.624 \n",
       "  \"/>\n",
       "<g clip-path=\"url(#clip3700)\">\n",
       "<text style=\"fill:#000000; fill-opacity:1; font-family:Arial,Helvetica Neue,Helvetica,sans-serif; font-size:48px; text-anchor:start;\" transform=\"rotate(0, 2152.47, 405.932)\" x=\"2152.47\" y=\"405.932\">1st</text>\n",
       "</g>\n",
       "<path clip-path=\"url(#clip3700)\" d=\"\n",
       "M1984.47 473.104 L2128.47 473.104 L2128.47 424.72 L1984.47 424.72 L1984.47 473.104  Z\n",
       "  \" fill=\"#e26f46\" fill-rule=\"evenodd\" fill-opacity=\"1\"/>\n",
       "<polyline clip-path=\"url(#clip3700)\" style=\"stroke:#000000; stroke-width:4; stroke-opacity:1; fill:none\" points=\"\n",
       "  1984.47,473.104 2128.47,473.104 2128.47,424.72 1984.47,424.72 1984.47,473.104 \n",
       "  \"/>\n",
       "<g clip-path=\"url(#clip3700)\">\n",
       "<text style=\"fill:#000000; fill-opacity:1; font-family:Arial,Helvetica Neue,Helvetica,sans-serif; font-size:48px; text-anchor:start;\" transform=\"rotate(0, 2152.47, 466.412)\" x=\"2152.47\" y=\"466.412\">2nd</text>\n",
       "</g>\n",
       "</svg>\n"
      ]
     },
     "execution_count": 43,
     "metadata": {},
     "output_type": "execute_result"
    }
   ],
   "source": [
    "groupedbar(\n",
    "    repeat([\"CSV.jl\", \"Serialization\", \"JDF.jl\", \"JLSO.jl\", \"Feather.jl\", \"JSONTables.jl\\narraytable\", \"JSONTables.jl\\nobjecttable\"], inner = 2),\n",
    "    [csvread1, csvread2, serializeread1, serializeread1, jdfread1, jdfread2, jlsoread1, jlsoread2, featherread1, featherread2, jsontablesaread1, jsontablesaread2, jsontablesoread2, jsontablesoread2],    \n",
    "    group = repeat([\"1st\", \"2nd\"], outer = 7),\n",
    "    ylab = \"Second\",\n",
    "    title = \"Read Performance\\nDataFrame: bigdf\\nSize: $(size(bigdf))\"\n",
    ")"
   ]
  },
  {
   "cell_type": "markdown",
   "metadata": {},
   "source": [
    "### Using gzip compression"
   ]
  },
  {
   "cell_type": "markdown",
   "metadata": {},
   "source": [
    "A common user requirement is to be able to load and save CSV that are compressed using gzip.\n",
    "Below we show how this can be accomplished using CodecZlib.jl.\n",
    "The same pattern is applicable to JSONTables.jl compression/decompression.\n",
    "\n",
    "Again make sure that you do not have file named `df_compress_test.csv.gz` in your working directory"
   ]
  },
  {
   "cell_type": "markdown",
   "metadata": {},
   "source": [
    "We first generate a random data frame"
   ]
  },
  {
   "cell_type": "code",
   "execution_count": 44,
   "metadata": {},
   "outputs": [
    {
     "data": {
      "text/html": [
       "<table class=\"data-frame\"><thead><tr><th></th><th>x1</th><th>x2</th><th>x3</th><th>x4</th><th>x5</th><th>x6</th><th>x7</th><th>x8</th><th>x9</th><th>x10</th><th>x11</th><th>x12</th><th>x13</th><th>x14</th><th>x15</th><th>x16</th><th>x17</th><th>x18</th><th>x19</th><th>x20</th><th>x21</th><th>x22</th><th>x23</th><th>x24</th><th>x25</th><th>x26</th><th>x27</th><th>x28</th><th>x29</th><th>x30</th><th>x31</th><th>x32</th><th>x33</th><th>x34</th><th>x35</th><th>x36</th><th>x37</th><th>x38</th><th>x39</th><th>x40</th><th>x41</th><th>x42</th><th>x43</th><th>x44</th><th>x45</th><th>x46</th><th>x47</th><th>x48</th><th>x49</th><th>x50</th><th>x51</th><th>x52</th><th>x53</th><th>x54</th><th>x55</th><th>x56</th><th>x57</th><th>x58</th><th>x59</th><th>x60</th><th>x61</th><th>x62</th><th>x63</th><th>x64</th><th>x65</th><th>x66</th><th>x67</th><th>x68</th><th>x69</th><th>x70</th><th>x71</th><th>x72</th><th>x73</th><th>x74</th><th>x75</th><th>x76</th><th>x77</th><th>x78</th><th>x79</th><th>x80</th><th>x81</th><th>x82</th><th>x83</th><th>x84</th><th>x85</th><th>x86</th><th>x87</th><th>x88</th><th>x89</th><th>x90</th><th>x91</th><th>x92</th><th>x93</th><th>x94</th><th>x95</th><th>x96</th><th>x97</th><th>x98</th><th>x99</th><th>x100</th><th>x101</th><th>x102</th><th>x103</th><th>x104</th><th>x105</th><th>x106</th><th>x107</th><th>x108</th><th>x109</th><th>x110</th><th>x111</th><th>x112</th><th>x113</th><th>x114</th><th>x115</th><th>x116</th><th>x117</th><th>x118</th><th>x119</th><th>x120</th><th>x121</th><th>x122</th><th>x123</th><th>x124</th><th>x125</th><th>x126</th><th>x127</th><th>x128</th><th>x129</th><th>x130</th><th>x131</th><th>x132</th><th>x133</th><th>x134</th><th>x135</th><th>x136</th><th>x137</th><th>x138</th><th>x139</th><th>x140</th><th>x141</th><th>x142</th><th>x143</th></tr><tr><th></th><th>Int64</th><th>Int64</th><th>Int64</th><th>Int64</th><th>Int64</th><th>Int64</th><th>Int64</th><th>Int64</th><th>Int64</th><th>Int64</th><th>Int64</th><th>Int64</th><th>Int64</th><th>Int64</th><th>Int64</th><th>Int64</th><th>Int64</th><th>Int64</th><th>Int64</th><th>Int64</th><th>Int64</th><th>Int64</th><th>Int64</th><th>Int64</th><th>Int64</th><th>Int64</th><th>Int64</th><th>Int64</th><th>Int64</th><th>Int64</th><th>Int64</th><th>Int64</th><th>Int64</th><th>Int64</th><th>Int64</th><th>Int64</th><th>Int64</th><th>Int64</th><th>Int64</th><th>Int64</th><th>Int64</th><th>Int64</th><th>Int64</th><th>Int64</th><th>Int64</th><th>Int64</th><th>Int64</th><th>Int64</th><th>Int64</th><th>Int64</th><th>Int64</th><th>Int64</th><th>Int64</th><th>Int64</th><th>Int64</th><th>Int64</th><th>Int64</th><th>Int64</th><th>Int64</th><th>Int64</th><th>Int64</th><th>Int64</th><th>Int64</th><th>Int64</th><th>Int64</th><th>Int64</th><th>Int64</th><th>Int64</th><th>Int64</th><th>Int64</th><th>Int64</th><th>Int64</th><th>Int64</th><th>Int64</th><th>Int64</th><th>Int64</th><th>Int64</th><th>Int64</th><th>Int64</th><th>Int64</th><th>Int64</th><th>Int64</th><th>Int64</th><th>Int64</th><th>Int64</th><th>Int64</th><th>Int64</th><th>Int64</th><th>Int64</th><th>Int64</th><th>Int64</th><th>Int64</th><th>Int64</th><th>Int64</th><th>Int64</th><th>Int64</th><th>Int64</th><th>Int64</th><th>Int64</th><th>Int64</th><th>Int64</th><th>Int64</th><th>Int64</th><th>Int64</th><th>Int64</th><th>Int64</th><th>Int64</th><th>Int64</th><th>Int64</th><th>Int64</th><th>Int64</th><th>Int64</th><th>Int64</th><th>Int64</th><th>Int64</th><th>Int64</th><th>Int64</th><th>Int64</th><th>Int64</th><th>Int64</th><th>Int64</th><th>Int64</th><th>Int64</th><th>Int64</th><th>Int64</th><th>Int64</th><th>Int64</th><th>Int64</th><th>Int64</th><th>Int64</th><th>Int64</th><th>Int64</th><th>Int64</th><th>Int64</th><th>Int64</th><th>Int64</th><th>Int64</th><th>Int64</th><th>Int64</th><th>Int64</th><th>Int64</th><th>Int64</th><th>Int64</th></tr></thead><tbody><p>10 rows × 1,000 columns (omitted printing of 857 columns)</p><tr><th>1</th><td>3</td><td>3</td><td>6</td><td>3</td><td>1</td><td>2</td><td>1</td><td>1</td><td>7</td><td>4</td><td>7</td><td>7</td><td>8</td><td>2</td><td>10</td><td>3</td><td>2</td><td>9</td><td>4</td><td>10</td><td>5</td><td>2</td><td>7</td><td>2</td><td>1</td><td>2</td><td>2</td><td>4</td><td>5</td><td>7</td><td>1</td><td>10</td><td>3</td><td>6</td><td>9</td><td>5</td><td>4</td><td>1</td><td>8</td><td>6</td><td>6</td><td>4</td><td>6</td><td>2</td><td>10</td><td>6</td><td>9</td><td>10</td><td>3</td><td>7</td><td>1</td><td>5</td><td>5</td><td>5</td><td>1</td><td>7</td><td>5</td><td>9</td><td>5</td><td>6</td><td>2</td><td>6</td><td>1</td><td>7</td><td>7</td><td>6</td><td>8</td><td>10</td><td>3</td><td>5</td><td>10</td><td>10</td><td>1</td><td>3</td><td>3</td><td>1</td><td>7</td><td>8</td><td>10</td><td>3</td><td>7</td><td>7</td><td>2</td><td>4</td><td>2</td><td>9</td><td>5</td><td>6</td><td>4</td><td>1</td><td>1</td><td>7</td><td>6</td><td>8</td><td>9</td><td>1</td><td>5</td><td>1</td><td>8</td><td>9</td><td>4</td><td>9</td><td>8</td><td>5</td><td>8</td><td>3</td><td>8</td><td>1</td><td>9</td><td>6</td><td>1</td><td>10</td><td>10</td><td>8</td><td>4</td><td>4</td><td>6</td><td>1</td><td>7</td><td>4</td><td>8</td><td>2</td><td>2</td><td>9</td><td>3</td><td>8</td><td>4</td><td>6</td><td>5</td><td>4</td><td>2</td><td>9</td><td>4</td><td>5</td><td>5</td><td>8</td><td>1</td><td>9</td><td>8</td><td>9</td><td>10</td><td>6</td><td>9</td></tr><tr><th>2</th><td>2</td><td>10</td><td>6</td><td>4</td><td>10</td><td>9</td><td>7</td><td>4</td><td>6</td><td>5</td><td>6</td><td>5</td><td>2</td><td>4</td><td>4</td><td>8</td><td>10</td><td>6</td><td>7</td><td>5</td><td>9</td><td>10</td><td>3</td><td>8</td><td>10</td><td>8</td><td>5</td><td>6</td><td>8</td><td>3</td><td>8</td><td>2</td><td>7</td><td>7</td><td>7</td><td>8</td><td>7</td><td>9</td><td>3</td><td>6</td><td>3</td><td>3</td><td>8</td><td>10</td><td>7</td><td>8</td><td>6</td><td>4</td><td>4</td><td>8</td><td>5</td><td>10</td><td>1</td><td>5</td><td>1</td><td>10</td><td>8</td><td>1</td><td>3</td><td>9</td><td>6</td><td>8</td><td>2</td><td>9</td><td>2</td><td>10</td><td>10</td><td>3</td><td>4</td><td>8</td><td>10</td><td>5</td><td>6</td><td>7</td><td>5</td><td>6</td><td>9</td><td>7</td><td>10</td><td>4</td><td>10</td><td>2</td><td>10</td><td>1</td><td>5</td><td>8</td><td>4</td><td>9</td><td>6</td><td>5</td><td>5</td><td>3</td><td>4</td><td>1</td><td>10</td><td>4</td><td>7</td><td>8</td><td>2</td><td>10</td><td>1</td><td>4</td><td>4</td><td>1</td><td>6</td><td>8</td><td>2</td><td>8</td><td>6</td><td>5</td><td>5</td><td>4</td><td>4</td><td>1</td><td>5</td><td>6</td><td>6</td><td>6</td><td>7</td><td>7</td><td>2</td><td>7</td><td>6</td><td>3</td><td>7</td><td>4</td><td>10</td><td>7</td><td>1</td><td>2</td><td>8</td><td>5</td><td>8</td><td>4</td><td>1</td><td>6</td><td>8</td><td>7</td><td>4</td><td>10</td><td>1</td><td>8</td><td>3</td></tr><tr><th>3</th><td>6</td><td>4</td><td>10</td><td>6</td><td>2</td><td>6</td><td>6</td><td>9</td><td>4</td><td>1</td><td>5</td><td>6</td><td>7</td><td>9</td><td>8</td><td>6</td><td>7</td><td>1</td><td>6</td><td>7</td><td>4</td><td>10</td><td>3</td><td>4</td><td>1</td><td>7</td><td>10</td><td>4</td><td>4</td><td>4</td><td>5</td><td>5</td><td>7</td><td>2</td><td>10</td><td>4</td><td>7</td><td>10</td><td>6</td><td>10</td><td>2</td><td>2</td><td>10</td><td>6</td><td>8</td><td>3</td><td>6</td><td>2</td><td>9</td><td>10</td><td>7</td><td>7</td><td>1</td><td>7</td><td>3</td><td>7</td><td>10</td><td>10</td><td>9</td><td>2</td><td>7</td><td>7</td><td>1</td><td>3</td><td>4</td><td>9</td><td>3</td><td>5</td><td>7</td><td>10</td><td>7</td><td>3</td><td>3</td><td>5</td><td>9</td><td>10</td><td>9</td><td>3</td><td>1</td><td>7</td><td>3</td><td>7</td><td>1</td><td>1</td><td>4</td><td>2</td><td>9</td><td>3</td><td>10</td><td>1</td><td>5</td><td>8</td><td>7</td><td>7</td><td>1</td><td>3</td><td>6</td><td>4</td><td>9</td><td>4</td><td>3</td><td>1</td><td>1</td><td>1</td><td>10</td><td>10</td><td>4</td><td>8</td><td>6</td><td>8</td><td>2</td><td>3</td><td>9</td><td>8</td><td>9</td><td>1</td><td>3</td><td>2</td><td>4</td><td>9</td><td>1</td><td>8</td><td>2</td><td>3</td><td>1</td><td>1</td><td>8</td><td>2</td><td>6</td><td>7</td><td>1</td><td>7</td><td>2</td><td>9</td><td>10</td><td>5</td><td>10</td><td>4</td><td>4</td><td>2</td><td>9</td><td>4</td><td>5</td></tr><tr><th>4</th><td>10</td><td>4</td><td>5</td><td>10</td><td>7</td><td>8</td><td>6</td><td>6</td><td>10</td><td>6</td><td>3</td><td>1</td><td>8</td><td>1</td><td>5</td><td>10</td><td>8</td><td>2</td><td>8</td><td>4</td><td>5</td><td>1</td><td>10</td><td>10</td><td>3</td><td>5</td><td>1</td><td>4</td><td>9</td><td>4</td><td>1</td><td>5</td><td>1</td><td>3</td><td>1</td><td>9</td><td>7</td><td>6</td><td>7</td><td>1</td><td>3</td><td>8</td><td>4</td><td>5</td><td>1</td><td>2</td><td>7</td><td>9</td><td>10</td><td>1</td><td>1</td><td>5</td><td>7</td><td>10</td><td>10</td><td>10</td><td>1</td><td>9</td><td>10</td><td>7</td><td>2</td><td>5</td><td>5</td><td>1</td><td>3</td><td>9</td><td>6</td><td>5</td><td>9</td><td>4</td><td>1</td><td>5</td><td>3</td><td>2</td><td>9</td><td>4</td><td>1</td><td>3</td><td>2</td><td>9</td><td>3</td><td>9</td><td>7</td><td>8</td><td>1</td><td>3</td><td>1</td><td>4</td><td>8</td><td>9</td><td>9</td><td>9</td><td>4</td><td>6</td><td>7</td><td>6</td><td>9</td><td>10</td><td>10</td><td>6</td><td>6</td><td>10</td><td>5</td><td>4</td><td>8</td><td>6</td><td>10</td><td>9</td><td>7</td><td>5</td><td>2</td><td>2</td><td>8</td><td>2</td><td>8</td><td>7</td><td>8</td><td>2</td><td>2</td><td>7</td><td>1</td><td>5</td><td>7</td><td>9</td><td>2</td><td>6</td><td>3</td><td>5</td><td>2</td><td>2</td><td>7</td><td>9</td><td>1</td><td>8</td><td>3</td><td>10</td><td>10</td><td>10</td><td>2</td><td>5</td><td>6</td><td>2</td><td>1</td></tr><tr><th>5</th><td>1</td><td>6</td><td>8</td><td>5</td><td>10</td><td>3</td><td>6</td><td>10</td><td>7</td><td>3</td><td>4</td><td>2</td><td>3</td><td>2</td><td>3</td><td>2</td><td>8</td><td>4</td><td>5</td><td>6</td><td>2</td><td>1</td><td>4</td><td>9</td><td>5</td><td>7</td><td>10</td><td>4</td><td>4</td><td>10</td><td>5</td><td>4</td><td>3</td><td>5</td><td>5</td><td>2</td><td>6</td><td>3</td><td>1</td><td>9</td><td>9</td><td>5</td><td>3</td><td>2</td><td>6</td><td>3</td><td>4</td><td>8</td><td>9</td><td>5</td><td>7</td><td>1</td><td>8</td><td>9</td><td>3</td><td>10</td><td>9</td><td>5</td><td>5</td><td>9</td><td>9</td><td>3</td><td>3</td><td>7</td><td>1</td><td>6</td><td>7</td><td>10</td><td>3</td><td>10</td><td>9</td><td>10</td><td>4</td><td>3</td><td>2</td><td>10</td><td>7</td><td>2</td><td>3</td><td>10</td><td>2</td><td>6</td><td>5</td><td>6</td><td>4</td><td>4</td><td>5</td><td>10</td><td>9</td><td>8</td><td>10</td><td>8</td><td>5</td><td>2</td><td>5</td><td>4</td><td>6</td><td>7</td><td>3</td><td>5</td><td>1</td><td>10</td><td>7</td><td>7</td><td>7</td><td>9</td><td>3</td><td>2</td><td>8</td><td>7</td><td>5</td><td>1</td><td>5</td><td>9</td><td>9</td><td>10</td><td>10</td><td>2</td><td>6</td><td>2</td><td>8</td><td>2</td><td>7</td><td>4</td><td>1</td><td>6</td><td>6</td><td>5</td><td>4</td><td>1</td><td>10</td><td>8</td><td>7</td><td>10</td><td>9</td><td>10</td><td>6</td><td>8</td><td>1</td><td>10</td><td>1</td><td>5</td><td>10</td></tr><tr><th>6</th><td>8</td><td>6</td><td>7</td><td>9</td><td>6</td><td>9</td><td>10</td><td>8</td><td>4</td><td>2</td><td>10</td><td>7</td><td>1</td><td>1</td><td>9</td><td>4</td><td>3</td><td>2</td><td>3</td><td>2</td><td>10</td><td>2</td><td>3</td><td>3</td><td>8</td><td>3</td><td>4</td><td>10</td><td>6</td><td>6</td><td>4</td><td>8</td><td>4</td><td>9</td><td>2</td><td>8</td><td>10</td><td>6</td><td>3</td><td>8</td><td>7</td><td>7</td><td>2</td><td>5</td><td>4</td><td>5</td><td>10</td><td>1</td><td>6</td><td>7</td><td>6</td><td>1</td><td>5</td><td>1</td><td>4</td><td>4</td><td>2</td><td>5</td><td>10</td><td>5</td><td>5</td><td>5</td><td>7</td><td>3</td><td>4</td><td>8</td><td>8</td><td>9</td><td>3</td><td>2</td><td>7</td><td>1</td><td>2</td><td>1</td><td>8</td><td>5</td><td>8</td><td>8</td><td>7</td><td>3</td><td>1</td><td>5</td><td>9</td><td>8</td><td>8</td><td>1</td><td>5</td><td>8</td><td>5</td><td>3</td><td>2</td><td>10</td><td>6</td><td>8</td><td>2</td><td>10</td><td>3</td><td>9</td><td>1</td><td>10</td><td>6</td><td>4</td><td>8</td><td>2</td><td>3</td><td>5</td><td>1</td><td>3</td><td>6</td><td>5</td><td>3</td><td>3</td><td>9</td><td>10</td><td>10</td><td>1</td><td>8</td><td>7</td><td>10</td><td>3</td><td>6</td><td>1</td><td>2</td><td>1</td><td>8</td><td>1</td><td>4</td><td>1</td><td>2</td><td>8</td><td>1</td><td>10</td><td>2</td><td>8</td><td>3</td><td>2</td><td>4</td><td>4</td><td>1</td><td>1</td><td>6</td><td>7</td><td>6</td></tr><tr><th>7</th><td>6</td><td>9</td><td>2</td><td>10</td><td>10</td><td>1</td><td>8</td><td>6</td><td>7</td><td>9</td><td>3</td><td>3</td><td>10</td><td>8</td><td>4</td><td>9</td><td>7</td><td>10</td><td>2</td><td>2</td><td>5</td><td>2</td><td>8</td><td>9</td><td>3</td><td>9</td><td>2</td><td>9</td><td>2</td><td>6</td><td>10</td><td>3</td><td>5</td><td>5</td><td>6</td><td>8</td><td>3</td><td>1</td><td>5</td><td>3</td><td>1</td><td>5</td><td>3</td><td>3</td><td>4</td><td>2</td><td>7</td><td>5</td><td>10</td><td>9</td><td>3</td><td>1</td><td>8</td><td>7</td><td>10</td><td>8</td><td>10</td><td>8</td><td>2</td><td>10</td><td>4</td><td>7</td><td>1</td><td>2</td><td>9</td><td>5</td><td>3</td><td>5</td><td>8</td><td>2</td><td>8</td><td>1</td><td>8</td><td>5</td><td>7</td><td>4</td><td>5</td><td>3</td><td>8</td><td>1</td><td>7</td><td>7</td><td>9</td><td>10</td><td>2</td><td>8</td><td>4</td><td>2</td><td>1</td><td>7</td><td>2</td><td>3</td><td>6</td><td>4</td><td>3</td><td>10</td><td>5</td><td>3</td><td>10</td><td>7</td><td>3</td><td>5</td><td>5</td><td>7</td><td>6</td><td>3</td><td>1</td><td>1</td><td>5</td><td>8</td><td>3</td><td>7</td><td>7</td><td>6</td><td>10</td><td>10</td><td>3</td><td>2</td><td>10</td><td>5</td><td>4</td><td>8</td><td>4</td><td>4</td><td>10</td><td>6</td><td>10</td><td>5</td><td>4</td><td>10</td><td>4</td><td>4</td><td>4</td><td>2</td><td>4</td><td>6</td><td>5</td><td>7</td><td>8</td><td>5</td><td>5</td><td>5</td><td>9</td></tr><tr><th>8</th><td>9</td><td>1</td><td>5</td><td>10</td><td>5</td><td>5</td><td>10</td><td>9</td><td>9</td><td>10</td><td>6</td><td>7</td><td>8</td><td>4</td><td>3</td><td>2</td><td>6</td><td>5</td><td>5</td><td>6</td><td>2</td><td>10</td><td>4</td><td>9</td><td>10</td><td>1</td><td>9</td><td>6</td><td>9</td><td>9</td><td>4</td><td>5</td><td>4</td><td>2</td><td>5</td><td>2</td><td>9</td><td>4</td><td>2</td><td>5</td><td>6</td><td>2</td><td>9</td><td>6</td><td>3</td><td>9</td><td>8</td><td>8</td><td>2</td><td>9</td><td>8</td><td>6</td><td>10</td><td>7</td><td>4</td><td>7</td><td>2</td><td>10</td><td>10</td><td>7</td><td>6</td><td>8</td><td>8</td><td>4</td><td>4</td><td>6</td><td>3</td><td>2</td><td>6</td><td>10</td><td>7</td><td>6</td><td>9</td><td>9</td><td>5</td><td>4</td><td>7</td><td>5</td><td>2</td><td>6</td><td>8</td><td>3</td><td>4</td><td>5</td><td>5</td><td>1</td><td>1</td><td>6</td><td>3</td><td>5</td><td>6</td><td>7</td><td>1</td><td>8</td><td>5</td><td>6</td><td>9</td><td>5</td><td>10</td><td>4</td><td>5</td><td>4</td><td>6</td><td>5</td><td>3</td><td>8</td><td>1</td><td>5</td><td>5</td><td>7</td><td>3</td><td>9</td><td>8</td><td>10</td><td>3</td><td>1</td><td>5</td><td>10</td><td>7</td><td>9</td><td>5</td><td>6</td><td>6</td><td>6</td><td>2</td><td>10</td><td>8</td><td>4</td><td>1</td><td>6</td><td>9</td><td>4</td><td>4</td><td>6</td><td>10</td><td>9</td><td>8</td><td>2</td><td>4</td><td>5</td><td>3</td><td>8</td><td>1</td></tr><tr><th>9</th><td>1</td><td>10</td><td>7</td><td>3</td><td>8</td><td>8</td><td>5</td><td>9</td><td>8</td><td>5</td><td>2</td><td>7</td><td>1</td><td>1</td><td>9</td><td>3</td><td>8</td><td>5</td><td>10</td><td>9</td><td>5</td><td>8</td><td>5</td><td>10</td><td>2</td><td>4</td><td>2</td><td>6</td><td>7</td><td>9</td><td>1</td><td>6</td><td>6</td><td>8</td><td>7</td><td>6</td><td>10</td><td>1</td><td>10</td><td>6</td><td>6</td><td>10</td><td>9</td><td>4</td><td>8</td><td>9</td><td>1</td><td>8</td><td>4</td><td>9</td><td>9</td><td>9</td><td>8</td><td>8</td><td>10</td><td>7</td><td>9</td><td>8</td><td>4</td><td>1</td><td>4</td><td>8</td><td>9</td><td>8</td><td>5</td><td>7</td><td>5</td><td>10</td><td>8</td><td>5</td><td>10</td><td>3</td><td>7</td><td>8</td><td>3</td><td>3</td><td>1</td><td>10</td><td>1</td><td>1</td><td>1</td><td>5</td><td>4</td><td>9</td><td>8</td><td>4</td><td>2</td><td>6</td><td>1</td><td>6</td><td>3</td><td>6</td><td>1</td><td>2</td><td>5</td><td>10</td><td>2</td><td>3</td><td>10</td><td>7</td><td>3</td><td>6</td><td>5</td><td>7</td><td>8</td><td>4</td><td>2</td><td>5</td><td>10</td><td>9</td><td>5</td><td>6</td><td>7</td><td>3</td><td>10</td><td>3</td><td>9</td><td>9</td><td>5</td><td>10</td><td>10</td><td>9</td><td>10</td><td>10</td><td>6</td><td>3</td><td>9</td><td>3</td><td>10</td><td>6</td><td>3</td><td>4</td><td>9</td><td>3</td><td>7</td><td>10</td><td>7</td><td>8</td><td>5</td><td>7</td><td>10</td><td>10</td><td>7</td></tr><tr><th>10</th><td>7</td><td>4</td><td>10</td><td>6</td><td>2</td><td>10</td><td>6</td><td>4</td><td>6</td><td>2</td><td>9</td><td>9</td><td>4</td><td>6</td><td>8</td><td>7</td><td>7</td><td>5</td><td>4</td><td>7</td><td>4</td><td>2</td><td>4</td><td>8</td><td>10</td><td>10</td><td>8</td><td>6</td><td>9</td><td>2</td><td>6</td><td>4</td><td>6</td><td>8</td><td>2</td><td>10</td><td>8</td><td>3</td><td>3</td><td>6</td><td>4</td><td>8</td><td>6</td><td>7</td><td>6</td><td>10</td><td>3</td><td>9</td><td>4</td><td>8</td><td>1</td><td>3</td><td>4</td><td>6</td><td>4</td><td>9</td><td>5</td><td>9</td><td>2</td><td>6</td><td>6</td><td>8</td><td>1</td><td>8</td><td>3</td><td>2</td><td>6</td><td>8</td><td>6</td><td>10</td><td>2</td><td>4</td><td>3</td><td>2</td><td>10</td><td>8</td><td>1</td><td>6</td><td>3</td><td>1</td><td>4</td><td>4</td><td>1</td><td>9</td><td>6</td><td>6</td><td>1</td><td>3</td><td>10</td><td>6</td><td>8</td><td>8</td><td>7</td><td>4</td><td>9</td><td>8</td><td>6</td><td>9</td><td>8</td><td>1</td><td>3</td><td>9</td><td>4</td><td>4</td><td>2</td><td>5</td><td>6</td><td>1</td><td>10</td><td>6</td><td>8</td><td>3</td><td>1</td><td>1</td><td>5</td><td>10</td><td>5</td><td>8</td><td>4</td><td>9</td><td>4</td><td>2</td><td>1</td><td>9</td><td>5</td><td>2</td><td>6</td><td>3</td><td>1</td><td>1</td><td>8</td><td>7</td><td>7</td><td>4</td><td>5</td><td>2</td><td>4</td><td>4</td><td>8</td><td>1</td><td>2</td><td>5</td><td>8</td></tr></tbody></table>"
      ],
      "text/latex": [
       "\\begin{tabular}{r|cccccccccccccccccccccccccccccccccccccccccccccccccccccccccccccccccccccccccccccccccccccccccccccccccccccccccccccccccccccccccccccccccccccccccccccccc}\n",
       "\t& x1 & x2 & x3 & x4 & x5 & x6 & x7 & x8 & x9 & x10 & x11 & x12 & x13 & x14 & x15 & x16 & x17 & x18 & x19 & x20 & x21 & x22 & x23 & x24 & x25 & x26 & x27 & x28 & x29 & x30 & x31 & x32 & x33 & x34 & x35 & x36 & x37 & x38 & x39 & x40 & x41 & x42 & x43 & x44 & x45 & x46 & x47 & x48 & x49 & x50 & x51 & x52 & x53 & x54 & x55 & x56 & x57 & x58 & x59 & x60 & x61 & x62 & x63 & x64 & x65 & x66 & x67 & x68 & x69 & x70 & x71 & x72 & x73 & x74 & x75 & x76 & x77 & x78 & x79 & x80 & x81 & x82 & x83 & x84 & x85 & x86 & x87 & x88 & x89 & x90 & x91 & x92 & x93 & x94 & x95 & x96 & x97 & x98 & x99 & x100 & x101 & x102 & x103 & x104 & x105 & x106 & x107 & x108 & x109 & x110 & x111 & x112 & x113 & x114 & x115 & x116 & x117 & x118 & x119 & x120 & x121 & x122 & x123 & x124 & x125 & x126 & x127 & x128 & x129 & x130 & x131 & x132 & x133 & x134 & x135 & x136 & x137 & x138 & x139 & x140 & x141 & x142 & x143 & \\\\\n",
       "\t\\hline\n",
       "\t& Int64 & Int64 & Int64 & Int64 & Int64 & Int64 & Int64 & Int64 & Int64 & Int64 & Int64 & Int64 & Int64 & Int64 & Int64 & Int64 & Int64 & Int64 & Int64 & Int64 & Int64 & Int64 & Int64 & Int64 & Int64 & Int64 & Int64 & Int64 & Int64 & Int64 & Int64 & Int64 & Int64 & Int64 & Int64 & Int64 & Int64 & Int64 & Int64 & Int64 & Int64 & Int64 & Int64 & Int64 & Int64 & Int64 & Int64 & Int64 & Int64 & Int64 & Int64 & Int64 & Int64 & Int64 & Int64 & Int64 & Int64 & Int64 & Int64 & Int64 & Int64 & Int64 & Int64 & Int64 & Int64 & Int64 & Int64 & Int64 & Int64 & Int64 & Int64 & Int64 & Int64 & Int64 & Int64 & Int64 & Int64 & Int64 & Int64 & Int64 & Int64 & Int64 & Int64 & Int64 & Int64 & Int64 & Int64 & Int64 & Int64 & Int64 & Int64 & Int64 & Int64 & Int64 & Int64 & Int64 & Int64 & Int64 & Int64 & Int64 & Int64 & Int64 & Int64 & Int64 & Int64 & Int64 & Int64 & Int64 & Int64 & Int64 & Int64 & Int64 & Int64 & Int64 & Int64 & Int64 & Int64 & Int64 & Int64 & Int64 & Int64 & Int64 & Int64 & Int64 & Int64 & Int64 & Int64 & Int64 & Int64 & Int64 & Int64 & Int64 & Int64 & Int64 & Int64 & Int64 & Int64 & Int64 & Int64 & Int64 & Int64 & Int64 & Int64 & \\\\\n",
       "\t\\hline\n",
       "\t1 & 3 & 3 & 6 & 3 & 1 & 2 & 1 & 1 & 7 & 4 & 7 & 7 & 8 & 2 & 10 & 3 & 2 & 9 & 4 & 10 & 5 & 2 & 7 & 2 & 1 & 2 & 2 & 4 & 5 & 7 & 1 & 10 & 3 & 6 & 9 & 5 & 4 & 1 & 8 & 6 & 6 & 4 & 6 & 2 & 10 & 6 & 9 & 10 & 3 & 7 & 1 & 5 & 5 & 5 & 1 & 7 & 5 & 9 & 5 & 6 & 2 & 6 & 1 & 7 & 7 & 6 & 8 & 10 & 3 & 5 & 10 & 10 & 1 & 3 & 3 & 1 & 7 & 8 & 10 & 3 & 7 & 7 & 2 & 4 & 2 & 9 & 5 & 6 & 4 & 1 & 1 & 7 & 6 & 8 & 9 & 1 & 5 & 1 & 8 & 9 & 4 & 9 & 8 & 5 & 8 & 3 & 8 & 1 & 9 & 6 & 1 & 10 & 10 & 8 & 4 & 4 & 6 & 1 & 7 & 4 & 8 & 2 & 2 & 9 & 3 & 8 & 4 & 6 & 5 & 4 & 2 & 9 & 4 & 5 & 5 & 8 & 1 & 9 & 8 & 9 & 10 & 6 & 9 & $\\dots$ \\\\\n",
       "\t2 & 2 & 10 & 6 & 4 & 10 & 9 & 7 & 4 & 6 & 5 & 6 & 5 & 2 & 4 & 4 & 8 & 10 & 6 & 7 & 5 & 9 & 10 & 3 & 8 & 10 & 8 & 5 & 6 & 8 & 3 & 8 & 2 & 7 & 7 & 7 & 8 & 7 & 9 & 3 & 6 & 3 & 3 & 8 & 10 & 7 & 8 & 6 & 4 & 4 & 8 & 5 & 10 & 1 & 5 & 1 & 10 & 8 & 1 & 3 & 9 & 6 & 8 & 2 & 9 & 2 & 10 & 10 & 3 & 4 & 8 & 10 & 5 & 6 & 7 & 5 & 6 & 9 & 7 & 10 & 4 & 10 & 2 & 10 & 1 & 5 & 8 & 4 & 9 & 6 & 5 & 5 & 3 & 4 & 1 & 10 & 4 & 7 & 8 & 2 & 10 & 1 & 4 & 4 & 1 & 6 & 8 & 2 & 8 & 6 & 5 & 5 & 4 & 4 & 1 & 5 & 6 & 6 & 6 & 7 & 7 & 2 & 7 & 6 & 3 & 7 & 4 & 10 & 7 & 1 & 2 & 8 & 5 & 8 & 4 & 1 & 6 & 8 & 7 & 4 & 10 & 1 & 8 & 3 & $\\dots$ \\\\\n",
       "\t3 & 6 & 4 & 10 & 6 & 2 & 6 & 6 & 9 & 4 & 1 & 5 & 6 & 7 & 9 & 8 & 6 & 7 & 1 & 6 & 7 & 4 & 10 & 3 & 4 & 1 & 7 & 10 & 4 & 4 & 4 & 5 & 5 & 7 & 2 & 10 & 4 & 7 & 10 & 6 & 10 & 2 & 2 & 10 & 6 & 8 & 3 & 6 & 2 & 9 & 10 & 7 & 7 & 1 & 7 & 3 & 7 & 10 & 10 & 9 & 2 & 7 & 7 & 1 & 3 & 4 & 9 & 3 & 5 & 7 & 10 & 7 & 3 & 3 & 5 & 9 & 10 & 9 & 3 & 1 & 7 & 3 & 7 & 1 & 1 & 4 & 2 & 9 & 3 & 10 & 1 & 5 & 8 & 7 & 7 & 1 & 3 & 6 & 4 & 9 & 4 & 3 & 1 & 1 & 1 & 10 & 10 & 4 & 8 & 6 & 8 & 2 & 3 & 9 & 8 & 9 & 1 & 3 & 2 & 4 & 9 & 1 & 8 & 2 & 3 & 1 & 1 & 8 & 2 & 6 & 7 & 1 & 7 & 2 & 9 & 10 & 5 & 10 & 4 & 4 & 2 & 9 & 4 & 5 & $\\dots$ \\\\\n",
       "\t4 & 10 & 4 & 5 & 10 & 7 & 8 & 6 & 6 & 10 & 6 & 3 & 1 & 8 & 1 & 5 & 10 & 8 & 2 & 8 & 4 & 5 & 1 & 10 & 10 & 3 & 5 & 1 & 4 & 9 & 4 & 1 & 5 & 1 & 3 & 1 & 9 & 7 & 6 & 7 & 1 & 3 & 8 & 4 & 5 & 1 & 2 & 7 & 9 & 10 & 1 & 1 & 5 & 7 & 10 & 10 & 10 & 1 & 9 & 10 & 7 & 2 & 5 & 5 & 1 & 3 & 9 & 6 & 5 & 9 & 4 & 1 & 5 & 3 & 2 & 9 & 4 & 1 & 3 & 2 & 9 & 3 & 9 & 7 & 8 & 1 & 3 & 1 & 4 & 8 & 9 & 9 & 9 & 4 & 6 & 7 & 6 & 9 & 10 & 10 & 6 & 6 & 10 & 5 & 4 & 8 & 6 & 10 & 9 & 7 & 5 & 2 & 2 & 8 & 2 & 8 & 7 & 8 & 2 & 2 & 7 & 1 & 5 & 7 & 9 & 2 & 6 & 3 & 5 & 2 & 2 & 7 & 9 & 1 & 8 & 3 & 10 & 10 & 10 & 2 & 5 & 6 & 2 & 1 & $\\dots$ \\\\\n",
       "\t5 & 1 & 6 & 8 & 5 & 10 & 3 & 6 & 10 & 7 & 3 & 4 & 2 & 3 & 2 & 3 & 2 & 8 & 4 & 5 & 6 & 2 & 1 & 4 & 9 & 5 & 7 & 10 & 4 & 4 & 10 & 5 & 4 & 3 & 5 & 5 & 2 & 6 & 3 & 1 & 9 & 9 & 5 & 3 & 2 & 6 & 3 & 4 & 8 & 9 & 5 & 7 & 1 & 8 & 9 & 3 & 10 & 9 & 5 & 5 & 9 & 9 & 3 & 3 & 7 & 1 & 6 & 7 & 10 & 3 & 10 & 9 & 10 & 4 & 3 & 2 & 10 & 7 & 2 & 3 & 10 & 2 & 6 & 5 & 6 & 4 & 4 & 5 & 10 & 9 & 8 & 10 & 8 & 5 & 2 & 5 & 4 & 6 & 7 & 3 & 5 & 1 & 10 & 7 & 7 & 7 & 9 & 3 & 2 & 8 & 7 & 5 & 1 & 5 & 9 & 9 & 10 & 10 & 2 & 6 & 2 & 8 & 2 & 7 & 4 & 1 & 6 & 6 & 5 & 4 & 1 & 10 & 8 & 7 & 10 & 9 & 10 & 6 & 8 & 1 & 10 & 1 & 5 & 10 & $\\dots$ \\\\\n",
       "\t6 & 8 & 6 & 7 & 9 & 6 & 9 & 10 & 8 & 4 & 2 & 10 & 7 & 1 & 1 & 9 & 4 & 3 & 2 & 3 & 2 & 10 & 2 & 3 & 3 & 8 & 3 & 4 & 10 & 6 & 6 & 4 & 8 & 4 & 9 & 2 & 8 & 10 & 6 & 3 & 8 & 7 & 7 & 2 & 5 & 4 & 5 & 10 & 1 & 6 & 7 & 6 & 1 & 5 & 1 & 4 & 4 & 2 & 5 & 10 & 5 & 5 & 5 & 7 & 3 & 4 & 8 & 8 & 9 & 3 & 2 & 7 & 1 & 2 & 1 & 8 & 5 & 8 & 8 & 7 & 3 & 1 & 5 & 9 & 8 & 8 & 1 & 5 & 8 & 5 & 3 & 2 & 10 & 6 & 8 & 2 & 10 & 3 & 9 & 1 & 10 & 6 & 4 & 8 & 2 & 3 & 5 & 1 & 3 & 6 & 5 & 3 & 3 & 9 & 10 & 10 & 1 & 8 & 7 & 10 & 3 & 6 & 1 & 2 & 1 & 8 & 1 & 4 & 1 & 2 & 8 & 1 & 10 & 2 & 8 & 3 & 2 & 4 & 4 & 1 & 1 & 6 & 7 & 6 & $\\dots$ \\\\\n",
       "\t7 & 6 & 9 & 2 & 10 & 10 & 1 & 8 & 6 & 7 & 9 & 3 & 3 & 10 & 8 & 4 & 9 & 7 & 10 & 2 & 2 & 5 & 2 & 8 & 9 & 3 & 9 & 2 & 9 & 2 & 6 & 10 & 3 & 5 & 5 & 6 & 8 & 3 & 1 & 5 & 3 & 1 & 5 & 3 & 3 & 4 & 2 & 7 & 5 & 10 & 9 & 3 & 1 & 8 & 7 & 10 & 8 & 10 & 8 & 2 & 10 & 4 & 7 & 1 & 2 & 9 & 5 & 3 & 5 & 8 & 2 & 8 & 1 & 8 & 5 & 7 & 4 & 5 & 3 & 8 & 1 & 7 & 7 & 9 & 10 & 2 & 8 & 4 & 2 & 1 & 7 & 2 & 3 & 6 & 4 & 3 & 10 & 5 & 3 & 10 & 7 & 3 & 5 & 5 & 7 & 6 & 3 & 1 & 1 & 5 & 8 & 3 & 7 & 7 & 6 & 10 & 10 & 3 & 2 & 10 & 5 & 4 & 8 & 4 & 4 & 10 & 6 & 10 & 5 & 4 & 10 & 4 & 4 & 4 & 2 & 4 & 6 & 5 & 7 & 8 & 5 & 5 & 5 & 9 & $\\dots$ \\\\\n",
       "\t8 & 9 & 1 & 5 & 10 & 5 & 5 & 10 & 9 & 9 & 10 & 6 & 7 & 8 & 4 & 3 & 2 & 6 & 5 & 5 & 6 & 2 & 10 & 4 & 9 & 10 & 1 & 9 & 6 & 9 & 9 & 4 & 5 & 4 & 2 & 5 & 2 & 9 & 4 & 2 & 5 & 6 & 2 & 9 & 6 & 3 & 9 & 8 & 8 & 2 & 9 & 8 & 6 & 10 & 7 & 4 & 7 & 2 & 10 & 10 & 7 & 6 & 8 & 8 & 4 & 4 & 6 & 3 & 2 & 6 & 10 & 7 & 6 & 9 & 9 & 5 & 4 & 7 & 5 & 2 & 6 & 8 & 3 & 4 & 5 & 5 & 1 & 1 & 6 & 3 & 5 & 6 & 7 & 1 & 8 & 5 & 6 & 9 & 5 & 10 & 4 & 5 & 4 & 6 & 5 & 3 & 8 & 1 & 5 & 5 & 7 & 3 & 9 & 8 & 10 & 3 & 1 & 5 & 10 & 7 & 9 & 5 & 6 & 6 & 6 & 2 & 10 & 8 & 4 & 1 & 6 & 9 & 4 & 4 & 6 & 10 & 9 & 8 & 2 & 4 & 5 & 3 & 8 & 1 & $\\dots$ \\\\\n",
       "\t9 & 1 & 10 & 7 & 3 & 8 & 8 & 5 & 9 & 8 & 5 & 2 & 7 & 1 & 1 & 9 & 3 & 8 & 5 & 10 & 9 & 5 & 8 & 5 & 10 & 2 & 4 & 2 & 6 & 7 & 9 & 1 & 6 & 6 & 8 & 7 & 6 & 10 & 1 & 10 & 6 & 6 & 10 & 9 & 4 & 8 & 9 & 1 & 8 & 4 & 9 & 9 & 9 & 8 & 8 & 10 & 7 & 9 & 8 & 4 & 1 & 4 & 8 & 9 & 8 & 5 & 7 & 5 & 10 & 8 & 5 & 10 & 3 & 7 & 8 & 3 & 3 & 1 & 10 & 1 & 1 & 1 & 5 & 4 & 9 & 8 & 4 & 2 & 6 & 1 & 6 & 3 & 6 & 1 & 2 & 5 & 10 & 2 & 3 & 10 & 7 & 3 & 6 & 5 & 7 & 8 & 4 & 2 & 5 & 10 & 9 & 5 & 6 & 7 & 3 & 10 & 3 & 9 & 9 & 5 & 10 & 10 & 9 & 10 & 10 & 6 & 3 & 9 & 3 & 10 & 6 & 3 & 4 & 9 & 3 & 7 & 10 & 7 & 8 & 5 & 7 & 10 & 10 & 7 & $\\dots$ \\\\\n",
       "\t10 & 7 & 4 & 10 & 6 & 2 & 10 & 6 & 4 & 6 & 2 & 9 & 9 & 4 & 6 & 8 & 7 & 7 & 5 & 4 & 7 & 4 & 2 & 4 & 8 & 10 & 10 & 8 & 6 & 9 & 2 & 6 & 4 & 6 & 8 & 2 & 10 & 8 & 3 & 3 & 6 & 4 & 8 & 6 & 7 & 6 & 10 & 3 & 9 & 4 & 8 & 1 & 3 & 4 & 6 & 4 & 9 & 5 & 9 & 2 & 6 & 6 & 8 & 1 & 8 & 3 & 2 & 6 & 8 & 6 & 10 & 2 & 4 & 3 & 2 & 10 & 8 & 1 & 6 & 3 & 1 & 4 & 4 & 1 & 9 & 6 & 6 & 1 & 3 & 10 & 6 & 8 & 8 & 7 & 4 & 9 & 8 & 6 & 9 & 8 & 1 & 3 & 9 & 4 & 4 & 2 & 5 & 6 & 1 & 10 & 6 & 8 & 3 & 1 & 1 & 5 & 10 & 5 & 8 & 4 & 9 & 4 & 2 & 1 & 9 & 5 & 2 & 6 & 3 & 1 & 1 & 8 & 7 & 7 & 4 & 5 & 2 & 4 & 4 & 8 & 1 & 2 & 5 & 8 & $\\dots$ \\\\\n",
       "\\end{tabular}\n"
      ],
      "text/plain": [
       "10×1000 DataFrame. Omitted printing of 876 columns\n",
       "│ Row │ x1    │ x2    │ x3    │ x4    │ x5    │ x6    │ x7    │ x8    │ x9    │ x10   │ x11   │ x12   │ x13   │ x14   │ x15   │ x16   │ x17   │ x18   │ x19   │ x20   │ x21   │ x22   │ x23   │ x24   │ x25   │ x26   │ x27   │ x28   │ x29   │ x30   │ x31   │ x32   │ x33   │ x34   │ x35   │ x36   │ x37   │ x38   │ x39   │ x40   │ x41   │ x42   │ x43   │ x44   │ x45   │ x46   │ x47   │ x48   │ x49   │ x50   │ x51   │ x52   │ x53   │ x54   │ x55   │ x56   │ x57   │ x58   │ x59   │ x60   │ x61   │ x62   │ x63   │ x64   │ x65   │ x66   │ x67   │ x68   │ x69   │ x70   │ x71   │ x72   │ x73   │ x74   │ x75   │ x76   │ x77   │ x78   │ x79   │ x80   │ x81   │ x82   │ x83   │ x84   │ x85   │ x86   │ x87   │ x88   │ x89   │ x90   │ x91   │ x92   │ x93   │ x94   │ x95   │ x96   │ x97   │ x98   │ x99   │ x100  │ x101  │ x102  │ x103  │ x104  │ x105  │ x106  │ x107  │ x108  │ x109  │ x110  │ x111  │ x112  │ x113  │ x114  │ x115  │ x116  │ x117  │ x118  │ x119  │ x120  │ x121  │ x122  │ x123  │ x124  │\n",
       "│     │ \u001b[90mInt64\u001b[39m │ \u001b[90mInt64\u001b[39m │ \u001b[90mInt64\u001b[39m │ \u001b[90mInt64\u001b[39m │ \u001b[90mInt64\u001b[39m │ \u001b[90mInt64\u001b[39m │ \u001b[90mInt64\u001b[39m │ \u001b[90mInt64\u001b[39m │ \u001b[90mInt64\u001b[39m │ \u001b[90mInt64\u001b[39m │ \u001b[90mInt64\u001b[39m │ \u001b[90mInt64\u001b[39m │ \u001b[90mInt64\u001b[39m │ \u001b[90mInt64\u001b[39m │ \u001b[90mInt64\u001b[39m │ \u001b[90mInt64\u001b[39m │ \u001b[90mInt64\u001b[39m │ \u001b[90mInt64\u001b[39m │ \u001b[90mInt64\u001b[39m │ \u001b[90mInt64\u001b[39m │ \u001b[90mInt64\u001b[39m │ \u001b[90mInt64\u001b[39m │ \u001b[90mInt64\u001b[39m │ \u001b[90mInt64\u001b[39m │ \u001b[90mInt64\u001b[39m │ \u001b[90mInt64\u001b[39m │ \u001b[90mInt64\u001b[39m │ \u001b[90mInt64\u001b[39m │ \u001b[90mInt64\u001b[39m │ \u001b[90mInt64\u001b[39m │ \u001b[90mInt64\u001b[39m │ \u001b[90mInt64\u001b[39m │ \u001b[90mInt64\u001b[39m │ \u001b[90mInt64\u001b[39m │ \u001b[90mInt64\u001b[39m │ \u001b[90mInt64\u001b[39m │ \u001b[90mInt64\u001b[39m │ \u001b[90mInt64\u001b[39m │ \u001b[90mInt64\u001b[39m │ \u001b[90mInt64\u001b[39m │ \u001b[90mInt64\u001b[39m │ \u001b[90mInt64\u001b[39m │ \u001b[90mInt64\u001b[39m │ \u001b[90mInt64\u001b[39m │ \u001b[90mInt64\u001b[39m │ \u001b[90mInt64\u001b[39m │ \u001b[90mInt64\u001b[39m │ \u001b[90mInt64\u001b[39m │ \u001b[90mInt64\u001b[39m │ \u001b[90mInt64\u001b[39m │ \u001b[90mInt64\u001b[39m │ \u001b[90mInt64\u001b[39m │ \u001b[90mInt64\u001b[39m │ \u001b[90mInt64\u001b[39m │ \u001b[90mInt64\u001b[39m │ \u001b[90mInt64\u001b[39m │ \u001b[90mInt64\u001b[39m │ \u001b[90mInt64\u001b[39m │ \u001b[90mInt64\u001b[39m │ \u001b[90mInt64\u001b[39m │ \u001b[90mInt64\u001b[39m │ \u001b[90mInt64\u001b[39m │ \u001b[90mInt64\u001b[39m │ \u001b[90mInt64\u001b[39m │ \u001b[90mInt64\u001b[39m │ \u001b[90mInt64\u001b[39m │ \u001b[90mInt64\u001b[39m │ \u001b[90mInt64\u001b[39m │ \u001b[90mInt64\u001b[39m │ \u001b[90mInt64\u001b[39m │ \u001b[90mInt64\u001b[39m │ \u001b[90mInt64\u001b[39m │ \u001b[90mInt64\u001b[39m │ \u001b[90mInt64\u001b[39m │ \u001b[90mInt64\u001b[39m │ \u001b[90mInt64\u001b[39m │ \u001b[90mInt64\u001b[39m │ \u001b[90mInt64\u001b[39m │ \u001b[90mInt64\u001b[39m │ \u001b[90mInt64\u001b[39m │ \u001b[90mInt64\u001b[39m │ \u001b[90mInt64\u001b[39m │ \u001b[90mInt64\u001b[39m │ \u001b[90mInt64\u001b[39m │ \u001b[90mInt64\u001b[39m │ \u001b[90mInt64\u001b[39m │ \u001b[90mInt64\u001b[39m │ \u001b[90mInt64\u001b[39m │ \u001b[90mInt64\u001b[39m │ \u001b[90mInt64\u001b[39m │ \u001b[90mInt64\u001b[39m │ \u001b[90mInt64\u001b[39m │ \u001b[90mInt64\u001b[39m │ \u001b[90mInt64\u001b[39m │ \u001b[90mInt64\u001b[39m │ \u001b[90mInt64\u001b[39m │ \u001b[90mInt64\u001b[39m │ \u001b[90mInt64\u001b[39m │ \u001b[90mInt64\u001b[39m │ \u001b[90mInt64\u001b[39m │ \u001b[90mInt64\u001b[39m │ \u001b[90mInt64\u001b[39m │ \u001b[90mInt64\u001b[39m │ \u001b[90mInt64\u001b[39m │ \u001b[90mInt64\u001b[39m │ \u001b[90mInt64\u001b[39m │ \u001b[90mInt64\u001b[39m │ \u001b[90mInt64\u001b[39m │ \u001b[90mInt64\u001b[39m │ \u001b[90mInt64\u001b[39m │ \u001b[90mInt64\u001b[39m │ \u001b[90mInt64\u001b[39m │ \u001b[90mInt64\u001b[39m │ \u001b[90mInt64\u001b[39m │ \u001b[90mInt64\u001b[39m │ \u001b[90mInt64\u001b[39m │ \u001b[90mInt64\u001b[39m │ \u001b[90mInt64\u001b[39m │ \u001b[90mInt64\u001b[39m │ \u001b[90mInt64\u001b[39m │ \u001b[90mInt64\u001b[39m │ \u001b[90mInt64\u001b[39m │ \u001b[90mInt64\u001b[39m │ \u001b[90mInt64\u001b[39m │\n",
       "├─────┼───────┼───────┼───────┼───────┼───────┼───────┼───────┼───────┼───────┼───────┼───────┼───────┼───────┼───────┼───────┼───────┼───────┼───────┼───────┼───────┼───────┼───────┼───────┼───────┼───────┼───────┼───────┼───────┼───────┼───────┼───────┼───────┼───────┼───────┼───────┼───────┼───────┼───────┼───────┼───────┼───────┼───────┼───────┼───────┼───────┼───────┼───────┼───────┼───────┼───────┼───────┼───────┼───────┼───────┼───────┼───────┼───────┼───────┼───────┼───────┼───────┼───────┼───────┼───────┼───────┼───────┼───────┼───────┼───────┼───────┼───────┼───────┼───────┼───────┼───────┼───────┼───────┼───────┼───────┼───────┼───────┼───────┼───────┼───────┼───────┼───────┼───────┼───────┼───────┼───────┼───────┼───────┼───────┼───────┼───────┼───────┼───────┼───────┼───────┼───────┼───────┼───────┼───────┼───────┼───────┼───────┼───────┼───────┼───────┼───────┼───────┼───────┼───────┼───────┼───────┼───────┼───────┼───────┼───────┼───────┼───────┼───────┼───────┼───────┤\n",
       "│ 1   │ 3     │ 3     │ 6     │ 3     │ 1     │ 2     │ 1     │ 1     │ 7     │ 4     │ 7     │ 7     │ 8     │ 2     │ 10    │ 3     │ 2     │ 9     │ 4     │ 10    │ 5     │ 2     │ 7     │ 2     │ 1     │ 2     │ 2     │ 4     │ 5     │ 7     │ 1     │ 10    │ 3     │ 6     │ 9     │ 5     │ 4     │ 1     │ 8     │ 6     │ 6     │ 4     │ 6     │ 2     │ 10    │ 6     │ 9     │ 10    │ 3     │ 7     │ 1     │ 5     │ 5     │ 5     │ 1     │ 7     │ 5     │ 9     │ 5     │ 6     │ 2     │ 6     │ 1     │ 7     │ 7     │ 6     │ 8     │ 10    │ 3     │ 5     │ 10    │ 10    │ 1     │ 3     │ 3     │ 1     │ 7     │ 8     │ 10    │ 3     │ 7     │ 7     │ 2     │ 4     │ 2     │ 9     │ 5     │ 6     │ 4     │ 1     │ 1     │ 7     │ 6     │ 8     │ 9     │ 1     │ 5     │ 1     │ 8     │ 9     │ 4     │ 9     │ 8     │ 5     │ 8     │ 3     │ 8     │ 1     │ 9     │ 6     │ 1     │ 10    │ 10    │ 8     │ 4     │ 4     │ 6     │ 1     │ 7     │ 4     │ 8     │ 2     │ 2     │ 9     │\n",
       "│ 2   │ 2     │ 10    │ 6     │ 4     │ 10    │ 9     │ 7     │ 4     │ 6     │ 5     │ 6     │ 5     │ 2     │ 4     │ 4     │ 8     │ 10    │ 6     │ 7     │ 5     │ 9     │ 10    │ 3     │ 8     │ 10    │ 8     │ 5     │ 6     │ 8     │ 3     │ 8     │ 2     │ 7     │ 7     │ 7     │ 8     │ 7     │ 9     │ 3     │ 6     │ 3     │ 3     │ 8     │ 10    │ 7     │ 8     │ 6     │ 4     │ 4     │ 8     │ 5     │ 10    │ 1     │ 5     │ 1     │ 10    │ 8     │ 1     │ 3     │ 9     │ 6     │ 8     │ 2     │ 9     │ 2     │ 10    │ 10    │ 3     │ 4     │ 8     │ 10    │ 5     │ 6     │ 7     │ 5     │ 6     │ 9     │ 7     │ 10    │ 4     │ 10    │ 2     │ 10    │ 1     │ 5     │ 8     │ 4     │ 9     │ 6     │ 5     │ 5     │ 3     │ 4     │ 1     │ 10    │ 4     │ 7     │ 8     │ 2     │ 10    │ 1     │ 4     │ 4     │ 1     │ 6     │ 8     │ 2     │ 8     │ 6     │ 5     │ 5     │ 4     │ 4     │ 1     │ 5     │ 6     │ 6     │ 6     │ 7     │ 7     │ 2     │ 7     │ 6     │ 3     │\n",
       "│ 3   │ 6     │ 4     │ 10    │ 6     │ 2     │ 6     │ 6     │ 9     │ 4     │ 1     │ 5     │ 6     │ 7     │ 9     │ 8     │ 6     │ 7     │ 1     │ 6     │ 7     │ 4     │ 10    │ 3     │ 4     │ 1     │ 7     │ 10    │ 4     │ 4     │ 4     │ 5     │ 5     │ 7     │ 2     │ 10    │ 4     │ 7     │ 10    │ 6     │ 10    │ 2     │ 2     │ 10    │ 6     │ 8     │ 3     │ 6     │ 2     │ 9     │ 10    │ 7     │ 7     │ 1     │ 7     │ 3     │ 7     │ 10    │ 10    │ 9     │ 2     │ 7     │ 7     │ 1     │ 3     │ 4     │ 9     │ 3     │ 5     │ 7     │ 10    │ 7     │ 3     │ 3     │ 5     │ 9     │ 10    │ 9     │ 3     │ 1     │ 7     │ 3     │ 7     │ 1     │ 1     │ 4     │ 2     │ 9     │ 3     │ 10    │ 1     │ 5     │ 8     │ 7     │ 7     │ 1     │ 3     │ 6     │ 4     │ 9     │ 4     │ 3     │ 1     │ 1     │ 1     │ 10    │ 10    │ 4     │ 8     │ 6     │ 8     │ 2     │ 3     │ 9     │ 8     │ 9     │ 1     │ 3     │ 2     │ 4     │ 9     │ 1     │ 8     │ 2     │ 3     │\n",
       "│ 4   │ 10    │ 4     │ 5     │ 10    │ 7     │ 8     │ 6     │ 6     │ 10    │ 6     │ 3     │ 1     │ 8     │ 1     │ 5     │ 10    │ 8     │ 2     │ 8     │ 4     │ 5     │ 1     │ 10    │ 10    │ 3     │ 5     │ 1     │ 4     │ 9     │ 4     │ 1     │ 5     │ 1     │ 3     │ 1     │ 9     │ 7     │ 6     │ 7     │ 1     │ 3     │ 8     │ 4     │ 5     │ 1     │ 2     │ 7     │ 9     │ 10    │ 1     │ 1     │ 5     │ 7     │ 10    │ 10    │ 10    │ 1     │ 9     │ 10    │ 7     │ 2     │ 5     │ 5     │ 1     │ 3     │ 9     │ 6     │ 5     │ 9     │ 4     │ 1     │ 5     │ 3     │ 2     │ 9     │ 4     │ 1     │ 3     │ 2     │ 9     │ 3     │ 9     │ 7     │ 8     │ 1     │ 3     │ 1     │ 4     │ 8     │ 9     │ 9     │ 9     │ 4     │ 6     │ 7     │ 6     │ 9     │ 10    │ 10    │ 6     │ 6     │ 10    │ 5     │ 4     │ 8     │ 6     │ 10    │ 9     │ 7     │ 5     │ 2     │ 2     │ 8     │ 2     │ 8     │ 7     │ 8     │ 2     │ 2     │ 7     │ 1     │ 5     │ 7     │ 9     │\n",
       "│ 5   │ 1     │ 6     │ 8     │ 5     │ 10    │ 3     │ 6     │ 10    │ 7     │ 3     │ 4     │ 2     │ 3     │ 2     │ 3     │ 2     │ 8     │ 4     │ 5     │ 6     │ 2     │ 1     │ 4     │ 9     │ 5     │ 7     │ 10    │ 4     │ 4     │ 10    │ 5     │ 4     │ 3     │ 5     │ 5     │ 2     │ 6     │ 3     │ 1     │ 9     │ 9     │ 5     │ 3     │ 2     │ 6     │ 3     │ 4     │ 8     │ 9     │ 5     │ 7     │ 1     │ 8     │ 9     │ 3     │ 10    │ 9     │ 5     │ 5     │ 9     │ 9     │ 3     │ 3     │ 7     │ 1     │ 6     │ 7     │ 10    │ 3     │ 10    │ 9     │ 10    │ 4     │ 3     │ 2     │ 10    │ 7     │ 2     │ 3     │ 10    │ 2     │ 6     │ 5     │ 6     │ 4     │ 4     │ 5     │ 10    │ 9     │ 8     │ 10    │ 8     │ 5     │ 2     │ 5     │ 4     │ 6     │ 7     │ 3     │ 5     │ 1     │ 10    │ 7     │ 7     │ 7     │ 9     │ 3     │ 2     │ 8     │ 7     │ 5     │ 1     │ 5     │ 9     │ 9     │ 10    │ 10    │ 2     │ 6     │ 2     │ 8     │ 2     │ 7     │ 4     │\n",
       "│ 6   │ 8     │ 6     │ 7     │ 9     │ 6     │ 9     │ 10    │ 8     │ 4     │ 2     │ 10    │ 7     │ 1     │ 1     │ 9     │ 4     │ 3     │ 2     │ 3     │ 2     │ 10    │ 2     │ 3     │ 3     │ 8     │ 3     │ 4     │ 10    │ 6     │ 6     │ 4     │ 8     │ 4     │ 9     │ 2     │ 8     │ 10    │ 6     │ 3     │ 8     │ 7     │ 7     │ 2     │ 5     │ 4     │ 5     │ 10    │ 1     │ 6     │ 7     │ 6     │ 1     │ 5     │ 1     │ 4     │ 4     │ 2     │ 5     │ 10    │ 5     │ 5     │ 5     │ 7     │ 3     │ 4     │ 8     │ 8     │ 9     │ 3     │ 2     │ 7     │ 1     │ 2     │ 1     │ 8     │ 5     │ 8     │ 8     │ 7     │ 3     │ 1     │ 5     │ 9     │ 8     │ 8     │ 1     │ 5     │ 8     │ 5     │ 3     │ 2     │ 10    │ 6     │ 8     │ 2     │ 10    │ 3     │ 9     │ 1     │ 10    │ 6     │ 4     │ 8     │ 2     │ 3     │ 5     │ 1     │ 3     │ 6     │ 5     │ 3     │ 3     │ 9     │ 10    │ 10    │ 1     │ 8     │ 7     │ 10    │ 3     │ 6     │ 1     │ 2     │ 1     │\n",
       "│ 7   │ 6     │ 9     │ 2     │ 10    │ 10    │ 1     │ 8     │ 6     │ 7     │ 9     │ 3     │ 3     │ 10    │ 8     │ 4     │ 9     │ 7     │ 10    │ 2     │ 2     │ 5     │ 2     │ 8     │ 9     │ 3     │ 9     │ 2     │ 9     │ 2     │ 6     │ 10    │ 3     │ 5     │ 5     │ 6     │ 8     │ 3     │ 1     │ 5     │ 3     │ 1     │ 5     │ 3     │ 3     │ 4     │ 2     │ 7     │ 5     │ 10    │ 9     │ 3     │ 1     │ 8     │ 7     │ 10    │ 8     │ 10    │ 8     │ 2     │ 10    │ 4     │ 7     │ 1     │ 2     │ 9     │ 5     │ 3     │ 5     │ 8     │ 2     │ 8     │ 1     │ 8     │ 5     │ 7     │ 4     │ 5     │ 3     │ 8     │ 1     │ 7     │ 7     │ 9     │ 10    │ 2     │ 8     │ 4     │ 2     │ 1     │ 7     │ 2     │ 3     │ 6     │ 4     │ 3     │ 10    │ 5     │ 3     │ 10    │ 7     │ 3     │ 5     │ 5     │ 7     │ 6     │ 3     │ 1     │ 1     │ 5     │ 8     │ 3     │ 7     │ 7     │ 6     │ 10    │ 10    │ 3     │ 2     │ 10    │ 5     │ 4     │ 8     │ 4     │ 4     │\n",
       "│ 8   │ 9     │ 1     │ 5     │ 10    │ 5     │ 5     │ 10    │ 9     │ 9     │ 10    │ 6     │ 7     │ 8     │ 4     │ 3     │ 2     │ 6     │ 5     │ 5     │ 6     │ 2     │ 10    │ 4     │ 9     │ 10    │ 1     │ 9     │ 6     │ 9     │ 9     │ 4     │ 5     │ 4     │ 2     │ 5     │ 2     │ 9     │ 4     │ 2     │ 5     │ 6     │ 2     │ 9     │ 6     │ 3     │ 9     │ 8     │ 8     │ 2     │ 9     │ 8     │ 6     │ 10    │ 7     │ 4     │ 7     │ 2     │ 10    │ 10    │ 7     │ 6     │ 8     │ 8     │ 4     │ 4     │ 6     │ 3     │ 2     │ 6     │ 10    │ 7     │ 6     │ 9     │ 9     │ 5     │ 4     │ 7     │ 5     │ 2     │ 6     │ 8     │ 3     │ 4     │ 5     │ 5     │ 1     │ 1     │ 6     │ 3     │ 5     │ 6     │ 7     │ 1     │ 8     │ 5     │ 6     │ 9     │ 5     │ 10    │ 4     │ 5     │ 4     │ 6     │ 5     │ 3     │ 8     │ 1     │ 5     │ 5     │ 7     │ 3     │ 9     │ 8     │ 10    │ 3     │ 1     │ 5     │ 10    │ 7     │ 9     │ 5     │ 6     │ 6     │ 6     │\n",
       "│ 9   │ 1     │ 10    │ 7     │ 3     │ 8     │ 8     │ 5     │ 9     │ 8     │ 5     │ 2     │ 7     │ 1     │ 1     │ 9     │ 3     │ 8     │ 5     │ 10    │ 9     │ 5     │ 8     │ 5     │ 10    │ 2     │ 4     │ 2     │ 6     │ 7     │ 9     │ 1     │ 6     │ 6     │ 8     │ 7     │ 6     │ 10    │ 1     │ 10    │ 6     │ 6     │ 10    │ 9     │ 4     │ 8     │ 9     │ 1     │ 8     │ 4     │ 9     │ 9     │ 9     │ 8     │ 8     │ 10    │ 7     │ 9     │ 8     │ 4     │ 1     │ 4     │ 8     │ 9     │ 8     │ 5     │ 7     │ 5     │ 10    │ 8     │ 5     │ 10    │ 3     │ 7     │ 8     │ 3     │ 3     │ 1     │ 10    │ 1     │ 1     │ 1     │ 5     │ 4     │ 9     │ 8     │ 4     │ 2     │ 6     │ 1     │ 6     │ 3     │ 6     │ 1     │ 2     │ 5     │ 10    │ 2     │ 3     │ 10    │ 7     │ 3     │ 6     │ 5     │ 7     │ 8     │ 4     │ 2     │ 5     │ 10    │ 9     │ 5     │ 6     │ 7     │ 3     │ 10    │ 3     │ 9     │ 9     │ 5     │ 10    │ 10    │ 9     │ 10    │ 10    │\n",
       "│ 10  │ 7     │ 4     │ 10    │ 6     │ 2     │ 10    │ 6     │ 4     │ 6     │ 2     │ 9     │ 9     │ 4     │ 6     │ 8     │ 7     │ 7     │ 5     │ 4     │ 7     │ 4     │ 2     │ 4     │ 8     │ 10    │ 10    │ 8     │ 6     │ 9     │ 2     │ 6     │ 4     │ 6     │ 8     │ 2     │ 10    │ 8     │ 3     │ 3     │ 6     │ 4     │ 8     │ 6     │ 7     │ 6     │ 10    │ 3     │ 9     │ 4     │ 8     │ 1     │ 3     │ 4     │ 6     │ 4     │ 9     │ 5     │ 9     │ 2     │ 6     │ 6     │ 8     │ 1     │ 8     │ 3     │ 2     │ 6     │ 8     │ 6     │ 10    │ 2     │ 4     │ 3     │ 2     │ 10    │ 8     │ 1     │ 6     │ 3     │ 1     │ 4     │ 4     │ 1     │ 9     │ 6     │ 6     │ 1     │ 3     │ 10    │ 6     │ 8     │ 8     │ 7     │ 4     │ 9     │ 8     │ 6     │ 9     │ 8     │ 1     │ 3     │ 9     │ 4     │ 4     │ 2     │ 5     │ 6     │ 1     │ 10    │ 6     │ 8     │ 3     │ 1     │ 1     │ 5     │ 10    │ 5     │ 8     │ 4     │ 9     │ 4     │ 2     │ 1     │ 9     │"
      ]
     },
     "execution_count": 44,
     "metadata": {},
     "output_type": "execute_result"
    }
   ],
   "source": [
    "df = DataFrame(rand(1:10, 10, 1000))"
   ]
  },
  {
   "cell_type": "code",
   "execution_count": 45,
   "metadata": {},
   "outputs": [],
   "source": [
    "# GzipCompressorStream comes from CodecZlib\n",
    "\n",
    "open(\"df_compress_test.csv.gz\", \"w\") do io\n",
    "    stream = GzipCompressorStream(io)\n",
    "    CSV.write(stream, df)\n",
    "    close(stream)\n",
    "end"
   ]
  },
  {
   "cell_type": "code",
   "execution_count": 46,
   "metadata": {},
   "outputs": [
    {
     "data": {
      "text/html": [
       "<table class=\"data-frame\"><thead><tr><th></th><th>x1</th><th>x2</th><th>x3</th><th>x4</th><th>x5</th><th>x6</th><th>x7</th><th>x8</th><th>x9</th><th>x10</th><th>x11</th><th>x12</th><th>x13</th><th>x14</th><th>x15</th><th>x16</th><th>x17</th><th>x18</th><th>x19</th><th>x20</th><th>x21</th><th>x22</th><th>x23</th><th>x24</th><th>x25</th><th>x26</th><th>x27</th><th>x28</th><th>x29</th><th>x30</th><th>x31</th><th>x32</th><th>x33</th><th>x34</th><th>x35</th><th>x36</th><th>x37</th><th>x38</th><th>x39</th><th>x40</th><th>x41</th><th>x42</th><th>x43</th><th>x44</th><th>x45</th><th>x46</th><th>x47</th><th>x48</th><th>x49</th><th>x50</th><th>x51</th><th>x52</th><th>x53</th><th>x54</th><th>x55</th><th>x56</th><th>x57</th><th>x58</th><th>x59</th><th>x60</th><th>x61</th><th>x62</th><th>x63</th><th>x64</th><th>x65</th><th>x66</th><th>x67</th><th>x68</th><th>x69</th><th>x70</th><th>x71</th><th>x72</th><th>x73</th><th>x74</th><th>x75</th><th>x76</th><th>x77</th><th>x78</th><th>x79</th><th>x80</th><th>x81</th><th>x82</th><th>x83</th><th>x84</th><th>x85</th><th>x86</th><th>x87</th><th>x88</th><th>x89</th><th>x90</th><th>x91</th><th>x92</th><th>x93</th><th>x94</th><th>x95</th><th>x96</th><th>x97</th><th>x98</th><th>x99</th><th>x100</th><th>x101</th><th>x102</th><th>x103</th><th>x104</th><th>x105</th><th>x106</th><th>x107</th><th>x108</th><th>x109</th><th>x110</th><th>x111</th><th>x112</th><th>x113</th><th>x114</th><th>x115</th><th>x116</th><th>x117</th><th>x118</th><th>x119</th><th>x120</th><th>x121</th><th>x122</th><th>x123</th><th>x124</th><th>x125</th><th>x126</th><th>x127</th><th>x128</th><th>x129</th><th>x130</th><th>x131</th><th>x132</th><th>x133</th><th>x134</th><th>x135</th><th>x136</th><th>x137</th><th>x138</th><th>x139</th><th>x140</th><th>x141</th><th>x142</th><th>x143</th></tr><tr><th></th><th>Int64</th><th>Int64</th><th>Int64</th><th>Int64</th><th>Int64</th><th>Int64</th><th>Int64</th><th>Int64</th><th>Int64</th><th>Int64</th><th>Int64</th><th>Int64</th><th>Int64</th><th>Int64</th><th>Int64</th><th>Int64</th><th>Int64</th><th>Int64</th><th>Int64</th><th>Int64</th><th>Int64</th><th>Int64</th><th>Int64</th><th>Int64</th><th>Int64</th><th>Int64</th><th>Int64</th><th>Int64</th><th>Int64</th><th>Int64</th><th>Int64</th><th>Int64</th><th>Int64</th><th>Int64</th><th>Int64</th><th>Int64</th><th>Int64</th><th>Int64</th><th>Int64</th><th>Int64</th><th>Int64</th><th>Int64</th><th>Int64</th><th>Int64</th><th>Int64</th><th>Int64</th><th>Int64</th><th>Int64</th><th>Int64</th><th>Int64</th><th>Int64</th><th>Int64</th><th>Int64</th><th>Int64</th><th>Int64</th><th>Int64</th><th>Int64</th><th>Int64</th><th>Int64</th><th>Int64</th><th>Int64</th><th>Int64</th><th>Int64</th><th>Int64</th><th>Int64</th><th>Int64</th><th>Int64</th><th>Int64</th><th>Int64</th><th>Int64</th><th>Int64</th><th>Int64</th><th>Int64</th><th>Int64</th><th>Int64</th><th>Int64</th><th>Int64</th><th>Int64</th><th>Int64</th><th>Int64</th><th>Int64</th><th>Int64</th><th>Int64</th><th>Int64</th><th>Int64</th><th>Int64</th><th>Int64</th><th>Int64</th><th>Int64</th><th>Int64</th><th>Int64</th><th>Int64</th><th>Int64</th><th>Int64</th><th>Int64</th><th>Int64</th><th>Int64</th><th>Int64</th><th>Int64</th><th>Int64</th><th>Int64</th><th>Int64</th><th>Int64</th><th>Int64</th><th>Int64</th><th>Int64</th><th>Int64</th><th>Int64</th><th>Int64</th><th>Int64</th><th>Int64</th><th>Int64</th><th>Int64</th><th>Int64</th><th>Int64</th><th>Int64</th><th>Int64</th><th>Int64</th><th>Int64</th><th>Int64</th><th>Int64</th><th>Int64</th><th>Int64</th><th>Int64</th><th>Int64</th><th>Int64</th><th>Int64</th><th>Int64</th><th>Int64</th><th>Int64</th><th>Int64</th><th>Int64</th><th>Int64</th><th>Int64</th><th>Int64</th><th>Int64</th><th>Int64</th><th>Int64</th><th>Int64</th><th>Int64</th><th>Int64</th><th>Int64</th><th>Int64</th></tr></thead><tbody><p>10 rows × 1,000 columns (omitted printing of 857 columns)</p><tr><th>1</th><td>3</td><td>3</td><td>6</td><td>3</td><td>1</td><td>2</td><td>1</td><td>1</td><td>7</td><td>4</td><td>7</td><td>7</td><td>8</td><td>2</td><td>10</td><td>3</td><td>2</td><td>9</td><td>4</td><td>10</td><td>5</td><td>2</td><td>7</td><td>2</td><td>1</td><td>2</td><td>2</td><td>4</td><td>5</td><td>7</td><td>1</td><td>10</td><td>3</td><td>6</td><td>9</td><td>5</td><td>4</td><td>1</td><td>8</td><td>6</td><td>6</td><td>4</td><td>6</td><td>2</td><td>10</td><td>6</td><td>9</td><td>10</td><td>3</td><td>7</td><td>1</td><td>5</td><td>5</td><td>5</td><td>1</td><td>7</td><td>5</td><td>9</td><td>5</td><td>6</td><td>2</td><td>6</td><td>1</td><td>7</td><td>7</td><td>6</td><td>8</td><td>10</td><td>3</td><td>5</td><td>10</td><td>10</td><td>1</td><td>3</td><td>3</td><td>1</td><td>7</td><td>8</td><td>10</td><td>3</td><td>7</td><td>7</td><td>2</td><td>4</td><td>2</td><td>9</td><td>5</td><td>6</td><td>4</td><td>1</td><td>1</td><td>7</td><td>6</td><td>8</td><td>9</td><td>1</td><td>5</td><td>1</td><td>8</td><td>9</td><td>4</td><td>9</td><td>8</td><td>5</td><td>8</td><td>3</td><td>8</td><td>1</td><td>9</td><td>6</td><td>1</td><td>10</td><td>10</td><td>8</td><td>4</td><td>4</td><td>6</td><td>1</td><td>7</td><td>4</td><td>8</td><td>2</td><td>2</td><td>9</td><td>3</td><td>8</td><td>4</td><td>6</td><td>5</td><td>4</td><td>2</td><td>9</td><td>4</td><td>5</td><td>5</td><td>8</td><td>1</td><td>9</td><td>8</td><td>9</td><td>10</td><td>6</td><td>9</td></tr><tr><th>2</th><td>2</td><td>10</td><td>6</td><td>4</td><td>10</td><td>9</td><td>7</td><td>4</td><td>6</td><td>5</td><td>6</td><td>5</td><td>2</td><td>4</td><td>4</td><td>8</td><td>10</td><td>6</td><td>7</td><td>5</td><td>9</td><td>10</td><td>3</td><td>8</td><td>10</td><td>8</td><td>5</td><td>6</td><td>8</td><td>3</td><td>8</td><td>2</td><td>7</td><td>7</td><td>7</td><td>8</td><td>7</td><td>9</td><td>3</td><td>6</td><td>3</td><td>3</td><td>8</td><td>10</td><td>7</td><td>8</td><td>6</td><td>4</td><td>4</td><td>8</td><td>5</td><td>10</td><td>1</td><td>5</td><td>1</td><td>10</td><td>8</td><td>1</td><td>3</td><td>9</td><td>6</td><td>8</td><td>2</td><td>9</td><td>2</td><td>10</td><td>10</td><td>3</td><td>4</td><td>8</td><td>10</td><td>5</td><td>6</td><td>7</td><td>5</td><td>6</td><td>9</td><td>7</td><td>10</td><td>4</td><td>10</td><td>2</td><td>10</td><td>1</td><td>5</td><td>8</td><td>4</td><td>9</td><td>6</td><td>5</td><td>5</td><td>3</td><td>4</td><td>1</td><td>10</td><td>4</td><td>7</td><td>8</td><td>2</td><td>10</td><td>1</td><td>4</td><td>4</td><td>1</td><td>6</td><td>8</td><td>2</td><td>8</td><td>6</td><td>5</td><td>5</td><td>4</td><td>4</td><td>1</td><td>5</td><td>6</td><td>6</td><td>6</td><td>7</td><td>7</td><td>2</td><td>7</td><td>6</td><td>3</td><td>7</td><td>4</td><td>10</td><td>7</td><td>1</td><td>2</td><td>8</td><td>5</td><td>8</td><td>4</td><td>1</td><td>6</td><td>8</td><td>7</td><td>4</td><td>10</td><td>1</td><td>8</td><td>3</td></tr><tr><th>3</th><td>6</td><td>4</td><td>10</td><td>6</td><td>2</td><td>6</td><td>6</td><td>9</td><td>4</td><td>1</td><td>5</td><td>6</td><td>7</td><td>9</td><td>8</td><td>6</td><td>7</td><td>1</td><td>6</td><td>7</td><td>4</td><td>10</td><td>3</td><td>4</td><td>1</td><td>7</td><td>10</td><td>4</td><td>4</td><td>4</td><td>5</td><td>5</td><td>7</td><td>2</td><td>10</td><td>4</td><td>7</td><td>10</td><td>6</td><td>10</td><td>2</td><td>2</td><td>10</td><td>6</td><td>8</td><td>3</td><td>6</td><td>2</td><td>9</td><td>10</td><td>7</td><td>7</td><td>1</td><td>7</td><td>3</td><td>7</td><td>10</td><td>10</td><td>9</td><td>2</td><td>7</td><td>7</td><td>1</td><td>3</td><td>4</td><td>9</td><td>3</td><td>5</td><td>7</td><td>10</td><td>7</td><td>3</td><td>3</td><td>5</td><td>9</td><td>10</td><td>9</td><td>3</td><td>1</td><td>7</td><td>3</td><td>7</td><td>1</td><td>1</td><td>4</td><td>2</td><td>9</td><td>3</td><td>10</td><td>1</td><td>5</td><td>8</td><td>7</td><td>7</td><td>1</td><td>3</td><td>6</td><td>4</td><td>9</td><td>4</td><td>3</td><td>1</td><td>1</td><td>1</td><td>10</td><td>10</td><td>4</td><td>8</td><td>6</td><td>8</td><td>2</td><td>3</td><td>9</td><td>8</td><td>9</td><td>1</td><td>3</td><td>2</td><td>4</td><td>9</td><td>1</td><td>8</td><td>2</td><td>3</td><td>1</td><td>1</td><td>8</td><td>2</td><td>6</td><td>7</td><td>1</td><td>7</td><td>2</td><td>9</td><td>10</td><td>5</td><td>10</td><td>4</td><td>4</td><td>2</td><td>9</td><td>4</td><td>5</td></tr><tr><th>4</th><td>10</td><td>4</td><td>5</td><td>10</td><td>7</td><td>8</td><td>6</td><td>6</td><td>10</td><td>6</td><td>3</td><td>1</td><td>8</td><td>1</td><td>5</td><td>10</td><td>8</td><td>2</td><td>8</td><td>4</td><td>5</td><td>1</td><td>10</td><td>10</td><td>3</td><td>5</td><td>1</td><td>4</td><td>9</td><td>4</td><td>1</td><td>5</td><td>1</td><td>3</td><td>1</td><td>9</td><td>7</td><td>6</td><td>7</td><td>1</td><td>3</td><td>8</td><td>4</td><td>5</td><td>1</td><td>2</td><td>7</td><td>9</td><td>10</td><td>1</td><td>1</td><td>5</td><td>7</td><td>10</td><td>10</td><td>10</td><td>1</td><td>9</td><td>10</td><td>7</td><td>2</td><td>5</td><td>5</td><td>1</td><td>3</td><td>9</td><td>6</td><td>5</td><td>9</td><td>4</td><td>1</td><td>5</td><td>3</td><td>2</td><td>9</td><td>4</td><td>1</td><td>3</td><td>2</td><td>9</td><td>3</td><td>9</td><td>7</td><td>8</td><td>1</td><td>3</td><td>1</td><td>4</td><td>8</td><td>9</td><td>9</td><td>9</td><td>4</td><td>6</td><td>7</td><td>6</td><td>9</td><td>10</td><td>10</td><td>6</td><td>6</td><td>10</td><td>5</td><td>4</td><td>8</td><td>6</td><td>10</td><td>9</td><td>7</td><td>5</td><td>2</td><td>2</td><td>8</td><td>2</td><td>8</td><td>7</td><td>8</td><td>2</td><td>2</td><td>7</td><td>1</td><td>5</td><td>7</td><td>9</td><td>2</td><td>6</td><td>3</td><td>5</td><td>2</td><td>2</td><td>7</td><td>9</td><td>1</td><td>8</td><td>3</td><td>10</td><td>10</td><td>10</td><td>2</td><td>5</td><td>6</td><td>2</td><td>1</td></tr><tr><th>5</th><td>1</td><td>6</td><td>8</td><td>5</td><td>10</td><td>3</td><td>6</td><td>10</td><td>7</td><td>3</td><td>4</td><td>2</td><td>3</td><td>2</td><td>3</td><td>2</td><td>8</td><td>4</td><td>5</td><td>6</td><td>2</td><td>1</td><td>4</td><td>9</td><td>5</td><td>7</td><td>10</td><td>4</td><td>4</td><td>10</td><td>5</td><td>4</td><td>3</td><td>5</td><td>5</td><td>2</td><td>6</td><td>3</td><td>1</td><td>9</td><td>9</td><td>5</td><td>3</td><td>2</td><td>6</td><td>3</td><td>4</td><td>8</td><td>9</td><td>5</td><td>7</td><td>1</td><td>8</td><td>9</td><td>3</td><td>10</td><td>9</td><td>5</td><td>5</td><td>9</td><td>9</td><td>3</td><td>3</td><td>7</td><td>1</td><td>6</td><td>7</td><td>10</td><td>3</td><td>10</td><td>9</td><td>10</td><td>4</td><td>3</td><td>2</td><td>10</td><td>7</td><td>2</td><td>3</td><td>10</td><td>2</td><td>6</td><td>5</td><td>6</td><td>4</td><td>4</td><td>5</td><td>10</td><td>9</td><td>8</td><td>10</td><td>8</td><td>5</td><td>2</td><td>5</td><td>4</td><td>6</td><td>7</td><td>3</td><td>5</td><td>1</td><td>10</td><td>7</td><td>7</td><td>7</td><td>9</td><td>3</td><td>2</td><td>8</td><td>7</td><td>5</td><td>1</td><td>5</td><td>9</td><td>9</td><td>10</td><td>10</td><td>2</td><td>6</td><td>2</td><td>8</td><td>2</td><td>7</td><td>4</td><td>1</td><td>6</td><td>6</td><td>5</td><td>4</td><td>1</td><td>10</td><td>8</td><td>7</td><td>10</td><td>9</td><td>10</td><td>6</td><td>8</td><td>1</td><td>10</td><td>1</td><td>5</td><td>10</td></tr><tr><th>6</th><td>8</td><td>6</td><td>7</td><td>9</td><td>6</td><td>9</td><td>10</td><td>8</td><td>4</td><td>2</td><td>10</td><td>7</td><td>1</td><td>1</td><td>9</td><td>4</td><td>3</td><td>2</td><td>3</td><td>2</td><td>10</td><td>2</td><td>3</td><td>3</td><td>8</td><td>3</td><td>4</td><td>10</td><td>6</td><td>6</td><td>4</td><td>8</td><td>4</td><td>9</td><td>2</td><td>8</td><td>10</td><td>6</td><td>3</td><td>8</td><td>7</td><td>7</td><td>2</td><td>5</td><td>4</td><td>5</td><td>10</td><td>1</td><td>6</td><td>7</td><td>6</td><td>1</td><td>5</td><td>1</td><td>4</td><td>4</td><td>2</td><td>5</td><td>10</td><td>5</td><td>5</td><td>5</td><td>7</td><td>3</td><td>4</td><td>8</td><td>8</td><td>9</td><td>3</td><td>2</td><td>7</td><td>1</td><td>2</td><td>1</td><td>8</td><td>5</td><td>8</td><td>8</td><td>7</td><td>3</td><td>1</td><td>5</td><td>9</td><td>8</td><td>8</td><td>1</td><td>5</td><td>8</td><td>5</td><td>3</td><td>2</td><td>10</td><td>6</td><td>8</td><td>2</td><td>10</td><td>3</td><td>9</td><td>1</td><td>10</td><td>6</td><td>4</td><td>8</td><td>2</td><td>3</td><td>5</td><td>1</td><td>3</td><td>6</td><td>5</td><td>3</td><td>3</td><td>9</td><td>10</td><td>10</td><td>1</td><td>8</td><td>7</td><td>10</td><td>3</td><td>6</td><td>1</td><td>2</td><td>1</td><td>8</td><td>1</td><td>4</td><td>1</td><td>2</td><td>8</td><td>1</td><td>10</td><td>2</td><td>8</td><td>3</td><td>2</td><td>4</td><td>4</td><td>1</td><td>1</td><td>6</td><td>7</td><td>6</td></tr><tr><th>7</th><td>6</td><td>9</td><td>2</td><td>10</td><td>10</td><td>1</td><td>8</td><td>6</td><td>7</td><td>9</td><td>3</td><td>3</td><td>10</td><td>8</td><td>4</td><td>9</td><td>7</td><td>10</td><td>2</td><td>2</td><td>5</td><td>2</td><td>8</td><td>9</td><td>3</td><td>9</td><td>2</td><td>9</td><td>2</td><td>6</td><td>10</td><td>3</td><td>5</td><td>5</td><td>6</td><td>8</td><td>3</td><td>1</td><td>5</td><td>3</td><td>1</td><td>5</td><td>3</td><td>3</td><td>4</td><td>2</td><td>7</td><td>5</td><td>10</td><td>9</td><td>3</td><td>1</td><td>8</td><td>7</td><td>10</td><td>8</td><td>10</td><td>8</td><td>2</td><td>10</td><td>4</td><td>7</td><td>1</td><td>2</td><td>9</td><td>5</td><td>3</td><td>5</td><td>8</td><td>2</td><td>8</td><td>1</td><td>8</td><td>5</td><td>7</td><td>4</td><td>5</td><td>3</td><td>8</td><td>1</td><td>7</td><td>7</td><td>9</td><td>10</td><td>2</td><td>8</td><td>4</td><td>2</td><td>1</td><td>7</td><td>2</td><td>3</td><td>6</td><td>4</td><td>3</td><td>10</td><td>5</td><td>3</td><td>10</td><td>7</td><td>3</td><td>5</td><td>5</td><td>7</td><td>6</td><td>3</td><td>1</td><td>1</td><td>5</td><td>8</td><td>3</td><td>7</td><td>7</td><td>6</td><td>10</td><td>10</td><td>3</td><td>2</td><td>10</td><td>5</td><td>4</td><td>8</td><td>4</td><td>4</td><td>10</td><td>6</td><td>10</td><td>5</td><td>4</td><td>10</td><td>4</td><td>4</td><td>4</td><td>2</td><td>4</td><td>6</td><td>5</td><td>7</td><td>8</td><td>5</td><td>5</td><td>5</td><td>9</td></tr><tr><th>8</th><td>9</td><td>1</td><td>5</td><td>10</td><td>5</td><td>5</td><td>10</td><td>9</td><td>9</td><td>10</td><td>6</td><td>7</td><td>8</td><td>4</td><td>3</td><td>2</td><td>6</td><td>5</td><td>5</td><td>6</td><td>2</td><td>10</td><td>4</td><td>9</td><td>10</td><td>1</td><td>9</td><td>6</td><td>9</td><td>9</td><td>4</td><td>5</td><td>4</td><td>2</td><td>5</td><td>2</td><td>9</td><td>4</td><td>2</td><td>5</td><td>6</td><td>2</td><td>9</td><td>6</td><td>3</td><td>9</td><td>8</td><td>8</td><td>2</td><td>9</td><td>8</td><td>6</td><td>10</td><td>7</td><td>4</td><td>7</td><td>2</td><td>10</td><td>10</td><td>7</td><td>6</td><td>8</td><td>8</td><td>4</td><td>4</td><td>6</td><td>3</td><td>2</td><td>6</td><td>10</td><td>7</td><td>6</td><td>9</td><td>9</td><td>5</td><td>4</td><td>7</td><td>5</td><td>2</td><td>6</td><td>8</td><td>3</td><td>4</td><td>5</td><td>5</td><td>1</td><td>1</td><td>6</td><td>3</td><td>5</td><td>6</td><td>7</td><td>1</td><td>8</td><td>5</td><td>6</td><td>9</td><td>5</td><td>10</td><td>4</td><td>5</td><td>4</td><td>6</td><td>5</td><td>3</td><td>8</td><td>1</td><td>5</td><td>5</td><td>7</td><td>3</td><td>9</td><td>8</td><td>10</td><td>3</td><td>1</td><td>5</td><td>10</td><td>7</td><td>9</td><td>5</td><td>6</td><td>6</td><td>6</td><td>2</td><td>10</td><td>8</td><td>4</td><td>1</td><td>6</td><td>9</td><td>4</td><td>4</td><td>6</td><td>10</td><td>9</td><td>8</td><td>2</td><td>4</td><td>5</td><td>3</td><td>8</td><td>1</td></tr><tr><th>9</th><td>1</td><td>10</td><td>7</td><td>3</td><td>8</td><td>8</td><td>5</td><td>9</td><td>8</td><td>5</td><td>2</td><td>7</td><td>1</td><td>1</td><td>9</td><td>3</td><td>8</td><td>5</td><td>10</td><td>9</td><td>5</td><td>8</td><td>5</td><td>10</td><td>2</td><td>4</td><td>2</td><td>6</td><td>7</td><td>9</td><td>1</td><td>6</td><td>6</td><td>8</td><td>7</td><td>6</td><td>10</td><td>1</td><td>10</td><td>6</td><td>6</td><td>10</td><td>9</td><td>4</td><td>8</td><td>9</td><td>1</td><td>8</td><td>4</td><td>9</td><td>9</td><td>9</td><td>8</td><td>8</td><td>10</td><td>7</td><td>9</td><td>8</td><td>4</td><td>1</td><td>4</td><td>8</td><td>9</td><td>8</td><td>5</td><td>7</td><td>5</td><td>10</td><td>8</td><td>5</td><td>10</td><td>3</td><td>7</td><td>8</td><td>3</td><td>3</td><td>1</td><td>10</td><td>1</td><td>1</td><td>1</td><td>5</td><td>4</td><td>9</td><td>8</td><td>4</td><td>2</td><td>6</td><td>1</td><td>6</td><td>3</td><td>6</td><td>1</td><td>2</td><td>5</td><td>10</td><td>2</td><td>3</td><td>10</td><td>7</td><td>3</td><td>6</td><td>5</td><td>7</td><td>8</td><td>4</td><td>2</td><td>5</td><td>10</td><td>9</td><td>5</td><td>6</td><td>7</td><td>3</td><td>10</td><td>3</td><td>9</td><td>9</td><td>5</td><td>10</td><td>10</td><td>9</td><td>10</td><td>10</td><td>6</td><td>3</td><td>9</td><td>3</td><td>10</td><td>6</td><td>3</td><td>4</td><td>9</td><td>3</td><td>7</td><td>10</td><td>7</td><td>8</td><td>5</td><td>7</td><td>10</td><td>10</td><td>7</td></tr><tr><th>10</th><td>7</td><td>4</td><td>10</td><td>6</td><td>2</td><td>10</td><td>6</td><td>4</td><td>6</td><td>2</td><td>9</td><td>9</td><td>4</td><td>6</td><td>8</td><td>7</td><td>7</td><td>5</td><td>4</td><td>7</td><td>4</td><td>2</td><td>4</td><td>8</td><td>10</td><td>10</td><td>8</td><td>6</td><td>9</td><td>2</td><td>6</td><td>4</td><td>6</td><td>8</td><td>2</td><td>10</td><td>8</td><td>3</td><td>3</td><td>6</td><td>4</td><td>8</td><td>6</td><td>7</td><td>6</td><td>10</td><td>3</td><td>9</td><td>4</td><td>8</td><td>1</td><td>3</td><td>4</td><td>6</td><td>4</td><td>9</td><td>5</td><td>9</td><td>2</td><td>6</td><td>6</td><td>8</td><td>1</td><td>8</td><td>3</td><td>2</td><td>6</td><td>8</td><td>6</td><td>10</td><td>2</td><td>4</td><td>3</td><td>2</td><td>10</td><td>8</td><td>1</td><td>6</td><td>3</td><td>1</td><td>4</td><td>4</td><td>1</td><td>9</td><td>6</td><td>6</td><td>1</td><td>3</td><td>10</td><td>6</td><td>8</td><td>8</td><td>7</td><td>4</td><td>9</td><td>8</td><td>6</td><td>9</td><td>8</td><td>1</td><td>3</td><td>9</td><td>4</td><td>4</td><td>2</td><td>5</td><td>6</td><td>1</td><td>10</td><td>6</td><td>8</td><td>3</td><td>1</td><td>1</td><td>5</td><td>10</td><td>5</td><td>8</td><td>4</td><td>9</td><td>4</td><td>2</td><td>1</td><td>9</td><td>5</td><td>2</td><td>6</td><td>3</td><td>1</td><td>1</td><td>8</td><td>7</td><td>7</td><td>4</td><td>5</td><td>2</td><td>4</td><td>4</td><td>8</td><td>1</td><td>2</td><td>5</td><td>8</td></tr></tbody></table>"
      ],
      "text/latex": [
       "\\begin{tabular}{r|cccccccccccccccccccccccccccccccccccccccccccccccccccccccccccccccccccccccccccccccccccccccccccccccccccccccccccccccccccccccccccccccccccccccccccccccc}\n",
       "\t& x1 & x2 & x3 & x4 & x5 & x6 & x7 & x8 & x9 & x10 & x11 & x12 & x13 & x14 & x15 & x16 & x17 & x18 & x19 & x20 & x21 & x22 & x23 & x24 & x25 & x26 & x27 & x28 & x29 & x30 & x31 & x32 & x33 & x34 & x35 & x36 & x37 & x38 & x39 & x40 & x41 & x42 & x43 & x44 & x45 & x46 & x47 & x48 & x49 & x50 & x51 & x52 & x53 & x54 & x55 & x56 & x57 & x58 & x59 & x60 & x61 & x62 & x63 & x64 & x65 & x66 & x67 & x68 & x69 & x70 & x71 & x72 & x73 & x74 & x75 & x76 & x77 & x78 & x79 & x80 & x81 & x82 & x83 & x84 & x85 & x86 & x87 & x88 & x89 & x90 & x91 & x92 & x93 & x94 & x95 & x96 & x97 & x98 & x99 & x100 & x101 & x102 & x103 & x104 & x105 & x106 & x107 & x108 & x109 & x110 & x111 & x112 & x113 & x114 & x115 & x116 & x117 & x118 & x119 & x120 & x121 & x122 & x123 & x124 & x125 & x126 & x127 & x128 & x129 & x130 & x131 & x132 & x133 & x134 & x135 & x136 & x137 & x138 & x139 & x140 & x141 & x142 & x143 & \\\\\n",
       "\t\\hline\n",
       "\t& Int64 & Int64 & Int64 & Int64 & Int64 & Int64 & Int64 & Int64 & Int64 & Int64 & Int64 & Int64 & Int64 & Int64 & Int64 & Int64 & Int64 & Int64 & Int64 & Int64 & Int64 & Int64 & Int64 & Int64 & Int64 & Int64 & Int64 & Int64 & Int64 & Int64 & Int64 & Int64 & Int64 & Int64 & Int64 & Int64 & Int64 & Int64 & Int64 & Int64 & Int64 & Int64 & Int64 & Int64 & Int64 & Int64 & Int64 & Int64 & Int64 & Int64 & Int64 & Int64 & Int64 & Int64 & Int64 & Int64 & Int64 & Int64 & Int64 & Int64 & Int64 & Int64 & Int64 & Int64 & Int64 & Int64 & Int64 & Int64 & Int64 & Int64 & Int64 & Int64 & Int64 & Int64 & Int64 & Int64 & Int64 & Int64 & Int64 & Int64 & Int64 & Int64 & Int64 & Int64 & Int64 & Int64 & Int64 & Int64 & Int64 & Int64 & Int64 & Int64 & Int64 & Int64 & Int64 & Int64 & Int64 & Int64 & Int64 & Int64 & Int64 & Int64 & Int64 & Int64 & Int64 & Int64 & Int64 & Int64 & Int64 & Int64 & Int64 & Int64 & Int64 & Int64 & Int64 & Int64 & Int64 & Int64 & Int64 & Int64 & Int64 & Int64 & Int64 & Int64 & Int64 & Int64 & Int64 & Int64 & Int64 & Int64 & Int64 & Int64 & Int64 & Int64 & Int64 & Int64 & Int64 & Int64 & Int64 & Int64 & Int64 & Int64 & Int64 & \\\\\n",
       "\t\\hline\n",
       "\t1 & 3 & 3 & 6 & 3 & 1 & 2 & 1 & 1 & 7 & 4 & 7 & 7 & 8 & 2 & 10 & 3 & 2 & 9 & 4 & 10 & 5 & 2 & 7 & 2 & 1 & 2 & 2 & 4 & 5 & 7 & 1 & 10 & 3 & 6 & 9 & 5 & 4 & 1 & 8 & 6 & 6 & 4 & 6 & 2 & 10 & 6 & 9 & 10 & 3 & 7 & 1 & 5 & 5 & 5 & 1 & 7 & 5 & 9 & 5 & 6 & 2 & 6 & 1 & 7 & 7 & 6 & 8 & 10 & 3 & 5 & 10 & 10 & 1 & 3 & 3 & 1 & 7 & 8 & 10 & 3 & 7 & 7 & 2 & 4 & 2 & 9 & 5 & 6 & 4 & 1 & 1 & 7 & 6 & 8 & 9 & 1 & 5 & 1 & 8 & 9 & 4 & 9 & 8 & 5 & 8 & 3 & 8 & 1 & 9 & 6 & 1 & 10 & 10 & 8 & 4 & 4 & 6 & 1 & 7 & 4 & 8 & 2 & 2 & 9 & 3 & 8 & 4 & 6 & 5 & 4 & 2 & 9 & 4 & 5 & 5 & 8 & 1 & 9 & 8 & 9 & 10 & 6 & 9 & $\\dots$ \\\\\n",
       "\t2 & 2 & 10 & 6 & 4 & 10 & 9 & 7 & 4 & 6 & 5 & 6 & 5 & 2 & 4 & 4 & 8 & 10 & 6 & 7 & 5 & 9 & 10 & 3 & 8 & 10 & 8 & 5 & 6 & 8 & 3 & 8 & 2 & 7 & 7 & 7 & 8 & 7 & 9 & 3 & 6 & 3 & 3 & 8 & 10 & 7 & 8 & 6 & 4 & 4 & 8 & 5 & 10 & 1 & 5 & 1 & 10 & 8 & 1 & 3 & 9 & 6 & 8 & 2 & 9 & 2 & 10 & 10 & 3 & 4 & 8 & 10 & 5 & 6 & 7 & 5 & 6 & 9 & 7 & 10 & 4 & 10 & 2 & 10 & 1 & 5 & 8 & 4 & 9 & 6 & 5 & 5 & 3 & 4 & 1 & 10 & 4 & 7 & 8 & 2 & 10 & 1 & 4 & 4 & 1 & 6 & 8 & 2 & 8 & 6 & 5 & 5 & 4 & 4 & 1 & 5 & 6 & 6 & 6 & 7 & 7 & 2 & 7 & 6 & 3 & 7 & 4 & 10 & 7 & 1 & 2 & 8 & 5 & 8 & 4 & 1 & 6 & 8 & 7 & 4 & 10 & 1 & 8 & 3 & $\\dots$ \\\\\n",
       "\t3 & 6 & 4 & 10 & 6 & 2 & 6 & 6 & 9 & 4 & 1 & 5 & 6 & 7 & 9 & 8 & 6 & 7 & 1 & 6 & 7 & 4 & 10 & 3 & 4 & 1 & 7 & 10 & 4 & 4 & 4 & 5 & 5 & 7 & 2 & 10 & 4 & 7 & 10 & 6 & 10 & 2 & 2 & 10 & 6 & 8 & 3 & 6 & 2 & 9 & 10 & 7 & 7 & 1 & 7 & 3 & 7 & 10 & 10 & 9 & 2 & 7 & 7 & 1 & 3 & 4 & 9 & 3 & 5 & 7 & 10 & 7 & 3 & 3 & 5 & 9 & 10 & 9 & 3 & 1 & 7 & 3 & 7 & 1 & 1 & 4 & 2 & 9 & 3 & 10 & 1 & 5 & 8 & 7 & 7 & 1 & 3 & 6 & 4 & 9 & 4 & 3 & 1 & 1 & 1 & 10 & 10 & 4 & 8 & 6 & 8 & 2 & 3 & 9 & 8 & 9 & 1 & 3 & 2 & 4 & 9 & 1 & 8 & 2 & 3 & 1 & 1 & 8 & 2 & 6 & 7 & 1 & 7 & 2 & 9 & 10 & 5 & 10 & 4 & 4 & 2 & 9 & 4 & 5 & $\\dots$ \\\\\n",
       "\t4 & 10 & 4 & 5 & 10 & 7 & 8 & 6 & 6 & 10 & 6 & 3 & 1 & 8 & 1 & 5 & 10 & 8 & 2 & 8 & 4 & 5 & 1 & 10 & 10 & 3 & 5 & 1 & 4 & 9 & 4 & 1 & 5 & 1 & 3 & 1 & 9 & 7 & 6 & 7 & 1 & 3 & 8 & 4 & 5 & 1 & 2 & 7 & 9 & 10 & 1 & 1 & 5 & 7 & 10 & 10 & 10 & 1 & 9 & 10 & 7 & 2 & 5 & 5 & 1 & 3 & 9 & 6 & 5 & 9 & 4 & 1 & 5 & 3 & 2 & 9 & 4 & 1 & 3 & 2 & 9 & 3 & 9 & 7 & 8 & 1 & 3 & 1 & 4 & 8 & 9 & 9 & 9 & 4 & 6 & 7 & 6 & 9 & 10 & 10 & 6 & 6 & 10 & 5 & 4 & 8 & 6 & 10 & 9 & 7 & 5 & 2 & 2 & 8 & 2 & 8 & 7 & 8 & 2 & 2 & 7 & 1 & 5 & 7 & 9 & 2 & 6 & 3 & 5 & 2 & 2 & 7 & 9 & 1 & 8 & 3 & 10 & 10 & 10 & 2 & 5 & 6 & 2 & 1 & $\\dots$ \\\\\n",
       "\t5 & 1 & 6 & 8 & 5 & 10 & 3 & 6 & 10 & 7 & 3 & 4 & 2 & 3 & 2 & 3 & 2 & 8 & 4 & 5 & 6 & 2 & 1 & 4 & 9 & 5 & 7 & 10 & 4 & 4 & 10 & 5 & 4 & 3 & 5 & 5 & 2 & 6 & 3 & 1 & 9 & 9 & 5 & 3 & 2 & 6 & 3 & 4 & 8 & 9 & 5 & 7 & 1 & 8 & 9 & 3 & 10 & 9 & 5 & 5 & 9 & 9 & 3 & 3 & 7 & 1 & 6 & 7 & 10 & 3 & 10 & 9 & 10 & 4 & 3 & 2 & 10 & 7 & 2 & 3 & 10 & 2 & 6 & 5 & 6 & 4 & 4 & 5 & 10 & 9 & 8 & 10 & 8 & 5 & 2 & 5 & 4 & 6 & 7 & 3 & 5 & 1 & 10 & 7 & 7 & 7 & 9 & 3 & 2 & 8 & 7 & 5 & 1 & 5 & 9 & 9 & 10 & 10 & 2 & 6 & 2 & 8 & 2 & 7 & 4 & 1 & 6 & 6 & 5 & 4 & 1 & 10 & 8 & 7 & 10 & 9 & 10 & 6 & 8 & 1 & 10 & 1 & 5 & 10 & $\\dots$ \\\\\n",
       "\t6 & 8 & 6 & 7 & 9 & 6 & 9 & 10 & 8 & 4 & 2 & 10 & 7 & 1 & 1 & 9 & 4 & 3 & 2 & 3 & 2 & 10 & 2 & 3 & 3 & 8 & 3 & 4 & 10 & 6 & 6 & 4 & 8 & 4 & 9 & 2 & 8 & 10 & 6 & 3 & 8 & 7 & 7 & 2 & 5 & 4 & 5 & 10 & 1 & 6 & 7 & 6 & 1 & 5 & 1 & 4 & 4 & 2 & 5 & 10 & 5 & 5 & 5 & 7 & 3 & 4 & 8 & 8 & 9 & 3 & 2 & 7 & 1 & 2 & 1 & 8 & 5 & 8 & 8 & 7 & 3 & 1 & 5 & 9 & 8 & 8 & 1 & 5 & 8 & 5 & 3 & 2 & 10 & 6 & 8 & 2 & 10 & 3 & 9 & 1 & 10 & 6 & 4 & 8 & 2 & 3 & 5 & 1 & 3 & 6 & 5 & 3 & 3 & 9 & 10 & 10 & 1 & 8 & 7 & 10 & 3 & 6 & 1 & 2 & 1 & 8 & 1 & 4 & 1 & 2 & 8 & 1 & 10 & 2 & 8 & 3 & 2 & 4 & 4 & 1 & 1 & 6 & 7 & 6 & $\\dots$ \\\\\n",
       "\t7 & 6 & 9 & 2 & 10 & 10 & 1 & 8 & 6 & 7 & 9 & 3 & 3 & 10 & 8 & 4 & 9 & 7 & 10 & 2 & 2 & 5 & 2 & 8 & 9 & 3 & 9 & 2 & 9 & 2 & 6 & 10 & 3 & 5 & 5 & 6 & 8 & 3 & 1 & 5 & 3 & 1 & 5 & 3 & 3 & 4 & 2 & 7 & 5 & 10 & 9 & 3 & 1 & 8 & 7 & 10 & 8 & 10 & 8 & 2 & 10 & 4 & 7 & 1 & 2 & 9 & 5 & 3 & 5 & 8 & 2 & 8 & 1 & 8 & 5 & 7 & 4 & 5 & 3 & 8 & 1 & 7 & 7 & 9 & 10 & 2 & 8 & 4 & 2 & 1 & 7 & 2 & 3 & 6 & 4 & 3 & 10 & 5 & 3 & 10 & 7 & 3 & 5 & 5 & 7 & 6 & 3 & 1 & 1 & 5 & 8 & 3 & 7 & 7 & 6 & 10 & 10 & 3 & 2 & 10 & 5 & 4 & 8 & 4 & 4 & 10 & 6 & 10 & 5 & 4 & 10 & 4 & 4 & 4 & 2 & 4 & 6 & 5 & 7 & 8 & 5 & 5 & 5 & 9 & $\\dots$ \\\\\n",
       "\t8 & 9 & 1 & 5 & 10 & 5 & 5 & 10 & 9 & 9 & 10 & 6 & 7 & 8 & 4 & 3 & 2 & 6 & 5 & 5 & 6 & 2 & 10 & 4 & 9 & 10 & 1 & 9 & 6 & 9 & 9 & 4 & 5 & 4 & 2 & 5 & 2 & 9 & 4 & 2 & 5 & 6 & 2 & 9 & 6 & 3 & 9 & 8 & 8 & 2 & 9 & 8 & 6 & 10 & 7 & 4 & 7 & 2 & 10 & 10 & 7 & 6 & 8 & 8 & 4 & 4 & 6 & 3 & 2 & 6 & 10 & 7 & 6 & 9 & 9 & 5 & 4 & 7 & 5 & 2 & 6 & 8 & 3 & 4 & 5 & 5 & 1 & 1 & 6 & 3 & 5 & 6 & 7 & 1 & 8 & 5 & 6 & 9 & 5 & 10 & 4 & 5 & 4 & 6 & 5 & 3 & 8 & 1 & 5 & 5 & 7 & 3 & 9 & 8 & 10 & 3 & 1 & 5 & 10 & 7 & 9 & 5 & 6 & 6 & 6 & 2 & 10 & 8 & 4 & 1 & 6 & 9 & 4 & 4 & 6 & 10 & 9 & 8 & 2 & 4 & 5 & 3 & 8 & 1 & $\\dots$ \\\\\n",
       "\t9 & 1 & 10 & 7 & 3 & 8 & 8 & 5 & 9 & 8 & 5 & 2 & 7 & 1 & 1 & 9 & 3 & 8 & 5 & 10 & 9 & 5 & 8 & 5 & 10 & 2 & 4 & 2 & 6 & 7 & 9 & 1 & 6 & 6 & 8 & 7 & 6 & 10 & 1 & 10 & 6 & 6 & 10 & 9 & 4 & 8 & 9 & 1 & 8 & 4 & 9 & 9 & 9 & 8 & 8 & 10 & 7 & 9 & 8 & 4 & 1 & 4 & 8 & 9 & 8 & 5 & 7 & 5 & 10 & 8 & 5 & 10 & 3 & 7 & 8 & 3 & 3 & 1 & 10 & 1 & 1 & 1 & 5 & 4 & 9 & 8 & 4 & 2 & 6 & 1 & 6 & 3 & 6 & 1 & 2 & 5 & 10 & 2 & 3 & 10 & 7 & 3 & 6 & 5 & 7 & 8 & 4 & 2 & 5 & 10 & 9 & 5 & 6 & 7 & 3 & 10 & 3 & 9 & 9 & 5 & 10 & 10 & 9 & 10 & 10 & 6 & 3 & 9 & 3 & 10 & 6 & 3 & 4 & 9 & 3 & 7 & 10 & 7 & 8 & 5 & 7 & 10 & 10 & 7 & $\\dots$ \\\\\n",
       "\t10 & 7 & 4 & 10 & 6 & 2 & 10 & 6 & 4 & 6 & 2 & 9 & 9 & 4 & 6 & 8 & 7 & 7 & 5 & 4 & 7 & 4 & 2 & 4 & 8 & 10 & 10 & 8 & 6 & 9 & 2 & 6 & 4 & 6 & 8 & 2 & 10 & 8 & 3 & 3 & 6 & 4 & 8 & 6 & 7 & 6 & 10 & 3 & 9 & 4 & 8 & 1 & 3 & 4 & 6 & 4 & 9 & 5 & 9 & 2 & 6 & 6 & 8 & 1 & 8 & 3 & 2 & 6 & 8 & 6 & 10 & 2 & 4 & 3 & 2 & 10 & 8 & 1 & 6 & 3 & 1 & 4 & 4 & 1 & 9 & 6 & 6 & 1 & 3 & 10 & 6 & 8 & 8 & 7 & 4 & 9 & 8 & 6 & 9 & 8 & 1 & 3 & 9 & 4 & 4 & 2 & 5 & 6 & 1 & 10 & 6 & 8 & 3 & 1 & 1 & 5 & 10 & 5 & 8 & 4 & 9 & 4 & 2 & 1 & 9 & 5 & 2 & 6 & 3 & 1 & 1 & 8 & 7 & 7 & 4 & 5 & 2 & 4 & 4 & 8 & 1 & 2 & 5 & 8 & $\\dots$ \\\\\n",
       "\\end{tabular}\n"
      ],
      "text/plain": [
       "10×1000 DataFrame. Omitted printing of 876 columns\n",
       "│ Row │ x1    │ x2    │ x3    │ x4    │ x5    │ x6    │ x7    │ x8    │ x9    │ x10   │ x11   │ x12   │ x13   │ x14   │ x15   │ x16   │ x17   │ x18   │ x19   │ x20   │ x21   │ x22   │ x23   │ x24   │ x25   │ x26   │ x27   │ x28   │ x29   │ x30   │ x31   │ x32   │ x33   │ x34   │ x35   │ x36   │ x37   │ x38   │ x39   │ x40   │ x41   │ x42   │ x43   │ x44   │ x45   │ x46   │ x47   │ x48   │ x49   │ x50   │ x51   │ x52   │ x53   │ x54   │ x55   │ x56   │ x57   │ x58   │ x59   │ x60   │ x61   │ x62   │ x63   │ x64   │ x65   │ x66   │ x67   │ x68   │ x69   │ x70   │ x71   │ x72   │ x73   │ x74   │ x75   │ x76   │ x77   │ x78   │ x79   │ x80   │ x81   │ x82   │ x83   │ x84   │ x85   │ x86   │ x87   │ x88   │ x89   │ x90   │ x91   │ x92   │ x93   │ x94   │ x95   │ x96   │ x97   │ x98   │ x99   │ x100  │ x101  │ x102  │ x103  │ x104  │ x105  │ x106  │ x107  │ x108  │ x109  │ x110  │ x111  │ x112  │ x113  │ x114  │ x115  │ x116  │ x117  │ x118  │ x119  │ x120  │ x121  │ x122  │ x123  │ x124  │\n",
       "│     │ \u001b[90mInt64\u001b[39m │ \u001b[90mInt64\u001b[39m │ \u001b[90mInt64\u001b[39m │ \u001b[90mInt64\u001b[39m │ \u001b[90mInt64\u001b[39m │ \u001b[90mInt64\u001b[39m │ \u001b[90mInt64\u001b[39m │ \u001b[90mInt64\u001b[39m │ \u001b[90mInt64\u001b[39m │ \u001b[90mInt64\u001b[39m │ \u001b[90mInt64\u001b[39m │ \u001b[90mInt64\u001b[39m │ \u001b[90mInt64\u001b[39m │ \u001b[90mInt64\u001b[39m │ \u001b[90mInt64\u001b[39m │ \u001b[90mInt64\u001b[39m │ \u001b[90mInt64\u001b[39m │ \u001b[90mInt64\u001b[39m │ \u001b[90mInt64\u001b[39m │ \u001b[90mInt64\u001b[39m │ \u001b[90mInt64\u001b[39m │ \u001b[90mInt64\u001b[39m │ \u001b[90mInt64\u001b[39m │ \u001b[90mInt64\u001b[39m │ \u001b[90mInt64\u001b[39m │ \u001b[90mInt64\u001b[39m │ \u001b[90mInt64\u001b[39m │ \u001b[90mInt64\u001b[39m │ \u001b[90mInt64\u001b[39m │ \u001b[90mInt64\u001b[39m │ \u001b[90mInt64\u001b[39m │ \u001b[90mInt64\u001b[39m │ \u001b[90mInt64\u001b[39m │ \u001b[90mInt64\u001b[39m │ \u001b[90mInt64\u001b[39m │ \u001b[90mInt64\u001b[39m │ \u001b[90mInt64\u001b[39m │ \u001b[90mInt64\u001b[39m │ \u001b[90mInt64\u001b[39m │ \u001b[90mInt64\u001b[39m │ \u001b[90mInt64\u001b[39m │ \u001b[90mInt64\u001b[39m │ \u001b[90mInt64\u001b[39m │ \u001b[90mInt64\u001b[39m │ \u001b[90mInt64\u001b[39m │ \u001b[90mInt64\u001b[39m │ \u001b[90mInt64\u001b[39m │ \u001b[90mInt64\u001b[39m │ \u001b[90mInt64\u001b[39m │ \u001b[90mInt64\u001b[39m │ \u001b[90mInt64\u001b[39m │ \u001b[90mInt64\u001b[39m │ \u001b[90mInt64\u001b[39m │ \u001b[90mInt64\u001b[39m │ \u001b[90mInt64\u001b[39m │ \u001b[90mInt64\u001b[39m │ \u001b[90mInt64\u001b[39m │ \u001b[90mInt64\u001b[39m │ \u001b[90mInt64\u001b[39m │ \u001b[90mInt64\u001b[39m │ \u001b[90mInt64\u001b[39m │ \u001b[90mInt64\u001b[39m │ \u001b[90mInt64\u001b[39m │ \u001b[90mInt64\u001b[39m │ \u001b[90mInt64\u001b[39m │ \u001b[90mInt64\u001b[39m │ \u001b[90mInt64\u001b[39m │ \u001b[90mInt64\u001b[39m │ \u001b[90mInt64\u001b[39m │ \u001b[90mInt64\u001b[39m │ \u001b[90mInt64\u001b[39m │ \u001b[90mInt64\u001b[39m │ \u001b[90mInt64\u001b[39m │ \u001b[90mInt64\u001b[39m │ \u001b[90mInt64\u001b[39m │ \u001b[90mInt64\u001b[39m │ \u001b[90mInt64\u001b[39m │ \u001b[90mInt64\u001b[39m │ \u001b[90mInt64\u001b[39m │ \u001b[90mInt64\u001b[39m │ \u001b[90mInt64\u001b[39m │ \u001b[90mInt64\u001b[39m │ \u001b[90mInt64\u001b[39m │ \u001b[90mInt64\u001b[39m │ \u001b[90mInt64\u001b[39m │ \u001b[90mInt64\u001b[39m │ \u001b[90mInt64\u001b[39m │ \u001b[90mInt64\u001b[39m │ \u001b[90mInt64\u001b[39m │ \u001b[90mInt64\u001b[39m │ \u001b[90mInt64\u001b[39m │ \u001b[90mInt64\u001b[39m │ \u001b[90mInt64\u001b[39m │ \u001b[90mInt64\u001b[39m │ \u001b[90mInt64\u001b[39m │ \u001b[90mInt64\u001b[39m │ \u001b[90mInt64\u001b[39m │ \u001b[90mInt64\u001b[39m │ \u001b[90mInt64\u001b[39m │ \u001b[90mInt64\u001b[39m │ \u001b[90mInt64\u001b[39m │ \u001b[90mInt64\u001b[39m │ \u001b[90mInt64\u001b[39m │ \u001b[90mInt64\u001b[39m │ \u001b[90mInt64\u001b[39m │ \u001b[90mInt64\u001b[39m │ \u001b[90mInt64\u001b[39m │ \u001b[90mInt64\u001b[39m │ \u001b[90mInt64\u001b[39m │ \u001b[90mInt64\u001b[39m │ \u001b[90mInt64\u001b[39m │ \u001b[90mInt64\u001b[39m │ \u001b[90mInt64\u001b[39m │ \u001b[90mInt64\u001b[39m │ \u001b[90mInt64\u001b[39m │ \u001b[90mInt64\u001b[39m │ \u001b[90mInt64\u001b[39m │ \u001b[90mInt64\u001b[39m │ \u001b[90mInt64\u001b[39m │ \u001b[90mInt64\u001b[39m │ \u001b[90mInt64\u001b[39m │ \u001b[90mInt64\u001b[39m │ \u001b[90mInt64\u001b[39m │ \u001b[90mInt64\u001b[39m │\n",
       "├─────┼───────┼───────┼───────┼───────┼───────┼───────┼───────┼───────┼───────┼───────┼───────┼───────┼───────┼───────┼───────┼───────┼───────┼───────┼───────┼───────┼───────┼───────┼───────┼───────┼───────┼───────┼───────┼───────┼───────┼───────┼───────┼───────┼───────┼───────┼───────┼───────┼───────┼───────┼───────┼───────┼───────┼───────┼───────┼───────┼───────┼───────┼───────┼───────┼───────┼───────┼───────┼───────┼───────┼───────┼───────┼───────┼───────┼───────┼───────┼───────┼───────┼───────┼───────┼───────┼───────┼───────┼───────┼───────┼───────┼───────┼───────┼───────┼───────┼───────┼───────┼───────┼───────┼───────┼───────┼───────┼───────┼───────┼───────┼───────┼───────┼───────┼───────┼───────┼───────┼───────┼───────┼───────┼───────┼───────┼───────┼───────┼───────┼───────┼───────┼───────┼───────┼───────┼───────┼───────┼───────┼───────┼───────┼───────┼───────┼───────┼───────┼───────┼───────┼───────┼───────┼───────┼───────┼───────┼───────┼───────┼───────┼───────┼───────┼───────┤\n",
       "│ 1   │ 3     │ 3     │ 6     │ 3     │ 1     │ 2     │ 1     │ 1     │ 7     │ 4     │ 7     │ 7     │ 8     │ 2     │ 10    │ 3     │ 2     │ 9     │ 4     │ 10    │ 5     │ 2     │ 7     │ 2     │ 1     │ 2     │ 2     │ 4     │ 5     │ 7     │ 1     │ 10    │ 3     │ 6     │ 9     │ 5     │ 4     │ 1     │ 8     │ 6     │ 6     │ 4     │ 6     │ 2     │ 10    │ 6     │ 9     │ 10    │ 3     │ 7     │ 1     │ 5     │ 5     │ 5     │ 1     │ 7     │ 5     │ 9     │ 5     │ 6     │ 2     │ 6     │ 1     │ 7     │ 7     │ 6     │ 8     │ 10    │ 3     │ 5     │ 10    │ 10    │ 1     │ 3     │ 3     │ 1     │ 7     │ 8     │ 10    │ 3     │ 7     │ 7     │ 2     │ 4     │ 2     │ 9     │ 5     │ 6     │ 4     │ 1     │ 1     │ 7     │ 6     │ 8     │ 9     │ 1     │ 5     │ 1     │ 8     │ 9     │ 4     │ 9     │ 8     │ 5     │ 8     │ 3     │ 8     │ 1     │ 9     │ 6     │ 1     │ 10    │ 10    │ 8     │ 4     │ 4     │ 6     │ 1     │ 7     │ 4     │ 8     │ 2     │ 2     │ 9     │\n",
       "│ 2   │ 2     │ 10    │ 6     │ 4     │ 10    │ 9     │ 7     │ 4     │ 6     │ 5     │ 6     │ 5     │ 2     │ 4     │ 4     │ 8     │ 10    │ 6     │ 7     │ 5     │ 9     │ 10    │ 3     │ 8     │ 10    │ 8     │ 5     │ 6     │ 8     │ 3     │ 8     │ 2     │ 7     │ 7     │ 7     │ 8     │ 7     │ 9     │ 3     │ 6     │ 3     │ 3     │ 8     │ 10    │ 7     │ 8     │ 6     │ 4     │ 4     │ 8     │ 5     │ 10    │ 1     │ 5     │ 1     │ 10    │ 8     │ 1     │ 3     │ 9     │ 6     │ 8     │ 2     │ 9     │ 2     │ 10    │ 10    │ 3     │ 4     │ 8     │ 10    │ 5     │ 6     │ 7     │ 5     │ 6     │ 9     │ 7     │ 10    │ 4     │ 10    │ 2     │ 10    │ 1     │ 5     │ 8     │ 4     │ 9     │ 6     │ 5     │ 5     │ 3     │ 4     │ 1     │ 10    │ 4     │ 7     │ 8     │ 2     │ 10    │ 1     │ 4     │ 4     │ 1     │ 6     │ 8     │ 2     │ 8     │ 6     │ 5     │ 5     │ 4     │ 4     │ 1     │ 5     │ 6     │ 6     │ 6     │ 7     │ 7     │ 2     │ 7     │ 6     │ 3     │\n",
       "│ 3   │ 6     │ 4     │ 10    │ 6     │ 2     │ 6     │ 6     │ 9     │ 4     │ 1     │ 5     │ 6     │ 7     │ 9     │ 8     │ 6     │ 7     │ 1     │ 6     │ 7     │ 4     │ 10    │ 3     │ 4     │ 1     │ 7     │ 10    │ 4     │ 4     │ 4     │ 5     │ 5     │ 7     │ 2     │ 10    │ 4     │ 7     │ 10    │ 6     │ 10    │ 2     │ 2     │ 10    │ 6     │ 8     │ 3     │ 6     │ 2     │ 9     │ 10    │ 7     │ 7     │ 1     │ 7     │ 3     │ 7     │ 10    │ 10    │ 9     │ 2     │ 7     │ 7     │ 1     │ 3     │ 4     │ 9     │ 3     │ 5     │ 7     │ 10    │ 7     │ 3     │ 3     │ 5     │ 9     │ 10    │ 9     │ 3     │ 1     │ 7     │ 3     │ 7     │ 1     │ 1     │ 4     │ 2     │ 9     │ 3     │ 10    │ 1     │ 5     │ 8     │ 7     │ 7     │ 1     │ 3     │ 6     │ 4     │ 9     │ 4     │ 3     │ 1     │ 1     │ 1     │ 10    │ 10    │ 4     │ 8     │ 6     │ 8     │ 2     │ 3     │ 9     │ 8     │ 9     │ 1     │ 3     │ 2     │ 4     │ 9     │ 1     │ 8     │ 2     │ 3     │\n",
       "│ 4   │ 10    │ 4     │ 5     │ 10    │ 7     │ 8     │ 6     │ 6     │ 10    │ 6     │ 3     │ 1     │ 8     │ 1     │ 5     │ 10    │ 8     │ 2     │ 8     │ 4     │ 5     │ 1     │ 10    │ 10    │ 3     │ 5     │ 1     │ 4     │ 9     │ 4     │ 1     │ 5     │ 1     │ 3     │ 1     │ 9     │ 7     │ 6     │ 7     │ 1     │ 3     │ 8     │ 4     │ 5     │ 1     │ 2     │ 7     │ 9     │ 10    │ 1     │ 1     │ 5     │ 7     │ 10    │ 10    │ 10    │ 1     │ 9     │ 10    │ 7     │ 2     │ 5     │ 5     │ 1     │ 3     │ 9     │ 6     │ 5     │ 9     │ 4     │ 1     │ 5     │ 3     │ 2     │ 9     │ 4     │ 1     │ 3     │ 2     │ 9     │ 3     │ 9     │ 7     │ 8     │ 1     │ 3     │ 1     │ 4     │ 8     │ 9     │ 9     │ 9     │ 4     │ 6     │ 7     │ 6     │ 9     │ 10    │ 10    │ 6     │ 6     │ 10    │ 5     │ 4     │ 8     │ 6     │ 10    │ 9     │ 7     │ 5     │ 2     │ 2     │ 8     │ 2     │ 8     │ 7     │ 8     │ 2     │ 2     │ 7     │ 1     │ 5     │ 7     │ 9     │\n",
       "│ 5   │ 1     │ 6     │ 8     │ 5     │ 10    │ 3     │ 6     │ 10    │ 7     │ 3     │ 4     │ 2     │ 3     │ 2     │ 3     │ 2     │ 8     │ 4     │ 5     │ 6     │ 2     │ 1     │ 4     │ 9     │ 5     │ 7     │ 10    │ 4     │ 4     │ 10    │ 5     │ 4     │ 3     │ 5     │ 5     │ 2     │ 6     │ 3     │ 1     │ 9     │ 9     │ 5     │ 3     │ 2     │ 6     │ 3     │ 4     │ 8     │ 9     │ 5     │ 7     │ 1     │ 8     │ 9     │ 3     │ 10    │ 9     │ 5     │ 5     │ 9     │ 9     │ 3     │ 3     │ 7     │ 1     │ 6     │ 7     │ 10    │ 3     │ 10    │ 9     │ 10    │ 4     │ 3     │ 2     │ 10    │ 7     │ 2     │ 3     │ 10    │ 2     │ 6     │ 5     │ 6     │ 4     │ 4     │ 5     │ 10    │ 9     │ 8     │ 10    │ 8     │ 5     │ 2     │ 5     │ 4     │ 6     │ 7     │ 3     │ 5     │ 1     │ 10    │ 7     │ 7     │ 7     │ 9     │ 3     │ 2     │ 8     │ 7     │ 5     │ 1     │ 5     │ 9     │ 9     │ 10    │ 10    │ 2     │ 6     │ 2     │ 8     │ 2     │ 7     │ 4     │\n",
       "│ 6   │ 8     │ 6     │ 7     │ 9     │ 6     │ 9     │ 10    │ 8     │ 4     │ 2     │ 10    │ 7     │ 1     │ 1     │ 9     │ 4     │ 3     │ 2     │ 3     │ 2     │ 10    │ 2     │ 3     │ 3     │ 8     │ 3     │ 4     │ 10    │ 6     │ 6     │ 4     │ 8     │ 4     │ 9     │ 2     │ 8     │ 10    │ 6     │ 3     │ 8     │ 7     │ 7     │ 2     │ 5     │ 4     │ 5     │ 10    │ 1     │ 6     │ 7     │ 6     │ 1     │ 5     │ 1     │ 4     │ 4     │ 2     │ 5     │ 10    │ 5     │ 5     │ 5     │ 7     │ 3     │ 4     │ 8     │ 8     │ 9     │ 3     │ 2     │ 7     │ 1     │ 2     │ 1     │ 8     │ 5     │ 8     │ 8     │ 7     │ 3     │ 1     │ 5     │ 9     │ 8     │ 8     │ 1     │ 5     │ 8     │ 5     │ 3     │ 2     │ 10    │ 6     │ 8     │ 2     │ 10    │ 3     │ 9     │ 1     │ 10    │ 6     │ 4     │ 8     │ 2     │ 3     │ 5     │ 1     │ 3     │ 6     │ 5     │ 3     │ 3     │ 9     │ 10    │ 10    │ 1     │ 8     │ 7     │ 10    │ 3     │ 6     │ 1     │ 2     │ 1     │\n",
       "│ 7   │ 6     │ 9     │ 2     │ 10    │ 10    │ 1     │ 8     │ 6     │ 7     │ 9     │ 3     │ 3     │ 10    │ 8     │ 4     │ 9     │ 7     │ 10    │ 2     │ 2     │ 5     │ 2     │ 8     │ 9     │ 3     │ 9     │ 2     │ 9     │ 2     │ 6     │ 10    │ 3     │ 5     │ 5     │ 6     │ 8     │ 3     │ 1     │ 5     │ 3     │ 1     │ 5     │ 3     │ 3     │ 4     │ 2     │ 7     │ 5     │ 10    │ 9     │ 3     │ 1     │ 8     │ 7     │ 10    │ 8     │ 10    │ 8     │ 2     │ 10    │ 4     │ 7     │ 1     │ 2     │ 9     │ 5     │ 3     │ 5     │ 8     │ 2     │ 8     │ 1     │ 8     │ 5     │ 7     │ 4     │ 5     │ 3     │ 8     │ 1     │ 7     │ 7     │ 9     │ 10    │ 2     │ 8     │ 4     │ 2     │ 1     │ 7     │ 2     │ 3     │ 6     │ 4     │ 3     │ 10    │ 5     │ 3     │ 10    │ 7     │ 3     │ 5     │ 5     │ 7     │ 6     │ 3     │ 1     │ 1     │ 5     │ 8     │ 3     │ 7     │ 7     │ 6     │ 10    │ 10    │ 3     │ 2     │ 10    │ 5     │ 4     │ 8     │ 4     │ 4     │\n",
       "│ 8   │ 9     │ 1     │ 5     │ 10    │ 5     │ 5     │ 10    │ 9     │ 9     │ 10    │ 6     │ 7     │ 8     │ 4     │ 3     │ 2     │ 6     │ 5     │ 5     │ 6     │ 2     │ 10    │ 4     │ 9     │ 10    │ 1     │ 9     │ 6     │ 9     │ 9     │ 4     │ 5     │ 4     │ 2     │ 5     │ 2     │ 9     │ 4     │ 2     │ 5     │ 6     │ 2     │ 9     │ 6     │ 3     │ 9     │ 8     │ 8     │ 2     │ 9     │ 8     │ 6     │ 10    │ 7     │ 4     │ 7     │ 2     │ 10    │ 10    │ 7     │ 6     │ 8     │ 8     │ 4     │ 4     │ 6     │ 3     │ 2     │ 6     │ 10    │ 7     │ 6     │ 9     │ 9     │ 5     │ 4     │ 7     │ 5     │ 2     │ 6     │ 8     │ 3     │ 4     │ 5     │ 5     │ 1     │ 1     │ 6     │ 3     │ 5     │ 6     │ 7     │ 1     │ 8     │ 5     │ 6     │ 9     │ 5     │ 10    │ 4     │ 5     │ 4     │ 6     │ 5     │ 3     │ 8     │ 1     │ 5     │ 5     │ 7     │ 3     │ 9     │ 8     │ 10    │ 3     │ 1     │ 5     │ 10    │ 7     │ 9     │ 5     │ 6     │ 6     │ 6     │\n",
       "│ 9   │ 1     │ 10    │ 7     │ 3     │ 8     │ 8     │ 5     │ 9     │ 8     │ 5     │ 2     │ 7     │ 1     │ 1     │ 9     │ 3     │ 8     │ 5     │ 10    │ 9     │ 5     │ 8     │ 5     │ 10    │ 2     │ 4     │ 2     │ 6     │ 7     │ 9     │ 1     │ 6     │ 6     │ 8     │ 7     │ 6     │ 10    │ 1     │ 10    │ 6     │ 6     │ 10    │ 9     │ 4     │ 8     │ 9     │ 1     │ 8     │ 4     │ 9     │ 9     │ 9     │ 8     │ 8     │ 10    │ 7     │ 9     │ 8     │ 4     │ 1     │ 4     │ 8     │ 9     │ 8     │ 5     │ 7     │ 5     │ 10    │ 8     │ 5     │ 10    │ 3     │ 7     │ 8     │ 3     │ 3     │ 1     │ 10    │ 1     │ 1     │ 1     │ 5     │ 4     │ 9     │ 8     │ 4     │ 2     │ 6     │ 1     │ 6     │ 3     │ 6     │ 1     │ 2     │ 5     │ 10    │ 2     │ 3     │ 10    │ 7     │ 3     │ 6     │ 5     │ 7     │ 8     │ 4     │ 2     │ 5     │ 10    │ 9     │ 5     │ 6     │ 7     │ 3     │ 10    │ 3     │ 9     │ 9     │ 5     │ 10    │ 10    │ 9     │ 10    │ 10    │\n",
       "│ 10  │ 7     │ 4     │ 10    │ 6     │ 2     │ 10    │ 6     │ 4     │ 6     │ 2     │ 9     │ 9     │ 4     │ 6     │ 8     │ 7     │ 7     │ 5     │ 4     │ 7     │ 4     │ 2     │ 4     │ 8     │ 10    │ 10    │ 8     │ 6     │ 9     │ 2     │ 6     │ 4     │ 6     │ 8     │ 2     │ 10    │ 8     │ 3     │ 3     │ 6     │ 4     │ 8     │ 6     │ 7     │ 6     │ 10    │ 3     │ 9     │ 4     │ 8     │ 1     │ 3     │ 4     │ 6     │ 4     │ 9     │ 5     │ 9     │ 2     │ 6     │ 6     │ 8     │ 1     │ 8     │ 3     │ 2     │ 6     │ 8     │ 6     │ 10    │ 2     │ 4     │ 3     │ 2     │ 10    │ 8     │ 1     │ 6     │ 3     │ 1     │ 4     │ 4     │ 1     │ 9     │ 6     │ 6     │ 1     │ 3     │ 10    │ 6     │ 8     │ 8     │ 7     │ 4     │ 9     │ 8     │ 6     │ 9     │ 8     │ 1     │ 3     │ 9     │ 4     │ 4     │ 2     │ 5     │ 6     │ 1     │ 10    │ 6     │ 8     │ 3     │ 1     │ 1     │ 5     │ 10    │ 5     │ 8     │ 4     │ 9     │ 4     │ 2     │ 1     │ 9     │"
      ]
     },
     "execution_count": 46,
     "metadata": {},
     "output_type": "execute_result"
    }
   ],
   "source": [
    "df2 = open(\"df_compress_test.csv.gz\") do io\n",
    "    stream = GzipDecompressorStream(io)\n",
    "    res = CSV.read(stream)\n",
    "    close(stream)\n",
    "    res\n",
    "end"
   ]
  },
  {
   "cell_type": "code",
   "execution_count": 47,
   "metadata": {},
   "outputs": [
    {
     "data": {
      "text/plain": [
       "true"
      ]
     },
     "execution_count": 47,
     "metadata": {},
     "output_type": "execute_result"
    }
   ],
   "source": [
    "df == df2"
   ]
  },
  {
   "cell_type": "markdown",
   "metadata": {},
   "source": [
    "### Using zip files"
   ]
  },
  {
   "cell_type": "markdown",
   "metadata": {},
   "source": [
    "Sometimes you may have files compressed inside a zip file.\n",
    "\n",
    "In such a situation you may use [ZipFile.jl](https://github.com/fhs/ZipFile.jl) in conjunction an an appropriate reader to read the files."
   ]
  },
  {
   "cell_type": "markdown",
   "metadata": {},
   "source": [
    "Here we first create a ZIP file and then read back its contents into a `DataFrame`."
   ]
  },
  {
   "cell_type": "code",
   "execution_count": 48,
   "metadata": {},
   "outputs": [
    {
     "data": {
      "text/html": [
       "<table class=\"data-frame\"><thead><tr><th></th><th>x1</th><th>x2</th><th>x3</th><th>x4</th></tr><tr><th></th><th>Int64</th><th>Int64</th><th>Int64</th><th>Int64</th></tr></thead><tbody><p>3 rows × 4 columns</p><tr><th>1</th><td>5</td><td>7</td><td>7</td><td>1</td></tr><tr><th>2</th><td>5</td><td>8</td><td>1</td><td>1</td></tr><tr><th>3</th><td>10</td><td>1</td><td>5</td><td>6</td></tr></tbody></table>"
      ],
      "text/latex": [
       "\\begin{tabular}{r|cccc}\n",
       "\t& x1 & x2 & x3 & x4\\\\\n",
       "\t\\hline\n",
       "\t& Int64 & Int64 & Int64 & Int64\\\\\n",
       "\t\\hline\n",
       "\t1 & 5 & 7 & 7 & 1 \\\\\n",
       "\t2 & 5 & 8 & 1 & 1 \\\\\n",
       "\t3 & 10 & 1 & 5 & 6 \\\\\n",
       "\\end{tabular}\n"
      ],
      "text/plain": [
       "3×4 DataFrame\n",
       "│ Row │ x1    │ x2    │ x3    │ x4    │\n",
       "│     │ \u001b[90mInt64\u001b[39m │ \u001b[90mInt64\u001b[39m │ \u001b[90mInt64\u001b[39m │ \u001b[90mInt64\u001b[39m │\n",
       "├─────┼───────┼───────┼───────┼───────┤\n",
       "│ 1   │ 5     │ 7     │ 7     │ 1     │\n",
       "│ 2   │ 5     │ 8     │ 1     │ 1     │\n",
       "│ 3   │ 10    │ 1     │ 5     │ 6     │"
      ]
     },
     "execution_count": 48,
     "metadata": {},
     "output_type": "execute_result"
    }
   ],
   "source": [
    "df1 = DataFrame(rand(1:10, 3, 4))"
   ]
  },
  {
   "cell_type": "code",
   "execution_count": 49,
   "metadata": {},
   "outputs": [
    {
     "data": {
      "text/html": [
       "<table class=\"data-frame\"><thead><tr><th></th><th>x1</th><th>x2</th><th>x3</th><th>x4</th></tr><tr><th></th><th>Int64</th><th>Int64</th><th>Int64</th><th>Int64</th></tr></thead><tbody><p>3 rows × 4 columns</p><tr><th>1</th><td>2</td><td>7</td><td>4</td><td>6</td></tr><tr><th>2</th><td>1</td><td>1</td><td>6</td><td>2</td></tr><tr><th>3</th><td>8</td><td>7</td><td>7</td><td>3</td></tr></tbody></table>"
      ],
      "text/latex": [
       "\\begin{tabular}{r|cccc}\n",
       "\t& x1 & x2 & x3 & x4\\\\\n",
       "\t\\hline\n",
       "\t& Int64 & Int64 & Int64 & Int64\\\\\n",
       "\t\\hline\n",
       "\t1 & 2 & 7 & 4 & 6 \\\\\n",
       "\t2 & 1 & 1 & 6 & 2 \\\\\n",
       "\t3 & 8 & 7 & 7 & 3 \\\\\n",
       "\\end{tabular}\n"
      ],
      "text/plain": [
       "3×4 DataFrame\n",
       "│ Row │ x1    │ x2    │ x3    │ x4    │\n",
       "│     │ \u001b[90mInt64\u001b[39m │ \u001b[90mInt64\u001b[39m │ \u001b[90mInt64\u001b[39m │ \u001b[90mInt64\u001b[39m │\n",
       "├─────┼───────┼───────┼───────┼───────┤\n",
       "│ 1   │ 2     │ 7     │ 4     │ 6     │\n",
       "│ 2   │ 1     │ 1     │ 6     │ 2     │\n",
       "│ 3   │ 8     │ 7     │ 7     │ 3     │"
      ]
     },
     "execution_count": 49,
     "metadata": {},
     "output_type": "execute_result"
    }
   ],
   "source": [
    "df2 = DataFrame(rand(1:10, 3, 4))"
   ]
  },
  {
   "cell_type": "markdown",
   "metadata": {},
   "source": [
    "And we show yet another way to write a `DataFrame` into a CSV file"
   ]
  },
  {
   "cell_type": "code",
   "execution_count": 50,
   "metadata": {},
   "outputs": [],
   "source": [
    "# write a CSV file into the zip file\n",
    "w = ZipFile.Writer(\"x.zip\")\n",
    "\n",
    "f1 = ZipFile.addfile(w, \"x1.csv\")\n",
    "write(f1, sprint(show, \"text/csv\", df1))\n",
    "\n",
    "# write a second CSV file into zip file\n",
    "f2 = ZipFile.addfile(w, \"x2.csv\", method=ZipFile.Deflate)\n",
    "write(f2, sprint(show, \"text/csv\", df2))\n",
    "\n",
    "close(w)"
   ]
  },
  {
   "cell_type": "markdown",
   "metadata": {},
   "source": [
    "Now we read the CSV we have written:"
   ]
  },
  {
   "cell_type": "code",
   "execution_count": 51,
   "metadata": {},
   "outputs": [],
   "source": [
    "z = ZipFile.Reader(\"x.zip\");"
   ]
  },
  {
   "cell_type": "code",
   "execution_count": 52,
   "metadata": {},
   "outputs": [
    {
     "data": {
      "text/html": [
       "<table class=\"data-frame\"><thead><tr><th></th><th>x1</th><th>x2</th><th>x3</th><th>x4</th></tr><tr><th></th><th>Int64</th><th>Int64</th><th>Int64</th><th>Int64</th></tr></thead><tbody><p>3 rows × 4 columns</p><tr><th>1</th><td>5</td><td>7</td><td>7</td><td>1</td></tr><tr><th>2</th><td>5</td><td>8</td><td>1</td><td>1</td></tr><tr><th>3</th><td>10</td><td>1</td><td>5</td><td>6</td></tr></tbody></table>"
      ],
      "text/latex": [
       "\\begin{tabular}{r|cccc}\n",
       "\t& x1 & x2 & x3 & x4\\\\\n",
       "\t\\hline\n",
       "\t& Int64 & Int64 & Int64 & Int64\\\\\n",
       "\t\\hline\n",
       "\t1 & 5 & 7 & 7 & 1 \\\\\n",
       "\t2 & 5 & 8 & 1 & 1 \\\\\n",
       "\t3 & 10 & 1 & 5 & 6 \\\\\n",
       "\\end{tabular}\n"
      ],
      "text/plain": [
       "3×4 DataFrame\n",
       "│ Row │ x1    │ x2    │ x3    │ x4    │\n",
       "│     │ \u001b[90mInt64\u001b[39m │ \u001b[90mInt64\u001b[39m │ \u001b[90mInt64\u001b[39m │ \u001b[90mInt64\u001b[39m │\n",
       "├─────┼───────┼───────┼───────┼───────┤\n",
       "│ 1   │ 5     │ 7     │ 7     │ 1     │\n",
       "│ 2   │ 5     │ 8     │ 1     │ 1     │\n",
       "│ 3   │ 10    │ 1     │ 5     │ 6     │"
      ]
     },
     "execution_count": 52,
     "metadata": {},
     "output_type": "execute_result"
    }
   ],
   "source": [
    "# find the index index of file called x1.csv\n",
    "index_xcsv = findfirst(x->x.name == \"x1.csv\", z.files)\n",
    "# to read the x1.csv file in the zip file\n",
    "df1_2 = CSV.read(z.files[index_xcsv])"
   ]
  },
  {
   "cell_type": "code",
   "execution_count": 53,
   "metadata": {},
   "outputs": [
    {
     "data": {
      "text/plain": [
       "true"
      ]
     },
     "execution_count": 53,
     "metadata": {},
     "output_type": "execute_result"
    }
   ],
   "source": [
    "df1_2 == df1"
   ]
  },
  {
   "cell_type": "code",
   "execution_count": 54,
   "metadata": {},
   "outputs": [
    {
     "data": {
      "text/html": [
       "<table class=\"data-frame\"><thead><tr><th></th><th>x1</th><th>x2</th><th>x3</th><th>x4</th></tr><tr><th></th><th>Int64</th><th>Int64</th><th>Int64</th><th>Int64</th></tr></thead><tbody><p>3 rows × 4 columns</p><tr><th>1</th><td>2</td><td>7</td><td>4</td><td>6</td></tr><tr><th>2</th><td>1</td><td>1</td><td>6</td><td>2</td></tr><tr><th>3</th><td>8</td><td>7</td><td>7</td><td>3</td></tr></tbody></table>"
      ],
      "text/latex": [
       "\\begin{tabular}{r|cccc}\n",
       "\t& x1 & x2 & x3 & x4\\\\\n",
       "\t\\hline\n",
       "\t& Int64 & Int64 & Int64 & Int64\\\\\n",
       "\t\\hline\n",
       "\t1 & 2 & 7 & 4 & 6 \\\\\n",
       "\t2 & 1 & 1 & 6 & 2 \\\\\n",
       "\t3 & 8 & 7 & 7 & 3 \\\\\n",
       "\\end{tabular}\n"
      ],
      "text/plain": [
       "3×4 DataFrame\n",
       "│ Row │ x1    │ x2    │ x3    │ x4    │\n",
       "│     │ \u001b[90mInt64\u001b[39m │ \u001b[90mInt64\u001b[39m │ \u001b[90mInt64\u001b[39m │ \u001b[90mInt64\u001b[39m │\n",
       "├─────┼───────┼───────┼───────┼───────┤\n",
       "│ 1   │ 2     │ 7     │ 4     │ 6     │\n",
       "│ 2   │ 1     │ 1     │ 6     │ 2     │\n",
       "│ 3   │ 8     │ 7     │ 7     │ 3     │"
      ]
     },
     "execution_count": 54,
     "metadata": {},
     "output_type": "execute_result"
    }
   ],
   "source": [
    "# find the index index of file called x2.csv\n",
    "index_xcsv = findfirst(x->x.name == \"x2.csv\", z.files)\n",
    "# to read the x2.csv file in the zip file\n",
    "df2_2 = CSV.read(z.files[index_xcsv])"
   ]
  },
  {
   "cell_type": "code",
   "execution_count": 55,
   "metadata": {},
   "outputs": [
    {
     "data": {
      "text/plain": [
       "true"
      ]
     },
     "execution_count": 55,
     "metadata": {},
     "output_type": "execute_result"
    }
   ],
   "source": [
    "df2_2 == df2"
   ]
  },
  {
   "cell_type": "markdown",
   "metadata": {},
   "source": [
    "Note that once you read a given file from `z` object its stream is all used-up (it is at its end). Therefore to read it again you need to close `z` and open it again.\n",
    "\n",
    "Also do not forget to close the zip file once done."
   ]
  },
  {
   "cell_type": "code",
   "execution_count": 56,
   "metadata": {},
   "outputs": [],
   "source": [
    "close(z)"
   ]
  },
  {
   "cell_type": "markdown",
   "metadata": {},
   "source": [
    "Finally, let's clean up. Do not run the next cell unless you are sure that it will not erase your important files."
   ]
  },
  {
   "cell_type": "code",
   "execution_count": 57,
   "metadata": {},
   "outputs": [],
   "source": [
    "foreach(rm, [\"x1.csv\", \"x2.csv\", \"x.bin\", \"x.jlso\", \"x.feather\", \"x1.json\", \"x2.json\",\n",
    "             \"bigdf1.csv\", \"bigdf2.csv\", \"bigdf.bin\", \"bigdf.jlso\", \"bigdf.feather\", \"bigdf1.json\", \"bigdf2.json\", \n",
    "             \"df_compress_test.csv.gz\", \"x.zip\"])\n",
    "\n",
    "rm(\"bigdf.jdf\", force = true, recursive=true)\n",
    "rm(\"x.jdf\", force = true, recursive=true)"
   ]
  }
 ],
 "metadata": {
  "@webio": {
   "lastCommId": null,
   "lastKernelId": null
  },
  "kernelspec": {
   "display_name": "Julia 1.2.0",
   "language": "julia",
   "name": "julia-1.2"
  },
  "language_info": {
   "file_extension": ".jl",
   "mimetype": "application/julia",
   "name": "julia",
   "version": "1.2.0"
  }
 },
 "nbformat": 4,
 "nbformat_minor": 4
}
