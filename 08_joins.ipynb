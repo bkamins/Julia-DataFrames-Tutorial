{
 "cells": [
  {
   "cell_type": "markdown",
   "metadata": {},
   "source": [
    "# Introduction to DataFrames\n",
    "**[Bogumił Kamiński](http://bogumilkaminski.pl/about/), October 4, 2017**"
   ]
  },
  {
   "cell_type": "code",
   "execution_count": 1,
   "metadata": {},
   "outputs": [],
   "source": [
    "using DataFrames # load package"
   ]
  },
  {
   "cell_type": "markdown",
   "metadata": {},
   "source": [
    "## Joining DataFrames"
   ]
  },
  {
   "cell_type": "markdown",
   "metadata": {},
   "source": [
    "### Preparing DataFrames for a join"
   ]
  },
  {
   "cell_type": "code",
   "execution_count": 2,
   "metadata": {},
   "outputs": [
    {
     "data": {
      "text/html": [
       "<table class=\"data-frame\"><thead><tr><th></th><th>ID</th><th>name</th></tr><tr><th></th><th>Int64⍰</th><th>String</th></tr></thead><tbody><tr><th>1</th><td>1</td><td>Alice</td></tr><tr><th>2</th><td>2</td><td>Bob</td></tr><tr><th>3</th><td>3</td><td>Conor</td></tr><tr><th>4</th><td>4</td><td>Dave</td></tr><tr><th>5</th><td>missing</td><td>Zed</td></tr></tbody></table>"
      ],
      "text/plain": [
       "5×2 DataFrame\n",
       "│ Row │ ID      │ name   │\n",
       "│     │ \u001b[90mInt64⍰\u001b[39m  │ \u001b[90mString\u001b[39m │\n",
       "├─────┼─────────┼────────┤\n",
       "│ 1   │ 1       │ Alice  │\n",
       "│ 2   │ 2       │ Bob    │\n",
       "│ 3   │ 3       │ Conor  │\n",
       "│ 4   │ 4       │ Dave   │\n",
       "│ 5   │ \u001b[90mmissing\u001b[39m │ Zed    │"
      ]
     },
     "execution_count": 2,
     "metadata": {},
     "output_type": "execute_result"
    }
   ],
   "source": [
    "x = DataFrame(ID=[1,2,3,4,missing], name = [\"Alice\", \"Bob\", \"Conor\", \"Dave\",\"Zed\"])"
   ]
  },
  {
   "cell_type": "code",
   "execution_count": 3,
   "metadata": {},
   "outputs": [
    {
     "data": {
      "text/html": [
       "<table class=\"data-frame\"><thead><tr><th></th><th>id</th><th>age</th></tr><tr><th></th><th>Int64⍰</th><th>Int64</th></tr></thead><tbody><tr><th>1</th><td>1</td><td>21</td></tr><tr><th>2</th><td>2</td><td>22</td></tr><tr><th>3</th><td>5</td><td>23</td></tr><tr><th>4</th><td>6</td><td>24</td></tr><tr><th>5</th><td>missing</td><td>99</td></tr></tbody></table>"
      ],
      "text/plain": [
       "5×2 DataFrame\n",
       "│ Row │ id      │ age   │\n",
       "│     │ \u001b[90mInt64⍰\u001b[39m  │ \u001b[90mInt64\u001b[39m │\n",
       "├─────┼─────────┼───────┤\n",
       "│ 1   │ 1       │ 21    │\n",
       "│ 2   │ 2       │ 22    │\n",
       "│ 3   │ 5       │ 23    │\n",
       "│ 4   │ 6       │ 24    │\n",
       "│ 5   │ \u001b[90mmissing\u001b[39m │ 99    │"
      ]
     },
     "execution_count": 3,
     "metadata": {},
     "output_type": "execute_result"
    }
   ],
   "source": [
    "y = DataFrame(id=[1,2,5,6,missing], age = [21,22,23,24,99])"
   ]
  },
  {
   "cell_type": "code",
   "execution_count": 4,
   "metadata": {},
   "outputs": [
    {
     "data": {
      "text/html": [
       "<table class=\"data-frame\"><thead><tr><th></th><th>id</th><th>name</th></tr><tr><th></th><th>Int64⍰</th><th>String</th></tr></thead><tbody><tr><th>1</th><td>1</td><td>Alice</td></tr><tr><th>2</th><td>2</td><td>Bob</td></tr><tr><th>3</th><td>3</td><td>Conor</td></tr><tr><th>4</th><td>4</td><td>Dave</td></tr><tr><th>5</th><td>missing</td><td>Zed</td></tr></tbody></table>"
      ],
      "text/plain": [
       "5×2 DataFrame\n",
       "│ Row │ id      │ name   │\n",
       "│     │ \u001b[90mInt64⍰\u001b[39m  │ \u001b[90mString\u001b[39m │\n",
       "├─────┼─────────┼────────┤\n",
       "│ 1   │ 1       │ Alice  │\n",
       "│ 2   │ 2       │ Bob    │\n",
       "│ 3   │ 3       │ Conor  │\n",
       "│ 4   │ 4       │ Dave   │\n",
       "│ 5   │ \u001b[90mmissing\u001b[39m │ Zed    │"
      ]
     },
     "execution_count": 4,
     "metadata": {},
     "output_type": "execute_result"
    }
   ],
   "source": [
    "rename!(x, :ID=>:id) # names of columns on which we want to join must be the same"
   ]
  },
  {
   "cell_type": "markdown",
   "metadata": {},
   "source": [
    "### Standard joins: inner, left, right, outer, semi, anti"
   ]
  },
  {
   "cell_type": "code",
   "execution_count": 5,
   "metadata": {},
   "outputs": [
    {
     "data": {
      "text/html": [
       "<table class=\"data-frame\"><thead><tr><th></th><th>id</th><th>name</th><th>age</th></tr><tr><th></th><th>Int64⍰</th><th>String</th><th>Int64</th></tr></thead><tbody><tr><th>1</th><td>1</td><td>Alice</td><td>21</td></tr><tr><th>2</th><td>2</td><td>Bob</td><td>22</td></tr><tr><th>3</th><td>missing</td><td>Zed</td><td>99</td></tr></tbody></table>"
      ],
      "text/plain": [
       "3×3 DataFrame\n",
       "│ Row │ id      │ name   │ age   │\n",
       "│     │ \u001b[90mInt64⍰\u001b[39m  │ \u001b[90mString\u001b[39m │ \u001b[90mInt64\u001b[39m │\n",
       "├─────┼─────────┼────────┼───────┤\n",
       "│ 1   │ 1       │ Alice  │ 21    │\n",
       "│ 2   │ 2       │ Bob    │ 22    │\n",
       "│ 3   │ \u001b[90mmissing\u001b[39m │ Zed    │ 99    │"
      ]
     },
     "execution_count": 5,
     "metadata": {},
     "output_type": "execute_result"
    }
   ],
   "source": [
    "join(x, y, on=:id) # :inner join by default, missing is joined"
   ]
  },
  {
   "cell_type": "code",
   "execution_count": 6,
   "metadata": {},
   "outputs": [
    {
     "data": {
      "text/html": [
       "<table class=\"data-frame\"><thead><tr><th></th><th>id</th><th>name</th><th>age</th></tr><tr><th></th><th>Int64⍰</th><th>String</th><th>Int64⍰</th></tr></thead><tbody><tr><th>1</th><td>1</td><td>Alice</td><td>21</td></tr><tr><th>2</th><td>2</td><td>Bob</td><td>22</td></tr><tr><th>3</th><td>3</td><td>Conor</td><td>missing</td></tr><tr><th>4</th><td>4</td><td>Dave</td><td>missing</td></tr><tr><th>5</th><td>missing</td><td>Zed</td><td>99</td></tr></tbody></table>"
      ],
      "text/plain": [
       "5×3 DataFrame\n",
       "│ Row │ id      │ name   │ age     │\n",
       "│     │ \u001b[90mInt64⍰\u001b[39m  │ \u001b[90mString\u001b[39m │ \u001b[90mInt64⍰\u001b[39m  │\n",
       "├─────┼─────────┼────────┼─────────┤\n",
       "│ 1   │ 1       │ Alice  │ 21      │\n",
       "│ 2   │ 2       │ Bob    │ 22      │\n",
       "│ 3   │ 3       │ Conor  │ \u001b[90mmissing\u001b[39m │\n",
       "│ 4   │ 4       │ Dave   │ \u001b[90mmissing\u001b[39m │\n",
       "│ 5   │ \u001b[90mmissing\u001b[39m │ Zed    │ 99      │"
      ]
     },
     "execution_count": 6,
     "metadata": {},
     "output_type": "execute_result"
    }
   ],
   "source": [
    "join(x, y, on=:id, kind=:left)"
   ]
  },
  {
   "cell_type": "code",
   "execution_count": 7,
   "metadata": {},
   "outputs": [
    {
     "data": {
      "text/html": [
       "<table class=\"data-frame\"><thead><tr><th></th><th>id</th><th>name</th><th>age</th></tr><tr><th></th><th>Int64⍰</th><th>String⍰</th><th>Int64</th></tr></thead><tbody><tr><th>1</th><td>1</td><td>Alice</td><td>21</td></tr><tr><th>2</th><td>2</td><td>Bob</td><td>22</td></tr><tr><th>3</th><td>missing</td><td>Zed</td><td>99</td></tr><tr><th>4</th><td>5</td><td>missing</td><td>23</td></tr><tr><th>5</th><td>6</td><td>missing</td><td>24</td></tr></tbody></table>"
      ],
      "text/plain": [
       "5×3 DataFrame\n",
       "│ Row │ id      │ name    │ age   │\n",
       "│     │ \u001b[90mInt64⍰\u001b[39m  │ \u001b[90mString⍰\u001b[39m │ \u001b[90mInt64\u001b[39m │\n",
       "├─────┼─────────┼─────────┼───────┤\n",
       "│ 1   │ 1       │ Alice   │ 21    │\n",
       "│ 2   │ 2       │ Bob     │ 22    │\n",
       "│ 3   │ \u001b[90mmissing\u001b[39m │ Zed     │ 99    │\n",
       "│ 4   │ 5       │ \u001b[90mmissing\u001b[39m │ 23    │\n",
       "│ 5   │ 6       │ \u001b[90mmissing\u001b[39m │ 24    │"
      ]
     },
     "execution_count": 7,
     "metadata": {},
     "output_type": "execute_result"
    }
   ],
   "source": [
    "join(x, y, on=:id, kind=:right)"
   ]
  },
  {
   "cell_type": "code",
   "execution_count": 8,
   "metadata": {},
   "outputs": [
    {
     "data": {
      "text/html": [
       "<table class=\"data-frame\"><thead><tr><th></th><th>id</th><th>name</th><th>age</th></tr><tr><th></th><th>Int64⍰</th><th>String⍰</th><th>Int64⍰</th></tr></thead><tbody><tr><th>1</th><td>1</td><td>Alice</td><td>21</td></tr><tr><th>2</th><td>2</td><td>Bob</td><td>22</td></tr><tr><th>3</th><td>3</td><td>Conor</td><td>missing</td></tr><tr><th>4</th><td>4</td><td>Dave</td><td>missing</td></tr><tr><th>5</th><td>missing</td><td>Zed</td><td>99</td></tr><tr><th>6</th><td>5</td><td>missing</td><td>23</td></tr><tr><th>7</th><td>6</td><td>missing</td><td>24</td></tr></tbody></table>"
      ],
      "text/plain": [
       "7×3 DataFrame\n",
       "│ Row │ id      │ name    │ age     │\n",
       "│     │ \u001b[90mInt64⍰\u001b[39m  │ \u001b[90mString⍰\u001b[39m │ \u001b[90mInt64⍰\u001b[39m  │\n",
       "├─────┼─────────┼─────────┼─────────┤\n",
       "│ 1   │ 1       │ Alice   │ 21      │\n",
       "│ 2   │ 2       │ Bob     │ 22      │\n",
       "│ 3   │ 3       │ Conor   │ \u001b[90mmissing\u001b[39m │\n",
       "│ 4   │ 4       │ Dave    │ \u001b[90mmissing\u001b[39m │\n",
       "│ 5   │ \u001b[90mmissing\u001b[39m │ Zed     │ 99      │\n",
       "│ 6   │ 5       │ \u001b[90mmissing\u001b[39m │ 23      │\n",
       "│ 7   │ 6       │ \u001b[90mmissing\u001b[39m │ 24      │"
      ]
     },
     "execution_count": 8,
     "metadata": {},
     "output_type": "execute_result"
    }
   ],
   "source": [
    "join(x, y, on=:id, kind=:outer)"
   ]
  },
  {
   "cell_type": "code",
   "execution_count": 9,
   "metadata": {},
   "outputs": [
    {
     "data": {
      "text/html": [
       "<table class=\"data-frame\"><thead><tr><th></th><th>id</th><th>name</th></tr><tr><th></th><th>Int64⍰</th><th>String</th></tr></thead><tbody><tr><th>1</th><td>1</td><td>Alice</td></tr><tr><th>2</th><td>2</td><td>Bob</td></tr><tr><th>3</th><td>missing</td><td>Zed</td></tr></tbody></table>"
      ],
      "text/plain": [
       "3×2 DataFrame\n",
       "│ Row │ id      │ name   │\n",
       "│     │ \u001b[90mInt64⍰\u001b[39m  │ \u001b[90mString\u001b[39m │\n",
       "├─────┼─────────┼────────┤\n",
       "│ 1   │ 1       │ Alice  │\n",
       "│ 2   │ 2       │ Bob    │\n",
       "│ 3   │ \u001b[90mmissing\u001b[39m │ Zed    │"
      ]
     },
     "execution_count": 9,
     "metadata": {},
     "output_type": "execute_result"
    }
   ],
   "source": [
    "join(x, y, on=:id, kind=:semi)"
   ]
  },
  {
   "cell_type": "code",
   "execution_count": 10,
   "metadata": {},
   "outputs": [
    {
     "data": {
      "text/html": [
       "<table class=\"data-frame\"><thead><tr><th></th><th>id</th><th>name</th></tr><tr><th></th><th>Int64⍰</th><th>String</th></tr></thead><tbody><tr><th>1</th><td>3</td><td>Conor</td></tr><tr><th>2</th><td>4</td><td>Dave</td></tr></tbody></table>"
      ],
      "text/plain": [
       "2×2 DataFrame\n",
       "│ Row │ id     │ name   │\n",
       "│     │ \u001b[90mInt64⍰\u001b[39m │ \u001b[90mString\u001b[39m │\n",
       "├─────┼────────┼────────┤\n",
       "│ 1   │ 3      │ Conor  │\n",
       "│ 2   │ 4      │ Dave   │"
      ]
     },
     "execution_count": 10,
     "metadata": {},
     "output_type": "execute_result"
    }
   ],
   "source": [
    "join(x, y, on=:id, kind=:anti)"
   ]
  },
  {
   "cell_type": "markdown",
   "metadata": {},
   "source": [
    "### Cross join"
   ]
  },
  {
   "cell_type": "code",
   "execution_count": 11,
   "metadata": {},
   "outputs": [
    {
     "data": {
      "text/html": [
       "<table class=\"data-frame\"><thead><tr><th></th><th>x</th><th>y</th></tr><tr><th></th><th>Int64</th><th>String</th></tr></thead><tbody><tr><th>1</th><td>1</td><td>a</td></tr><tr><th>2</th><td>1</td><td>b</td></tr><tr><th>3</th><td>1</td><td>c</td></tr><tr><th>4</th><td>2</td><td>a</td></tr><tr><th>5</th><td>2</td><td>b</td></tr><tr><th>6</th><td>2</td><td>c</td></tr></tbody></table>"
      ],
      "text/plain": [
       "6×2 DataFrame\n",
       "│ Row │ x     │ y      │\n",
       "│     │ \u001b[90mInt64\u001b[39m │ \u001b[90mString\u001b[39m │\n",
       "├─────┼───────┼────────┤\n",
       "│ 1   │ 1     │ a      │\n",
       "│ 2   │ 1     │ b      │\n",
       "│ 3   │ 1     │ c      │\n",
       "│ 4   │ 2     │ a      │\n",
       "│ 5   │ 2     │ b      │\n",
       "│ 6   │ 2     │ c      │"
      ]
     },
     "execution_count": 11,
     "metadata": {},
     "output_type": "execute_result"
    }
   ],
   "source": [
    "join(DataFrame(x=[1,2]), DataFrame(y=[\"a\",\"b\",\"c\"]), kind=:cross)"
   ]
  },
  {
   "cell_type": "markdown",
   "metadata": {},
   "source": [
    "### Complex cases of joins"
   ]
  },
  {
   "cell_type": "code",
   "execution_count": 12,
   "metadata": {},
   "outputs": [
    {
     "data": {
      "text/html": [
       "<table class=\"data-frame\"><thead><tr><th></th><th>id1</th><th>id2</th><th>name</th></tr><tr><th></th><th>Int64⍰</th><th>Int64⍰</th><th>String</th></tr></thead><tbody><tr><th>1</th><td>1</td><td>1</td><td>Alice</td></tr><tr><th>2</th><td>1</td><td>11</td><td>Bob</td></tr><tr><th>3</th><td>2</td><td>2</td><td>Conor</td></tr><tr><th>4</th><td>2</td><td>21</td><td>Dave</td></tr><tr><th>5</th><td>missing</td><td>missing</td><td>Zed</td></tr><tr><th>6</th><td>missing</td><td>99</td><td>Zoe</td></tr></tbody></table>"
      ],
      "text/plain": [
       "6×3 DataFrame\n",
       "│ Row │ id1     │ id2     │ name   │\n",
       "│     │ \u001b[90mInt64⍰\u001b[39m  │ \u001b[90mInt64⍰\u001b[39m  │ \u001b[90mString\u001b[39m │\n",
       "├─────┼─────────┼─────────┼────────┤\n",
       "│ 1   │ 1       │ 1       │ Alice  │\n",
       "│ 2   │ 1       │ 11      │ Bob    │\n",
       "│ 3   │ 2       │ 2       │ Conor  │\n",
       "│ 4   │ 2       │ 21      │ Dave   │\n",
       "│ 5   │ \u001b[90mmissing\u001b[39m │ \u001b[90mmissing\u001b[39m │ Zed    │\n",
       "│ 6   │ \u001b[90mmissing\u001b[39m │ 99      │ Zoe    │"
      ]
     },
     "execution_count": 12,
     "metadata": {},
     "output_type": "execute_result"
    }
   ],
   "source": [
    "x = DataFrame(id1=[1,1,2,2,missing,missing],\n",
    "              id2=[1,11,2,21,missing,99],\n",
    "              name = [\"Alice\", \"Bob\", \"Conor\", \"Dave\",\"Zed\", \"Zoe\"])"
   ]
  },
  {
   "cell_type": "code",
   "execution_count": 13,
   "metadata": {},
   "outputs": [
    {
     "data": {
      "text/html": [
       "<table class=\"data-frame\"><thead><tr><th></th><th>id1</th><th>id2</th><th>age</th></tr><tr><th></th><th>Int64⍰</th><th>Int64⍰</th><th>Int64</th></tr></thead><tbody><tr><th>1</th><td>1</td><td>11</td><td>21</td></tr><tr><th>2</th><td>1</td><td>1</td><td>22</td></tr><tr><th>3</th><td>3</td><td>31</td><td>23</td></tr><tr><th>4</th><td>3</td><td>3</td><td>24</td></tr><tr><th>5</th><td>missing</td><td>missing</td><td>99</td></tr><tr><th>6</th><td>missing</td><td>999</td><td>100</td></tr></tbody></table>"
      ],
      "text/plain": [
       "6×3 DataFrame\n",
       "│ Row │ id1     │ id2     │ age   │\n",
       "│     │ \u001b[90mInt64⍰\u001b[39m  │ \u001b[90mInt64⍰\u001b[39m  │ \u001b[90mInt64\u001b[39m │\n",
       "├─────┼─────────┼─────────┼───────┤\n",
       "│ 1   │ 1       │ 11      │ 21    │\n",
       "│ 2   │ 1       │ 1       │ 22    │\n",
       "│ 3   │ 3       │ 31      │ 23    │\n",
       "│ 4   │ 3       │ 3       │ 24    │\n",
       "│ 5   │ \u001b[90mmissing\u001b[39m │ \u001b[90mmissing\u001b[39m │ 99    │\n",
       "│ 6   │ \u001b[90mmissing\u001b[39m │ 999     │ 100   │"
      ]
     },
     "execution_count": 13,
     "metadata": {},
     "output_type": "execute_result"
    }
   ],
   "source": [
    "y = DataFrame(id1=[1,1,3,3,missing,missing],\n",
    "              id2=[11,1,31,3,missing,999],\n",
    "              age = [21,22,23,24,99, 100])"
   ]
  },
  {
   "cell_type": "code",
   "execution_count": 14,
   "metadata": {},
   "outputs": [
    {
     "data": {
      "text/html": [
       "<table class=\"data-frame\"><thead><tr><th></th><th>id1</th><th>id2</th><th>name</th><th>age</th></tr><tr><th></th><th>Int64⍰</th><th>Int64⍰</th><th>String</th><th>Int64</th></tr></thead><tbody><tr><th>1</th><td>1</td><td>1</td><td>Alice</td><td>22</td></tr><tr><th>2</th><td>1</td><td>11</td><td>Bob</td><td>21</td></tr><tr><th>3</th><td>missing</td><td>missing</td><td>Zed</td><td>99</td></tr></tbody></table>"
      ],
      "text/plain": [
       "3×4 DataFrame\n",
       "│ Row │ id1     │ id2     │ name   │ age   │\n",
       "│     │ \u001b[90mInt64⍰\u001b[39m  │ \u001b[90mInt64⍰\u001b[39m  │ \u001b[90mString\u001b[39m │ \u001b[90mInt64\u001b[39m │\n",
       "├─────┼─────────┼─────────┼────────┼───────┤\n",
       "│ 1   │ 1       │ 1       │ Alice  │ 22    │\n",
       "│ 2   │ 1       │ 11      │ Bob    │ 21    │\n",
       "│ 3   │ \u001b[90mmissing\u001b[39m │ \u001b[90mmissing\u001b[39m │ Zed    │ 99    │"
      ]
     },
     "execution_count": 14,
     "metadata": {},
     "output_type": "execute_result"
    }
   ],
   "source": [
    "join(x, y, on=[:id1, :id2]) # joining on two columns"
   ]
  },
  {
   "cell_type": "code",
   "execution_count": 15,
   "metadata": {
    "scrolled": true
   },
   "outputs": [
    {
     "data": {
      "text/html": [
       "<table class=\"data-frame\"><thead><tr><th></th><th>id1</th><th>id2</th><th>name</th><th>id2_1</th><th>age</th><th>source</th></tr><tr><th></th><th>Int64⍰</th><th>Int64⍰</th><th>String⍰</th><th>Int64⍰</th><th>Int64⍰</th><th>Categorical…</th></tr></thead><tbody><tr><th>1</th><td>1</td><td>1</td><td>Alice</td><td>11</td><td>21</td><td>both</td></tr><tr><th>2</th><td>1</td><td>1</td><td>Alice</td><td>1</td><td>22</td><td>both</td></tr><tr><th>3</th><td>1</td><td>11</td><td>Bob</td><td>11</td><td>21</td><td>both</td></tr><tr><th>4</th><td>1</td><td>11</td><td>Bob</td><td>1</td><td>22</td><td>both</td></tr><tr><th>5</th><td>2</td><td>2</td><td>Conor</td><td>missing</td><td>missing</td><td>left_only</td></tr><tr><th>6</th><td>2</td><td>21</td><td>Dave</td><td>missing</td><td>missing</td><td>left_only</td></tr><tr><th>7</th><td>missing</td><td>missing</td><td>Zed</td><td>missing</td><td>99</td><td>both</td></tr><tr><th>8</th><td>missing</td><td>missing</td><td>Zed</td><td>999</td><td>100</td><td>both</td></tr><tr><th>9</th><td>missing</td><td>99</td><td>Zoe</td><td>missing</td><td>99</td><td>both</td></tr><tr><th>10</th><td>missing</td><td>99</td><td>Zoe</td><td>999</td><td>100</td><td>both</td></tr><tr><th>11</th><td>3</td><td>missing</td><td>missing</td><td>31</td><td>23</td><td>right_only</td></tr><tr><th>12</th><td>3</td><td>missing</td><td>missing</td><td>3</td><td>24</td><td>right_only</td></tr></tbody></table>"
      ],
      "text/plain": [
       "12×6 DataFrame\n",
       "│ Row │ id1     │ id2     │ name    │ id2_1   │ age     │ source       │\n",
       "│     │ \u001b[90mInt64⍰\u001b[39m  │ \u001b[90mInt64⍰\u001b[39m  │ \u001b[90mString⍰\u001b[39m │ \u001b[90mInt64⍰\u001b[39m  │ \u001b[90mInt64⍰\u001b[39m  │ \u001b[90mCategorical…\u001b[39m │\n",
       "├─────┼─────────┼─────────┼─────────┼─────────┼─────────┼──────────────┤\n",
       "│ 1   │ 1       │ 1       │ Alice   │ 11      │ 21      │ both         │\n",
       "│ 2   │ 1       │ 1       │ Alice   │ 1       │ 22      │ both         │\n",
       "│ 3   │ 1       │ 11      │ Bob     │ 11      │ 21      │ both         │\n",
       "│ 4   │ 1       │ 11      │ Bob     │ 1       │ 22      │ both         │\n",
       "│ 5   │ 2       │ 2       │ Conor   │ \u001b[90mmissing\u001b[39m │ \u001b[90mmissing\u001b[39m │ left_only    │\n",
       "│ 6   │ 2       │ 21      │ Dave    │ \u001b[90mmissing\u001b[39m │ \u001b[90mmissing\u001b[39m │ left_only    │\n",
       "│ 7   │ \u001b[90mmissing\u001b[39m │ \u001b[90mmissing\u001b[39m │ Zed     │ \u001b[90mmissing\u001b[39m │ 99      │ both         │\n",
       "│ 8   │ \u001b[90mmissing\u001b[39m │ \u001b[90mmissing\u001b[39m │ Zed     │ 999     │ 100     │ both         │\n",
       "│ 9   │ \u001b[90mmissing\u001b[39m │ 99      │ Zoe     │ \u001b[90mmissing\u001b[39m │ 99      │ both         │\n",
       "│ 10  │ \u001b[90mmissing\u001b[39m │ 99      │ Zoe     │ 999     │ 100     │ both         │\n",
       "│ 11  │ 3       │ \u001b[90mmissing\u001b[39m │ \u001b[90mmissing\u001b[39m │ 31      │ 23      │ right_only   │\n",
       "│ 12  │ 3       │ \u001b[90mmissing\u001b[39m │ \u001b[90mmissing\u001b[39m │ 3       │ 24      │ right_only   │"
      ]
     },
     "execution_count": 15,
     "metadata": {},
     "output_type": "execute_result"
    }
   ],
   "source": [
    "join(x, y, on=[:id1], makeunique=true, kind=:outer, indicator=:source) # with duplicates all combinations are produced"
   ]
  },
  {
   "cell_type": "code",
   "execution_count": 16,
   "metadata": {},
   "outputs": [
    {
     "ename": "ArgumentError",
     "evalue": "ArgumentError: Merge key(s) are not unique in both df1 and df2. First duplicate in df1 at 2. First duplicate in df2 at 2",
     "output_type": "error",
     "traceback": [
      "ArgumentError: Merge key(s) are not unique in both df1 and df2. First duplicate in df1 at 2. First duplicate in df2 at 2",
      "",
      "Stacktrace:",
      " [1] #join#127(::Array{Symbol,1}, ::Symbol, ::Bool, ::Nothing, ::Tuple{Bool,Bool}, ::Function, ::DataFrame, ::DataFrame) at C:\\Users\\bogumil.kaminski\\.julia\\packages\\DataFrames\\1PqZ3\\src\\abstractdataframe\\join.jl:327",
      " [2] (::getfield(Base, Symbol(\"#kw##join\")))(::NamedTuple{(:on, :makeunique, :validate),Tuple{Array{Symbol,1},Bool,Tuple{Bool,Bool}}}, ::typeof(join), ::DataFrame, ::DataFrame) at .\\none:0",
      " [3] top-level scope at In[16]:1"
     ]
    }
   ],
   "source": [
    "join(x, y, on=[:id1], makeunique=true, validate=(true,true)) # you can force validation of uniqueness of key on which you join"
   ]
  },
  {
   "cell_type": "code",
   "execution_count": 17,
   "metadata": {},
   "outputs": [
    {
     "data": {
      "text/html": [
       "<table class=\"data-frame\"><thead><tr><th></th><th>id1</th><th>id2</th><th>name</th></tr><tr><th></th><th>Int64⍰</th><th>Int64⍰</th><th>String</th></tr></thead><tbody><tr><th>1</th><td>1</td><td>1</td><td>Alice</td></tr><tr><th>2</th><td>1</td><td>11</td><td>Bob</td></tr><tr><th>3</th><td>missing</td><td>missing</td><td>Zed</td></tr><tr><th>4</th><td>missing</td><td>99</td><td>Zoe</td></tr></tbody></table>"
      ],
      "text/plain": [
       "4×3 DataFrame\n",
       "│ Row │ id1     │ id2     │ name   │\n",
       "│     │ \u001b[90mInt64⍰\u001b[39m  │ \u001b[90mInt64⍰\u001b[39m  │ \u001b[90mString\u001b[39m │\n",
       "├─────┼─────────┼─────────┼────────┤\n",
       "│ 1   │ 1       │ 1       │ Alice  │\n",
       "│ 2   │ 1       │ 11      │ Bob    │\n",
       "│ 3   │ \u001b[90mmissing\u001b[39m │ \u001b[90mmissing\u001b[39m │ Zed    │\n",
       "│ 4   │ \u001b[90mmissing\u001b[39m │ 99      │ Zoe    │"
      ]
     },
     "execution_count": 17,
     "metadata": {},
     "output_type": "execute_result"
    }
   ],
   "source": [
    "join(x, y, on=[:id1], kind=:semi) # but not by :semi join (as it would duplicate rows)"
   ]
  }
 ],
 "metadata": {
  "kernelspec": {
   "display_name": "Julia 1.0.1",
   "language": "julia",
   "name": "julia-1.0"
  },
  "language_info": {
   "file_extension": ".jl",
   "mimetype": "application/julia",
   "name": "julia",
   "version": "1.0.1"
  }
 },
 "nbformat": 4,
 "nbformat_minor": 1
}
