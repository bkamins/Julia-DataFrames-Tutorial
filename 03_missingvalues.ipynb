{
 "cells": [
  {
   "cell_type": "markdown",
   "metadata": {},
   "source": [
    "# Introduction to DataFrames\n",
    "**[Bogumił Kamiński](http://bogumilkaminski.pl/about/), October 4, 2018**"
   ]
  },
  {
   "cell_type": "code",
   "execution_count": 1,
   "metadata": {},
   "outputs": [],
   "source": [
    "using DataFrames # load package"
   ]
  },
  {
   "cell_type": "markdown",
   "metadata": {},
   "source": [
    "## Handling missing values\n",
    "\n",
    "A singelton type `Missing` allows us to deal with missing values."
   ]
  },
  {
   "cell_type": "code",
   "execution_count": 2,
   "metadata": {},
   "outputs": [
    {
     "data": {
      "text/plain": [
       "(missing, Missing)"
      ]
     },
     "execution_count": 2,
     "metadata": {},
     "output_type": "execute_result"
    }
   ],
   "source": [
    "missing, typeof(missing)"
   ]
  },
  {
   "cell_type": "markdown",
   "metadata": {},
   "source": [
    "Arrays automatically create an appropriate union type."
   ]
  },
  {
   "cell_type": "code",
   "execution_count": 3,
   "metadata": {},
   "outputs": [
    {
     "data": {
      "text/plain": [
       "4-element Array{Union{Missing, Int64},1}:\n",
       " 1       \n",
       " 2       \n",
       "  missing\n",
       " 3       "
      ]
     },
     "execution_count": 3,
     "metadata": {},
     "output_type": "execute_result"
    }
   ],
   "source": [
    "x = [1, 2, missing, 3]"
   ]
  },
  {
   "cell_type": "markdown",
   "metadata": {},
   "source": [
    "`ismissing` checks if passed value is missing."
   ]
  },
  {
   "cell_type": "code",
   "execution_count": 4,
   "metadata": {},
   "outputs": [
    {
     "data": {
      "text/plain": [
       "(false, true, false, Bool[false, false, true, false])"
      ]
     },
     "execution_count": 4,
     "metadata": {},
     "output_type": "execute_result"
    }
   ],
   "source": [
    "ismissing(1), ismissing(missing), ismissing(x), ismissing.(x)"
   ]
  },
  {
   "cell_type": "markdown",
   "metadata": {},
   "source": [
    "We can extract the type combined with Missing from a `Union` via `Missings.T`\n",
    "\n",
    "(This is useful for arrays!)"
   ]
  },
  {
   "cell_type": "code",
   "execution_count": 5,
   "metadata": {},
   "outputs": [
    {
     "data": {
      "text/plain": [
       "(Union{Missing, Int64}, Int64)"
      ]
     },
     "execution_count": 5,
     "metadata": {},
     "output_type": "execute_result"
    }
   ],
   "source": [
    "eltype(x), Missings.T(eltype(x))"
   ]
  },
  {
   "cell_type": "markdown",
   "metadata": {},
   "source": [
    "`missing` comparisons produce `missing`."
   ]
  },
  {
   "cell_type": "code",
   "execution_count": 6,
   "metadata": {},
   "outputs": [
    {
     "data": {
      "text/plain": [
       "(missing, missing, missing)"
      ]
     },
     "execution_count": 6,
     "metadata": {},
     "output_type": "execute_result"
    }
   ],
   "source": [
    "missing == missing, missing != missing, missing < missing"
   ]
  },
  {
   "cell_type": "markdown",
   "metadata": {},
   "source": [
    "This is also true when `missing`s are compared with values of other types."
   ]
  },
  {
   "cell_type": "code",
   "execution_count": 7,
   "metadata": {},
   "outputs": [
    {
     "data": {
      "text/plain": [
       "(missing, missing, missing)"
      ]
     },
     "execution_count": 7,
     "metadata": {},
     "output_type": "execute_result"
    }
   ],
   "source": [
    "1 == missing, 1 != missing, 1 < missing"
   ]
  },
  {
   "cell_type": "markdown",
   "metadata": {},
   "source": [
    "`isequal`, `isless`, and `===` produce results of type `Bool`. Notice that `missing` is considered greater than any numeric value."
   ]
  },
  {
   "cell_type": "code",
   "execution_count": 8,
   "metadata": {},
   "outputs": [
    {
     "data": {
      "text/plain": [
       "(true, true, false, true)"
      ]
     },
     "execution_count": 8,
     "metadata": {},
     "output_type": "execute_result"
    }
   ],
   "source": [
    "isequal(missing, missing), missing === missing, isequal(1, missing), isless(1, missing)"
   ]
  },
  {
   "cell_type": "markdown",
   "metadata": {},
   "source": [
    "In the next few examples, we see that many (not all) functions handle `missing`."
   ]
  },
  {
   "cell_type": "code",
   "execution_count": 9,
   "metadata": {},
   "outputs": [
    {
     "data": {
      "text/plain": [
       "4-element Array{Missing,1}:\n",
       " missing\n",
       " missing\n",
       " missing\n",
       " missing"
      ]
     },
     "execution_count": 9,
     "metadata": {},
     "output_type": "execute_result"
    }
   ],
   "source": [
    "map(x -> x(missing), [sin, cos, zero, sqrt]) # part 1"
   ]
  },
  {
   "cell_type": "code",
   "execution_count": 10,
   "metadata": {},
   "outputs": [
    {
     "data": {
      "text/plain": [
       "5-element Array{Missing,1}:\n",
       " missing\n",
       " missing\n",
       " missing\n",
       " missing\n",
       " missing"
      ]
     },
     "execution_count": 10,
     "metadata": {},
     "output_type": "execute_result"
    }
   ],
   "source": [
    "map(x -> x(missing, 1), [+, - , *, /, div]) # part 2 "
   ]
  },
  {
   "cell_type": "code",
   "execution_count": 11,
   "metadata": {},
   "outputs": [
    {
     "data": {
      "text/plain": [
       "5-element Array{Any,1}:\n",
       " missing                                   \n",
       " missing                                   \n",
       " (missing, missing)                        \n",
       " missing                                   \n",
       " Union{Missing, Float64}[1.0, 2.0, missing]"
      ]
     },
     "execution_count": 11,
     "metadata": {},
     "output_type": "execute_result"
    }
   ],
   "source": [
    "using Statistics # needed for mean\n",
    "map(x -> x([1,2,missing]), [minimum, maximum, extrema, mean, float]) # part 3"
   ]
  },
  {
   "cell_type": "markdown",
   "metadata": {},
   "source": [
    "`skipmissing` returns iterator skipping missing values. We can use `collect` and `skipmissing` to create an array that excludes these missing values."
   ]
  },
  {
   "cell_type": "code",
   "execution_count": 12,
   "metadata": {},
   "outputs": [
    {
     "data": {
      "text/plain": [
       "2-element Array{Int64,1}:\n",
       " 1\n",
       " 2"
      ]
     },
     "execution_count": 12,
     "metadata": {},
     "output_type": "execute_result"
    }
   ],
   "source": [
    "collect(skipmissing([1, missing, 2, missing]))"
   ]
  },
  {
   "cell_type": "markdown",
   "metadata": {},
   "source": [
    "Similarly, here we combine `collect` and `Missings.replace` to create an array that replaces all missing values with some value (`NaN` in this case)."
   ]
  },
  {
   "cell_type": "code",
   "execution_count": 13,
   "metadata": {},
   "outputs": [
    {
     "data": {
      "text/plain": [
       "4-element Array{Float64,1}:\n",
       "   1.0\n",
       " NaN  \n",
       "   2.0\n",
       " NaN  "
      ]
     },
     "execution_count": 13,
     "metadata": {},
     "output_type": "execute_result"
    }
   ],
   "source": [
    "collect(Missings.replace([1.0, missing, 2.0, missing], NaN))"
   ]
  },
  {
   "cell_type": "markdown",
   "metadata": {},
   "source": [
    "Another way to do this:"
   ]
  },
  {
   "cell_type": "code",
   "execution_count": 14,
   "metadata": {},
   "outputs": [
    {
     "data": {
      "text/plain": [
       "4-element Array{Float64,1}:\n",
       "   1.0\n",
       " NaN  \n",
       "   2.0\n",
       " NaN  "
      ]
     },
     "execution_count": 14,
     "metadata": {},
     "output_type": "execute_result"
    }
   ],
   "source": [
    "coalesce.([1.0, missing, 2.0, missing], NaN)"
   ]
  },
  {
   "cell_type": "markdown",
   "metadata": {},
   "source": [
    "You can use `recode` if you have homogenous output types."
   ]
  },
  {
   "cell_type": "code",
   "execution_count": 15,
   "metadata": {},
   "outputs": [
    {
     "data": {
      "text/plain": [
       "4-element Array{Float64,1}:\n",
       "   1.0\n",
       " NaN  \n",
       "   2.0\n",
       " NaN  "
      ]
     },
     "execution_count": 15,
     "metadata": {},
     "output_type": "execute_result"
    }
   ],
   "source": [
    "recode([1.0, missing, 2.0, missing], missing=>NaN)"
   ]
  },
  {
   "cell_type": "markdown",
   "metadata": {},
   "source": [
    "You can use `unique` or `levels` to get unique values with or without missings, respectively."
   ]
  },
  {
   "cell_type": "code",
   "execution_count": 16,
   "metadata": {},
   "outputs": [
    {
     "data": {
      "text/plain": [
       "(Union{Missing, Int64}[1, missing, 2], [1, 2])"
      ]
     },
     "execution_count": 16,
     "metadata": {},
     "output_type": "execute_result"
    }
   ],
   "source": [
    "unique([1, missing, 2, missing]), levels([1, missing, 2, missing])"
   ]
  },
  {
   "cell_type": "markdown",
   "metadata": {},
   "source": [
    "In this next example, we convert `x` to `y` with `allowmissing`, where `y` has a type that accepts missings."
   ]
  },
  {
   "cell_type": "code",
   "execution_count": 17,
   "metadata": {},
   "outputs": [
    {
     "data": {
      "text/plain": [
       "3-element Array{Union{Missing, Int64},1}:\n",
       " 1\n",
       " 2\n",
       " 3"
      ]
     },
     "execution_count": 17,
     "metadata": {},
     "output_type": "execute_result"
    }
   ],
   "source": [
    "x = [1,2,3]\n",
    "y = allowmissing(x)"
   ]
  },
  {
   "cell_type": "markdown",
   "metadata": {},
   "source": [
    "Then, we convert back with `disallowmissing`. This would fail if `y` contained missing values!"
   ]
  },
  {
   "cell_type": "code",
   "execution_count": 18,
   "metadata": {},
   "outputs": [
    {
     "data": {
      "text/plain": [
       "([1, 2, 3], Union{Missing, Int64}[1, 2, 3], [1, 2, 3])"
      ]
     },
     "execution_count": 18,
     "metadata": {},
     "output_type": "execute_result"
    }
   ],
   "source": [
    "z = disallowmissing(y)\n",
    "x,y,z"
   ]
  },
  {
   "cell_type": "markdown",
   "metadata": {},
   "source": [
    "In this next example, we show that the type of each column in `x` is initially `Int64`. After using `allowmissing!` to accept missing values in columns 1 and 3, the types of those columns become `Union{Int64,Missing}`."
   ]
  },
  {
   "cell_type": "code",
   "execution_count": 19,
   "metadata": {},
   "outputs": [
    {
     "name": "stdout",
     "output_type": "stream",
     "text": [
      "Before: Type[Int64, Int64, Int64]\n",
      "After: Type[Union{Missing, Int64}, Int64, Union{Missing, Int64}]\n"
     ]
    }
   ],
   "source": [
    "x = DataFrame(Int, 2, 3)\n",
    "println(\"Before: \", eltypes(x))\n",
    "allowmissing!(x, 1) # make first column accept missings\n",
    "allowmissing!(x, :x3) # make :x3 column accept missings\n",
    "println(\"After: \", eltypes(x))"
   ]
  },
  {
   "cell_type": "markdown",
   "metadata": {},
   "source": [
    "In this next example, we'll use `completecases` to find all the rows of a `DataFrame` that have complete data."
   ]
  },
  {
   "cell_type": "code",
   "execution_count": 20,
   "metadata": {},
   "outputs": [
    {
     "data": {
      "text/html": [
       "<table class=\"data-frame\"><thead><tr><th></th><th>A</th><th>B</th></tr><tr><th></th><th>Int64⍰</th><th>String⍰</th></tr></thead><tbody><tr><th>1</th><td>1</td><td>A</td></tr><tr><th>2</th><td>missing</td><td>B</td></tr><tr><th>3</th><td>3</td><td>missing</td></tr><tr><th>4</th><td>4</td><td>C</td></tr></tbody></table>"
      ],
      "text/plain": [
       "4×2 DataFrame\n",
       "│ Row │ A       │ B       │\n",
       "│     │ \u001b[90mInt64⍰\u001b[39m  │ \u001b[90mString⍰\u001b[39m │\n",
       "├─────┼─────────┼─────────┤\n",
       "│ 1   │ 1       │ A       │\n",
       "│ 2   │ \u001b[90mmissing\u001b[39m │ B       │\n",
       "│ 3   │ 3       │ \u001b[90mmissing\u001b[39m │\n",
       "│ 4   │ 4       │ C       │"
      ]
     },
     "execution_count": 20,
     "metadata": {},
     "output_type": "execute_result"
    }
   ],
   "source": [
    "x = DataFrame(A=[1, missing, 3, 4], B=[\"A\", \"B\", missing, \"C\"])"
   ]
  },
  {
   "cell_type": "code",
   "execution_count": 21,
   "metadata": {},
   "outputs": [
    {
     "data": {
      "text/html": [
       "<table class=\"data-frame\"><thead><tr><th></th><th>A</th><th>B</th></tr><tr><th></th><th>Int64⍰</th><th>String⍰</th></tr></thead><tbody><tr><th>1</th><td>1</td><td>A</td></tr><tr><th>2</th><td>missing</td><td>B</td></tr><tr><th>3</th><td>3</td><td>missing</td></tr><tr><th>4</th><td>4</td><td>C</td></tr></tbody></table>"
      ],
      "text/plain": [
       "4×2 DataFrame\n",
       "│ Row │ A       │ B       │\n",
       "│     │ \u001b[90mInt64⍰\u001b[39m  │ \u001b[90mString⍰\u001b[39m │\n",
       "├─────┼─────────┼─────────┤\n",
       "│ 1   │ 1       │ A       │\n",
       "│ 2   │ \u001b[90mmissing\u001b[39m │ B       │\n",
       "│ 3   │ 3       │ \u001b[90mmissing\u001b[39m │\n",
       "│ 4   │ 4       │ C       │"
      ]
     },
     "execution_count": 21,
     "metadata": {},
     "output_type": "execute_result"
    }
   ],
   "source": [
    "x"
   ]
  },
  {
   "cell_type": "code",
   "execution_count": 22,
   "metadata": {},
   "outputs": [
    {
     "name": "stdout",
     "output_type": "stream",
     "text": [
      "Complete cases:\n",
      "Bool[true, false, false, true]\n"
     ]
    }
   ],
   "source": [
    "println(\"Complete cases:\\n\", completecases(x))"
   ]
  },
  {
   "cell_type": "markdown",
   "metadata": {},
   "source": [
    "We can use `dropmissing` or `dropmissing!` to remove the rows with incomplete data from a `DataFrame` and either create a new `DataFrame` or mutate the original in-place."
   ]
  },
  {
   "cell_type": "code",
   "execution_count": 23,
   "metadata": {},
   "outputs": [
    {
     "data": {
      "text/html": [
       "<table class=\"data-frame\"><thead><tr><th></th><th>A</th><th>B</th></tr><tr><th></th><th>Int64⍰</th><th>String⍰</th></tr></thead><tbody><tr><th>1</th><td>1</td><td>A</td></tr><tr><th>2</th><td>4</td><td>C</td></tr></tbody></table>"
      ],
      "text/plain": [
       "2×2 DataFrame\n",
       "│ Row │ A      │ B       │\n",
       "│     │ \u001b[90mInt64⍰\u001b[39m │ \u001b[90mString⍰\u001b[39m │\n",
       "├─────┼────────┼─────────┤\n",
       "│ 1   │ 1      │ A       │\n",
       "│ 2   │ 4      │ C       │"
      ]
     },
     "execution_count": 23,
     "metadata": {},
     "output_type": "execute_result"
    }
   ],
   "source": [
    "y = dropmissing(x)\n",
    "dropmissing!(x)"
   ]
  },
  {
   "cell_type": "code",
   "execution_count": 24,
   "metadata": {},
   "outputs": [
    {
     "data": {
      "text/html": [
       "<table class=\"data-frame\"><thead><tr><th></th><th>A</th><th>B</th></tr><tr><th></th><th>Int64⍰</th><th>String⍰</th></tr></thead><tbody><tr><th>1</th><td>1</td><td>A</td></tr><tr><th>2</th><td>4</td><td>C</td></tr></tbody></table>"
      ],
      "text/plain": [
       "2×2 DataFrame\n",
       "│ Row │ A      │ B       │\n",
       "│     │ \u001b[90mInt64⍰\u001b[39m │ \u001b[90mString⍰\u001b[39m │\n",
       "├─────┼────────┼─────────┤\n",
       "│ 1   │ 1      │ A       │\n",
       "│ 2   │ 4      │ C       │"
      ]
     },
     "execution_count": 24,
     "metadata": {},
     "output_type": "execute_result"
    }
   ],
   "source": [
    "x"
   ]
  },
  {
   "cell_type": "code",
   "execution_count": 25,
   "metadata": {},
   "outputs": [
    {
     "data": {
      "text/html": [
       "<table class=\"data-frame\"><thead><tr><th></th><th>A</th><th>B</th></tr><tr><th></th><th>Int64⍰</th><th>String⍰</th></tr></thead><tbody><tr><th>1</th><td>1</td><td>A</td></tr><tr><th>2</th><td>4</td><td>C</td></tr></tbody></table>"
      ],
      "text/plain": [
       "2×2 DataFrame\n",
       "│ Row │ A      │ B       │\n",
       "│     │ \u001b[90mInt64⍰\u001b[39m │ \u001b[90mString⍰\u001b[39m │\n",
       "├─────┼────────┼─────────┤\n",
       "│ 1   │ 1      │ A       │\n",
       "│ 2   │ 4      │ C       │"
      ]
     },
     "execution_count": 25,
     "metadata": {},
     "output_type": "execute_result"
    }
   ],
   "source": [
    "y"
   ]
  },
  {
   "cell_type": "markdown",
   "metadata": {},
   "source": [
    "When we call `describe` on a `DataFrame` with dropped missing values, the columns still allow missing values."
   ]
  },
  {
   "cell_type": "code",
   "execution_count": 26,
   "metadata": {},
   "outputs": [
    {
     "data": {
      "text/html": [
       "<table class=\"data-frame\"><thead><tr><th></th><th>variable</th><th>mean</th><th>min</th><th>median</th><th>max</th><th>nunique</th><th>nmissing</th><th>eltype</th></tr><tr><th></th><th>Symbol</th><th>Union…</th><th>Any</th><th>Union…</th><th>Any</th><th>Union…</th><th>Int64</th><th>DataType</th></tr></thead><tbody><tr><th>1</th><td>A</td><td>2.5</td><td>1</td><td>2.5</td><td>4</td><td></td><td>0</td><td>Int64</td></tr><tr><th>2</th><td>B</td><td></td><td>A</td><td></td><td>C</td><td>2</td><td>0</td><td>String</td></tr></tbody></table>"
      ],
      "text/plain": [
       "2×8 DataFrame\n",
       "│ Row │ variable │ mean   │ min │ median │ max │ nunique │ nmissing │ eltype   │\n",
       "│     │ \u001b[90mSymbol\u001b[39m   │ \u001b[90mUnion…\u001b[39m │ \u001b[90mAny\u001b[39m │ \u001b[90mUnion…\u001b[39m │ \u001b[90mAny\u001b[39m │ \u001b[90mUnion…\u001b[39m  │ \u001b[90mInt64\u001b[39m    │ \u001b[90mDataType\u001b[39m │\n",
       "├─────┼──────────┼────────┼─────┼────────┼─────┼─────────┼──────────┼──────────┤\n",
       "│ 1   │ A        │ 2.5    │ 1   │ 2.5    │ 4   │         │ 0        │ Int64    │\n",
       "│ 2   │ B        │        │ A   │        │ C   │ 2       │ 0        │ String   │"
      ]
     },
     "execution_count": 26,
     "metadata": {},
     "output_type": "execute_result"
    }
   ],
   "source": [
    "describe(x)"
   ]
  },
  {
   "cell_type": "markdown",
   "metadata": {},
   "source": [
    "Since we've excluded missing values, we can safely use `disallowmissing!` so that the columns will no longer accept missing values (we can see this as `nmissing` column is empty)."
   ]
  },
  {
   "cell_type": "code",
   "execution_count": 27,
   "metadata": {},
   "outputs": [
    {
     "data": {
      "text/html": [
       "<table class=\"data-frame\"><thead><tr><th></th><th>variable</th><th>mean</th><th>min</th><th>median</th><th>max</th><th>nunique</th><th>nmissing</th><th>eltype</th></tr><tr><th></th><th>Symbol</th><th>Union…</th><th>Any</th><th>Union…</th><th>Any</th><th>Union…</th><th>Nothing</th><th>DataType</th></tr></thead><tbody><tr><th>1</th><td>A</td><td>2.5</td><td>1</td><td>2.5</td><td>4</td><td></td><td></td><td>Int64</td></tr><tr><th>2</th><td>B</td><td></td><td>A</td><td></td><td>C</td><td>2</td><td></td><td>String</td></tr></tbody></table>"
      ],
      "text/plain": [
       "2×8 DataFrame\n",
       "│ Row │ variable │ mean   │ min │ median │ max │ nunique │ nmissing │ eltype   │\n",
       "│     │ \u001b[90mSymbol\u001b[39m   │ \u001b[90mUnion…\u001b[39m │ \u001b[90mAny\u001b[39m │ \u001b[90mUnion…\u001b[39m │ \u001b[90mAny\u001b[39m │ \u001b[90mUnion…\u001b[39m  │ \u001b[90mNothing\u001b[39m  │ \u001b[90mDataType\u001b[39m │\n",
       "├─────┼──────────┼────────┼─────┼────────┼─────┼─────────┼──────────┼──────────┤\n",
       "│ 1   │ A        │ 2.5    │ 1   │ 2.5    │ 4   │         │          │ Int64    │\n",
       "│ 2   │ B        │        │ A   │        │ C   │ 2       │          │ String   │"
      ]
     },
     "execution_count": 27,
     "metadata": {},
     "output_type": "execute_result"
    }
   ],
   "source": [
    "disallowmissing!(x)\n",
    "describe(x)"
   ]
  }
 ],
 "metadata": {
  "kernelspec": {
   "display_name": "Julia 1.0.1",
   "language": "julia",
   "name": "julia-1.0"
  },
  "language_info": {
   "file_extension": ".jl",
   "mimetype": "application/julia",
   "name": "julia",
   "version": "1.0.1"
  }
 },
 "nbformat": 4,
 "nbformat_minor": 1
}
