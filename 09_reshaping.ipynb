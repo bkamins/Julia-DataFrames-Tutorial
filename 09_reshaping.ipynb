{
 "cells": [
  {
   "cell_type": "markdown",
   "metadata": {},
   "source": [
    "# Introduction to DataFrames\n",
    "**[Bogumił Kamiński](http://bogumilkaminski.pl/about/), October 4, 2018**"
   ]
  },
  {
   "cell_type": "code",
   "execution_count": 1,
   "metadata": {},
   "outputs": [],
   "source": [
    "using DataFrames # load package"
   ]
  },
  {
   "cell_type": "markdown",
   "metadata": {},
   "source": [
    "## Reshaping DataFrames"
   ]
  },
  {
   "cell_type": "markdown",
   "metadata": {},
   "source": [
    "### Wide to long"
   ]
  },
  {
   "cell_type": "code",
   "execution_count": 2,
   "metadata": {},
   "outputs": [
    {
     "data": {
      "text/html": [
       "<table class=\"data-frame\"><thead><tr><th></th><th>id</th><th>id2</th><th>M1</th><th>M2</th></tr><tr><th></th><th>Int64</th><th>Int64</th><th>Int64</th><th>Int64</th></tr></thead><tbody><tr><th>1</th><td>1</td><td>1</td><td>11</td><td>111</td></tr><tr><th>2</th><td>2</td><td>1</td><td>12</td><td>112</td></tr><tr><th>3</th><td>3</td><td>2</td><td>13</td><td>113</td></tr><tr><th>4</th><td>4</td><td>2</td><td>14</td><td>114</td></tr></tbody></table>"
      ],
      "text/plain": [
       "4×4 DataFrame\n",
       "│ Row │ id    │ id2   │ M1    │ M2    │\n",
       "│     │ \u001b[90mInt64\u001b[39m │ \u001b[90mInt64\u001b[39m │ \u001b[90mInt64\u001b[39m │ \u001b[90mInt64\u001b[39m │\n",
       "├─────┼───────┼───────┼───────┼───────┤\n",
       "│ 1   │ 1     │ 1     │ 11    │ 111   │\n",
       "│ 2   │ 2     │ 1     │ 12    │ 112   │\n",
       "│ 3   │ 3     │ 2     │ 13    │ 113   │\n",
       "│ 4   │ 4     │ 2     │ 14    │ 114   │"
      ]
     },
     "execution_count": 2,
     "metadata": {},
     "output_type": "execute_result"
    }
   ],
   "source": [
    "x = DataFrame(id=[1,2,3,4], id2=[1,1,2,2], M1=[11,12,13,14], M2=[111,112,113,114])"
   ]
  },
  {
   "cell_type": "code",
   "execution_count": 3,
   "metadata": {},
   "outputs": [
    {
     "data": {
      "text/html": [
       "<table class=\"data-frame\"><thead><tr><th></th><th>variable</th><th>value</th><th>id</th></tr><tr><th></th><th>Symbol</th><th>Int64</th><th>Int64</th></tr></thead><tbody><tr><th>1</th><td>M1</td><td>11</td><td>1</td></tr><tr><th>2</th><td>M1</td><td>12</td><td>2</td></tr><tr><th>3</th><td>M1</td><td>13</td><td>3</td></tr><tr><th>4</th><td>M1</td><td>14</td><td>4</td></tr><tr><th>5</th><td>M2</td><td>111</td><td>1</td></tr><tr><th>6</th><td>M2</td><td>112</td><td>2</td></tr><tr><th>7</th><td>M2</td><td>113</td><td>3</td></tr><tr><th>8</th><td>M2</td><td>114</td><td>4</td></tr></tbody></table>"
      ],
      "text/plain": [
       "8×3 DataFrame\n",
       "│ Row │ variable │ value │ id    │\n",
       "│     │ \u001b[90mSymbol\u001b[39m   │ \u001b[90mInt64\u001b[39m │ \u001b[90mInt64\u001b[39m │\n",
       "├─────┼──────────┼───────┼───────┤\n",
       "│ 1   │ M1       │ 11    │ 1     │\n",
       "│ 2   │ M1       │ 12    │ 2     │\n",
       "│ 3   │ M1       │ 13    │ 3     │\n",
       "│ 4   │ M1       │ 14    │ 4     │\n",
       "│ 5   │ M2       │ 111   │ 1     │\n",
       "│ 6   │ M2       │ 112   │ 2     │\n",
       "│ 7   │ M2       │ 113   │ 3     │\n",
       "│ 8   │ M2       │ 114   │ 4     │"
      ]
     },
     "execution_count": 3,
     "metadata": {},
     "output_type": "execute_result"
    }
   ],
   "source": [
    "melt(x, :id, [:M1, :M2]) # first pass id-variables and then measure variables; meltdf makes a view"
   ]
  },
  {
   "cell_type": "code",
   "execution_count": 4,
   "metadata": {},
   "outputs": [
    {
     "data": {
      "text/html": [
       "<table class=\"data-frame\"><thead><tr><th></th><th>key</th><th>observed</th><th>id</th></tr><tr><th></th><th>Symbol</th><th>Int64</th><th>Int64</th></tr></thead><tbody><tr><th>1</th><td>M1</td><td>11</td><td>1</td></tr><tr><th>2</th><td>M1</td><td>12</td><td>2</td></tr><tr><th>3</th><td>M1</td><td>13</td><td>3</td></tr><tr><th>4</th><td>M1</td><td>14</td><td>4</td></tr><tr><th>5</th><td>M2</td><td>111</td><td>1</td></tr><tr><th>6</th><td>M2</td><td>112</td><td>2</td></tr><tr><th>7</th><td>M2</td><td>113</td><td>3</td></tr><tr><th>8</th><td>M2</td><td>114</td><td>4</td></tr></tbody></table>"
      ],
      "text/plain": [
       "8×3 DataFrame\n",
       "│ Row │ key    │ observed │ id    │\n",
       "│     │ \u001b[90mSymbol\u001b[39m │ \u001b[90mInt64\u001b[39m    │ \u001b[90mInt64\u001b[39m │\n",
       "├─────┼────────┼──────────┼───────┤\n",
       "│ 1   │ M1     │ 11       │ 1     │\n",
       "│ 2   │ M1     │ 12       │ 2     │\n",
       "│ 3   │ M1     │ 13       │ 3     │\n",
       "│ 4   │ M1     │ 14       │ 4     │\n",
       "│ 5   │ M2     │ 111      │ 1     │\n",
       "│ 6   │ M2     │ 112      │ 2     │\n",
       "│ 7   │ M2     │ 113      │ 3     │\n",
       "│ 8   │ M2     │ 114      │ 4     │"
      ]
     },
     "execution_count": 4,
     "metadata": {},
     "output_type": "execute_result"
    }
   ],
   "source": [
    "# optionally you can rename columns; melt and stack are identical but order of arguments is reversed\n",
    "stack(x, [:M1, :M2], :id, variable_name=:key, value_name=:observed) # first measures and then id-s; stackdf creates view"
   ]
  },
  {
   "cell_type": "code",
   "execution_count": 5,
   "metadata": {},
   "outputs": [
    {
     "data": {
      "text/html": [
       "<table class=\"data-frame\"><thead><tr><th></th><th>variable</th><th>value</th><th>id</th><th>id2</th></tr><tr><th></th><th>Symbol</th><th>Int64</th><th>Int64</th><th>Int64</th></tr></thead><tbody><tr><th>1</th><td>M1</td><td>11</td><td>1</td><td>1</td></tr><tr><th>2</th><td>M1</td><td>12</td><td>2</td><td>1</td></tr><tr><th>3</th><td>M1</td><td>13</td><td>3</td><td>2</td></tr><tr><th>4</th><td>M1</td><td>14</td><td>4</td><td>2</td></tr><tr><th>5</th><td>M2</td><td>111</td><td>1</td><td>1</td></tr><tr><th>6</th><td>M2</td><td>112</td><td>2</td><td>1</td></tr><tr><th>7</th><td>M2</td><td>113</td><td>3</td><td>2</td></tr><tr><th>8</th><td>M2</td><td>114</td><td>4</td><td>2</td></tr></tbody></table>"
      ],
      "text/plain": [
       "8×4 DataFrame\n",
       "│ Row │ variable │ value │ id    │ id2   │\n",
       "│     │ \u001b[90mSymbol\u001b[39m   │ \u001b[90mInt64\u001b[39m │ \u001b[90mInt64\u001b[39m │ \u001b[90mInt64\u001b[39m │\n",
       "├─────┼──────────┼───────┼───────┼───────┤\n",
       "│ 1   │ M1       │ 11    │ 1     │ 1     │\n",
       "│ 2   │ M1       │ 12    │ 2     │ 1     │\n",
       "│ 3   │ M1       │ 13    │ 3     │ 2     │\n",
       "│ 4   │ M1       │ 14    │ 4     │ 2     │\n",
       "│ 5   │ M2       │ 111   │ 1     │ 1     │\n",
       "│ 6   │ M2       │ 112   │ 2     │ 1     │\n",
       "│ 7   │ M2       │ 113   │ 3     │ 2     │\n",
       "│ 8   │ M2       │ 114   │ 4     │ 2     │"
      ]
     },
     "execution_count": 5,
     "metadata": {},
     "output_type": "execute_result"
    }
   ],
   "source": [
    "# if second argument is omitted in melt or stack , all other columns are assumed to be the second argument\n",
    "# but measure variables are selected only if they are <: AbstractFloat\n",
    "melt(x, [:id, :id2])"
   ]
  },
  {
   "cell_type": "code",
   "execution_count": 6,
   "metadata": {},
   "outputs": [
    {
     "data": {
      "text/html": [
       "<table class=\"data-frame\"><thead><tr><th></th><th>variable</th><th>value</th><th>id</th><th>id2</th></tr><tr><th></th><th>Symbol</th><th>Int64</th><th>Int64</th><th>Int64</th></tr></thead><tbody><tr><th>1</th><td>M1</td><td>11</td><td>1</td><td>1</td></tr><tr><th>2</th><td>M1</td><td>12</td><td>2</td><td>1</td></tr><tr><th>3</th><td>M1</td><td>13</td><td>3</td><td>2</td></tr><tr><th>4</th><td>M1</td><td>14</td><td>4</td><td>2</td></tr><tr><th>5</th><td>M2</td><td>111</td><td>1</td><td>1</td></tr><tr><th>6</th><td>M2</td><td>112</td><td>2</td><td>1</td></tr><tr><th>7</th><td>M2</td><td>113</td><td>3</td><td>2</td></tr><tr><th>8</th><td>M2</td><td>114</td><td>4</td><td>2</td></tr></tbody></table>"
      ],
      "text/plain": [
       "8×4 DataFrame\n",
       "│ Row │ variable │ value │ id    │ id2   │\n",
       "│     │ \u001b[90mSymbol\u001b[39m   │ \u001b[90mInt64\u001b[39m │ \u001b[90mInt64\u001b[39m │ \u001b[90mInt64\u001b[39m │\n",
       "├─────┼──────────┼───────┼───────┼───────┤\n",
       "│ 1   │ M1       │ 11    │ 1     │ 1     │\n",
       "│ 2   │ M1       │ 12    │ 2     │ 1     │\n",
       "│ 3   │ M1       │ 13    │ 3     │ 2     │\n",
       "│ 4   │ M1       │ 14    │ 4     │ 2     │\n",
       "│ 5   │ M2       │ 111   │ 1     │ 1     │\n",
       "│ 6   │ M2       │ 112   │ 2     │ 1     │\n",
       "│ 7   │ M2       │ 113   │ 3     │ 2     │\n",
       "│ 8   │ M2       │ 114   │ 4     │ 2     │"
      ]
     },
     "execution_count": 6,
     "metadata": {},
     "output_type": "execute_result"
    }
   ],
   "source": [
    "melt(x, [1, 2]) # you can use index instead of symbol"
   ]
  },
  {
   "cell_type": "code",
   "execution_count": 7,
   "metadata": {},
   "outputs": [
    {
     "data": {
      "text/html": [
       "<table class=\"data-frame\"><thead><tr><th></th><th>id</th><th>id2</th><th>a1</th><th>a2</th></tr><tr><th></th><th>Int64</th><th>Char</th><th>Float64</th><th>Float64</th></tr></thead><tbody><tr><th>1</th><td>1</td><td>'a'</td><td>0.883811</td><td>0.347507</td></tr><tr><th>2</th><td>1</td><td>'b'</td><td>0.221289</td><td>0.948051</td></tr><tr><th>3</th><td>1</td><td>'c'</td><td>0.743618</td><td>0.298657</td></tr></tbody></table>"
      ],
      "text/plain": [
       "3×4 DataFrame\n",
       "│ Row │ id    │ id2  │ a1       │ a2       │\n",
       "│     │ \u001b[90mInt64\u001b[39m │ \u001b[90mChar\u001b[39m │ \u001b[90mFloat64\u001b[39m  │ \u001b[90mFloat64\u001b[39m  │\n",
       "├─────┼───────┼──────┼──────────┼──────────┤\n",
       "│ 1   │ 1     │ 'a'  │ 0.883811 │ 0.347507 │\n",
       "│ 2   │ 1     │ 'b'  │ 0.221289 │ 0.948051 │\n",
       "│ 3   │ 1     │ 'c'  │ 0.743618 │ 0.298657 │"
      ]
     },
     "execution_count": 7,
     "metadata": {},
     "output_type": "execute_result"
    }
   ],
   "source": [
    "x = DataFrame(id = [1,1,1], id2=['a','b','c'], a1 = rand(3), a2 = rand(3))"
   ]
  },
  {
   "cell_type": "code",
   "execution_count": 8,
   "metadata": {},
   "outputs": [
    {
     "data": {
      "text/html": [
       "<table class=\"data-frame\"><thead><tr><th></th><th>variable</th><th>value</th><th>id</th><th>id2</th></tr><tr><th></th><th>Symbol</th><th>Float64</th><th>Int64</th><th>Char</th></tr></thead><tbody><tr><th>1</th><td>a1</td><td>0.883811</td><td>1</td><td>'a'</td></tr><tr><th>2</th><td>a1</td><td>0.221289</td><td>1</td><td>'b'</td></tr><tr><th>3</th><td>a1</td><td>0.743618</td><td>1</td><td>'c'</td></tr><tr><th>4</th><td>a2</td><td>0.347507</td><td>1</td><td>'a'</td></tr><tr><th>5</th><td>a2</td><td>0.948051</td><td>1</td><td>'b'</td></tr><tr><th>6</th><td>a2</td><td>0.298657</td><td>1</td><td>'c'</td></tr></tbody></table>"
      ],
      "text/plain": [
       "6×4 DataFrame\n",
       "│ Row │ variable │ value    │ id    │ id2  │\n",
       "│     │ \u001b[90mSymbol\u001b[39m   │ \u001b[90mFloat64\u001b[39m  │ \u001b[90mInt64\u001b[39m │ \u001b[90mChar\u001b[39m │\n",
       "├─────┼──────────┼──────────┼───────┼──────┤\n",
       "│ 1   │ a1       │ 0.883811 │ 1     │ 'a'  │\n",
       "│ 2   │ a1       │ 0.221289 │ 1     │ 'b'  │\n",
       "│ 3   │ a1       │ 0.743618 │ 1     │ 'c'  │\n",
       "│ 4   │ a2       │ 0.347507 │ 1     │ 'a'  │\n",
       "│ 5   │ a2       │ 0.948051 │ 1     │ 'b'  │\n",
       "│ 6   │ a2       │ 0.298657 │ 1     │ 'c'  │"
      ]
     },
     "execution_count": 8,
     "metadata": {},
     "output_type": "execute_result"
    }
   ],
   "source": [
    "melt(x)"
   ]
  },
  {
   "cell_type": "code",
   "execution_count": 9,
   "metadata": {},
   "outputs": [
    {
     "data": {
      "text/html": [
       "<table class=\"data-frame\"><thead><tr><th></th><th>variable</th><th>value</th></tr><tr><th></th><th>Symbol</th><th>Float64</th></tr></thead><tbody><tr><th>1</th><td>x1</td><td>0.320536</td></tr><tr><th>2</th><td>x1</td><td>0.94699</td></tr><tr><th>3</th><td>x1</td><td>0.999543</td></tr><tr><th>4</th><td>x2</td><td>0.484661</td></tr><tr><th>5</th><td>x2</td><td>0.792754</td></tr><tr><th>6</th><td>x2</td><td>0.214669</td></tr></tbody></table>"
      ],
      "text/plain": [
       "6×2 DataFrame\n",
       "│ Row │ variable │ value    │\n",
       "│     │ \u001b[90mSymbol\u001b[39m   │ \u001b[90mFloat64\u001b[39m  │\n",
       "├─────┼──────────┼──────────┤\n",
       "│ 1   │ x1       │ 0.320536 │\n",
       "│ 2   │ x1       │ 0.94699  │\n",
       "│ 3   │ x1       │ 0.999543 │\n",
       "│ 4   │ x2       │ 0.484661 │\n",
       "│ 5   │ x2       │ 0.792754 │\n",
       "│ 6   │ x2       │ 0.214669 │"
      ]
     },
     "execution_count": 9,
     "metadata": {},
     "output_type": "execute_result"
    }
   ],
   "source": [
    "melt(DataFrame(rand(3,2))) # by default stack and melt treats floats as value columns"
   ]
  },
  {
   "cell_type": "code",
   "execution_count": 10,
   "metadata": {},
   "outputs": [
    {
     "data": {
      "text/html": [
       "<table class=\"data-frame\"><thead><tr><th></th><th>variable</th><th>value</th><th>key</th></tr><tr><th></th><th>Symbol</th><th>Float64</th><th>Int64</th></tr></thead><tbody><tr><th>1</th><td>x1</td><td>0.81656</td><td>1</td></tr><tr><th>2</th><td>x1</td><td>0.610571</td><td>1</td></tr><tr><th>3</th><td>x1</td><td>0.532249</td><td>1</td></tr><tr><th>4</th><td>x2</td><td>0.574836</td><td>1</td></tr><tr><th>5</th><td>x2</td><td>0.90107</td><td>1</td></tr><tr><th>6</th><td>x2</td><td>0.682834</td><td>1</td></tr></tbody></table>"
      ],
      "text/plain": [
       "6×3 DataFrame\n",
       "│ Row │ variable │ value    │ key   │\n",
       "│     │ \u001b[90mSymbol\u001b[39m   │ \u001b[90mFloat64\u001b[39m  │ \u001b[90mInt64\u001b[39m │\n",
       "├─────┼──────────┼──────────┼───────┤\n",
       "│ 1   │ x1       │ 0.81656  │ 1     │\n",
       "│ 2   │ x1       │ 0.610571 │ 1     │\n",
       "│ 3   │ x1       │ 0.532249 │ 1     │\n",
       "│ 4   │ x2       │ 0.574836 │ 1     │\n",
       "│ 5   │ x2       │ 0.90107  │ 1     │\n",
       "│ 6   │ x2       │ 0.682834 │ 1     │"
      ]
     },
     "execution_count": 10,
     "metadata": {},
     "output_type": "execute_result"
    }
   ],
   "source": [
    "df = DataFrame(rand(3,2))\n",
    "df[:key] = [1,1,1]\n",
    "mdf = melt(df) # duplicates in key are silently accepted"
   ]
  },
  {
   "cell_type": "markdown",
   "metadata": {},
   "source": [
    "### Long to wide"
   ]
  },
  {
   "cell_type": "code",
   "execution_count": 11,
   "metadata": {},
   "outputs": [
    {
     "data": {
      "text/html": [
       "<table class=\"data-frame\"><thead><tr><th></th><th>id</th><th>id2</th><th>a1</th><th>a2</th></tr><tr><th></th><th>Int64</th><th>Char</th><th>Float64</th><th>Float64</th></tr></thead><tbody><tr><th>1</th><td>1</td><td>'a'</td><td>0.61586</td><td>0.998759</td></tr><tr><th>2</th><td>1</td><td>'b'</td><td>0.432679</td><td>0.686297</td></tr><tr><th>3</th><td>1</td><td>'c'</td><td>0.226318</td><td>0.811977</td></tr></tbody></table>"
      ],
      "text/plain": [
       "3×4 DataFrame\n",
       "│ Row │ id    │ id2  │ a1       │ a2       │\n",
       "│     │ \u001b[90mInt64\u001b[39m │ \u001b[90mChar\u001b[39m │ \u001b[90mFloat64\u001b[39m  │ \u001b[90mFloat64\u001b[39m  │\n",
       "├─────┼───────┼──────┼──────────┼──────────┤\n",
       "│ 1   │ 1     │ 'a'  │ 0.61586  │ 0.998759 │\n",
       "│ 2   │ 1     │ 'b'  │ 0.432679 │ 0.686297 │\n",
       "│ 3   │ 1     │ 'c'  │ 0.226318 │ 0.811977 │"
      ]
     },
     "execution_count": 11,
     "metadata": {},
     "output_type": "execute_result"
    }
   ],
   "source": [
    "x = DataFrame(id = [1,1,1], id2=['a','b','c'], a1 = rand(3), a2 = rand(3))"
   ]
  },
  {
   "cell_type": "code",
   "execution_count": 12,
   "metadata": {},
   "outputs": [
    {
     "data": {
      "text/html": [
       "<table class=\"data-frame\"><thead><tr><th></th><th>id</th><th>id2</th><th>a1</th><th>a2</th></tr><tr><th></th><th>Int64</th><th>Char</th><th>Float64</th><th>Float64</th></tr></thead><tbody><tr><th>1</th><td>1</td><td>'a'</td><td>0.61586</td><td>0.998759</td></tr><tr><th>2</th><td>1</td><td>'b'</td><td>0.432679</td><td>0.686297</td></tr><tr><th>3</th><td>1</td><td>'c'</td><td>0.226318</td><td>0.811977</td></tr></tbody></table>"
      ],
      "text/plain": [
       "3×4 DataFrame\n",
       "│ Row │ id    │ id2  │ a1       │ a2       │\n",
       "│     │ \u001b[90mInt64\u001b[39m │ \u001b[90mChar\u001b[39m │ \u001b[90mFloat64\u001b[39m  │ \u001b[90mFloat64\u001b[39m  │\n",
       "├─────┼───────┼──────┼──────────┼──────────┤\n",
       "│ 1   │ 1     │ 'a'  │ 0.61586  │ 0.998759 │\n",
       "│ 2   │ 1     │ 'b'  │ 0.432679 │ 0.686297 │\n",
       "│ 3   │ 1     │ 'c'  │ 0.226318 │ 0.811977 │"
      ]
     },
     "metadata": {},
     "output_type": "display_data"
    },
    {
     "data": {
      "text/html": [
       "<table class=\"data-frame\"><thead><tr><th></th><th>variable</th><th>value</th><th>id</th><th>id2</th></tr><tr><th></th><th>Symbol</th><th>Float64</th><th>Int64</th><th>Char</th></tr></thead><tbody><tr><th>1</th><td>a1</td><td>0.61586</td><td>1</td><td>'a'</td></tr><tr><th>2</th><td>a1</td><td>0.432679</td><td>1</td><td>'b'</td></tr><tr><th>3</th><td>a1</td><td>0.226318</td><td>1</td><td>'c'</td></tr><tr><th>4</th><td>a2</td><td>0.998759</td><td>1</td><td>'a'</td></tr><tr><th>5</th><td>a2</td><td>0.686297</td><td>1</td><td>'b'</td></tr><tr><th>6</th><td>a2</td><td>0.811977</td><td>1</td><td>'c'</td></tr></tbody></table>"
      ],
      "text/plain": [
       "6×4 DataFrame\n",
       "│ Row │ variable │ value    │ id    │ id2  │\n",
       "│     │ \u001b[90mSymbol\u001b[39m   │ \u001b[90mFloat64\u001b[39m  │ \u001b[90mInt64\u001b[39m │ \u001b[90mChar\u001b[39m │\n",
       "├─────┼──────────┼──────────┼───────┼──────┤\n",
       "│ 1   │ a1       │ 0.61586  │ 1     │ 'a'  │\n",
       "│ 2   │ a1       │ 0.432679 │ 1     │ 'b'  │\n",
       "│ 3   │ a1       │ 0.226318 │ 1     │ 'c'  │\n",
       "│ 4   │ a2       │ 0.998759 │ 1     │ 'a'  │\n",
       "│ 5   │ a2       │ 0.686297 │ 1     │ 'b'  │\n",
       "│ 6   │ a2       │ 0.811977 │ 1     │ 'c'  │"
      ]
     },
     "metadata": {},
     "output_type": "display_data"
    }
   ],
   "source": [
    "y = melt(x, [1,2])\n",
    "display(x)\n",
    "display(y)"
   ]
  },
  {
   "cell_type": "code",
   "execution_count": 13,
   "metadata": {},
   "outputs": [
    {
     "data": {
      "text/html": [
       "<table class=\"data-frame\"><thead><tr><th></th><th>id2</th><th>a1</th><th>a2</th></tr><tr><th></th><th>Char</th><th>Float64⍰</th><th>Float64⍰</th></tr></thead><tbody><tr><th>1</th><td>'a'</td><td>0.61586</td><td>0.998759</td></tr><tr><th>2</th><td>'b'</td><td>0.432679</td><td>0.686297</td></tr><tr><th>3</th><td>'c'</td><td>0.226318</td><td>0.811977</td></tr></tbody></table>"
      ],
      "text/plain": [
       "3×3 DataFrame\n",
       "│ Row │ id2  │ a1       │ a2       │\n",
       "│     │ \u001b[90mChar\u001b[39m │ \u001b[90mFloat64⍰\u001b[39m │ \u001b[90mFloat64⍰\u001b[39m │\n",
       "├─────┼──────┼──────────┼──────────┤\n",
       "│ 1   │ 'a'  │ 0.61586  │ 0.998759 │\n",
       "│ 2   │ 'b'  │ 0.432679 │ 0.686297 │\n",
       "│ 3   │ 'c'  │ 0.226318 │ 0.811977 │"
      ]
     },
     "execution_count": 13,
     "metadata": {},
     "output_type": "execute_result"
    }
   ],
   "source": [
    "unstack(y, :id2, :variable, :value) # stndard unstack with a unique key"
   ]
  },
  {
   "cell_type": "code",
   "execution_count": 14,
   "metadata": {},
   "outputs": [
    {
     "data": {
      "text/html": [
       "<table class=\"data-frame\"><thead><tr><th></th><th>id</th><th>id2</th><th>a1</th><th>a2</th></tr><tr><th></th><th>Int64</th><th>Char</th><th>Float64⍰</th><th>Float64⍰</th></tr></thead><tbody><tr><th>1</th><td>1</td><td>'a'</td><td>0.61586</td><td>0.998759</td></tr><tr><th>2</th><td>1</td><td>'b'</td><td>0.432679</td><td>0.686297</td></tr><tr><th>3</th><td>1</td><td>'c'</td><td>0.226318</td><td>0.811977</td></tr></tbody></table>"
      ],
      "text/plain": [
       "3×4 DataFrame\n",
       "│ Row │ id    │ id2  │ a1       │ a2       │\n",
       "│     │ \u001b[90mInt64\u001b[39m │ \u001b[90mChar\u001b[39m │ \u001b[90mFloat64⍰\u001b[39m │ \u001b[90mFloat64⍰\u001b[39m │\n",
       "├─────┼───────┼──────┼──────────┼──────────┤\n",
       "│ 1   │ 1     │ 'a'  │ 0.61586  │ 0.998759 │\n",
       "│ 2   │ 1     │ 'b'  │ 0.432679 │ 0.686297 │\n",
       "│ 3   │ 1     │ 'c'  │ 0.226318 │ 0.811977 │"
      ]
     },
     "execution_count": 14,
     "metadata": {},
     "output_type": "execute_result"
    }
   ],
   "source": [
    "unstack(y, :variable, :value) # all other columns are treated as keys"
   ]
  },
  {
   "cell_type": "code",
   "execution_count": 15,
   "metadata": {},
   "outputs": [
    {
     "name": "stderr",
     "output_type": "stream",
     "text": [
      "┌ Warning: In the future `unstack(df)` will call `unstack(df, :variable, :value)`. use `unstack(df, :id, :variable, :value)` to treat `:id` as the only `rowkeys` column\n",
      "│   caller = top-level scope at In[15]:1\n",
      "└ @ Core In[15]:1\n",
      "┌ Warning: Duplicate entries in unstack at row 2 for key 1 and variable a1.\n",
      "└ @ DataFrames C:\\Users\\bogumil.kaminski\\.julia\\packages\\DataFrames\\1PqZ3\\src\\abstractdataframe\\reshape.jl:244\n"
     ]
    },
    {
     "data": {
      "text/html": [
       "<table class=\"data-frame\"><thead><tr><th></th><th>id</th><th>a1</th><th>a2</th></tr><tr><th></th><th>Int64</th><th>Float64⍰</th><th>Float64⍰</th></tr></thead><tbody><tr><th>1</th><td>1</td><td>0.226318</td><td>0.811977</td></tr></tbody></table>"
      ],
      "text/plain": [
       "1×3 DataFrame\n",
       "│ Row │ id    │ a1       │ a2       │\n",
       "│     │ \u001b[90mInt64\u001b[39m │ \u001b[90mFloat64⍰\u001b[39m │ \u001b[90mFloat64⍰\u001b[39m │\n",
       "├─────┼───────┼──────────┼──────────┤\n",
       "│ 1   │ 1     │ 0.226318 │ 0.811977 │"
      ]
     },
     "execution_count": 15,
     "metadata": {},
     "output_type": "execute_result"
    }
   ],
   "source": [
    "# by default :id, :variable and :value names are assumed; in this case it produces duplicate keys and last values are taken\n",
    "# this is deprecated - in the future all columns other than :variable and :value will be treated as keys\n",
    "unstack(y)"
   ]
  },
  {
   "cell_type": "code",
   "execution_count": 16,
   "metadata": {},
   "outputs": [
    {
     "data": {
      "text/html": [
       "<table class=\"data-frame\"><thead><tr><th></th><th>variable</th><th>value</th></tr><tr><th></th><th>Symbol</th><th>Float64</th></tr></thead><tbody><tr><th>1</th><td>x1</td><td>0.0534741</td></tr><tr><th>2</th><td>x1</td><td>0.196309</td></tr><tr><th>3</th><td>x1</td><td>0.912957</td></tr><tr><th>4</th><td>x2</td><td>0.505152</td></tr><tr><th>5</th><td>x2</td><td>0.614941</td></tr><tr><th>6</th><td>x2</td><td>0.191787</td></tr></tbody></table>"
      ],
      "text/plain": [
       "6×2 DataFrame\n",
       "│ Row │ variable │ value     │\n",
       "│     │ \u001b[90mSymbol\u001b[39m   │ \u001b[90mFloat64\u001b[39m   │\n",
       "├─────┼──────────┼───────────┤\n",
       "│ 1   │ x1       │ 0.0534741 │\n",
       "│ 2   │ x1       │ 0.196309  │\n",
       "│ 3   │ x1       │ 0.912957  │\n",
       "│ 4   │ x2       │ 0.505152  │\n",
       "│ 5   │ x2       │ 0.614941  │\n",
       "│ 6   │ x2       │ 0.191787  │"
      ]
     },
     "execution_count": 16,
     "metadata": {},
     "output_type": "execute_result"
    }
   ],
   "source": [
    "df = stack(DataFrame(rand(3,2)))"
   ]
  },
  {
   "cell_type": "code",
   "execution_count": 17,
   "metadata": {},
   "outputs": [
    {
     "ename": "ArgumentError",
     "evalue": "ArgumentError: No key column found",
     "output_type": "error",
     "traceback": [
      "ArgumentError: No key column found",
      "",
      "Stacktrace:",
      " [1] unstack(::DataFrame, ::Array{Symbol,1}, ::Int64, ::Int64) at C:\\Users\\bogumil.kaminski\\.julia\\packages\\DataFrames\\1PqZ3\\src\\abstractdataframe\\reshape.jl:279",
      " [2] unstack(::DataFrame, ::Int64, ::Int64) at C:\\Users\\bogumil.kaminski\\.julia\\packages\\DataFrames\\1PqZ3\\src\\abstractdataframe\\reshape.jl:269",
      " [3] unstack(::DataFrame, ::Symbol, ::Symbol) at C:\\Users\\bogumil.kaminski\\.julia\\packages\\DataFrames\\1PqZ3\\src\\abstractdataframe\\reshape.jl:265",
      " [4] top-level scope at In[17]:1"
     ]
    }
   ],
   "source": [
    "unstack(df, :variable, :value) # unable to unstack when no key column is present"
   ]
  }
 ],
 "metadata": {
  "kernelspec": {
   "display_name": "Julia 1.0.1",
   "language": "julia",
   "name": "julia-1.0"
  },
  "language_info": {
   "file_extension": ".jl",
   "mimetype": "application/julia",
   "name": "julia",
   "version": "1.0.1"
  }
 },
 "nbformat": 4,
 "nbformat_minor": 1
}
