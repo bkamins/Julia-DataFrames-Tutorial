{
 "cells": [
  {
   "cell_type": "markdown",
   "metadata": {},
   "source": [
    "# Introduction to DataFrames\n",
    "**[Bogumił Kamiński](http://bogumilkaminski.pl/about/), November 20, 2020**"
   ]
  },
  {
   "cell_type": "code",
   "execution_count": 74,
   "metadata": {},
   "outputs": [],
   "source": [
    "using DataFrames"
   ]
  },
  {
   "cell_type": "code",
   "execution_count": 75,
   "metadata": {},
   "outputs": [],
   "source": [
    "using CategoricalArrays"
   ]
  },
  {
   "cell_type": "markdown",
   "metadata": {},
   "source": [
    "## Extras - selected functionalities of selected packages"
   ]
  },
  {
   "cell_type": "code",
   "execution_count": 76,
   "metadata": {},
   "outputs": [],
   "source": [
    "using FreqTables"
   ]
  },
  {
   "cell_type": "code",
   "execution_count": 77,
   "metadata": {},
   "outputs": [
    {
     "data": {
      "text/plain": [
       "4×3 Named Array{Int64,2}\n",
       "a ╲ b │  x   y   z\n",
       "──────┼───────────\n",
       "'a'   │ 84  95  96\n",
       "'b'   │ 79  83  77\n",
       "'c'   │ 65  82  78\n",
       "'d'   │ 92  96  73"
      ]
     },
     "execution_count": 77,
     "metadata": {},
     "output_type": "execute_result"
    }
   ],
   "source": [
    "df = DataFrame(a=rand('a':'d', 1000), b=rand([\"x\", \"y\", \"z\"], 1000))\n",
    "ft = freqtable(df, :a, :b) # observe that dimensions are sorted if possible"
   ]
  },
  {
   "cell_type": "code",
   "execution_count": 78,
   "metadata": {},
   "outputs": [
    {
     "data": {
      "text/plain": [
       "(84, 77)"
      ]
     },
     "execution_count": 78,
     "metadata": {},
     "output_type": "execute_result"
    }
   ],
   "source": [
    "ft[1,1], ft['b', \"z\"] # you can index the result using numbers or names"
   ]
  },
  {
   "cell_type": "code",
   "execution_count": 79,
   "metadata": {},
   "outputs": [
    {
     "data": {
      "text/plain": [
       "4×3 Named Array{Float64,2}\n",
       "a ╲ b │        x         y         z\n",
       "──────┼─────────────────────────────\n",
       "'a'   │ 0.305455  0.345455  0.349091\n",
       "'b'   │ 0.330544   0.34728  0.322176\n",
       "'c'   │ 0.288889  0.364444  0.346667\n",
       "'d'   │  0.35249  0.367816  0.279693"
      ]
     },
     "execution_count": 79,
     "metadata": {},
     "output_type": "execute_result"
    }
   ],
   "source": [
    "prop(ft, margins=1) # getting proportions - 1 means we want to calculate them in rows (first dimension)"
   ]
  },
  {
   "cell_type": "code",
   "execution_count": 80,
   "metadata": {},
   "outputs": [
    {
     "data": {
      "text/plain": [
       "4×3 Named Array{Float64,2}\n",
       "a ╲ b │        x         y         z\n",
       "──────┼─────────────────────────────\n",
       "'a'   │   0.2625  0.266854  0.296296\n",
       "'b'   │ 0.246875  0.233146  0.237654\n",
       "'c'   │ 0.203125  0.230337  0.240741\n",
       "'d'   │   0.2875  0.269663  0.225309"
      ]
     },
     "execution_count": 80,
     "metadata": {},
     "output_type": "execute_result"
    }
   ],
   "source": [
    "prop(ft, margins=2) # and columns are normalized to 1.0 now"
   ]
  },
  {
   "cell_type": "code",
   "execution_count": 81,
   "metadata": {},
   "outputs": [
    {
     "data": {
      "text/plain": [
       "4-element Named Array{Int64,1}\n",
       "Dim1                             │ \n",
       "─────────────────────────────────┼──\n",
       "CategoricalValue{Int64,UInt32} 3 │ 3\n",
       "CategoricalValue{Int64,UInt32} 1 │ 4\n",
       "CategoricalValue{Int64,UInt32} 2 │ 3\n",
       "CategoricalValue{Int64,UInt32} 4 │ 0"
      ]
     },
     "execution_count": 81,
     "metadata": {},
     "output_type": "execute_result"
    }
   ],
   "source": [
    "x = categorical(rand(1:3, 10))\n",
    "levels!(x, [3, 1, 2, 4]) # reordering levels and adding an extra level\n",
    "freqtable(x) # order is preserved and not-used level is shown"
   ]
  },
  {
   "cell_type": "code",
   "execution_count": 82,
   "metadata": {},
   "outputs": [
    {
     "data": {
      "text/plain": [
       "4-element Named Array{Int64,1}\n",
       "Dim1    │ \n",
       "────────┼──\n",
       "1       │ 2\n",
       "2       │ 1\n",
       "3       │ 1\n",
       "missing │ 1"
      ]
     },
     "execution_count": 82,
     "metadata": {},
     "output_type": "execute_result"
    }
   ],
   "source": [
    "freqtable([1,1,2,3,missing]) # by default missings are listed"
   ]
  },
  {
   "cell_type": "code",
   "execution_count": 84,
   "metadata": {},
   "outputs": [
    {
     "data": {
      "text/plain": [
       "3-element Named Array{Int64,1}\n",
       "Dim1  │ \n",
       "──────┼──\n",
       "1     │ 2\n",
       "2     │ 1\n",
       "3     │ 1"
      ]
     },
     "execution_count": 84,
     "metadata": {},
     "output_type": "execute_result"
    }
   ],
   "source": [
    "freqtable([1,1,2,3,missing], skipmissing=true) # but we can skip them"
   ]
  },
  {
   "cell_type": "code",
   "execution_count": 83,
   "metadata": {},
   "outputs": [
    {
     "data": {
      "text/plain": [
       "2×2 Named Array{Int64,2}\n",
       "a ╲ b │   5    6\n",
       "──────┼─────────\n",
       "3     │ 266  255\n",
       "4     │ 252  227"
      ]
     },
     "execution_count": 83,
     "metadata": {},
     "output_type": "execute_result"
    }
   ],
   "source": [
    "df = DataFrame(a=rand(3:4, 1000), b=rand(5:6, 1000))\n",
    "ft = freqtable(df, :a, :b) # now dimensions are numbers"
   ]
  },
  {
   "cell_type": "code",
   "execution_count": 85,
   "metadata": {},
   "outputs": [
    {
     "ename": "LoadError",
     "evalue": "BoundsError: attempt to access 2×2 Array{Int64,2} at index [3, 5]",
     "output_type": "error",
     "traceback": [
      "BoundsError: attempt to access 2×2 Array{Int64,2} at index [3, 5]",
      "",
      "Stacktrace:",
      " [1] getindex at ./array.jl:810 [inlined]",
      " [2] getindex(::NamedArrays.NamedArray{Int64,2,Array{Int64,2},Tuple{OrderedCollections.OrderedDict{Int64,Int64},OrderedCollections.OrderedDict{Int64,Int64}}}, ::Int64, ::Int64) at /home/peterwd/.julia/packages/NamedArrays/kMq4N/src/index.jl:17",
      " [3] top-level scope at In[85]:1",
      " [4] include_string(::Function, ::Module, ::String, ::String) at ./loading.jl:1091"
     ]
    }
   ],
   "source": [
    "ft[3,5] # this is an error - standard array indexing takes precedence"
   ]
  },
  {
   "cell_type": "code",
   "execution_count": 86,
   "metadata": {},
   "outputs": [
    {
     "data": {
      "text/plain": [
       "266"
      ]
     },
     "execution_count": 86,
     "metadata": {},
     "output_type": "execute_result"
    }
   ],
   "source": [
    "ft[Name(3), Name(5)] # you have to use Name() wrapper"
   ]
  },
  {
   "cell_type": "markdown",
   "metadata": {},
   "source": [
    "### DataFramesMeta - working on `DataFrame`"
   ]
  },
  {
   "cell_type": "markdown",
   "metadata": {},
   "source": [
    "# This part of the tutorial will be enabled when DataFramesMeta.jl supports DataFrames.jl 0.22 release"
   ]
  },
  {
   "cell_type": "markdown",
   "metadata": {},
   "source": [
    "Given the functionalities we provide now in DataFrames.jl this package is mostly not required. However, it still provides a more terse syntax due to the benefits of metaprogramming."
   ]
  },
  {
   "cell_type": "code",
   "execution_count": 87,
   "metadata": {},
   "outputs": [],
   "source": [
    "using DataFramesMeta"
   ]
  },
  {
   "cell_type": "code",
   "execution_count": 88,
   "metadata": {},
   "outputs": [
    {
     "data": {
      "text/html": [
       "<table class=\"data-frame\"><thead><tr><th></th><th>x</th><th>y</th><th>z</th></tr><tr><th></th><th>Int64</th><th>Char</th><th>Bool</th></tr></thead><tbody><p>8 rows × 3 columns</p><tr><th>1</th><td>1</td><td>a</td><td>1</td></tr><tr><th>2</th><td>2</td><td>b</td><td>0</td></tr><tr><th>3</th><td>3</td><td>c</td><td>1</td></tr><tr><th>4</th><td>4</td><td>d</td><td>0</td></tr><tr><th>5</th><td>5</td><td>e</td><td>1</td></tr><tr><th>6</th><td>6</td><td>f</td><td>0</td></tr><tr><th>7</th><td>7</td><td>g</td><td>1</td></tr><tr><th>8</th><td>8</td><td>h</td><td>0</td></tr></tbody></table>"
      ],
      "text/latex": [
       "\\begin{tabular}{r|ccc}\n",
       "\t& x & y & z\\\\\n",
       "\t\\hline\n",
       "\t& Int64 & Char & Bool\\\\\n",
       "\t\\hline\n",
       "\t1 & 1 & a & 1 \\\\\n",
       "\t2 & 2 & b & 0 \\\\\n",
       "\t3 & 3 & c & 1 \\\\\n",
       "\t4 & 4 & d & 0 \\\\\n",
       "\t5 & 5 & e & 1 \\\\\n",
       "\t6 & 6 & f & 0 \\\\\n",
       "\t7 & 7 & g & 1 \\\\\n",
       "\t8 & 8 & h & 0 \\\\\n",
       "\\end{tabular}\n"
      ],
      "text/plain": [
       "\u001b[1m8×3 DataFrame\u001b[0m\n",
       "\u001b[1m Row \u001b[0m│\u001b[1m x     \u001b[0m\u001b[1m y    \u001b[0m\u001b[1m z     \u001b[0m\n",
       "\u001b[1m     \u001b[0m│\u001b[90m Int64 \u001b[0m\u001b[90m Char \u001b[0m\u001b[90m Bool  \u001b[0m\n",
       "─────┼────────────────────\n",
       "   1 │     1  a      true\n",
       "   2 │     2  b     false\n",
       "   3 │     3  c      true\n",
       "   4 │     4  d     false\n",
       "   5 │     5  e      true\n",
       "   6 │     6  f     false\n",
       "   7 │     7  g      true\n",
       "   8 │     8  h     false"
      ]
     },
     "execution_count": 88,
     "metadata": {},
     "output_type": "execute_result"
    }
   ],
   "source": [
    "df = DataFrame(x=1:8, y='a':'h', z=repeat([true,false], outer=4))"
   ]
  },
  {
   "cell_type": "code",
   "execution_count": 89,
   "metadata": {},
   "outputs": [
    {
     "data": {
      "text/plain": [
       "8-element Array{Int64,1}:\n",
       " 2\n",
       " 2\n",
       " 4\n",
       " 4\n",
       " 6\n",
       " 6\n",
       " 8\n",
       " 8"
      ]
     },
     "execution_count": 89,
     "metadata": {},
     "output_type": "execute_result"
    }
   ],
   "source": [
    "@with(df, :x+:z) # expressions with columns of DataFrame"
   ]
  },
  {
   "cell_type": "code",
   "execution_count": 91,
   "metadata": {},
   "outputs": [
    {
     "data": {
      "text/plain": [
       "8-element Array{Char,1}:\n",
       " 'b': ASCII/Unicode U+0062 (category Ll: Letter, lowercase)\n",
       " 'e': ASCII/Unicode U+0065 (category Ll: Letter, lowercase)\n",
       " 'h': ASCII/Unicode U+0068 (category Ll: Letter, lowercase)\n",
       " 'k': ASCII/Unicode U+006B (category Ll: Letter, lowercase)\n",
       " 'g': ASCII/Unicode U+0067 (category Ll: Letter, lowercase)\n",
       " 'j': ASCII/Unicode U+006A (category Ll: Letter, lowercase)\n",
       " 'm': ASCII/Unicode U+006D (category Ll: Letter, lowercase)\n",
       " 'p': ASCII/Unicode U+0070 (category Ll: Letter, lowercase)"
      ]
     },
     "execution_count": 91,
     "metadata": {},
     "output_type": "execute_result"
    }
   ],
   "source": [
    "@with df begin # you can define code blocks\n",
    "    a = :x[:z]\n",
    "    b = :x[.!:z]\n",
    "    :y + [a; b]\n",
    "end"
   ]
  },
  {
   "cell_type": "code",
   "execution_count": 92,
   "metadata": {},
   "outputs": [
    {
     "ename": "LoadError",
     "evalue": "UndefVarError: a not defined",
     "output_type": "error",
     "traceback": [
      "UndefVarError: a not defined",
      "",
      "Stacktrace:",
      " [1] top-level scope",
      " [2] include_string(::Function, ::Module, ::String, ::String) at ./loading.jl:1091"
     ]
    }
   ],
   "source": [
    "a # @with creates hard scope so variables do not leak out"
   ]
  },
  {
   "cell_type": "code",
   "execution_count": 93,
   "metadata": {},
   "outputs": [
    {
     "data": {
      "text/plain": [
       "3-element BitArray{1}:\n",
       " 1\n",
       " 0\n",
       " 0"
      ]
     },
     "execution_count": 93,
     "metadata": {},
     "output_type": "execute_result"
    }
   ],
   "source": [
    "df2 = DataFrame(a = [:a, :b, :c])\n",
    "@with(df2, :a .== ^(:a)) # sometimes we want to work on a raw Symbol, ^() escapes it"
   ]
  },
  {
   "cell_type": "code",
   "execution_count": 94,
   "metadata": {},
   "outputs": [
    {
     "data": {
      "text/plain": [
       "3-element Array{Int64,1}:\n",
       " 5\n",
       " 7\n",
       " 9"
      ]
     },
     "execution_count": 94,
     "metadata": {},
     "output_type": "execute_result"
    }
   ],
   "source": [
    "x_str = \"x\"\n",
    "y_str = \"y\"\n",
    "df2 = DataFrame(x=1:3, y=4:6, z=7:9)\n",
    "@with(df2, cols(x_str) + cols(y_str)) # cols(expression) selects given columns"
   ]
  },
  {
   "cell_type": "code",
   "execution_count": 95,
   "metadata": {},
   "outputs": [
    {
     "data": {
      "text/html": [
       "<table class=\"data-frame\"><thead><tr><th></th><th>x</th><th>y</th><th>z</th></tr><tr><th></th><th>Int64</th><th>Char</th><th>Bool</th></tr></thead><tbody><p>2 rows × 3 columns</p><tr><th>1</th><td>1</td><td>a</td><td>1</td></tr><tr><th>2</th><td>3</td><td>c</td><td>1</td></tr></tbody></table>"
      ],
      "text/latex": [
       "\\begin{tabular}{r|ccc}\n",
       "\t& x & y & z\\\\\n",
       "\t\\hline\n",
       "\t& Int64 & Char & Bool\\\\\n",
       "\t\\hline\n",
       "\t1 & 1 & a & 1 \\\\\n",
       "\t2 & 3 & c & 1 \\\\\n",
       "\\end{tabular}\n"
      ],
      "text/plain": [
       "\u001b[1m2×3 DataFrame\u001b[0m\n",
       "\u001b[1m Row \u001b[0m│\u001b[1m x     \u001b[0m\u001b[1m y    \u001b[0m\u001b[1m z    \u001b[0m\n",
       "\u001b[1m     \u001b[0m│\u001b[90m Int64 \u001b[0m\u001b[90m Char \u001b[0m\u001b[90m Bool \u001b[0m\n",
       "─────┼───────────────────\n",
       "   1 │     1  a     true\n",
       "   2 │     3  c     true"
      ]
     },
     "execution_count": 95,
     "metadata": {},
     "output_type": "execute_result"
    }
   ],
   "source": [
    "@where(df, :x .< 4, :z .== true) # a very useful macro for filtering"
   ]
  },
  {
   "cell_type": "code",
   "execution_count": 96,
   "metadata": {},
   "outputs": [
    {
     "data": {
      "text/html": [
       "<table class=\"data-frame\"><thead><tr><th></th><th>x</th><th>y</th><th>z</th></tr><tr><th></th><th>Int64</th><th>Int64</th><th>Char</th></tr></thead><tbody><p>8 rows × 3 columns</p><tr><th>1</th><td>1</td><td>2</td><td>a</td></tr><tr><th>2</th><td>2</td><td>4</td><td>b</td></tr><tr><th>3</th><td>3</td><td>6</td><td>c</td></tr><tr><th>4</th><td>4</td><td>8</td><td>d</td></tr><tr><th>5</th><td>5</td><td>10</td><td>e</td></tr><tr><th>6</th><td>6</td><td>12</td><td>f</td></tr><tr><th>7</th><td>7</td><td>14</td><td>g</td></tr><tr><th>8</th><td>8</td><td>16</td><td>h</td></tr></tbody></table>"
      ],
      "text/latex": [
       "\\begin{tabular}{r|ccc}\n",
       "\t& x & y & z\\\\\n",
       "\t\\hline\n",
       "\t& Int64 & Int64 & Char\\\\\n",
       "\t\\hline\n",
       "\t1 & 1 & 2 & a \\\\\n",
       "\t2 & 2 & 4 & b \\\\\n",
       "\t3 & 3 & 6 & c \\\\\n",
       "\t4 & 4 & 8 & d \\\\\n",
       "\t5 & 5 & 10 & e \\\\\n",
       "\t6 & 6 & 12 & f \\\\\n",
       "\t7 & 7 & 14 & g \\\\\n",
       "\t8 & 8 & 16 & h \\\\\n",
       "\\end{tabular}\n"
      ],
      "text/plain": [
       "\u001b[1m8×3 DataFrame\u001b[0m\n",
       "\u001b[1m Row \u001b[0m│\u001b[1m x     \u001b[0m\u001b[1m y     \u001b[0m\u001b[1m z    \u001b[0m\n",
       "\u001b[1m     \u001b[0m│\u001b[90m Int64 \u001b[0m\u001b[90m Int64 \u001b[0m\u001b[90m Char \u001b[0m\n",
       "─────┼────────────────────\n",
       "   1 │     1      2  a\n",
       "   2 │     2      4  b\n",
       "   3 │     3      6  c\n",
       "   4 │     4      8  d\n",
       "   5 │     5     10  e\n",
       "   6 │     6     12  f\n",
       "   7 │     7     14  g\n",
       "   8 │     8     16  h"
      ]
     },
     "execution_count": 96,
     "metadata": {},
     "output_type": "execute_result"
    }
   ],
   "source": [
    "@select(df, :x, y = 2*:x, z=:y) # create a new DataFrame based on the old one"
   ]
  },
  {
   "cell_type": "code",
   "execution_count": 97,
   "metadata": {},
   "outputs": [
    {
     "data": {
      "text/html": [
       "<table class=\"data-frame\"><thead><tr><th></th><th>x</th><th>y</th><th>z</th></tr><tr><th></th><th>Int64</th><th>Int64</th><th>Bool</th></tr></thead><tbody><p>8 rows × 3 columns</p><tr><th>1</th><td>2</td><td>1</td><td>1</td></tr><tr><th>2</th><td>4</td><td>2</td><td>0</td></tr><tr><th>3</th><td>6</td><td>3</td><td>1</td></tr><tr><th>4</th><td>8</td><td>4</td><td>0</td></tr><tr><th>5</th><td>10</td><td>5</td><td>1</td></tr><tr><th>6</th><td>12</td><td>6</td><td>0</td></tr><tr><th>7</th><td>14</td><td>7</td><td>1</td></tr><tr><th>8</th><td>16</td><td>8</td><td>0</td></tr></tbody></table>"
      ],
      "text/latex": [
       "\\begin{tabular}{r|ccc}\n",
       "\t& x & y & z\\\\\n",
       "\t\\hline\n",
       "\t& Int64 & Int64 & Bool\\\\\n",
       "\t\\hline\n",
       "\t1 & 2 & 1 & 1 \\\\\n",
       "\t2 & 4 & 2 & 0 \\\\\n",
       "\t3 & 6 & 3 & 1 \\\\\n",
       "\t4 & 8 & 4 & 0 \\\\\n",
       "\t5 & 10 & 5 & 1 \\\\\n",
       "\t6 & 12 & 6 & 0 \\\\\n",
       "\t7 & 14 & 7 & 1 \\\\\n",
       "\t8 & 16 & 8 & 0 \\\\\n",
       "\\end{tabular}\n"
      ],
      "text/plain": [
       "\u001b[1m8×3 DataFrame\u001b[0m\n",
       "\u001b[1m Row \u001b[0m│\u001b[1m x     \u001b[0m\u001b[1m y     \u001b[0m\u001b[1m z     \u001b[0m\n",
       "\u001b[1m     \u001b[0m│\u001b[90m Int64 \u001b[0m\u001b[90m Int64 \u001b[0m\u001b[90m Bool  \u001b[0m\n",
       "─────┼─────────────────────\n",
       "   1 │     2      1   true\n",
       "   2 │     4      2  false\n",
       "   3 │     6      3   true\n",
       "   4 │     8      4  false\n",
       "   5 │    10      5   true\n",
       "   6 │    12      6  false\n",
       "   7 │    14      7   true\n",
       "   8 │    16      8  false"
      ]
     },
     "execution_count": 97,
     "metadata": {},
     "output_type": "execute_result"
    }
   ],
   "source": [
    "@transform(df, x = 2*:x, y=:x) # create a new DataFrame adding columns based on the old one"
   ]
  },
  {
   "cell_type": "code",
   "execution_count": 98,
   "metadata": {},
   "outputs": [
    {
     "data": {
      "text/html": [
       "<table class=\"data-frame\"><thead><tr><th></th><th>x</th><th>y</th><th>z</th></tr><tr><th></th><th>Int64</th><th>Char</th><th>Bool</th></tr></thead><tbody><p>8 rows × 3 columns</p><tr><th>1</th><td>8</td><td>h</td><td>0</td></tr><tr><th>2</th><td>6</td><td>f</td><td>0</td></tr><tr><th>3</th><td>4</td><td>d</td><td>0</td></tr><tr><th>4</th><td>2</td><td>b</td><td>0</td></tr><tr><th>5</th><td>7</td><td>g</td><td>1</td></tr><tr><th>6</th><td>5</td><td>e</td><td>1</td></tr><tr><th>7</th><td>3</td><td>c</td><td>1</td></tr><tr><th>8</th><td>1</td><td>a</td><td>1</td></tr></tbody></table>"
      ],
      "text/latex": [
       "\\begin{tabular}{r|ccc}\n",
       "\t& x & y & z\\\\\n",
       "\t\\hline\n",
       "\t& Int64 & Char & Bool\\\\\n",
       "\t\\hline\n",
       "\t1 & 8 & h & 0 \\\\\n",
       "\t2 & 6 & f & 0 \\\\\n",
       "\t3 & 4 & d & 0 \\\\\n",
       "\t4 & 2 & b & 0 \\\\\n",
       "\t5 & 7 & g & 1 \\\\\n",
       "\t6 & 5 & e & 1 \\\\\n",
       "\t7 & 3 & c & 1 \\\\\n",
       "\t8 & 1 & a & 1 \\\\\n",
       "\\end{tabular}\n"
      ],
      "text/plain": [
       "\u001b[1m8×3 DataFrame\u001b[0m\n",
       "\u001b[1m Row \u001b[0m│\u001b[1m x     \u001b[0m\u001b[1m y    \u001b[0m\u001b[1m z     \u001b[0m\n",
       "\u001b[1m     \u001b[0m│\u001b[90m Int64 \u001b[0m\u001b[90m Char \u001b[0m\u001b[90m Bool  \u001b[0m\n",
       "─────┼────────────────────\n",
       "   1 │     8  h     false\n",
       "   2 │     6  f     false\n",
       "   3 │     4  d     false\n",
       "   4 │     2  b     false\n",
       "   5 │     7  g      true\n",
       "   6 │     5  e      true\n",
       "   7 │     3  c      true\n",
       "   8 │     1  a      true"
      ]
     },
     "execution_count": 98,
     "metadata": {},
     "output_type": "execute_result"
    }
   ],
   "source": [
    "@orderby(df, :z, -:x) # sorting into a new data frame, less powerful than sort, but lightweight"
   ]
  },
  {
   "cell_type": "code",
   "execution_count": 99,
   "metadata": {},
   "outputs": [
    {
     "data": {
      "text/html": [
       "<table class=\"data-frame\"><thead><tr><th></th><th>z</th><th>x</th><th>x²</th></tr><tr><th></th><th>Bool</th><th>Int64</th><th>Int64</th></tr></thead><tbody><p>4 rows × 3 columns</p><tr><th>1</th><td>0</td><td>2</td><td>4</td></tr><tr><th>2</th><td>0</td><td>4</td><td>16</td></tr><tr><th>3</th><td>1</td><td>1</td><td>1</td></tr><tr><th>4</th><td>1</td><td>3</td><td>9</td></tr></tbody></table>"
      ],
      "text/latex": [
       "\\begin{tabular}{r|ccc}\n",
       "\t& z & x & x²\\\\\n",
       "\t\\hline\n",
       "\t& Bool & Int64 & Int64\\\\\n",
       "\t\\hline\n",
       "\t1 & 0 & 2 & 4 \\\\\n",
       "\t2 & 0 & 4 & 16 \\\\\n",
       "\t3 & 1 & 1 & 1 \\\\\n",
       "\t4 & 1 & 3 & 9 \\\\\n",
       "\\end{tabular}\n"
      ],
      "text/plain": [
       "\u001b[1m4×3 DataFrame\u001b[0m\n",
       "\u001b[1m Row \u001b[0m│\u001b[1m z     \u001b[0m\u001b[1m x     \u001b[0m\u001b[1m x²    \u001b[0m\n",
       "\u001b[1m     \u001b[0m│\u001b[90m Bool  \u001b[0m\u001b[90m Int64 \u001b[0m\u001b[90m Int64 \u001b[0m\n",
       "─────┼─────────────────────\n",
       "   1 │ false      2      4\n",
       "   2 │ false      4     16\n",
       "   3 │  true      1      1\n",
       "   4 │  true      3      9"
      ]
     },
     "execution_count": 99,
     "metadata": {},
     "output_type": "execute_result"
    }
   ],
   "source": [
    "@linq df |> # chaining of operations on DataFrame\n",
    "    where(:x .< 5) |>\n",
    "    orderby(:z) |>\n",
    "    transform(x²=:x.^2) |>\n",
    "    select(:z, :x, :x²)"
   ]
  },
  {
   "cell_type": "markdown",
   "metadata": {},
   "source": [
    "the last one expressed using DataFrames.jl and Pipe.jl would be, so that you can assess the differences in the syntax."
   ]
  },
  {
   "cell_type": "code",
   "execution_count": 100,
   "metadata": {},
   "outputs": [],
   "source": [
    "using Pipe"
   ]
  },
  {
   "cell_type": "code",
   "execution_count": 101,
   "metadata": {},
   "outputs": [
    {
     "data": {
      "text/html": [
       "<table class=\"data-frame\"><thead><tr><th></th><th>z</th><th>x</th><th>x²</th></tr><tr><th></th><th>Bool</th><th>Int64</th><th>Int64</th></tr></thead><tbody><p>4 rows × 3 columns</p><tr><th>1</th><td>0</td><td>2</td><td>4</td></tr><tr><th>2</th><td>0</td><td>4</td><td>16</td></tr><tr><th>3</th><td>1</td><td>1</td><td>1</td></tr><tr><th>4</th><td>1</td><td>3</td><td>9</td></tr></tbody></table>"
      ],
      "text/latex": [
       "\\begin{tabular}{r|ccc}\n",
       "\t& z & x & x²\\\\\n",
       "\t\\hline\n",
       "\t& Bool & Int64 & Int64\\\\\n",
       "\t\\hline\n",
       "\t1 & 0 & 2 & 4 \\\\\n",
       "\t2 & 0 & 4 & 16 \\\\\n",
       "\t3 & 1 & 1 & 1 \\\\\n",
       "\t4 & 1 & 3 & 9 \\\\\n",
       "\\end{tabular}\n"
      ],
      "text/plain": [
       "\u001b[1m4×3 DataFrame\u001b[0m\n",
       "\u001b[1m Row \u001b[0m│\u001b[1m z     \u001b[0m\u001b[1m x     \u001b[0m\u001b[1m x²    \u001b[0m\n",
       "\u001b[1m     \u001b[0m│\u001b[90m Bool  \u001b[0m\u001b[90m Int64 \u001b[0m\u001b[90m Int64 \u001b[0m\n",
       "─────┼─────────────────────\n",
       "   1 │ false      2      4\n",
       "   2 │ false      4     16\n",
       "   3 │  true      1      1\n",
       "   4 │  true      3      9"
      ]
     },
     "execution_count": 101,
     "metadata": {},
     "output_type": "execute_result"
    }
   ],
   "source": [
    "@pipe df |>\n",
    "    filter(:x => <(5), _) |>\n",
    "    sort!(_, :z) |>\n",
    "    transform!(_, :x => (x -> x .^ 2) => :x²) |>\n",
    "    select!(_, :z, :x, :x²)"
   ]
  },
  {
   "cell_type": "markdown",
   "metadata": {},
   "source": [
    "Note that DataFrames.jl based syntax should be a bit faster as we update the same data frame in-place starting from the `sort!` step."
   ]
  },
  {
   "cell_type": "markdown",
   "metadata": {},
   "source": [
    "### DataFramesMeta - working on grouped `DataFrame`"
   ]
  },
  {
   "cell_type": "code",
   "execution_count": 102,
   "metadata": {},
   "outputs": [
    {
     "data": {
      "text/html": [
       "<table class=\"data-frame\"><thead><tr><th></th><th>a</th><th>b</th></tr><tr><th></th><th>Int64</th><th>Char</th></tr></thead><tbody><p>12 rows × 2 columns</p><tr><th>1</th><td>1</td><td>a</td></tr><tr><th>2</th><td>2</td><td>b</td></tr><tr><th>3</th><td>3</td><td>c</td></tr><tr><th>4</th><td>4</td><td>d</td></tr><tr><th>5</th><td>5</td><td>a</td></tr><tr><th>6</th><td>6</td><td>b</td></tr><tr><th>7</th><td>7</td><td>c</td></tr><tr><th>8</th><td>8</td><td>d</td></tr><tr><th>9</th><td>9</td><td>a</td></tr><tr><th>10</th><td>10</td><td>b</td></tr><tr><th>11</th><td>11</td><td>c</td></tr><tr><th>12</th><td>12</td><td>d</td></tr></tbody></table>"
      ],
      "text/latex": [
       "\\begin{tabular}{r|cc}\n",
       "\t& a & b\\\\\n",
       "\t\\hline\n",
       "\t& Int64 & Char\\\\\n",
       "\t\\hline\n",
       "\t1 & 1 & a \\\\\n",
       "\t2 & 2 & b \\\\\n",
       "\t3 & 3 & c \\\\\n",
       "\t4 & 4 & d \\\\\n",
       "\t5 & 5 & a \\\\\n",
       "\t6 & 6 & b \\\\\n",
       "\t7 & 7 & c \\\\\n",
       "\t8 & 8 & d \\\\\n",
       "\t9 & 9 & a \\\\\n",
       "\t10 & 10 & b \\\\\n",
       "\t11 & 11 & c \\\\\n",
       "\t12 & 12 & d \\\\\n",
       "\\end{tabular}\n"
      ],
      "text/plain": [
       "\u001b[1m12×2 DataFrame\u001b[0m\n",
       "\u001b[1m Row \u001b[0m│\u001b[1m a     \u001b[0m\u001b[1m b    \u001b[0m\n",
       "\u001b[1m     \u001b[0m│\u001b[90m Int64 \u001b[0m\u001b[90m Char \u001b[0m\n",
       "─────┼─────────────\n",
       "   1 │     1  a\n",
       "   2 │     2  b\n",
       "   3 │     3  c\n",
       "   4 │     4  d\n",
       "   5 │     5  a\n",
       "   6 │     6  b\n",
       "   7 │     7  c\n",
       "   8 │     8  d\n",
       "   9 │     9  a\n",
       "  10 │    10  b\n",
       "  11 │    11  c\n",
       "  12 │    12  d"
      ]
     },
     "execution_count": 102,
     "metadata": {},
     "output_type": "execute_result"
    }
   ],
   "source": [
    "df = DataFrame(a = 1:12, b = repeat('a':'d', outer=3))"
   ]
  },
  {
   "cell_type": "code",
   "execution_count": 103,
   "metadata": {},
   "outputs": [
    {
     "data": {
      "text/html": [
       "<p><b>GroupedDataFrame with 4 groups based on key: b</b></p><p><i>First Group (3 rows): b = 'a'</i></p><table class=\"data-frame\"><thead><tr><th></th><th>a</th><th>b</th></tr><tr><th></th><th>Int64</th><th>Char</th></tr></thead><tbody><tr><th>1</th><td>1</td><td>a</td></tr><tr><th>2</th><td>5</td><td>a</td></tr><tr><th>3</th><td>9</td><td>a</td></tr></tbody></table><p>&vellip;</p><p><i>Last Group (3 rows): b = 'd'</i></p><table class=\"data-frame\"><thead><tr><th></th><th>a</th><th>b</th></tr><tr><th></th><th>Int64</th><th>Char</th></tr></thead><tbody><tr><th>1</th><td>4</td><td>d</td></tr><tr><th>2</th><td>8</td><td>d</td></tr><tr><th>3</th><td>12</td><td>d</td></tr></tbody></table>"
      ],
      "text/latex": [
       "GroupedDataFrame with 4 groups based on key: b\n",
       "\n",
       "First Group (3 rows): b = 'a'\n",
       "\n",
       "\\begin{tabular}{r|cc}\n",
       "\t& a & b\\\\\n",
       "\t\\hline\n",
       "\t& Int64 & Char\\\\\n",
       "\t\\hline\n",
       "\t1 & 1 & a \\\\\n",
       "\t2 & 5 & a \\\\\n",
       "\t3 & 9 & a \\\\\n",
       "\\end{tabular}\n",
       "\n",
       "$\\dots$\n",
       "\n",
       "Last Group (3 rows): b = 'd'\n",
       "\n",
       "\\begin{tabular}{r|cc}\n",
       "\t& a & b\\\\\n",
       "\t\\hline\n",
       "\t& Int64 & Char\\\\\n",
       "\t\\hline\n",
       "\t1 & 4 & d \\\\\n",
       "\t2 & 8 & d \\\\\n",
       "\t3 & 12 & d \\\\\n",
       "\\end{tabular}\n"
      ],
      "text/plain": [
       "GroupedDataFrame with 4 groups based on key: b\n",
       "First Group (3 rows): b = 'a'\n",
       "\u001b[1m Row \u001b[0m│\u001b[1m a     \u001b[0m\u001b[1m b    \u001b[0m\n",
       "\u001b[1m     \u001b[0m│\u001b[90m Int64 \u001b[0m\u001b[90m Char \u001b[0m\n",
       "─────┼─────────────\n",
       "   1 │     1  a\n",
       "   2 │     5  a\n",
       "   3 │     9  a\n",
       "⋮\n",
       "Last Group (3 rows): b = 'd'\n",
       "\u001b[1m Row \u001b[0m│\u001b[1m a     \u001b[0m\u001b[1m b    \u001b[0m\n",
       "\u001b[1m     \u001b[0m│\u001b[90m Int64 \u001b[0m\u001b[90m Char \u001b[0m\n",
       "─────┼─────────────\n",
       "   1 │     4  d\n",
       "   2 │     8  d\n",
       "   3 │    12  d"
      ]
     },
     "execution_count": 103,
     "metadata": {},
     "output_type": "execute_result"
    }
   ],
   "source": [
    "g = groupby(df, :b)"
   ]
  },
  {
   "cell_type": "code",
   "execution_count": 104,
   "metadata": {},
   "outputs": [],
   "source": [
    "using Statistics"
   ]
  },
  {
   "cell_type": "code",
   "execution_count": 105,
   "metadata": {},
   "outputs": [
    {
     "data": {
      "text/html": [
       "<table class=\"data-frame\"><thead><tr><th></th><th>b</th><th>first</th><th>last</th><th>mean</th></tr><tr><th></th><th>Char</th><th>Int64</th><th>Int64</th><th>Float64</th></tr></thead><tbody><p>4 rows × 4 columns</p><tr><th>1</th><td>a</td><td>1</td><td>9</td><td>5.0</td></tr><tr><th>2</th><td>b</td><td>2</td><td>10</td><td>6.0</td></tr><tr><th>3</th><td>c</td><td>3</td><td>11</td><td>7.0</td></tr><tr><th>4</th><td>d</td><td>4</td><td>12</td><td>8.0</td></tr></tbody></table>"
      ],
      "text/latex": [
       "\\begin{tabular}{r|cccc}\n",
       "\t& b & first & last & mean\\\\\n",
       "\t\\hline\n",
       "\t& Char & Int64 & Int64 & Float64\\\\\n",
       "\t\\hline\n",
       "\t1 & a & 1 & 9 & 5.0 \\\\\n",
       "\t2 & b & 2 & 10 & 6.0 \\\\\n",
       "\t3 & c & 3 & 11 & 7.0 \\\\\n",
       "\t4 & d & 4 & 12 & 8.0 \\\\\n",
       "\\end{tabular}\n"
      ],
      "text/plain": [
       "\u001b[1m4×4 DataFrame\u001b[0m\n",
       "\u001b[1m Row \u001b[0m│\u001b[1m b    \u001b[0m\u001b[1m first \u001b[0m\u001b[1m last  \u001b[0m\u001b[1m mean    \u001b[0m\n",
       "\u001b[1m     \u001b[0m│\u001b[90m Char \u001b[0m\u001b[90m Int64 \u001b[0m\u001b[90m Int64 \u001b[0m\u001b[90m Float64 \u001b[0m\n",
       "─────┼─────────────────────────────\n",
       "   1 │ a         1      9      5.0\n",
       "   2 │ b         2     10      6.0\n",
       "   3 │ c         3     11      7.0\n",
       "   4 │ d         4     12      8.0"
      ]
     },
     "execution_count": 105,
     "metadata": {},
     "output_type": "execute_result"
    }
   ],
   "source": [
    "@by(df, :b, first=first(:a), last=last(:a), mean=mean(:a)) # groupby+combine in one shot"
   ]
  },
  {
   "cell_type": "code",
   "execution_count": 106,
   "metadata": {},
   "outputs": [
    {
     "data": {
      "text/html": [
       "<table class=\"data-frame\"><thead><tr><th></th><th>b</th><th>first</th><th>last</th><th>mean</th></tr><tr><th></th><th>Char</th><th>Int64</th><th>Int64</th><th>Float64</th></tr></thead><tbody><p>4 rows × 4 columns</p><tr><th>1</th><td>a</td><td>1</td><td>9</td><td>5.0</td></tr><tr><th>2</th><td>b</td><td>2</td><td>10</td><td>6.0</td></tr><tr><th>3</th><td>c</td><td>3</td><td>11</td><td>7.0</td></tr><tr><th>4</th><td>d</td><td>4</td><td>12</td><td>8.0</td></tr></tbody></table>"
      ],
      "text/latex": [
       "\\begin{tabular}{r|cccc}\n",
       "\t& b & first & last & mean\\\\\n",
       "\t\\hline\n",
       "\t& Char & Int64 & Int64 & Float64\\\\\n",
       "\t\\hline\n",
       "\t1 & a & 1 & 9 & 5.0 \\\\\n",
       "\t2 & b & 2 & 10 & 6.0 \\\\\n",
       "\t3 & c & 3 & 11 & 7.0 \\\\\n",
       "\t4 & d & 4 & 12 & 8.0 \\\\\n",
       "\\end{tabular}\n"
      ],
      "text/plain": [
       "\u001b[1m4×4 DataFrame\u001b[0m\n",
       "\u001b[1m Row \u001b[0m│\u001b[1m b    \u001b[0m\u001b[1m first \u001b[0m\u001b[1m last  \u001b[0m\u001b[1m mean    \u001b[0m\n",
       "\u001b[1m     \u001b[0m│\u001b[90m Char \u001b[0m\u001b[90m Int64 \u001b[0m\u001b[90m Int64 \u001b[0m\u001b[90m Float64 \u001b[0m\n",
       "─────┼─────────────────────────────\n",
       "   1 │ a         1      9      5.0\n",
       "   2 │ b         2     10      6.0\n",
       "   3 │ c         3     11      7.0\n",
       "   4 │ d         4     12      8.0"
      ]
     },
     "execution_count": 106,
     "metadata": {},
     "output_type": "execute_result"
    }
   ],
   "source": [
    "@combine(g, first=first(:a), last=last(:a), mean=mean(:a)) # the same as by but on grouped DataFrame"
   ]
  },
  {
   "cell_type": "code",
   "execution_count": 107,
   "metadata": {},
   "outputs": [
    {
     "data": {
      "text/html": [
       "<table class=\"data-frame\"><thead><tr><th></th><th>b</th><th>a_first</th><th>a_last</th><th>a_mean</th></tr><tr><th></th><th>Char</th><th>Int64</th><th>Int64</th><th>Float64</th></tr></thead><tbody><p>4 rows × 4 columns</p><tr><th>1</th><td>a</td><td>1</td><td>9</td><td>5.0</td></tr><tr><th>2</th><td>b</td><td>2</td><td>10</td><td>6.0</td></tr><tr><th>3</th><td>c</td><td>3</td><td>11</td><td>7.0</td></tr><tr><th>4</th><td>d</td><td>4</td><td>12</td><td>8.0</td></tr></tbody></table>"
      ],
      "text/latex": [
       "\\begin{tabular}{r|cccc}\n",
       "\t& b & a\\_first & a\\_last & a\\_mean\\\\\n",
       "\t\\hline\n",
       "\t& Char & Int64 & Int64 & Float64\\\\\n",
       "\t\\hline\n",
       "\t1 & a & 1 & 9 & 5.0 \\\\\n",
       "\t2 & b & 2 & 10 & 6.0 \\\\\n",
       "\t3 & c & 3 & 11 & 7.0 \\\\\n",
       "\t4 & d & 4 & 12 & 8.0 \\\\\n",
       "\\end{tabular}\n"
      ],
      "text/plain": [
       "\u001b[1m4×4 DataFrame\u001b[0m\n",
       "\u001b[1m Row \u001b[0m│\u001b[1m b    \u001b[0m\u001b[1m a_first \u001b[0m\u001b[1m a_last \u001b[0m\u001b[1m a_mean  \u001b[0m\n",
       "\u001b[1m     \u001b[0m│\u001b[90m Char \u001b[0m\u001b[90m Int64   \u001b[0m\u001b[90m Int64  \u001b[0m\u001b[90m Float64 \u001b[0m\n",
       "─────┼────────────────────────────────\n",
       "   1 │ a           1       9      5.0\n",
       "   2 │ b           2      10      6.0\n",
       "   3 │ c           3      11      7.0\n",
       "   4 │ d           4      12      8.0"
      ]
     },
     "execution_count": 107,
     "metadata": {},
     "output_type": "execute_result"
    }
   ],
   "source": [
    "combine(g, :a .=> [first, last, mean]) # similar in DataFrames.jl - we use auto-generated column names"
   ]
  },
  {
   "cell_type": "code",
   "execution_count": 108,
   "metadata": {},
   "outputs": [
    {
     "data": {
      "text/html": [
       "<table class=\"data-frame\"><thead><tr><th></th><th>a</th><th>b</th></tr><tr><th></th><th>Int64</th><th>Char</th></tr></thead><tbody><p>6 rows × 2 columns</p><tr><th>1</th><td>3</td><td>c</td></tr><tr><th>2</th><td>4</td><td>d</td></tr><tr><th>3</th><td>7</td><td>c</td></tr><tr><th>4</th><td>8</td><td>d</td></tr><tr><th>5</th><td>11</td><td>c</td></tr><tr><th>6</th><td>12</td><td>d</td></tr></tbody></table>"
      ],
      "text/latex": [
       "\\begin{tabular}{r|cc}\n",
       "\t& a & b\\\\\n",
       "\t\\hline\n",
       "\t& Int64 & Char\\\\\n",
       "\t\\hline\n",
       "\t1 & 3 & c \\\\\n",
       "\t2 & 4 & d \\\\\n",
       "\t3 & 7 & c \\\\\n",
       "\t4 & 8 & d \\\\\n",
       "\t5 & 11 & c \\\\\n",
       "\t6 & 12 & d \\\\\n",
       "\\end{tabular}\n"
      ],
      "text/plain": [
       "\u001b[1m6×2 DataFrame\u001b[0m\n",
       "\u001b[1m Row \u001b[0m│\u001b[1m a     \u001b[0m\u001b[1m b    \u001b[0m\n",
       "\u001b[1m     \u001b[0m│\u001b[90m Int64 \u001b[0m\u001b[90m Char \u001b[0m\n",
       "─────┼─────────────\n",
       "   1 │     3  c\n",
       "   2 │     4  d\n",
       "   3 │     7  c\n",
       "   4 │     8  d\n",
       "   5 │    11  c\n",
       "   6 │    12  d"
      ]
     },
     "execution_count": 108,
     "metadata": {},
     "output_type": "execute_result"
    }
   ],
   "source": [
    "@where(g, mean(:a) > 6.5) # filter gropus on aggregate conditions"
   ]
  },
  {
   "cell_type": "code",
   "execution_count": 110,
   "metadata": {},
   "outputs": [
    {
     "data": {
      "text/html": [
       "<table class=\"data-frame\"><thead><tr><th></th><th>a</th><th>b</th><th>center</th><th>centered</th></tr><tr><th></th><th>Int64</th><th>Char</th><th>Float64</th><th>Float64</th></tr></thead><tbody><p>12 rows × 4 columns</p><tr><th>1</th><td>1</td><td>a</td><td>5.0</td><td>-4.0</td></tr><tr><th>2</th><td>2</td><td>b</td><td>6.0</td><td>-4.0</td></tr><tr><th>3</th><td>3</td><td>c</td><td>7.0</td><td>-4.0</td></tr><tr><th>4</th><td>4</td><td>d</td><td>8.0</td><td>-4.0</td></tr><tr><th>5</th><td>5</td><td>a</td><td>5.0</td><td>0.0</td></tr><tr><th>6</th><td>6</td><td>b</td><td>6.0</td><td>0.0</td></tr><tr><th>7</th><td>7</td><td>c</td><td>7.0</td><td>0.0</td></tr><tr><th>8</th><td>8</td><td>d</td><td>8.0</td><td>0.0</td></tr><tr><th>9</th><td>9</td><td>a</td><td>5.0</td><td>4.0</td></tr><tr><th>10</th><td>10</td><td>b</td><td>6.0</td><td>4.0</td></tr><tr><th>11</th><td>11</td><td>c</td><td>7.0</td><td>4.0</td></tr><tr><th>12</th><td>12</td><td>d</td><td>8.0</td><td>4.0</td></tr></tbody></table>"
      ],
      "text/latex": [
       "\\begin{tabular}{r|cccc}\n",
       "\t& a & b & center & centered\\\\\n",
       "\t\\hline\n",
       "\t& Int64 & Char & Float64 & Float64\\\\\n",
       "\t\\hline\n",
       "\t1 & 1 & a & 5.0 & -4.0 \\\\\n",
       "\t2 & 2 & b & 6.0 & -4.0 \\\\\n",
       "\t3 & 3 & c & 7.0 & -4.0 \\\\\n",
       "\t4 & 4 & d & 8.0 & -4.0 \\\\\n",
       "\t5 & 5 & a & 5.0 & 0.0 \\\\\n",
       "\t6 & 6 & b & 6.0 & 0.0 \\\\\n",
       "\t7 & 7 & c & 7.0 & 0.0 \\\\\n",
       "\t8 & 8 & d & 8.0 & 0.0 \\\\\n",
       "\t9 & 9 & a & 5.0 & 4.0 \\\\\n",
       "\t10 & 10 & b & 6.0 & 4.0 \\\\\n",
       "\t11 & 11 & c & 7.0 & 4.0 \\\\\n",
       "\t12 & 12 & d & 8.0 & 4.0 \\\\\n",
       "\\end{tabular}\n"
      ],
      "text/plain": [
       "\u001b[1m12×4 DataFrame\u001b[0m\n",
       "\u001b[1m Row \u001b[0m│\u001b[1m a     \u001b[0m\u001b[1m b    \u001b[0m\u001b[1m center  \u001b[0m\u001b[1m centered \u001b[0m\n",
       "\u001b[1m     \u001b[0m│\u001b[90m Int64 \u001b[0m\u001b[90m Char \u001b[0m\u001b[90m Float64 \u001b[0m\u001b[90m Float64  \u001b[0m\n",
       "─────┼────────────────────────────────\n",
       "   1 │     1  a         5.0      -4.0\n",
       "   2 │     2  b         6.0      -4.0\n",
       "   3 │     3  c         7.0      -4.0\n",
       "   4 │     4  d         8.0      -4.0\n",
       "   5 │     5  a         5.0       0.0\n",
       "   6 │     6  b         6.0       0.0\n",
       "   7 │     7  c         7.0       0.0\n",
       "   8 │     8  d         8.0       0.0\n",
       "   9 │     9  a         5.0       4.0\n",
       "  10 │    10  b         6.0       4.0\n",
       "  11 │    11  c         7.0       4.0\n",
       "  12 │    12  d         8.0       4.0"
      ]
     },
     "execution_count": 110,
     "metadata": {},
     "output_type": "execute_result"
    }
   ],
   "source": [
    "# perform operations within a group and return ungrouped DataFrame\n",
    "@transform(g, center = mean(:a), centered = :a .- mean(:a))"
   ]
  },
  {
   "cell_type": "code",
   "execution_count": 111,
   "metadata": {},
   "outputs": [
    {
     "data": {
      "text/html": [
       "<table class=\"data-frame\"><thead><tr><th></th><th>a</th><th>b</th></tr><tr><th></th><th>Int64</th><th>Char</th></tr></thead><tbody><p>12 rows × 2 columns</p><tr><th>1</th><td>1</td><td>a</td></tr><tr><th>2</th><td>5</td><td>a</td></tr><tr><th>3</th><td>9</td><td>a</td></tr><tr><th>4</th><td>2</td><td>b</td></tr><tr><th>5</th><td>6</td><td>b</td></tr><tr><th>6</th><td>10</td><td>b</td></tr><tr><th>7</th><td>3</td><td>c</td></tr><tr><th>8</th><td>7</td><td>c</td></tr><tr><th>9</th><td>11</td><td>c</td></tr><tr><th>10</th><td>4</td><td>d</td></tr><tr><th>11</th><td>8</td><td>d</td></tr><tr><th>12</th><td>12</td><td>d</td></tr></tbody></table>"
      ],
      "text/latex": [
       "\\begin{tabular}{r|cc}\n",
       "\t& a & b\\\\\n",
       "\t\\hline\n",
       "\t& Int64 & Char\\\\\n",
       "\t\\hline\n",
       "\t1 & 1 & a \\\\\n",
       "\t2 & 5 & a \\\\\n",
       "\t3 & 9 & a \\\\\n",
       "\t4 & 2 & b \\\\\n",
       "\t5 & 6 & b \\\\\n",
       "\t6 & 10 & b \\\\\n",
       "\t7 & 3 & c \\\\\n",
       "\t8 & 7 & c \\\\\n",
       "\t9 & 11 & c \\\\\n",
       "\t10 & 4 & d \\\\\n",
       "\t11 & 8 & d \\\\\n",
       "\t12 & 12 & d \\\\\n",
       "\\end{tabular}\n"
      ],
      "text/plain": [
       "\u001b[1m12×2 DataFrame\u001b[0m\n",
       "\u001b[1m Row \u001b[0m│\u001b[1m a     \u001b[0m\u001b[1m b    \u001b[0m\n",
       "\u001b[1m     \u001b[0m│\u001b[90m Int64 \u001b[0m\u001b[90m Char \u001b[0m\n",
       "─────┼─────────────\n",
       "   1 │     1  a\n",
       "   2 │     5  a\n",
       "   3 │     9  a\n",
       "   4 │     2  b\n",
       "   5 │     6  b\n",
       "   6 │    10  b\n",
       "   7 │     3  c\n",
       "   8 │     7  c\n",
       "   9 │    11  c\n",
       "  10 │     4  d\n",
       "  11 │     8  d\n",
       "  12 │    12  d"
      ]
     },
     "execution_count": 111,
     "metadata": {},
     "output_type": "execute_result"
    }
   ],
   "source": [
    "DataFrame(g) # this is defined in DataFrames.jl"
   ]
  },
  {
   "cell_type": "code",
   "execution_count": 112,
   "metadata": {},
   "outputs": [
    {
     "data": {
      "text/html": [
       "<table class=\"data-frame\"><thead><tr><th></th><th>a</th><th>b</th></tr><tr><th></th><th>Int64</th><th>Char</th></tr></thead><tbody><p>12 rows × 2 columns</p><tr><th>1</th><td>1</td><td>a</td></tr><tr><th>2</th><td>2</td><td>b</td></tr><tr><th>3</th><td>3</td><td>c</td></tr><tr><th>4</th><td>4</td><td>d</td></tr><tr><th>5</th><td>5</td><td>a</td></tr><tr><th>6</th><td>6</td><td>b</td></tr><tr><th>7</th><td>7</td><td>c</td></tr><tr><th>8</th><td>8</td><td>d</td></tr><tr><th>9</th><td>9</td><td>a</td></tr><tr><th>10</th><td>10</td><td>b</td></tr><tr><th>11</th><td>11</td><td>c</td></tr><tr><th>12</th><td>12</td><td>d</td></tr></tbody></table>"
      ],
      "text/latex": [
       "\\begin{tabular}{r|cc}\n",
       "\t& a & b\\\\\n",
       "\t\\hline\n",
       "\t& Int64 & Char\\\\\n",
       "\t\\hline\n",
       "\t1 & 1 & a \\\\\n",
       "\t2 & 2 & b \\\\\n",
       "\t3 & 3 & c \\\\\n",
       "\t4 & 4 & d \\\\\n",
       "\t5 & 5 & a \\\\\n",
       "\t6 & 6 & b \\\\\n",
       "\t7 & 7 & c \\\\\n",
       "\t8 & 8 & d \\\\\n",
       "\t9 & 9 & a \\\\\n",
       "\t10 & 10 & b \\\\\n",
       "\t11 & 11 & c \\\\\n",
       "\t12 & 12 & d \\\\\n",
       "\\end{tabular}\n"
      ],
      "text/plain": [
       "\u001b[1m12×2 DataFrame\u001b[0m\n",
       "\u001b[1m Row \u001b[0m│\u001b[1m a     \u001b[0m\u001b[1m b    \u001b[0m\n",
       "\u001b[1m     \u001b[0m│\u001b[90m Int64 \u001b[0m\u001b[90m Char \u001b[0m\n",
       "─────┼─────────────\n",
       "   1 │     1  a\n",
       "   2 │     2  b\n",
       "   3 │     3  c\n",
       "   4 │     4  d\n",
       "   5 │     5  a\n",
       "   6 │     6  b\n",
       "   7 │     7  c\n",
       "   8 │     8  d\n",
       "   9 │     9  a\n",
       "  10 │    10  b\n",
       "  11 │    11  c\n",
       "  12 │    12  d"
      ]
     },
     "execution_count": 112,
     "metadata": {},
     "output_type": "execute_result"
    }
   ],
   "source": [
    "@transform(g) # actually this is the same as DataFrame()"
   ]
  },
  {
   "cell_type": "code",
   "execution_count": 113,
   "metadata": {},
   "outputs": [
    {
     "data": {
      "text/html": [
       "<table class=\"data-frame\"><thead><tr><th></th><th>a</th><th>b</th></tr><tr><th></th><th>Int64</th><th>Char</th></tr></thead><tbody><p>6 rows × 2 columns</p><tr><th>1</th><td>3</td><td>c</td></tr><tr><th>2</th><td>4</td><td>d</td></tr><tr><th>3</th><td>7</td><td>c</td></tr><tr><th>4</th><td>8</td><td>d</td></tr><tr><th>5</th><td>11</td><td>c</td></tr><tr><th>6</th><td>12</td><td>d</td></tr></tbody></table>"
      ],
      "text/latex": [
       "\\begin{tabular}{r|cc}\n",
       "\t& a & b\\\\\n",
       "\t\\hline\n",
       "\t& Int64 & Char\\\\\n",
       "\t\\hline\n",
       "\t1 & 3 & c \\\\\n",
       "\t2 & 4 & d \\\\\n",
       "\t3 & 7 & c \\\\\n",
       "\t4 & 8 & d \\\\\n",
       "\t5 & 11 & c \\\\\n",
       "\t6 & 12 & d \\\\\n",
       "\\end{tabular}\n"
      ],
      "text/plain": [
       "\u001b[1m6×2 DataFrame\u001b[0m\n",
       "\u001b[1m Row \u001b[0m│\u001b[1m a     \u001b[0m\u001b[1m b    \u001b[0m\n",
       "\u001b[1m     \u001b[0m│\u001b[90m Int64 \u001b[0m\u001b[90m Char \u001b[0m\n",
       "─────┼─────────────\n",
       "   1 │     3  c\n",
       "   2 │     4  d\n",
       "   3 │     7  c\n",
       "   4 │     8  d\n",
       "   5 │    11  c\n",
       "   6 │    12  d"
      ]
     },
     "execution_count": 113,
     "metadata": {},
     "output_type": "execute_result"
    }
   ],
   "source": [
    "@linq df |>\n",
    "    groupby(:b) |>\n",
    "    where(mean(:a) > 6.5) |>\n",
    "    DataFrame # you can do chaining on grouped DataFrames as well"
   ]
  },
  {
   "cell_type": "markdown",
   "metadata": {},
   "source": [
    "The same operations using DataFrames.jl and Pipe.jl would be (note that DataFrames.jl by default puts the grouping column first)"
   ]
  },
  {
   "cell_type": "code",
   "execution_count": 114,
   "metadata": {},
   "outputs": [
    {
     "data": {
      "text/html": [
       "<table class=\"data-frame\"><thead><tr><th></th><th>b</th><th>a</th></tr><tr><th></th><th>Char</th><th>Int64</th></tr></thead><tbody><p>6 rows × 2 columns</p><tr><th>1</th><td>c</td><td>3</td></tr><tr><th>2</th><td>c</td><td>7</td></tr><tr><th>3</th><td>c</td><td>11</td></tr><tr><th>4</th><td>d</td><td>4</td></tr><tr><th>5</th><td>d</td><td>8</td></tr><tr><th>6</th><td>d</td><td>12</td></tr></tbody></table>"
      ],
      "text/latex": [
       "\\begin{tabular}{r|cc}\n",
       "\t& b & a\\\\\n",
       "\t\\hline\n",
       "\t& Char & Int64\\\\\n",
       "\t\\hline\n",
       "\t1 & c & 3 \\\\\n",
       "\t2 & c & 7 \\\\\n",
       "\t3 & c & 11 \\\\\n",
       "\t4 & d & 4 \\\\\n",
       "\t5 & d & 8 \\\\\n",
       "\t6 & d & 12 \\\\\n",
       "\\end{tabular}\n"
      ],
      "text/plain": [
       "\u001b[1m6×2 DataFrame\u001b[0m\n",
       "\u001b[1m Row \u001b[0m│\u001b[1m b    \u001b[0m\u001b[1m a     \u001b[0m\n",
       "\u001b[1m     \u001b[0m│\u001b[90m Char \u001b[0m\u001b[90m Int64 \u001b[0m\n",
       "─────┼─────────────\n",
       "   1 │ c         3\n",
       "   2 │ c         7\n",
       "   3 │ c        11\n",
       "   4 │ d         4\n",
       "   5 │ d         8\n",
       "   6 │ d        12"
      ]
     },
     "execution_count": 114,
     "metadata": {},
     "output_type": "execute_result"
    }
   ],
   "source": [
    "@pipe df |>\n",
    "    groupby(_, :b) |>\n",
    "    combine(sdf -> mean(sdf.a) > 6.5 ? sdf : DataFrame(), _)"
   ]
  },
  {
   "cell_type": "markdown",
   "metadata": {},
   "source": [
    "### DataFramesMeta - rowwise operations on `DataFrame`"
   ]
  },
  {
   "cell_type": "code",
   "execution_count": 115,
   "metadata": {},
   "outputs": [
    {
     "data": {
      "text/html": [
       "<table class=\"data-frame\"><thead><tr><th></th><th>a</th><th>b</th></tr><tr><th></th><th>Int64</th><th>Int64</th></tr></thead><tbody><p>12 rows × 2 columns</p><tr><th>1</th><td>1</td><td>1</td></tr><tr><th>2</th><td>2</td><td>2</td></tr><tr><th>3</th><td>3</td><td>3</td></tr><tr><th>4</th><td>4</td><td>4</td></tr><tr><th>5</th><td>5</td><td>1</td></tr><tr><th>6</th><td>6</td><td>2</td></tr><tr><th>7</th><td>7</td><td>3</td></tr><tr><th>8</th><td>8</td><td>4</td></tr><tr><th>9</th><td>9</td><td>1</td></tr><tr><th>10</th><td>10</td><td>2</td></tr><tr><th>11</th><td>11</td><td>3</td></tr><tr><th>12</th><td>12</td><td>4</td></tr></tbody></table>"
      ],
      "text/latex": [
       "\\begin{tabular}{r|cc}\n",
       "\t& a & b\\\\\n",
       "\t\\hline\n",
       "\t& Int64 & Int64\\\\\n",
       "\t\\hline\n",
       "\t1 & 1 & 1 \\\\\n",
       "\t2 & 2 & 2 \\\\\n",
       "\t3 & 3 & 3 \\\\\n",
       "\t4 & 4 & 4 \\\\\n",
       "\t5 & 5 & 1 \\\\\n",
       "\t6 & 6 & 2 \\\\\n",
       "\t7 & 7 & 3 \\\\\n",
       "\t8 & 8 & 4 \\\\\n",
       "\t9 & 9 & 1 \\\\\n",
       "\t10 & 10 & 2 \\\\\n",
       "\t11 & 11 & 3 \\\\\n",
       "\t12 & 12 & 4 \\\\\n",
       "\\end{tabular}\n"
      ],
      "text/plain": [
       "\u001b[1m12×2 DataFrame\u001b[0m\n",
       "\u001b[1m Row \u001b[0m│\u001b[1m a     \u001b[0m\u001b[1m b     \u001b[0m\n",
       "\u001b[1m     \u001b[0m│\u001b[90m Int64 \u001b[0m\u001b[90m Int64 \u001b[0m\n",
       "─────┼──────────────\n",
       "   1 │     1      1\n",
       "   2 │     2      2\n",
       "   3 │     3      3\n",
       "   4 │     4      4\n",
       "   5 │     5      1\n",
       "   6 │     6      2\n",
       "   7 │     7      3\n",
       "   8 │     8      4\n",
       "   9 │     9      1\n",
       "  10 │    10      2\n",
       "  11 │    11      3\n",
       "  12 │    12      4"
      ]
     },
     "execution_count": 115,
     "metadata": {},
     "output_type": "execute_result"
    }
   ],
   "source": [
    "df = DataFrame(a = 1:12, b = repeat(1:4, outer=3))"
   ]
  },
  {
   "cell_type": "code",
   "execution_count": 116,
   "metadata": {},
   "outputs": [
    {
     "data": {
      "text/html": [
       "<table class=\"data-frame\"><thead><tr><th></th><th>a</th><th>b</th><th>x</th></tr><tr><th></th><th>Int64</th><th>Int64</th><th>String</th></tr></thead><tbody><p>12 rows × 3 columns</p><tr><th>1</th><td>1</td><td>1</td><td>no</td></tr><tr><th>2</th><td>2</td><td>2</td><td>no</td></tr><tr><th>3</th><td>3</td><td>3</td><td>no</td></tr><tr><th>4</th><td>4</td><td>4</td><td>no</td></tr><tr><th>5</th><td>5</td><td>1</td><td>no</td></tr><tr><th>6</th><td>6</td><td>2</td><td>no</td></tr><tr><th>7</th><td>7</td><td>3</td><td>no</td></tr><tr><th>8</th><td>8</td><td>4</td><td>yes</td></tr><tr><th>9</th><td>9</td><td>1</td><td>no</td></tr><tr><th>10</th><td>10</td><td>2</td><td>no</td></tr><tr><th>11</th><td>11</td><td>3</td><td>no</td></tr><tr><th>12</th><td>12</td><td>4</td><td>yes</td></tr></tbody></table>"
      ],
      "text/latex": [
       "\\begin{tabular}{r|ccc}\n",
       "\t& a & b & x\\\\\n",
       "\t\\hline\n",
       "\t& Int64 & Int64 & String\\\\\n",
       "\t\\hline\n",
       "\t1 & 1 & 1 & no \\\\\n",
       "\t2 & 2 & 2 & no \\\\\n",
       "\t3 & 3 & 3 & no \\\\\n",
       "\t4 & 4 & 4 & no \\\\\n",
       "\t5 & 5 & 1 & no \\\\\n",
       "\t6 & 6 & 2 & no \\\\\n",
       "\t7 & 7 & 3 & no \\\\\n",
       "\t8 & 8 & 4 & yes \\\\\n",
       "\t9 & 9 & 1 & no \\\\\n",
       "\t10 & 10 & 2 & no \\\\\n",
       "\t11 & 11 & 3 & no \\\\\n",
       "\t12 & 12 & 4 & yes \\\\\n",
       "\\end{tabular}\n"
      ],
      "text/plain": [
       "\u001b[1m12×3 DataFrame\u001b[0m\n",
       "\u001b[1m Row \u001b[0m│\u001b[1m a     \u001b[0m\u001b[1m b     \u001b[0m\u001b[1m x      \u001b[0m\n",
       "\u001b[1m     \u001b[0m│\u001b[90m Int64 \u001b[0m\u001b[90m Int64 \u001b[0m\u001b[90m String \u001b[0m\n",
       "─────┼──────────────────────\n",
       "   1 │     1      1  no\n",
       "   2 │     2      2  no\n",
       "   3 │     3      3  no\n",
       "   4 │     4      4  no\n",
       "   5 │     5      1  no\n",
       "   6 │     6      2  no\n",
       "   7 │     7      3  no\n",
       "   8 │     8      4  yes\n",
       "   9 │     9      1  no\n",
       "  10 │    10      2  no\n",
       "  11 │    11      3  no\n",
       "  12 │    12      4  yes"
      ]
     },
     "execution_count": 116,
     "metadata": {},
     "output_type": "execute_result"
    }
   ],
   "source": [
    "# such conditions are often needed but are complex to write\n",
    "@transform(df, x = ifelse.((:a .> 6) .& (:b .== 4), \"yes\", \"no\"))"
   ]
  },
  {
   "cell_type": "code",
   "execution_count": 118,
   "metadata": {},
   "outputs": [
    {
     "data": {
      "text/html": [
       "<table class=\"data-frame\"><thead><tr><th></th><th>a</th><th>b</th><th>x</th></tr><tr><th></th><th>Int64</th><th>Int64</th><th>String</th></tr></thead><tbody><p>12 rows × 3 columns</p><tr><th>1</th><td>1</td><td>1</td><td>no</td></tr><tr><th>2</th><td>2</td><td>2</td><td>no</td></tr><tr><th>3</th><td>3</td><td>3</td><td>no</td></tr><tr><th>4</th><td>4</td><td>4</td><td>no</td></tr><tr><th>5</th><td>5</td><td>1</td><td>no</td></tr><tr><th>6</th><td>6</td><td>2</td><td>no</td></tr><tr><th>7</th><td>7</td><td>3</td><td>no</td></tr><tr><th>8</th><td>8</td><td>4</td><td>yes</td></tr><tr><th>9</th><td>9</td><td>1</td><td>no</td></tr><tr><th>10</th><td>10</td><td>2</td><td>no</td></tr><tr><th>11</th><td>11</td><td>3</td><td>no</td></tr><tr><th>12</th><td>12</td><td>4</td><td>yes</td></tr></tbody></table>"
      ],
      "text/latex": [
       "\\begin{tabular}{r|ccc}\n",
       "\t& a & b & x\\\\\n",
       "\t\\hline\n",
       "\t& Int64 & Int64 & String\\\\\n",
       "\t\\hline\n",
       "\t1 & 1 & 1 & no \\\\\n",
       "\t2 & 2 & 2 & no \\\\\n",
       "\t3 & 3 & 3 & no \\\\\n",
       "\t4 & 4 & 4 & no \\\\\n",
       "\t5 & 5 & 1 & no \\\\\n",
       "\t6 & 6 & 2 & no \\\\\n",
       "\t7 & 7 & 3 & no \\\\\n",
       "\t8 & 8 & 4 & yes \\\\\n",
       "\t9 & 9 & 1 & no \\\\\n",
       "\t10 & 10 & 2 & no \\\\\n",
       "\t11 & 11 & 3 & no \\\\\n",
       "\t12 & 12 & 4 & yes \\\\\n",
       "\\end{tabular}\n"
      ],
      "text/plain": [
       "\u001b[1m12×3 DataFrame\u001b[0m\n",
       "\u001b[1m Row \u001b[0m│\u001b[1m a     \u001b[0m\u001b[1m b     \u001b[0m\u001b[1m x      \u001b[0m\n",
       "\u001b[1m     \u001b[0m│\u001b[90m Int64 \u001b[0m\u001b[90m Int64 \u001b[0m\u001b[90m String \u001b[0m\n",
       "─────┼──────────────────────\n",
       "   1 │     1      1  no\n",
       "   2 │     2      2  no\n",
       "   3 │     3      3  no\n",
       "   4 │     4      4  no\n",
       "   5 │     5      1  no\n",
       "   6 │     6      2  no\n",
       "   7 │     7      3  no\n",
       "   8 │     8      4  yes\n",
       "   9 │     9      1  no\n",
       "  10 │    10      2  no\n",
       "  11 │    11      3  no\n",
       "  12 │    12      4  yes"
      ]
     },
     "execution_count": 118,
     "metadata": {},
     "output_type": "execute_result"
    }
   ],
   "source": [
    "# one option is to use a function that works on a single observation and broadcast it\n",
    "myfun(a, b) = a > 6 && b == 4 ? \"yes\" : \"no\"\n",
    "@transform(df, x = myfun.(:a, :b))"
   ]
  },
  {
   "cell_type": "code",
   "execution_count": 119,
   "metadata": {},
   "outputs": [
    {
     "data": {
      "text/html": [
       "<table class=\"data-frame\"><thead><tr><th></th><th>a</th><th>b</th><th>x</th></tr><tr><th></th><th>Int64</th><th>Int64</th><th>String</th></tr></thead><tbody><p>12 rows × 3 columns</p><tr><th>1</th><td>1</td><td>1</td><td>no</td></tr><tr><th>2</th><td>2</td><td>2</td><td>no</td></tr><tr><th>3</th><td>3</td><td>3</td><td>no</td></tr><tr><th>4</th><td>4</td><td>4</td><td>no</td></tr><tr><th>5</th><td>5</td><td>1</td><td>no</td></tr><tr><th>6</th><td>6</td><td>2</td><td>no</td></tr><tr><th>7</th><td>7</td><td>3</td><td>no</td></tr><tr><th>8</th><td>8</td><td>4</td><td>yes</td></tr><tr><th>9</th><td>9</td><td>1</td><td>no</td></tr><tr><th>10</th><td>10</td><td>2</td><td>no</td></tr><tr><th>11</th><td>11</td><td>3</td><td>no</td></tr><tr><th>12</th><td>12</td><td>4</td><td>yes</td></tr></tbody></table>"
      ],
      "text/latex": [
       "\\begin{tabular}{r|ccc}\n",
       "\t& a & b & x\\\\\n",
       "\t\\hline\n",
       "\t& Int64 & Int64 & String\\\\\n",
       "\t\\hline\n",
       "\t1 & 1 & 1 & no \\\\\n",
       "\t2 & 2 & 2 & no \\\\\n",
       "\t3 & 3 & 3 & no \\\\\n",
       "\t4 & 4 & 4 & no \\\\\n",
       "\t5 & 5 & 1 & no \\\\\n",
       "\t6 & 6 & 2 & no \\\\\n",
       "\t7 & 7 & 3 & no \\\\\n",
       "\t8 & 8 & 4 & yes \\\\\n",
       "\t9 & 9 & 1 & no \\\\\n",
       "\t10 & 10 & 2 & no \\\\\n",
       "\t11 & 11 & 3 & no \\\\\n",
       "\t12 & 12 & 4 & yes \\\\\n",
       "\\end{tabular}\n"
      ],
      "text/plain": [
       "\u001b[1m12×3 DataFrame\u001b[0m\n",
       "\u001b[1m Row \u001b[0m│\u001b[1m a     \u001b[0m\u001b[1m b     \u001b[0m\u001b[1m x      \u001b[0m\n",
       "\u001b[1m     \u001b[0m│\u001b[90m Int64 \u001b[0m\u001b[90m Int64 \u001b[0m\u001b[90m String \u001b[0m\n",
       "─────┼──────────────────────\n",
       "   1 │     1      1  no\n",
       "   2 │     2      2  no\n",
       "   3 │     3      3  no\n",
       "   4 │     4      4  no\n",
       "   5 │     5      1  no\n",
       "   6 │     6      2  no\n",
       "   7 │     7      3  no\n",
       "   8 │     8      4  yes\n",
       "   9 │     9      1  no\n",
       "  10 │    10      2  no\n",
       "  11 │    11      3  no\n",
       "  12 │    12      4  yes"
      ]
     },
     "execution_count": 119,
     "metadata": {},
     "output_type": "execute_result"
    }
   ],
   "source": [
    "# or you can use @byrow! macro that allows you to process DataFrame rowwise\n",
    "@eachrow df begin\n",
    "   @newcol x::Vector{String}\n",
    "    :x = :a > 6 && :b == 4 ? \"yes\" : \"no\"\n",
    "end"
   ]
  },
  {
   "cell_type": "markdown",
   "metadata": {},
   "source": [
    "In DataFramses.jl you would write this as:"
   ]
  },
  {
   "cell_type": "code",
   "execution_count": 120,
   "metadata": {},
   "outputs": [
    {
     "data": {
      "text/html": [
       "<table class=\"data-frame\"><thead><tr><th></th><th>a</th><th>b</th><th>x</th></tr><tr><th></th><th>Int64</th><th>Int64</th><th>String</th></tr></thead><tbody><p>12 rows × 3 columns</p><tr><th>1</th><td>1</td><td>1</td><td>no</td></tr><tr><th>2</th><td>2</td><td>2</td><td>no</td></tr><tr><th>3</th><td>3</td><td>3</td><td>no</td></tr><tr><th>4</th><td>4</td><td>4</td><td>no</td></tr><tr><th>5</th><td>5</td><td>1</td><td>no</td></tr><tr><th>6</th><td>6</td><td>2</td><td>no</td></tr><tr><th>7</th><td>7</td><td>3</td><td>no</td></tr><tr><th>8</th><td>8</td><td>4</td><td>yes</td></tr><tr><th>9</th><td>9</td><td>1</td><td>no</td></tr><tr><th>10</th><td>10</td><td>2</td><td>no</td></tr><tr><th>11</th><td>11</td><td>3</td><td>no</td></tr><tr><th>12</th><td>12</td><td>4</td><td>yes</td></tr></tbody></table>"
      ],
      "text/latex": [
       "\\begin{tabular}{r|ccc}\n",
       "\t& a & b & x\\\\\n",
       "\t\\hline\n",
       "\t& Int64 & Int64 & String\\\\\n",
       "\t\\hline\n",
       "\t1 & 1 & 1 & no \\\\\n",
       "\t2 & 2 & 2 & no \\\\\n",
       "\t3 & 3 & 3 & no \\\\\n",
       "\t4 & 4 & 4 & no \\\\\n",
       "\t5 & 5 & 1 & no \\\\\n",
       "\t6 & 6 & 2 & no \\\\\n",
       "\t7 & 7 & 3 & no \\\\\n",
       "\t8 & 8 & 4 & yes \\\\\n",
       "\t9 & 9 & 1 & no \\\\\n",
       "\t10 & 10 & 2 & no \\\\\n",
       "\t11 & 11 & 3 & no \\\\\n",
       "\t12 & 12 & 4 & yes \\\\\n",
       "\\end{tabular}\n"
      ],
      "text/plain": [
       "\u001b[1m12×3 DataFrame\u001b[0m\n",
       "\u001b[1m Row \u001b[0m│\u001b[1m a     \u001b[0m\u001b[1m b     \u001b[0m\u001b[1m x      \u001b[0m\n",
       "\u001b[1m     \u001b[0m│\u001b[90m Int64 \u001b[0m\u001b[90m Int64 \u001b[0m\u001b[90m String \u001b[0m\n",
       "─────┼──────────────────────\n",
       "   1 │     1      1  no\n",
       "   2 │     2      2  no\n",
       "   3 │     3      3  no\n",
       "   4 │     4      4  no\n",
       "   5 │     5      1  no\n",
       "   6 │     6      2  no\n",
       "   7 │     7      3  no\n",
       "   8 │     8      4  yes\n",
       "   9 │     9      1  no\n",
       "  10 │    10      2  no\n",
       "  11 │    11      3  no\n",
       "  12 │    12      4  yes"
      ]
     },
     "execution_count": 120,
     "metadata": {},
     "output_type": "execute_result"
    }
   ],
   "source": [
    "transform(df, [:a, :b] => ByRow((a,b) -> ifelse(a > 6 && b == 4, \"yes\", \"no\")) => :x)"
   ]
  },
  {
   "cell_type": "markdown",
   "metadata": {},
   "source": [
    "You can also use `eachrow` from DataFrames to perform the same transformation. However `@eachrow` will be faster than the operation below. "
   ]
  },
  {
   "cell_type": "code",
   "execution_count": 126,
   "metadata": {},
   "outputs": [
    {
     "data": {
      "text/html": [
       "<table class=\"data-frame\"><thead><tr><th></th><th>a</th><th>b</th><th>x</th></tr><tr><th></th><th>Int64</th><th>Int64</th><th>String</th></tr></thead><tbody><p>12 rows × 3 columns</p><tr><th>1</th><td>1</td><td>1</td><td>no</td></tr><tr><th>2</th><td>2</td><td>2</td><td>no</td></tr><tr><th>3</th><td>3</td><td>3</td><td>no</td></tr><tr><th>4</th><td>4</td><td>4</td><td>no</td></tr><tr><th>5</th><td>5</td><td>1</td><td>no</td></tr><tr><th>6</th><td>6</td><td>2</td><td>no</td></tr><tr><th>7</th><td>7</td><td>3</td><td>no</td></tr><tr><th>8</th><td>8</td><td>4</td><td>yes</td></tr><tr><th>9</th><td>9</td><td>1</td><td>no</td></tr><tr><th>10</th><td>10</td><td>2</td><td>no</td></tr><tr><th>11</th><td>11</td><td>3</td><td>no</td></tr><tr><th>12</th><td>12</td><td>4</td><td>yes</td></tr></tbody></table>"
      ],
      "text/latex": [
       "\\begin{tabular}{r|ccc}\n",
       "\t& a & b & x\\\\\n",
       "\t\\hline\n",
       "\t& Int64 & Int64 & String\\\\\n",
       "\t\\hline\n",
       "\t1 & 1 & 1 & no \\\\\n",
       "\t2 & 2 & 2 & no \\\\\n",
       "\t3 & 3 & 3 & no \\\\\n",
       "\t4 & 4 & 4 & no \\\\\n",
       "\t5 & 5 & 1 & no \\\\\n",
       "\t6 & 6 & 2 & no \\\\\n",
       "\t7 & 7 & 3 & no \\\\\n",
       "\t8 & 8 & 4 & yes \\\\\n",
       "\t9 & 9 & 1 & no \\\\\n",
       "\t10 & 10 & 2 & no \\\\\n",
       "\t11 & 11 & 3 & no \\\\\n",
       "\t12 & 12 & 4 & yes \\\\\n",
       "\\end{tabular}\n"
      ],
      "text/plain": [
       "\u001b[1m12×3 DataFrame\u001b[0m\n",
       "\u001b[1m Row \u001b[0m│\u001b[1m a     \u001b[0m\u001b[1m b     \u001b[0m\u001b[1m x      \u001b[0m\n",
       "\u001b[1m     \u001b[0m│\u001b[90m Int64 \u001b[0m\u001b[90m Int64 \u001b[0m\u001b[90m String \u001b[0m\n",
       "─────┼──────────────────────\n",
       "   1 │     1      1  no\n",
       "   2 │     2      2  no\n",
       "   3 │     3      3  no\n",
       "   4 │     4      4  no\n",
       "   5 │     5      1  no\n",
       "   6 │     6      2  no\n",
       "   7 │     7      3  no\n",
       "   8 │     8      4  yes\n",
       "   9 │     9      1  no\n",
       "  10 │    10      2  no\n",
       "  11 │    11      3  no\n",
       "  12 │    12      4  yes"
      ]
     },
     "execution_count": 126,
     "metadata": {},
     "output_type": "execute_result"
    }
   ],
   "source": [
    "df2 = copy(df)\n",
    "df2.x = Vector{String}(undef, nrow(df2))\n",
    "for row in eachrow(df2)\n",
    "   row[:x] = row[:a] > 6 && row[:b] == 4 ? \"yes\" : \"no\"\n",
    "end\n",
    "df2"
   ]
  },
  {
   "cell_type": "markdown",
   "metadata": {},
   "source": [
    "### Visualizing data with StatsPlots"
   ]
  },
  {
   "cell_type": "code",
   "execution_count": 60,
   "metadata": {},
   "outputs": [
    {
     "name": "stderr",
     "output_type": "stream",
     "text": [
      "┌ Info: Precompiling StatsPlots [f3b207a7-027a-5e70-b257-86293d7955fd]\n",
      "└ @ Base loading.jl:1278\n"
     ]
    }
   ],
   "source": [
    "using StatsPlots # you might need to setup Plots package and some plotting backend first\n",
    "default(fmt=:png)"
   ]
  },
  {
   "cell_type": "markdown",
   "metadata": {},
   "source": [
    "we present only a minimal functionality of the package"
   ]
  },
  {
   "cell_type": "code",
   "execution_count": 61,
   "metadata": {},
   "outputs": [],
   "source": [
    "using Random\n",
    "Random.seed!(1)\n",
    "df = DataFrame(x = sort(randn(1000)), y=randn(1000), z = [fill(\"b\", 500); fill(\"a\", 500)]);"
   ]
  },
  {
   "cell_type": "code",
   "execution_count": 62,
   "metadata": {},
   "outputs": [
    {
     "data": {
      "image/png": "[encoded data removed]"
     },
     "execution_count": 62,
     "metadata": {},
     "output_type": "execute_result"
    }
   ],
   "source": [
    "@df df plot(:x, :y, legend=:topleft, label=\"y(x)\") # a most basic plot"
   ]
  },
  {
   "cell_type": "code",
   "execution_count": 63,
   "metadata": {},
   "outputs": [
    {
     "data": {
      "image/png": "[encoded data removed]"
     },
     "execution_count": 63,
     "metadata": {},
     "output_type": "execute_result"
    }
   ],
   "source": [
    "@df df density(:x, label=\"\") # density plot"
   ]
  },
  {
   "cell_type": "code",
   "execution_count": 64,
   "metadata": {},
   "outputs": [
    {
     "data": {
      "image/png": "[encoded data removed]"
     },
     "execution_count": 64,
     "metadata": {},
     "output_type": "execute_result"
    }
   ],
   "source": [
    "@df df histogram(:y, label=\"y\") # and a histogram"
   ]
  },
  {
   "cell_type": "code",
   "execution_count": 65,
   "metadata": {},
   "outputs": [
    {
     "data": {
      "image/png": "[encoded data removed]"
     },
     "execution_count": 65,
     "metadata": {},
     "output_type": "execute_result"
    }
   ],
   "source": [
    "@df df boxplot(:z, :x, label=\"x\")"
   ]
  },
  {
   "cell_type": "code",
   "execution_count": 66,
   "metadata": {},
   "outputs": [
    {
     "data": {
      "image/png": "[encoded data removed]"
     },
     "execution_count": 66,
     "metadata": {},
     "output_type": "execute_result"
    }
   ],
   "source": [
    "@df df violin(:z, :y, label=\"y\") "
   ]
  },
  {
   "cell_type": "code",
   "execution_count": null,
   "metadata": {},
   "outputs": [],
   "source": []
  }
 ],
 "metadata": {
  "@webio": {
   "lastCommId": null,
   "lastKernelId": null
  },
  "kernelspec": {
   "display_name": "Julia 1.5.3",
   "language": "julia",
   "name": "julia-1.5"
  },
  "language_info": {
   "file_extension": ".jl",
   "mimetype": "application/julia",
   "name": "julia",
   "version": "1.5.3"
  }
 },
 "nbformat": 4,
 "nbformat_minor": 4
}
