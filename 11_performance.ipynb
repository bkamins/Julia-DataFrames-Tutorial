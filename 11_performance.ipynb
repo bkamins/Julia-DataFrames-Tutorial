{
 "cells": [
  {
   "cell_type": "markdown",
   "metadata": {},
   "source": [
    "# Introduction to DataFrames\n",
    "**[Bogumił Kamiński](http://bogumilkaminski.pl/about/), October 4, 2018**"
   ]
  },
  {
   "cell_type": "code",
   "execution_count": 1,
   "metadata": {},
   "outputs": [],
   "source": [
    "using DataFrames\n",
    "using BenchmarkTools"
   ]
  },
  {
   "cell_type": "markdown",
   "metadata": {},
   "source": [
    "## Performance tips"
   ]
  },
  {
   "cell_type": "markdown",
   "metadata": {},
   "source": [
    "### Access by column number is faster than by name"
   ]
  },
  {
   "cell_type": "code",
   "execution_count": 2,
   "metadata": {},
   "outputs": [
    {
     "name": "stdout",
     "output_type": "stream",
     "text": [
      "  23.326 ns (0 allocations: 0 bytes)\n",
      "  35.670 ns (0 allocations: 0 bytes)\n"
     ]
    }
   ],
   "source": [
    "x = DataFrame(rand(5, 1000))\n",
    "@btime x[500];\n",
    "@btime x.x500;"
   ]
  },
  {
   "cell_type": "markdown",
   "metadata": {},
   "source": [
    "### When working with data `DataFrame` use barrier functions or type annotation"
   ]
  },
  {
   "cell_type": "code",
   "execution_count": 3,
   "metadata": {},
   "outputs": [
    {
     "name": "stdout",
     "output_type": "stream",
     "text": [
      "  154.584 ms (5999022 allocations: 122.06 MiB)\n"
     ]
    }
   ],
   "source": [
    "using Random\n",
    "function f_bad() # this function will be slow\n",
    "    Random.seed!(1); x = DataFrame(rand(1000000,2))\n",
    "    y, z = x[1], x[2]\n",
    "    p = 0.0\n",
    "    for i in 1:nrow(x)\n",
    "        p += y[i]*z[i]\n",
    "    end\n",
    "    p\n",
    "end\n",
    "\n",
    "@btime f_bad();\n",
    "# if you run @code_warntype f_bad() then you notice\n",
    "# that Julia does not know column types of `DataFrame`\n"
   ]
  },
  {
   "cell_type": "code",
   "execution_count": 4,
   "metadata": {},
   "outputs": [
    {
     "name": "stdout",
     "output_type": "stream",
     "text": [
      "  35.358 ms (44 allocations: 30.52 MiB)\n",
      "  29.103 ms (44 allocations: 30.52 MiB)\n"
     ]
    }
   ],
   "source": [
    "# solution 1 is to use barrier function (it should be possible to use it in almost any code)\n",
    "function f_inner(y,z)\n",
    "   p = 0.0\n",
    "   for i in 1:length(y)\n",
    "       p += y[i]*z[i]\n",
    "   end\n",
    "   p\n",
    "end\n",
    "\n",
    "function f_barrier() # extract the work to an inner function\n",
    "    Random.seed!(1); x = DataFrame(rand(1000000,2))\n",
    "    f_inner(x[1], x[2])\n",
    "end\n",
    "\n",
    "using LinearAlgebra\n",
    "function f_inbuilt() # or use inbuilt function if possible\n",
    "    Random.seed!(1); x = DataFrame(rand(1000000,2))\n",
    "    dot(x[1], x[2])\n",
    "end\n",
    "\n",
    "@btime f_barrier();\n",
    "@btime f_inbuilt();"
   ]
  },
  {
   "cell_type": "code",
   "execution_count": 5,
   "metadata": {},
   "outputs": [
    {
     "name": "stdout",
     "output_type": "stream",
     "text": [
      "  33.799 ms (44 allocations: 30.52 MiB)\n"
     ]
    }
   ],
   "source": [
    "# solution 2 is to provide the types of extracted columns\n",
    "# it is simpler but there are cases in which you will not know these types\n",
    "# This example  assumes that you have DataFrames master at least from August 31, 2018\n",
    "function f_typed()\n",
    "    Random.seed!(1); x = DataFrame(rand(1000000,2))\n",
    "    y::Vector{Float64}, z::Vector{Float64} = x[1], x[2]\n",
    "    p = 0.0\n",
    "    for i in 1:nrow(x)\n",
    "        p += y[i]*z[i]\n",
    "    end\n",
    "    p\n",
    "end\n",
    "\n",
    "@btime f_typed();"
   ]
  },
  {
   "cell_type": "markdown",
   "metadata": {},
   "source": [
    "### Consider using delayed `DataFrame` creation technique"
   ]
  },
  {
   "cell_type": "code",
   "execution_count": 6,
   "metadata": {},
   "outputs": [
    {
     "name": "stdout",
     "output_type": "stream",
     "text": [
      "  57.151 ms (1950037 allocations: 37.42 MiB)\n",
      "  3.548 ms (937 allocations: 7.69 MiB)\n"
     ]
    }
   ],
   "source": [
    "# This example  assumes that you have DataFrames master at least from August 31, 2018\n",
    "function f1()\n",
    "    x = DataFrame(Float64, 10^4, 100) # we work with DataFrame directly\n",
    "    for c in 1:ncol(x)\n",
    "        d = x[c]\n",
    "        for r in 1:nrow(x)\n",
    "            d[r] = rand()\n",
    "        end\n",
    "    end\n",
    "    x\n",
    "end\n",
    "\n",
    "function f2()\n",
    "    x = Vector{Any}(undef, 100)\n",
    "    for c in 1:length(x)\n",
    "        d = Vector{Float64}(undef, 10^4)\n",
    "        for r in 1:length(d)\n",
    "            d[r] = rand()\n",
    "        end\n",
    "        x[c] = d\n",
    "    end\n",
    "    DataFrame(x) # we delay creation of DataFrame after we have our job done\n",
    "end\n",
    "\n",
    "@btime f1();\n",
    "@btime f2();"
   ]
  },
  {
   "cell_type": "markdown",
   "metadata": {},
   "source": [
    "### You can add rows to a `DataFrame` in place and it is fast"
   ]
  },
  {
   "cell_type": "code",
   "execution_count": 7,
   "metadata": {},
   "outputs": [
    {
     "name": "stdout",
     "output_type": "stream",
     "text": [
      "  38.317 ms (135 allocations: 38.15 MiB)\n",
      "  248.652 ns (1 allocation: 16 bytes)\n",
      "  278.002 ns (5 allocations: 80 bytes)\n"
     ]
    }
   ],
   "source": [
    "x = DataFrame(rand(10^6, 5))\n",
    "y = DataFrame(transpose(1.0:5.0))\n",
    "z = [1.0:5.0;]\n",
    "\n",
    "@btime vcat($x, $y); # creates a new DataFrame - slow\n",
    "@btime append!($x, $y); # in place - fast\n",
    "\n",
    "x = DataFrame(rand(10^6, 5)) # reset to the same starting point\n",
    "@btime push!($x, $z); # add a single row in place - fastest"
   ]
  },
  {
   "cell_type": "markdown",
   "metadata": {},
   "source": [
    "### Allowing `missing` as well as `categorical` slows down computations"
   ]
  },
  {
   "cell_type": "code",
   "execution_count": 8,
   "metadata": {},
   "outputs": [
    {
     "name": "stdout",
     "output_type": "stream",
     "text": [
      "Int64\n",
      " raw:\n",
      "  8.401 ms (8 allocations: 7.63 MiB)\n",
      " categorical:\n",
      "  29.081 ms (4 allocations: 608 bytes)\n",
      "String\n",
      " raw:\n",
      "  39.584 ms (4 allocations: 608 bytes)\n",
      " categorical:\n",
      "  72.549 ms (4 allocations: 608 bytes)\n",
      "Union{Missing, Int64}\n",
      " raw:\n",
      "  17.381 ms (4 allocations: 624 bytes)\n",
      " categorical:\n",
      "  31.983 ms (4 allocations: 608 bytes)\n",
      "Union{Missing, String}\n",
      " raw:\n",
      "  48.445 ms (4 allocations: 608 bytes)\n",
      " categorical:\n",
      "  68.376 ms (4 allocations: 608 bytes)\n"
     ]
    }
   ],
   "source": [
    "using StatsBase\n",
    "\n",
    "function test(data) # uses countmap function to test performance\n",
    "    println(eltype(data))\n",
    "    x = rand(data, 10^6)\n",
    "    y = categorical(x)\n",
    "    println(\" raw:\")\n",
    "    @btime countmap($x)\n",
    "    println(\" categorical:\")\n",
    "    @btime countmap($y)\n",
    "    nothing\n",
    "end\n",
    "\n",
    "test(1:10)\n",
    "test([randstring() for i in 1:10])\n",
    "test(allowmissing(1:10))\n",
    "test(allowmissing([randstring() for i in 1:10]))\n"
   ]
  }
 ],
 "metadata": {
  "kernelspec": {
   "display_name": "Julia 1.0.1",
   "language": "julia",
   "name": "julia-1.0"
  },
  "language_info": {
   "file_extension": ".jl",
   "mimetype": "application/julia",
   "name": "julia",
   "version": "1.0.1"
  }
 },
 "nbformat": 4,
 "nbformat_minor": 1
}
